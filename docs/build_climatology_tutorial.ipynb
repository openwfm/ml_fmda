{
 "cells": [
  {
   "cell_type": "markdown",
   "id": "f1f4cc18-d23f-48ea-84dc-b0328a65e8e5",
   "metadata": {},
   "source": [
    "# Build Climatology Tutorial\n",
    "\n",
    "As a baseline method, we build a climatology for FMC based on the historical average at a particular hour of the day. This method is inspired by Schreck et all 2023. This notebook utilizes retrieval and filtering of 10-h dead FMC data from a RAWS stash maintained by Angel Farguell, demonstrated in notebook `ingest_fm10_stash_tutorial`.\n",
    "\n",
    "Main processes:\n",
    "- `build_climatology`: this function retrieves RAWS data from a stash given input time period and spatial domain. The data is saved to a local directory for potential reuse, such as repeated applications of calculating forecast error for cross validation. Parameters for this process are stored in `etc/params_models.yaml`\n",
    "- `get_climatology_forecasts`: this function returns FMC forecasts"
   ]
  },
  {
   "cell_type": "markdown",
   "id": "84ed774d-7bef-48e7-b9a6-8f4ba4e17d81",
   "metadata": {},
   "source": [
    "## Setup"
   ]
  },
  {
   "cell_type": "code",
   "execution_count": null,
   "id": "509b32fd-9d6b-4582-b724-4d2a094a6832",
   "metadata": {},
   "outputs": [],
   "source": [
    "import os.path as osp\n",
    "from dateutil.relativedelta import relativedelta\n",
    "import json\n",
    "import sys\n",
    "import matplotlib.pyplot as plt\n",
    "import numpy as np\n",
    "import pandas as pd\n",
    "sys.path.append('../src')\n",
    "from utils import Dict, read_yml, read_pkl, str2time, print_dict_summary, time_range\n",
    "# import ingest.retrieve_raws_api as rr\n",
    "# import ingest.retrieve_raws_stash as rrs\n",
    "import models.moisture_models as mm"
   ]
  },
  {
   "cell_type": "code",
   "execution_count": null,
   "id": "dd65b844-5584-4011-b6db-a2a3f0c1fe97",
   "metadata": {},
   "outputs": [],
   "source": [
    "with open(\"../etc/training_data_config.json\", \"r\") as json_file:\n",
    "    config = json.load(json_file)   \n",
    "    config = Dict(config)"
   ]
  },
  {
   "cell_type": "code",
   "execution_count": null,
   "id": "7b91e911-b0dd-4937-b566-c361a2004f62",
   "metadata": {},
   "outputs": [],
   "source": [
    "print_dict_summary(config)"
   ]
  },
  {
   "cell_type": "markdown",
   "id": "736f719a-82f2-486a-9178-26bcf23b1c30",
   "metadata": {},
   "source": [
    "## Climatology\n",
    "\n",
    "Method description...\n",
    "\n",
    "6 years\n"
   ]
  },
  {
   "cell_type": "code",
   "execution_count": null,
   "id": "fb342b0a-9881-4c51-8209-9c50e30dfc65",
   "metadata": {},
   "outputs": [],
   "source": [
    "start = str2time(config.start_time)\n",
    "# end = start + relativedelta(hours=48)\n",
    "end = start + relativedelta(hours = 12)"
   ]
  },
  {
   "cell_type": "code",
   "execution_count": null,
   "id": "301af779-e8cf-4118-aa43-4ecf26d27402",
   "metadata": {},
   "outputs": [],
   "source": [
    "import importlib\n",
    "import models.moisture_models\n",
    "importlib.reload(models.moisture_models)\n",
    "import models.moisture_models as mm"
   ]
  },
  {
   "cell_type": "code",
   "execution_count": null,
   "id": "0c5f97cc-3417-4c3e-9394-e8ad9d44597e",
   "metadata": {
    "scrolled": true
   },
   "outputs": [],
   "source": [
    "clim_dict = mm.build_climatology(\n",
    "    start,\n",
    "    end,\n",
    "    config.bbox\n",
    ")"
   ]
  },
  {
   "cell_type": "code",
   "execution_count": null,
   "id": "2135ba69-0224-498c-9ab9-aed8e129043f",
   "metadata": {},
   "outputs": [],
   "source": [
    "clim_df = mm.get_climatology_forecasts(clim_dict)"
   ]
  },
  {
   "cell_type": "code",
   "execution_count": null,
   "id": "9dfbc7d6-8417-4eba-8347-afd23beeaa83",
   "metadata": {},
   "outputs": [],
   "source": [
    "clim_df"
   ]
  },
  {
   "cell_type": "code",
   "execution_count": null,
   "id": "261f5bf4-6c1a-4369-ab8a-3930d9c0d3e9",
   "metadata": {},
   "outputs": [],
   "source": [
    "# Plot a few timeseries\n",
    "\n",
    "df_subset = clim_df.head(5).T  \n",
    "plt.figure(figsize=(10, 6))\n",
    "for idx in df_subset.columns:\n",
    "    plt.plot(df_subset.index, df_subset[idx], label=str(idx))\n",
    "\n",
    "plt.xlabel('Time')\n",
    "plt.ylabel('Forecasted FMC (%)')\n",
    "plt.title('Forecasted FMC over Time')\n",
    "plt.legend(title='STID')\n",
    "plt.grid(True)\n",
    "plt.show()"
   ]
  },
  {
   "cell_type": "code",
   "execution_count": null,
   "id": "ee6eef6d-d755-4df6-a4fb-d7f75b720e95",
   "metadata": {},
   "outputs": [],
   "source": []
  },
  {
   "cell_type": "code",
   "execution_count": null,
   "id": "fdf0068a-0bb6-46d9-b429-de94557e66d9",
   "metadata": {},
   "outputs": [],
   "source": []
  },
  {
   "cell_type": "code",
   "execution_count": null,
   "id": "966db12b-5f71-4658-88f3-8de7c91904cc",
   "metadata": {},
   "outputs": [],
   "source": []
  },
  {
   "cell_type": "code",
   "execution_count": null,
   "id": "0fac0fff-431e-4e7d-995b-d979b12835f2",
   "metadata": {},
   "outputs": [],
   "source": []
  },
  {
   "cell_type": "code",
   "execution_count": null,
   "id": "377c7880-d7e7-4187-b0d3-0987d38180c4",
   "metadata": {},
   "outputs": [],
   "source": []
  }
 ],
 "metadata": {
  "kernelspec": {
   "display_name": "Python 3 (ipykernel)",
   "language": "python",
   "name": "python3"
  },
  "language_info": {
   "codemirror_mode": {
    "name": "ipython",
    "version": 3
   },
   "file_extension": ".py",
   "mimetype": "text/x-python",
   "name": "python",
   "nbconvert_exporter": "python",
   "pygments_lexer": "ipython3",
   "version": "3.12.2"
  }
 },
 "nbformat": 4,
 "nbformat_minor": 5
}

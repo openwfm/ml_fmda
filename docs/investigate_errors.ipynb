{
 "cells": [
  {
   "cell_type": "markdown",
   "id": "524cbae1-1394-4445-bce0-f2fcbe077f93",
   "metadata": {},
   "source": [
    "# Investigate Modeling Errors\n",
    "\n",
    "**Methodology:** manually investigate FMC data at stations and times when there are substantial modeling errors for both the ODE and the RNN. Since the ODE uses a non-statistical methodology and does not use scaled data, a substantial modeling error for both those methods seems more likely to be from erroneous data rather than a weak model. \n",
    "\n",
    "Steps:\n",
    "* Run forecast analysis to produce MSE for the ODE and RNN\n",
    "* Extract cases where MSE is outside of 1sd of both the ODE and RNN errors\n",
    "* Manually label stretches of data for filtering\n",
    "* Rerun forecast analysis with those data labeled as erroneous removed\n",
    "\n",
    "**Future Goal:** a couple of options for a better data filtering algortithm:\n",
    "\n",
    "* use labeled dataset to train a ML classifier to automatically filter suspect data based on manual checking rather than a series of ad hoc rules.\n",
    "* automatically reject inputs where there are substantial errors for the ODE and RNN, rerun and see if it converges"
   ]
  },
  {
   "cell_type": "code",
   "execution_count": null,
   "id": "0f55d974-52a1-43e5-94b9-d037b797a54e",
   "metadata": {},
   "outputs": [],
   "source": [
    "import matplotlib.pyplot as plt\n",
    "from datetime import datetime\n",
    "import sys\n",
    "import os.path as osp\n",
    "import pandas as pd\n",
    "import numpy as np\n",
    "from scipy import stats\n",
    "import itertools\n",
    "import os.path as osp\n",
    "sys.path.append(\"../src\")\n",
    "from utils import Dict, read_yml, str2time, print_dict_summary, read_pkl, retrieve_url"
   ]
  },
  {
   "cell_type": "code",
   "execution_count": null,
   "id": "29c50ce6-721a-400a-b4f7-d3618137449d",
   "metadata": {},
   "outputs": [],
   "source": [
    "data_dir = \"../outputs/report_materials\"\n",
    "\n",
    "df = pd.read_csv(osp.join(data_dir, \"forecast_errs.csv\"), index_col=0)\n",
    "rnn = pd.read_csv(osp.join(data_dir, \"rnn_loc_errors.csv\"), index_col=0)\n",
    "ml_data = read_pkl(osp.join(data_dir, \"ml_data.pkl\"))"
   ]
  },
  {
   "cell_type": "code",
   "execution_count": null,
   "id": "5a99cb37-8862-4f67-8a1b-5630dd6f2784",
   "metadata": {},
   "outputs": [],
   "source": [
    "df2 = df.sort_values(by=\"RNN\", ascending=False)\n",
    "df2"
   ]
  },
  {
   "cell_type": "code",
   "execution_count": null,
   "id": "47a8aba9-9f97-4b98-81d1-b04784c3f808",
   "metadata": {},
   "outputs": [],
   "source": [
    "t0 = df2.index[0]\n",
    "t1 = df2.index[1]\n",
    "\n",
    "print(f\"Forecast Period {t0}, Resulting MSE: {df2.RNN[df2.index == t0]}\")\n",
    "print(f\"Forecast Period {t1}, Resulting MSE: {df2.RNN[df2.index == t1]}\")"
   ]
  },
  {
   "cell_type": "code",
   "execution_count": null,
   "id": "a3aed494-ab29-46ee-bb1b-1b23d0319e67",
   "metadata": {},
   "outputs": [],
   "source": [
    "ml_data.keys()"
   ]
  },
  {
   "cell_type": "code",
   "execution_count": null,
   "id": "19bacc8c-e447-4995-9306-939ccd17dd46",
   "metadata": {},
   "outputs": [],
   "source": [
    "np.where(df.index == t0)"
   ]
  },
  {
   "cell_type": "code",
   "execution_count": null,
   "id": "abd197e9-1d4a-41b9-85d8-4dc12f37212a",
   "metadata": {},
   "outputs": [],
   "source": [
    "# fperiod_errs_55.pkl\n",
    "# fperiod_errs_57.pkl"
   ]
  },
  {
   "cell_type": "code",
   "execution_count": null,
   "id": "fd8af03f-ac66-4d9c-97a0-e1d0b0a49e27",
   "metadata": {},
   "outputs": [],
   "source": [
    "t0"
   ]
  },
  {
   "cell_type": "markdown",
   "id": "805e143b-c793-48df-90d2-2c68dd93b100",
   "metadata": {},
   "source": [
    "## First bad error"
   ]
  },
  {
   "cell_type": "code",
   "execution_count": null,
   "id": "83fb52ca-0ea1-4eaa-8490-f34e21436c20",
   "metadata": {},
   "outputs": [],
   "source": [
    "task_id = 57\n",
    "ft = str2time(\"2024-04-22T00:00:00Z\") \n",
    "TRAIN_HOURS = 8760\n",
    "FORECAST_HOURS = 48\n",
    "\n",
    "import data_funcs\n",
    "import reproducibility\n",
    "\n",
    "reproducibility.set_seed(task_id)\n",
    "train, val, test = data_funcs.cv_data_wrap(ml_data, ft, train_hours=TRAIN_HOURS,forecast_hours=FORECAST_HOURS)"
   ]
  },
  {
   "cell_type": "code",
   "execution_count": null,
   "id": "5ec90e8d-8ca3-4afb-8f14-63edb8a3c0da",
   "metadata": {},
   "outputs": [],
   "source": [
    "from models.moisture_ode import ODE_FMC\n",
    "params_models = read_yml('../etc/params_models.yaml')"
   ]
  },
  {
   "cell_type": "code",
   "execution_count": null,
   "id": "51bdc288-2e02-41eb-bfb7-ff91ea4ed679",
   "metadata": {},
   "outputs": [],
   "source": [
    "    # Run Models\n",
    "    # ODE\n",
    "    print('~'*75)\n",
    "    params = params_models['ode']\n",
    "    te_sts = [*test.keys()]\n",
    "    test_times = test[te_sts[0]][\"times\"]\n",
    "    ode_data = data_funcs.get_ode_data(ml_data, te_sts, test_times)\n",
    "    ode = ODE_FMC(params=params)\n",
    "    m, errs_ode = ode.run_model(ode_data, hours=72, h2=24)\n",
    "    print(f\"ODE Test MSE: {errs_ode}\")"
   ]
  },
  {
   "cell_type": "code",
   "execution_count": null,
   "id": "b34b9ac9-978d-4e5d-9a33-791c32c1313a",
   "metadata": {},
   "outputs": [],
   "source": [
    "errs_ode['loc_mse'].max()"
   ]
  },
  {
   "cell_type": "code",
   "execution_count": null,
   "id": "60b704f1-d74a-4f1b-b9c0-8f422333ff17",
   "metadata": {},
   "outputs": [],
   "source": [
    "errs_ode['loc_mse'].argmax()"
   ]
  },
  {
   "cell_type": "code",
   "execution_count": null,
   "id": "d2d49c6f-1249-486b-91d6-7b91f3562494",
   "metadata": {},
   "outputs": [],
   "source": [
    "len(errs_ode['loc_mse'])"
   ]
  },
  {
   "cell_type": "code",
   "execution_count": null,
   "id": "c44a1c8d-4e7f-4f2f-bf76-dc3a593f38eb",
   "metadata": {},
   "outputs": [],
   "source": [
    "st = te_sts[errs_ode['loc_mse'].argmax()]\n",
    "st"
   ]
  },
  {
   "cell_type": "code",
   "execution_count": null,
   "id": "2f0db127-873f-4ac4-ba73-3073ba4dd4ba",
   "metadata": {},
   "outputs": [],
   "source": [
    "np.where(ml_data[st][\"times\"] == pd.Timestamp(t0))"
   ]
  },
  {
   "cell_type": "code",
   "execution_count": null,
   "id": "9b375cf1-ce95-46e6-bd94-ad1015b8c70f",
   "metadata": {},
   "outputs": [],
   "source": [
    "plt.plot(ml_data[st][\"times\"][7000:8500], ml_data[st][\"data\"][\"fm\"][7000:8500], 'o--', ms=4, markerfacecolor='none', label=\"FMC\")\n",
    "plt.plot(ml_data[st][\"times\"][7000:8500], ml_data[st][\"data\"][\"Ed\"][7000:8500], 'o--', ms=4, markerfacecolor='none', label=\"Ed\")\n",
    "plt.xticks(rotation=90) \n",
    "plt.legend()"
   ]
  },
  {
   "cell_type": "code",
   "execution_count": null,
   "id": "350a5bed-06b7-446f-a6e4-ef8cbbf7a7e9",
   "metadata": {},
   "outputs": [],
   "source": [
    "import synoptic"
   ]
  },
  {
   "cell_type": "code",
   "execution_count": null,
   "id": "c79fd768-7dfb-40f8-9c9e-0c64b5a5519f",
   "metadata": {},
   "outputs": [],
   "source": [
    "st"
   ]
  },
  {
   "cell_type": "code",
   "execution_count": null,
   "id": "634c7839-c84c-42e9-885b-a1f02a09033a",
   "metadata": {},
   "outputs": [],
   "source": [
    "ts = synoptic.TimeSeries(\n",
    "    stid = st,\n",
    "    start = str2time(\"2024-03-15T00:00:00Z\"),\n",
    "    end = str2time(\"2024-06-01T00:00:00Z\"),\n",
    "    vars = [\"fuel_moisture\"],\n",
    "    units=\"metric\"\n",
    ")"
   ]
  },
  {
   "cell_type": "code",
   "execution_count": null,
   "id": "a59bb2f1-ce15-40fa-9a26-b9bd0814e50f",
   "metadata": {},
   "outputs": [],
   "source": [
    "df = ts.df()"
   ]
  },
  {
   "cell_type": "code",
   "execution_count": null,
   "id": "d4cd1e3f-59e0-4f93-98b6-1c2748e65e7c",
   "metadata": {},
   "outputs": [],
   "source": [
    "df"
   ]
  },
  {
   "cell_type": "code",
   "execution_count": null,
   "id": "785f433f-2711-4d03-913a-c680c253137c",
   "metadata": {},
   "outputs": [],
   "source": [
    "plt.plot(df['date_time'], df['value'])"
   ]
  },
  {
   "cell_type": "markdown",
   "id": "23dfa5cf-d067-4ad2-86f4-6f27c93a2e0c",
   "metadata": {},
   "source": [
    "## Second Bad Error\n",
    "\n",
    "Same Station"
   ]
  },
  {
   "cell_type": "code",
   "execution_count": null,
   "id": "cf67f2c7-4b02-479f-85b8-38ce275b56a1",
   "metadata": {},
   "outputs": [],
   "source": [
    "task_id = 55\n",
    "ft = str2time(\"2024-04-18T00:00:00Z\") \n",
    "TRAIN_HOURS = 8760\n",
    "FORECAST_HOURS = 48\n",
    "\n",
    "import data_funcs\n",
    "import reproducibility\n",
    "\n",
    "reproducibility.set_seed(task_id)\n",
    "train, val, test = data_funcs.cv_data_wrap(ml_data, ft, train_hours=TRAIN_HOURS,forecast_hours=FORECAST_HOURS)"
   ]
  },
  {
   "cell_type": "code",
   "execution_count": null,
   "id": "771ffc1d-56fe-47a9-a1e3-d01562196079",
   "metadata": {},
   "outputs": [],
   "source": [
    "    # Run Models\n",
    "    # ODE\n",
    "    print('~'*75)\n",
    "    params = params_models['ode']\n",
    "    te_sts = [*test.keys()]\n",
    "    test_times = test[te_sts[0]][\"times\"]\n",
    "    ode_data = data_funcs.get_ode_data(ml_data, te_sts, test_times)\n",
    "    ode = ODE_FMC(params=params)\n",
    "    m, errs_ode = ode.run_model(ode_data, hours=72, h2=24)\n",
    "    print(f\"ODE Test MSE: {errs_ode}\")"
   ]
  },
  {
   "cell_type": "code",
   "execution_count": null,
   "id": "2dfb3519-890b-45c0-a746-0c1792357278",
   "metadata": {},
   "outputs": [],
   "source": [
    "print(errs_ode['loc_mse'].max())\n",
    "st = te_sts[errs_ode['loc_mse'].argmax()]\n",
    "print(st)"
   ]
  },
  {
   "cell_type": "code",
   "execution_count": null,
   "id": "73c1638f-6c3b-4d21-92a6-3b74434b1983",
   "metadata": {},
   "outputs": [],
   "source": [
    "st"
   ]
  },
  {
   "cell_type": "code",
   "execution_count": null,
   "id": "c2a5c752-5011-4b20-a8f3-f1c8e61eabae",
   "metadata": {},
   "outputs": [],
   "source": [
    "np.mean(np.array([  19.09864272,   57.10380271,   38.49150197,   15.23259169,\n",
    "          4.94547573,   15.07289635,   12.06879773,   23.4615982 ,\n",
    "         28.03123544, 1090.3702355 ,   38.98030805,   40.270528  ,\n",
    "         15.62551401,   19.10600825,   29.41379745,   73.03861655]))"
   ]
  },
  {
   "cell_type": "code",
   "execution_count": null,
   "id": "e0d0e651-8337-47ec-8cd7-cb8ca5800c81",
   "metadata": {},
   "outputs": [],
   "source": [
    "np.mean(np.array([  19.09864272,   57.10380271,   38.49150197,   15.23259169,\n",
    "          4.94547573,   15.07289635,   12.06879773,   23.4615982 ,\n",
    "         28.03123544 ,   38.98030805,   40.270528  ,\n",
    "         15.62551401,   19.10600825,   29.41379745,   73.03861655]))"
   ]
  },
  {
   "cell_type": "code",
   "execution_count": null,
   "id": "720f0b06-91a1-41d9-b2c5-e9173836245c",
   "metadata": {},
   "outputs": [],
   "source": [
    "np.sqrt(28.7)"
   ]
  },
  {
   "cell_type": "code",
   "execution_count": null,
   "id": "372d042a-0b8e-4c49-bc58-137cf899f2d7",
   "metadata": {},
   "outputs": [],
   "source": []
  },
  {
   "cell_type": "code",
   "execution_count": null,
   "id": "c32b905a-a669-406a-8a4e-163802e55563",
   "metadata": {},
   "outputs": [],
   "source": []
  },
  {
   "cell_type": "markdown",
   "id": "39fb9e08-f34e-4de6-b56e-80b1661acec1",
   "metadata": {},
   "source": [
    "## Another bad station"
   ]
  },
  {
   "cell_type": "code",
   "execution_count": null,
   "id": "9f1b7fb7-ef98-4b4b-a4b3-c810d1cb46d2",
   "metadata": {},
   "outputs": [],
   "source": [
    "st = \"C3ELK\""
   ]
  },
  {
   "cell_type": "code",
   "execution_count": null,
   "id": "4cd42ac6-1730-4c33-b851-23cbdc6d0c6e",
   "metadata": {},
   "outputs": [],
   "source": [
    "plt.plot(ml_data[st][\"times\"], ml_data[st][\"data\"][\"fm\"], 'o--', ms=4, markerfacecolor='none')\n",
    "plt.xticks(rotation=90)"
   ]
  },
  {
   "cell_type": "code",
   "execution_count": null,
   "id": "aebc86fd-e1b0-43ac-8cbf-a196f790068f",
   "metadata": {},
   "outputs": [],
   "source": []
  },
  {
   "cell_type": "code",
   "execution_count": null,
   "id": "2c965c81-450e-427c-9561-aa21ba1241f7",
   "metadata": {},
   "outputs": [],
   "source": []
  }
 ],
 "metadata": {
  "kernelspec": {
   "display_name": "Python 3 (ipykernel)",
   "language": "python",
   "name": "python3"
  },
  "language_info": {
   "codemirror_mode": {
    "name": "ipython",
    "version": 3
   },
   "file_extension": ".py",
   "mimetype": "text/x-python",
   "name": "python",
   "nbconvert_exporter": "python",
   "pygments_lexer": "ipython3",
   "version": "3.12.2"
  }
 },
 "nbformat": 4,
 "nbformat_minor": 5
}

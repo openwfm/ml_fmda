{
 "cells": [
  {
   "cell_type": "markdown",
   "id": "524cbae1-1394-4445-bce0-f2fcbe077f93",
   "metadata": {},
   "source": [
    "# Investigate Modeling Errors\n",
    "\n",
    "Manually investigate FMC data at all stations for study area and time period. Identify stretches of data as valid/invalid and directly remove. \n",
    "\n",
    "**Methodology:** \n",
    "\n",
    "* Split FMC data into 72 hour periods\n",
    "* Plot FMC with corresponding equilibria calculated from HRRR for 5 periods at a time (for readability)\n",
    "* Manually identify periods of data that are *clearly* invalid\n",
    "* Build dataset with STID, timeperiods, and labels for valid/invalid\n",
    "* Manually remove invalid data stretches from data for this analysis\n",
    "\n",
    "**Future Work:** Use labeled dataset to train a classifier for automatic flagging of suspect data."
   ]
  },
  {
   "cell_type": "markdown",
   "id": "0b4bc2be-7eb8-45a5-b2ce-a624a3954fa8",
   "metadata": {},
   "source": [
    "## Setup"
   ]
  },
  {
   "cell_type": "code",
   "execution_count": null,
   "id": "0f55d974-52a1-43e5-94b9-d037b797a54e",
   "metadata": {},
   "outputs": [],
   "source": [
    "import matplotlib.pyplot as plt\n",
    "from datetime import datetime\n",
    "import sys\n",
    "import os.path as osp\n",
    "import pandas as pd\n",
    "import numpy as np\n",
    "from scipy import stats\n",
    "import itertools\n",
    "import os.path as osp\n",
    "import re\n",
    "import copy\n",
    "sys.path.append(\"../src\")\n",
    "from data_funcs import remove_invalid_data\n",
    "from utils import Dict, read_yml, str2time, print_dict_summary, read_pkl, retrieve_url\n",
    "from viz import plot_one"
   ]
  },
  {
   "cell_type": "code",
   "execution_count": null,
   "id": "29c50ce6-721a-400a-b4f7-d3618137449d",
   "metadata": {},
   "outputs": [],
   "source": [
    "data_dir = \"../outputs/report_materials\"\n",
    "df = pd.read_csv(\"../data/fmc_valid_checks_rocky24.csv\")\n",
    "ml_data = read_pkl(osp.join(data_dir, \"ml_data.pkl\"))"
   ]
  },
  {
   "cell_type": "markdown",
   "id": "ede9af39-1837-4d02-8cec-08674867445c",
   "metadata": {},
   "source": [
    "## Plot FMC"
   ]
  },
  {
   "cell_type": "code",
   "execution_count": null,
   "id": "974ff00b-f4a0-4b05-aacf-d08495e28108",
   "metadata": {
    "scrolled": true
   },
   "outputs": [],
   "source": [
    "# outpath = \"../outputs/ts_plots\"\n",
    "# n_periods = 5\n",
    "# for st in ml_data:\n",
    "#     d = ml_data[st]['data']\n",
    "#     max_period = d.st_period.max()\n",
    "#     for start in range(0, max_period + 1, n_periods):\n",
    "#         batch = list(range(start, min(start + n_periods, max_period + 1)))\n",
    "#         ts = [d[d['st_period'].isin([bi])].date_time.min() for bi in batch]\n",
    "#         t0 = d[d['st_period'].isin(batch)].date_time.min()\n",
    "#         t1 = d[d['st_period'].isin(batch)].date_time.max()\n",
    "#         print(\"~\"*50)\n",
    "#         print(f\"Running batch for station {st}\")\n",
    "#         print(f\"Start time: {t0}\")\n",
    "#         print(f\"End time: {t1}\")\n",
    "#         out_file = osp.join(outpath, f\"{st}_{batch[0]}_{batch[-1]}.png\")\n",
    "#         plot_one(ml_data, st, start_time = t0, end_time = t1, title2 = f\"Periods {batch}\", \n",
    "#                          save_path = None, show=True)\n",
    "#         plot_periods = [(b, t) for b, t in zip(batch, ts) if not pd.isna(t)]\n",
    "#         for b, t in plot_periods:\n",
    "#             plt.axvline(x=t, color='black', linestyle='dotted')\n",
    "#             plt.text(t, plt.ylim()[1], str(b), verticalalignment='top', horizontalalignment=\"right\", color='black')  # Annotate\n",
    "        \n",
    "#         plt.savefig(out_file)  \n",
    "#         plt.close()"
   ]
  },
  {
   "cell_type": "markdown",
   "id": "5f52e5ea-f6ec-4106-9f0e-7d7873f50b71",
   "metadata": {},
   "source": [
    "## Build Labeled Dataset\n",
    "\n",
    "Read in file created with manual check of timeseries, convert into format usable to filter data\n",
    "\n",
    "* For periods labeled as valid/invalid, extract time start and time end for those periods from ml_data\n",
    "* Build dataframe with columns `STID, start_time, end_time, valid`\n",
    "\n",
    "*TODO:* make missing data missing in plot, rather than connected with straight line like now"
   ]
  },
  {
   "cell_type": "code",
   "execution_count": null,
   "id": "f7800f55-823b-4baf-aa62-516278d0b980",
   "metadata": {},
   "outputs": [],
   "source": [
    "df"
   ]
  },
  {
   "cell_type": "code",
   "execution_count": null,
   "id": "8a9fd28a-bd35-4c74-add5-cdb07a7b2998",
   "metadata": {},
   "outputs": [],
   "source": [
    "# Set up restructured dataframe\n",
    "df_valid = pd.DataFrame(columns=['stid', 'start', 'end', 'valid']).astype({\n",
    "    'stid': 'string',\n",
    "    'start': 'string',\n",
    "    'end': 'string',\n",
    "    'valid': 'int'\n",
    "})\n",
    "\n",
    "pattern = r\"^(\\d+)(?:\\s*,\\s*(\\d+))?$\" # Use to extract period integers start_period, end_period e.g. (0, 243)\n",
    "\n",
    "for i in range(0, df.shape[0]):\n",
    "    st = df.stid[i]\n",
    "    d = ml_data[st][\"data\"]\n",
    "    s = df[df.index == i].periods.values[0]\n",
    "    vi = df[df.index == i].valid.values[0]\n",
    "    pstart, pend = re.match(pattern, s).groups()\n",
    "    # Handle whether single period or range\n",
    "    if pend is None:\n",
    "        periods = [int(pstart)]\n",
    "    else:\n",
    "        periods = np.arange(int(pstart), int(pend)+1, step=1)\n",
    "    \n",
    "    t0 = d[d.st_period.isin(periods)].date_time.min() # start time of period range\n",
    "    t1 = d[d.st_period.isin(periods)].date_time.max() # end time for period range\n",
    "\n",
    "    di = pd.DataFrame({\n",
    "        'stid': [st],\n",
    "        'start': [t0.strftime(\"%Y-%m-%dT%H:%M:%SZ\")],\n",
    "        'end': [t1.strftime(\"%Y-%m-%dT%H:%M:%SZ\")],\n",
    "        'valid': [vi]\n",
    "    })\n",
    "    \n",
    "    df_valid = pd.concat([df_valid, di], ignore_index = True)"
   ]
  },
  {
   "cell_type": "code",
   "execution_count": null,
   "id": "d985920d-249e-49ca-9475-4c8994426064",
   "metadata": {},
   "outputs": [],
   "source": [
    "df_valid"
   ]
  },
  {
   "cell_type": "code",
   "execution_count": null,
   "id": "8284b989-01fc-4209-baf3-b138d5ecf18a",
   "metadata": {},
   "outputs": [],
   "source": [
    "assert df_valid.stid.unique().shape[0] == len(ml_data), f\"Mismatch number of unique stations, {df_valid.stid.unique().shape} in processed dataframe but {len(ml_data)} in input ml_data\""
   ]
  },
  {
   "cell_type": "code",
   "execution_count": null,
   "id": "447768ce-de97-41b2-8cdd-d4b04d26b623",
   "metadata": {},
   "outputs": [],
   "source": [
    "# Write output\n",
    "df_valid.to_csv(\"../data/fmc_valid_rocky24.csv\")"
   ]
  },
  {
   "cell_type": "markdown",
   "id": "37cb6ba0-63c6-459f-adee-46aa3152d2b7",
   "metadata": {},
   "source": [
    "## Remove Invalid Data\n",
    "\n",
    "Based on manual determination, modify input data dictionary to remove bad data."
   ]
  },
  {
   "cell_type": "code",
   "execution_count": null,
   "id": "6fd9ef30-50aa-4e9b-acf7-98afc28bf7c2",
   "metadata": {},
   "outputs": [],
   "source": [
    "ml_data2 = remove_invalid_data(ml_data, df_valid)"
   ]
  },
  {
   "cell_type": "code",
   "execution_count": null,
   "id": "213b9718-7f5d-421a-bcd4-4e354c3855e9",
   "metadata": {},
   "outputs": [],
   "source": []
  },
  {
   "cell_type": "code",
   "execution_count": null,
   "id": "160a540b-5e87-4d41-8c99-dacf35d3415b",
   "metadata": {},
   "outputs": [],
   "source": []
  },
  {
   "cell_type": "code",
   "execution_count": null,
   "id": "06705a6c-f6b5-43a7-a662-5a3c2004162c",
   "metadata": {},
   "outputs": [],
   "source": []
  },
  {
   "cell_type": "code",
   "execution_count": null,
   "id": "a17229e2-186b-466c-98d5-33ecb5ff3f82",
   "metadata": {},
   "outputs": [],
   "source": []
  },
  {
   "cell_type": "code",
   "execution_count": null,
   "id": "d7ca1ceb-d658-42d7-be86-d8bec7f0aaac",
   "metadata": {},
   "outputs": [],
   "source": []
  },
  {
   "cell_type": "code",
   "execution_count": null,
   "id": "83cb721b-4430-4551-994a-6f66bfb4d9fa",
   "metadata": {},
   "outputs": [],
   "source": []
  },
  {
   "cell_type": "markdown",
   "id": "469c52f1-406d-45d3-92c5-485369c2b383",
   "metadata": {},
   "source": [
    "## Double Check big errors"
   ]
  },
  {
   "cell_type": "code",
   "execution_count": null,
   "id": "5a99cb37-8862-4f67-8a1b-5630dd6f2784",
   "metadata": {},
   "outputs": [],
   "source": [
    "df2 = df.sort_values(by=\"RNN\", ascending=False)\n",
    "df2"
   ]
  },
  {
   "cell_type": "code",
   "execution_count": null,
   "id": "47a8aba9-9f97-4b98-81d1-b04784c3f808",
   "metadata": {},
   "outputs": [],
   "source": [
    "t0 = df2.index[0]\n",
    "\n",
    "print(f\"Forecast Period {t0}, Resulting MSE: {df2.RNN[df2.index == t0]}\")"
   ]
  },
  {
   "cell_type": "code",
   "execution_count": null,
   "id": "a3aed494-ab29-46ee-bb1b-1b23d0319e67",
   "metadata": {},
   "outputs": [],
   "source": [
    "ml_data.keys()"
   ]
  },
  {
   "cell_type": "code",
   "execution_count": null,
   "id": "19bacc8c-e447-4995-9306-939ccd17dd46",
   "metadata": {},
   "outputs": [],
   "source": [
    "np.where(df.index == t0)"
   ]
  },
  {
   "cell_type": "code",
   "execution_count": null,
   "id": "abd197e9-1d4a-41b9-85d8-4dc12f37212a",
   "metadata": {},
   "outputs": [],
   "source": [
    "# fperiod_errs_55.pkl\n",
    "# fperiod_errs_57.pkl"
   ]
  },
  {
   "cell_type": "code",
   "execution_count": null,
   "id": "fd8af03f-ac66-4d9c-97a0-e1d0b0a49e27",
   "metadata": {},
   "outputs": [],
   "source": [
    "t0"
   ]
  },
  {
   "cell_type": "markdown",
   "id": "805e143b-c793-48df-90d2-2c68dd93b100",
   "metadata": {},
   "source": [
    "## First bad error"
   ]
  },
  {
   "cell_type": "code",
   "execution_count": null,
   "id": "83fb52ca-0ea1-4eaa-8490-f34e21436c20",
   "metadata": {},
   "outputs": [],
   "source": [
    "task_id = 57\n",
    "ft = str2time(\"2024-04-22T00:00:00Z\") \n",
    "TRAIN_HOURS = 8760\n",
    "FORECAST_HOURS = 48\n",
    "\n",
    "import data_funcs\n",
    "import reproducibility\n",
    "\n",
    "reproducibility.set_seed(task_id)\n",
    "train, val, test = data_funcs.cv_data_wrap(ml_data, ft, train_hours=TRAIN_HOURS,forecast_hours=FORECAST_HOURS)"
   ]
  },
  {
   "cell_type": "code",
   "execution_count": null,
   "id": "5ec90e8d-8ca3-4afb-8f14-63edb8a3c0da",
   "metadata": {},
   "outputs": [],
   "source": [
    "from models.moisture_ode import ODE_FMC\n",
    "params_models = read_yml('../etc/params_models.yaml')"
   ]
  },
  {
   "cell_type": "code",
   "execution_count": null,
   "id": "51bdc288-2e02-41eb-bfb7-ff91ea4ed679",
   "metadata": {},
   "outputs": [],
   "source": [
    "    # Run Models\n",
    "    # ODE\n",
    "    print('~'*75)\n",
    "    params = params_models['ode']\n",
    "    te_sts = [*test.keys()]\n",
    "    test_times = test[te_sts[0]][\"times\"]\n",
    "    ode_data = data_funcs.get_ode_data(ml_data, te_sts, test_times)\n",
    "    ode = ODE_FMC(params=params)\n",
    "    m, errs_ode = ode.run_model(ode_data, hours=72, h2=24)\n",
    "    print(f\"ODE Test MSE: {errs_ode}\")"
   ]
  },
  {
   "cell_type": "code",
   "execution_count": null,
   "id": "b34b9ac9-978d-4e5d-9a33-791c32c1313a",
   "metadata": {},
   "outputs": [],
   "source": [
    "errs_ode['loc_mse'].max()"
   ]
  },
  {
   "cell_type": "code",
   "execution_count": null,
   "id": "60b704f1-d74a-4f1b-b9c0-8f422333ff17",
   "metadata": {},
   "outputs": [],
   "source": [
    "errs_ode['loc_mse'].argmax()"
   ]
  },
  {
   "cell_type": "code",
   "execution_count": null,
   "id": "d2d49c6f-1249-486b-91d6-7b91f3562494",
   "metadata": {},
   "outputs": [],
   "source": [
    "len(errs_ode['loc_mse'])"
   ]
  },
  {
   "cell_type": "code",
   "execution_count": null,
   "id": "c44a1c8d-4e7f-4f2f-bf76-dc3a593f38eb",
   "metadata": {},
   "outputs": [],
   "source": [
    "st = te_sts[errs_ode['loc_mse'].argmax()]\n",
    "st"
   ]
  },
  {
   "cell_type": "code",
   "execution_count": null,
   "id": "2f0db127-873f-4ac4-ba73-3073ba4dd4ba",
   "metadata": {},
   "outputs": [],
   "source": [
    "np.where(ml_data[st][\"times\"] == pd.Timestamp(t0))"
   ]
  },
  {
   "cell_type": "code",
   "execution_count": null,
   "id": "9b375cf1-ce95-46e6-bd94-ad1015b8c70f",
   "metadata": {},
   "outputs": [],
   "source": [
    "plt.plot(ml_data[st][\"times\"][7000:8500], ml_data[st][\"data\"][\"fm\"][7000:8500], 'o--', ms=4, markerfacecolor='none', label=\"FMC\")\n",
    "plt.plot(ml_data[st][\"times\"][7000:8500], ml_data[st][\"data\"][\"Ed\"][7000:8500], 'o--', ms=4, markerfacecolor='none', label=\"Ed\")\n",
    "plt.xticks(rotation=90) \n",
    "plt.legend()"
   ]
  },
  {
   "cell_type": "code",
   "execution_count": null,
   "id": "350a5bed-06b7-446f-a6e4-ef8cbbf7a7e9",
   "metadata": {},
   "outputs": [],
   "source": [
    "import synoptic"
   ]
  },
  {
   "cell_type": "code",
   "execution_count": null,
   "id": "c79fd768-7dfb-40f8-9c9e-0c64b5a5519f",
   "metadata": {},
   "outputs": [],
   "source": [
    "st"
   ]
  },
  {
   "cell_type": "code",
   "execution_count": null,
   "id": "634c7839-c84c-42e9-885b-a1f02a09033a",
   "metadata": {},
   "outputs": [],
   "source": [
    "ts = synoptic.TimeSeries(\n",
    "    stid = st,\n",
    "    start = str2time(\"2024-03-15T00:00:00Z\"),\n",
    "    end = str2time(\"2024-06-01T00:00:00Z\"),\n",
    "    vars = [\"fuel_moisture\"],\n",
    "    units=\"metric\"\n",
    ")"
   ]
  },
  {
   "cell_type": "code",
   "execution_count": null,
   "id": "a59bb2f1-ce15-40fa-9a26-b9bd0814e50f",
   "metadata": {},
   "outputs": [],
   "source": [
    "df = ts.df()"
   ]
  },
  {
   "cell_type": "code",
   "execution_count": null,
   "id": "d4cd1e3f-59e0-4f93-98b6-1c2748e65e7c",
   "metadata": {},
   "outputs": [],
   "source": [
    "df"
   ]
  },
  {
   "cell_type": "code",
   "execution_count": null,
   "id": "785f433f-2711-4d03-913a-c680c253137c",
   "metadata": {},
   "outputs": [],
   "source": [
    "plt.plot(df['date_time'], df['value'])"
   ]
  },
  {
   "cell_type": "markdown",
   "id": "23dfa5cf-d067-4ad2-86f4-6f27c93a2e0c",
   "metadata": {},
   "source": [
    "## Second Bad Error\n",
    "\n",
    "Same Station"
   ]
  },
  {
   "cell_type": "code",
   "execution_count": null,
   "id": "cf67f2c7-4b02-479f-85b8-38ce275b56a1",
   "metadata": {},
   "outputs": [],
   "source": [
    "task_id = 55\n",
    "ft = str2time(\"2024-04-18T00:00:00Z\") \n",
    "TRAIN_HOURS = 8760\n",
    "FORECAST_HOURS = 48\n",
    "\n",
    "import data_funcs\n",
    "import reproducibility\n",
    "\n",
    "reproducibility.set_seed(task_id)\n",
    "train, val, test = data_funcs.cv_data_wrap(ml_data, ft, train_hours=TRAIN_HOURS,forecast_hours=FORECAST_HOURS)"
   ]
  },
  {
   "cell_type": "code",
   "execution_count": null,
   "id": "771ffc1d-56fe-47a9-a1e3-d01562196079",
   "metadata": {},
   "outputs": [],
   "source": [
    "    # Run Models\n",
    "    # ODE\n",
    "    print('~'*75)\n",
    "    params = params_models['ode']\n",
    "    te_sts = [*test.keys()]\n",
    "    test_times = test[te_sts[0]][\"times\"]\n",
    "    ode_data = data_funcs.get_ode_data(ml_data, te_sts, test_times)\n",
    "    ode = ODE_FMC(params=params)\n",
    "    m, errs_ode = ode.run_model(ode_data, hours=72, h2=24)\n",
    "    print(f\"ODE Test MSE: {errs_ode}\")"
   ]
  },
  {
   "cell_type": "code",
   "execution_count": null,
   "id": "2dfb3519-890b-45c0-a746-0c1792357278",
   "metadata": {},
   "outputs": [],
   "source": [
    "print(errs_ode['loc_mse'].max())\n",
    "st = te_sts[errs_ode['loc_mse'].argmax()]\n",
    "print(st)"
   ]
  },
  {
   "cell_type": "code",
   "execution_count": null,
   "id": "73c1638f-6c3b-4d21-92a6-3b74434b1983",
   "metadata": {},
   "outputs": [],
   "source": [
    "st"
   ]
  },
  {
   "cell_type": "code",
   "execution_count": null,
   "id": "c2a5c752-5011-4b20-a8f3-f1c8e61eabae",
   "metadata": {},
   "outputs": [],
   "source": [
    "np.mean(np.array([  19.09864272,   57.10380271,   38.49150197,   15.23259169,\n",
    "          4.94547573,   15.07289635,   12.06879773,   23.4615982 ,\n",
    "         28.03123544, 1090.3702355 ,   38.98030805,   40.270528  ,\n",
    "         15.62551401,   19.10600825,   29.41379745,   73.03861655]))"
   ]
  },
  {
   "cell_type": "code",
   "execution_count": null,
   "id": "e0d0e651-8337-47ec-8cd7-cb8ca5800c81",
   "metadata": {},
   "outputs": [],
   "source": [
    "np.mean(np.array([  19.09864272,   57.10380271,   38.49150197,   15.23259169,\n",
    "          4.94547573,   15.07289635,   12.06879773,   23.4615982 ,\n",
    "         28.03123544 ,   38.98030805,   40.270528  ,\n",
    "         15.62551401,   19.10600825,   29.41379745,   73.03861655]))"
   ]
  },
  {
   "cell_type": "code",
   "execution_count": null,
   "id": "720f0b06-91a1-41d9-b2c5-e9173836245c",
   "metadata": {},
   "outputs": [],
   "source": [
    "np.sqrt(28.7)"
   ]
  },
  {
   "cell_type": "code",
   "execution_count": null,
   "id": "372d042a-0b8e-4c49-bc58-137cf899f2d7",
   "metadata": {},
   "outputs": [],
   "source": []
  },
  {
   "cell_type": "code",
   "execution_count": null,
   "id": "c32b905a-a669-406a-8a4e-163802e55563",
   "metadata": {},
   "outputs": [],
   "source": []
  },
  {
   "cell_type": "markdown",
   "id": "39fb9e08-f34e-4de6-b56e-80b1661acec1",
   "metadata": {},
   "source": [
    "## Another bad station"
   ]
  },
  {
   "cell_type": "code",
   "execution_count": null,
   "id": "9f1b7fb7-ef98-4b4b-a4b3-c810d1cb46d2",
   "metadata": {},
   "outputs": [],
   "source": [
    "st = \"C3ELK\""
   ]
  },
  {
   "cell_type": "code",
   "execution_count": null,
   "id": "4cd42ac6-1730-4c33-b851-23cbdc6d0c6e",
   "metadata": {},
   "outputs": [],
   "source": [
    "plt.plot(ml_data[st][\"times\"], ml_data[st][\"data\"][\"fm\"], 'o--', ms=4, markerfacecolor='none')\n",
    "plt.xticks(rotation=90)"
   ]
  },
  {
   "cell_type": "code",
   "execution_count": null,
   "id": "aebc86fd-e1b0-43ac-8cbf-a196f790068f",
   "metadata": {},
   "outputs": [],
   "source": []
  },
  {
   "cell_type": "code",
   "execution_count": null,
   "id": "2c965c81-450e-427c-9561-aa21ba1241f7",
   "metadata": {},
   "outputs": [],
   "source": []
  }
 ],
 "metadata": {
  "kernelspec": {
   "display_name": "Python 3 (ipykernel)",
   "language": "python",
   "name": "python3"
  },
  "language_info": {
   "codemirror_mode": {
    "name": "ipython",
    "version": 3
   },
   "file_extension": ".py",
   "mimetype": "text/x-python",
   "name": "python",
   "nbconvert_exporter": "python",
   "pygments_lexer": "ipython3",
   "version": "3.12.2"
  }
 },
 "nbformat": 4,
 "nbformat_minor": 5
}

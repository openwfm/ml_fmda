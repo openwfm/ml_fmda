{
 "cells": [
  {
   "cell_type": "markdown",
   "id": "24c2f748-e69f-450f-abf7-b9c8826f2024",
   "metadata": {},
   "source": [
    "# Landfire Data Ingest Tutorial"
   ]
  },
  {
   "cell_type": "markdown",
   "id": "0f531ca4-0e0a-4cfa-b508-3c0369b45fd4",
   "metadata": {},
   "source": [
    "In this project, elevation above sea level is utilized as a predictor of FMC. RAWS stations report a elevation that is used when constructing training data.\n",
    "\n",
    "For forecasting to arbitrary locations, we need elevation data. The HRRR weather model utilizes a geopotential height in it's modeling, but this may not be directly comparable to the elevation as reported by a RAWS station. In this project, we will utilize elevation data from [LandFire](https://landfire.gov/topographic/elevation), which utilizes 3D mapping from USGS. The elevation data is very high resolution; it has approximately 30m resolution and is contained in a file that is over 8gb. \n",
    "\n",
    "In this project we utilize the LandFire elevation data as follows:\n",
    "* Download the data for all of CONUS (this takes while)\n",
    "* From the LandFire elevation data, we get the elevation that corresponds to each HRRR grid node and save it locally. A file of these elevations is much smaller, since HRRR operates on a 3km grid.\n",
    "* This smaller file of elevation data that corresponds to the HRRR grid is saved locally, and it is also staged for download on the OpenWFM project site DEMO (TODO)\n",
    "\n",
    "Due to computational limitations, the operations were performed with gdal on the command line in Alderaan:\n",
    "\n",
    "\n",
    "This notebook demonstrates the process of downloading the LandFire elevation data and extracting points that correspond to the HRRR grid. This is a slow process that should only be run on project setup once. Additionally, the elevation data at HRRR grid nodes can be downloaded online, thus avoiding this time consuming process, but the code is included for reproducibility."
   ]
  },
  {
   "cell_type": "markdown",
   "id": "5ba8674a-9b33-4b6b-ae3f-3d1b0bdefcf7",
   "metadata": {},
   "source": [
    "*NOTE*: LandFire data too big for processing in memory in a jupyter notebook. TODO: use gdal command line. Reference: https://nsidc.org/data/user-resources/help-center/how-do-i-reproject-geotiff-polar-stereographic-geographic-latlon"
   ]
  },
  {
   "cell_type": "markdown",
   "id": "912527b3-7ea9-48fb-92eb-e1ed727d6f5c",
   "metadata": {},
   "source": [
    "Canopy Cover (CC): https://landfire.gov/fuel/cc"
   ]
  },
  {
   "cell_type": "markdown",
   "id": "5b336ba7-b16f-4de8-bbe6-dc6befe50292",
   "metadata": {},
   "source": [
    "## Setup"
   ]
  },
  {
   "cell_type": "code",
   "execution_count": null,
   "id": "b91d9a63-4ef5-4d3f-a847-fe32b5a8e27f",
   "metadata": {},
   "outputs": [],
   "source": [
    "import numpy as np\n",
    "import zipfile\n",
    "import sys\n",
    "import os.path as osp\n",
    "import rioxarray as rxr\n",
    "import matplotlib.pyplot as plt\n",
    "import herbie\n",
    "sys.path.append(\"../src\")\n",
    "from utils import retrieve_url"
   ]
  },
  {
   "cell_type": "code",
   "execution_count": null,
   "id": "3e672b2a-5478-4e4c-8f22-184cd78e1ecc",
   "metadata": {},
   "outputs": [],
   "source": [
    "# Determine Paths and Filenames\n",
    "data_path = \"../data\"\n",
    "\n",
    "# Elevation data\n",
    "elev_url = \"https://landfire.gov/data-downloads/US_Topo_2020/LF2020_Elev_220_CONUS.zip\"\n",
    "elev_zipname = \"LF2020_Elev_220_CONUS.zip\"\n",
    "elev_path = osp.join(data_path, \"LF2020_Elev_220_CONUS\", \"Tif\", \"LC20_Elev_220.tif\")\n",
    "\n",
    "# Canopy Cover (CC) Data\n",
    "canopy_url = \"https://landfire.gov/data-downloads/US_230/LF2022_CC_230_CONUS.zip\"\n",
    "canopy_zipname = \"LF2022_CC_230_CONUS.zip\"\n",
    "canopy_path = osp.join(data_path, \"LF2022_CC_230_CONUS\", \"Tif\", \"LC22_CC_230.tif\")"
   ]
  },
  {
   "cell_type": "markdown",
   "id": "1ac6e22f-e032-4880-9a7b-ca1f1b5ad464",
   "metadata": {},
   "source": [
    "## Retrieve\n",
    "\n",
    "* Get the LandFire zip file and save locally, then unzip.\n",
    "* Get one HRRR grib file to extract the projection info. Use `Herbie` to get the file, save, and then read with `rioxarray`"
   ]
  },
  {
   "cell_type": "code",
   "execution_count": null,
   "id": "785adf9a-3465-4f90-90ca-ef19ec4b173a",
   "metadata": {},
   "outputs": [],
   "source": [
    "# Retrieve Elevation\n",
    "retrieve_url(\n",
    "    url = elev_url,\n",
    "    dest_path = osp.join(data_path, elev_zipname)\n",
    ")\n",
    "\n",
    "if not osp.exists(elev_path):\n",
    "    print(\"Unzipping file\")\n",
    "    with zipfile.ZipFile(osp.join(data_path, elev_zipname), 'r') as zip_ref:\n",
    "        zip_ref.extractall(data_path)    "
   ]
  },
  {
   "cell_type": "code",
   "execution_count": null,
   "id": "8bfc2a00-b0ab-4b24-b9cd-346f5b2ffaea",
   "metadata": {},
   "outputs": [],
   "source": [
    "# Retrieve Canopy\n",
    "retrieve_url(\n",
    "    url = canopy_url,\n",
    "    dest_path = osp.join(data_path, canopy_zipname)\n",
    ")\n",
    "\n",
    "if not osp.exists(canopy_path):\n",
    "    print(\"Unzipping file\")\n",
    "    with zipfile.ZipFile(osp.join(data_path, canopy_zipname), 'r') as zip_ref:\n",
    "        zip_ref.extractall(data_path)  "
   ]
  },
  {
   "cell_type": "markdown",
   "id": "5c43755e-cd95-4d3a-b7cc-fb32225625a2",
   "metadata": {},
   "source": [
    "## Read and Visualize"
   ]
  },
  {
   "cell_type": "code",
   "execution_count": null,
   "id": "86c8a0e3-21e5-4c45-a4b2-cbc6d12e2e70",
   "metadata": {},
   "outputs": [],
   "source": [
    "lf = rxr.open_rasterio(\"../data/elev_reproject.tif\")"
   ]
  },
  {
   "cell_type": "code",
   "execution_count": null,
   "id": "e0f403c3-a143-4ecf-b22b-e2e05e012773",
   "metadata": {},
   "outputs": [],
   "source": [
    "lf = lf.where(lf != -9999)"
   ]
  },
  {
   "cell_type": "code",
   "execution_count": null,
   "id": "cb051686-ad76-474f-bae7-7eeb0486faf3",
   "metadata": {},
   "outputs": [],
   "source": [
    "lf.shape"
   ]
  },
  {
   "cell_type": "code",
   "execution_count": null,
   "id": "22644aa9-d544-4970-9d5e-41597678e51f",
   "metadata": {},
   "outputs": [],
   "source": [
    "plt.imshow(lf.values[0, :, :])\n",
    "plt.scatter(100, 0, color='red', s=50, edgecolor='black')"
   ]
  },
  {
   "cell_type": "code",
   "execution_count": null,
   "id": "5d4a74b8-687e-4a7e-9ae4-da98b9aed3e4",
   "metadata": {},
   "outputs": [],
   "source": []
  },
  {
   "cell_type": "code",
   "execution_count": null,
   "id": "a1601357-fefd-400f-b92c-865a0c1da8e3",
   "metadata": {},
   "outputs": [],
   "source": []
  },
  {
   "cell_type": "code",
   "execution_count": null,
   "id": "1dcfe169-99af-414b-8aad-dffe7eb25be0",
   "metadata": {},
   "outputs": [],
   "source": []
  },
  {
   "cell_type": "code",
   "execution_count": null,
   "id": "b3c0df87-10b8-44d0-b9a4-1340ec79a2f6",
   "metadata": {},
   "outputs": [],
   "source": [
    "H = herbie.Herbie(\"2025-01-01\", product=\"prs\")\n",
    "ds = H.xarray(\"(?:HGT|LAND):surface\")\n",
    "ds"
   ]
  },
  {
   "cell_type": "code",
   "execution_count": null,
   "id": "5b22d962-133f-4fd6-8959-1f97e5a89380",
   "metadata": {},
   "outputs": [],
   "source": [
    "ds[\"orog\"] = ds.orog.where(ds.lsm > 0)"
   ]
  },
  {
   "cell_type": "code",
   "execution_count": null,
   "id": "074607a0-ad2d-4a16-843b-41d3694c981e",
   "metadata": {},
   "outputs": [],
   "source": []
  },
  {
   "cell_type": "code",
   "execution_count": null,
   "id": "25957795-41af-4078-a2aa-986512b5303c",
   "metadata": {},
   "outputs": [],
   "source": [
    "ds.orog.shape"
   ]
  },
  {
   "cell_type": "code",
   "execution_count": null,
   "id": "d661c114-77ba-492b-8c59-f6aa122cf6b2",
   "metadata": {},
   "outputs": [],
   "source": []
  },
  {
   "cell_type": "code",
   "execution_count": null,
   "id": "2c887668-248d-4c7c-a81d-6e7eb115a899",
   "metadata": {},
   "outputs": [],
   "source": [
    "ds['elev'] = lf.squeeze().sel(y=slice(None, None, -1))"
   ]
  },
  {
   "cell_type": "code",
   "execution_count": null,
   "id": "5e3d63dd-cefe-4e2c-bcdd-3d7b77c398a8",
   "metadata": {},
   "outputs": [],
   "source": [
    "plt.imshow(ds.orog, origin=\"lower\")"
   ]
  },
  {
   "cell_type": "code",
   "execution_count": null,
   "id": "d00902aa-e60d-4d14-af2e-3bac21c56b20",
   "metadata": {},
   "outputs": [],
   "source": [
    "plt.imshow(ds.elev, origin=\"lower\")"
   ]
  },
  {
   "cell_type": "code",
   "execution_count": null,
   "id": "9140eae8-e3c7-4ceb-b9e4-1c7f832adea8",
   "metadata": {},
   "outputs": [],
   "source": [
    "ds[\"elev\"] = ds.elev.where(ds.lsm > 0)"
   ]
  },
  {
   "cell_type": "code",
   "execution_count": null,
   "id": "4f5a60e5-150f-4086-9729-8f4d561030f9",
   "metadata": {},
   "outputs": [],
   "source": [
    "lf_missing = np.isnan(ds.elev) & ~np.isnan(ds.orog)\n",
    "yind, xind = np.where(lf_missing)"
   ]
  },
  {
   "cell_type": "code",
   "execution_count": null,
   "id": "e95964d7-c687-43fa-a85f-5f7b2ab3663c",
   "metadata": {},
   "outputs": [],
   "source": [
    "plt.imshow(ds.elev, origin=\"lower\")\n",
    "plt.scatter(xind, yind, color=\"red\", s=5)"
   ]
  },
  {
   "cell_type": "code",
   "execution_count": null,
   "id": "89bda849-6b7d-4bcf-8f36-5315a49e4986",
   "metadata": {},
   "outputs": [],
   "source": [
    "elev_valid = ds.elev.where(~lf_missing)\n",
    "orog_valid = ds.orog.where(~lf_missing)\n",
    "difference = elev_valid - orog_valid"
   ]
  },
  {
   "cell_type": "code",
   "execution_count": null,
   "id": "e4e656a1-ff70-4795-b38f-2669b6188282",
   "metadata": {},
   "outputs": [],
   "source": [
    "np.mean(difference)"
   ]
  },
  {
   "cell_type": "code",
   "execution_count": null,
   "id": "ec1d1726-cb66-4eba-b2bd-516605546f36",
   "metadata": {},
   "outputs": [],
   "source": [
    "np.min(difference)"
   ]
  },
  {
   "cell_type": "code",
   "execution_count": null,
   "id": "027f5b9a-40eb-4955-a10f-00f4d73f8383",
   "metadata": {},
   "outputs": [],
   "source": [
    "np.max(difference)"
   ]
  },
  {
   "cell_type": "code",
   "execution_count": null,
   "id": "845175ce-bbbf-4727-baf2-c8274ce8ce34",
   "metadata": {},
   "outputs": [],
   "source": [
    "# Coordinates for the scatter point\n",
    "min_diff_value = difference.min().values\n",
    "min_diff_coords = np.unravel_index(np.nanargmin(difference.values), difference.shape)\n",
    "\n",
    "# Coordinates for the scatter point\n",
    "y_min, x_min = min_diff_coords\n",
    "\n",
    "# Coordinates for the scatter point\n",
    "max_diff_value = difference.max().values\n",
    "max_diff_coords = np.unravel_index(np.nanargmax(difference.values), difference.shape)\n",
    "\n",
    "# Coordinates for the scatter point\n",
    "y_max, x_max = max_diff_coords"
   ]
  },
  {
   "cell_type": "code",
   "execution_count": null,
   "id": "8ff3633f-77ec-4ea4-ae1c-29da6deec528",
   "metadata": {},
   "outputs": [],
   "source": [
    "plt.imshow(ds.elev, origin=\"lower\")\n",
    "plt.scatter(xind, yind, color=\"red\", s=5, label=f\"Missing in LF\")\n",
    "plt.scatter(x_min, y_min, color=\"blue\", s=50, label=f\"Min Difference: {min_diff_value:.2f}\")\n",
    "plt.scatter(x_max, y_max, color=\"black\", s=50, label=f\"Max Difference: {max_diff_value:.2f}\")"
   ]
  },
  {
   "cell_type": "code",
   "execution_count": null,
   "id": "41f9825c-3cf4-44af-a336-fbfe56ced972",
   "metadata": {},
   "outputs": [],
   "source": []
  },
  {
   "cell_type": "code",
   "execution_count": null,
   "id": "27b1ac44-3c8e-477d-a762-af04f320787d",
   "metadata": {},
   "outputs": [],
   "source": []
  }
 ],
 "metadata": {
  "kernelspec": {
   "display_name": "Python 3 (ipykernel)",
   "language": "python",
   "name": "python3"
  },
  "language_info": {
   "codemirror_mode": {
    "name": "ipython",
    "version": 3
   },
   "file_extension": ".py",
   "mimetype": "text/x-python",
   "name": "python",
   "nbconvert_exporter": "python",
   "pygments_lexer": "ipython3",
   "version": "3.12.2"
  }
 },
 "nbformat": 4,
 "nbformat_minor": 5
}

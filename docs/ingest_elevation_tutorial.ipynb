{
 "cells": [
  {
   "cell_type": "markdown",
   "id": "24c2f748-e69f-450f-abf7-b9c8826f2024",
   "metadata": {},
   "source": [
    "# Elevation Data Ingest Tutorial"
   ]
  },
  {
   "cell_type": "markdown",
   "id": "0f531ca4-0e0a-4cfa-b508-3c0369b45fd4",
   "metadata": {},
   "source": [
    "In this project, elevation above sea level is utilized as a predictor of FMC. RAWS stations report a elevation that is used when constructing training data.\n",
    "\n",
    "For forecasting to arbitrary locations, we need elevation data. The HRRR weather model utilizes a geopotential height in it's modeling, but this may not be directly comparable to the elevation as reported by a RAWS station. In this project, we will utilize elevation data from [LandFire](https://landfire.gov/topographic/elevation), which utilizes 3D mapping from USGS. The elevation data is very high resolution; it has approximately 30m resolution and is contained in a file that is over 8gb. \n",
    "\n",
    "In this project we utilize the LandFire elevation data as follows:\n",
    "* Download the LandFire data for all of CONUS (this takes while)\n",
    "* Read in one HRRR grib file to get grid nodes and projection info\n",
    "* Reproject the HRRR file to the LandFire projection\n",
    "* Interpolate the LandFire elevation data to the location of the reprojected HRRR nodes\n",
    "* Save a local copy of this projected info and stage on OpenWFM Demo. This data corresponds to the LandFire elevation data interpolated to the HRRR grid nodes. This elevation will be used as a predictor for forecasting FMC at a given HRRR grid node\n",
    "\n",
    "This notebook demonstrates the process of downloading the LandFire elevation data and extracting points that correspond to the HRRR grid. This is a slow process that should only be run on project setup once. Additionally, the elevation data at HRRR grid nodes can be downloaded online, thus avoiding this time consuming process, but the code is included for reproducibility."
   ]
  },
  {
   "cell_type": "markdown",
   "id": "5ba8674a-9b33-4b6b-ae3f-3d1b0bdefcf7",
   "metadata": {},
   "source": [
    "*NOTE*: LandFire data too big for processing in memory in a jupyter notebook. TODO: use gdal command line. Reference: https://nsidc.org/data/user-resources/help-center/how-do-i-reproject-geotiff-polar-stereographic-geographic-latlon"
   ]
  },
  {
   "cell_type": "markdown",
   "id": "5b336ba7-b16f-4de8-bbe6-dc6befe50292",
   "metadata": {},
   "source": [
    "## Setup"
   ]
  },
  {
   "cell_type": "code",
   "execution_count": null,
   "id": "b91d9a63-4ef5-4d3f-a847-fe32b5a8e27f",
   "metadata": {},
   "outputs": [],
   "source": [
    "import zipfile\n",
    "import sys\n",
    "import os.path as osp\n",
    "import rioxarray as rxr\n",
    "sys.path.append(\"../src\")\n",
    "from utils import retrieve_url"
   ]
  },
  {
   "cell_type": "code",
   "execution_count": null,
   "id": "3e672b2a-5478-4e4c-8f22-184cd78e1ecc",
   "metadata": {},
   "outputs": [],
   "source": [
    "landfire_url = \"https://landfire.gov/data-downloads/US_Topo_2020/LF2020_Elev_220_CONUS.zip\"\n",
    "data_path = \"../data\"\n",
    "zipname = \"LF2020_Elev_220_CONUS.zip\"\n",
    "elev_path = osp.join(data_path, \"LF2020_Elev_220_CONUS\", \"Tif\", \"LC20_Elev_220.tif\")"
   ]
  },
  {
   "cell_type": "markdown",
   "id": "1ac6e22f-e032-4880-9a7b-ca1f1b5ad464",
   "metadata": {},
   "source": [
    "## Retrieve and Read"
   ]
  },
  {
   "cell_type": "code",
   "execution_count": null,
   "id": "785adf9a-3465-4f90-90ca-ef19ec4b173a",
   "metadata": {},
   "outputs": [],
   "source": [
    "retrieve_url(\n",
    "    url = landfire_url,\n",
    "    dest_path = osp.join(data_path, zipname)\n",
    ")\n",
    "\n",
    "if not osp.exists(elev_path):\n",
    "    print(\"Unzipping file\")\n",
    "    with zipfile.ZipFile(osp.join(data_path, filename), 'r') as zip_ref:\n",
    "        zip_ref.extractall(data_path)    "
   ]
  },
  {
   "cell_type": "code",
   "execution_count": null,
   "id": "11d1fef8-6bd9-4de8-82b6-c066ada2f11a",
   "metadata": {},
   "outputs": [],
   "source": [
    "ds = rxr.open_rasterio(elev_path)"
   ]
  },
  {
   "cell_type": "code",
   "execution_count": null,
   "id": "9d2302dd-9f8e-4d5b-ae7e-b4644245a3b2",
   "metadata": {},
   "outputs": [],
   "source": [
    "ds"
   ]
  },
  {
   "cell_type": "code",
   "execution_count": null,
   "id": "0630f5a4-24df-49a4-95c4-67dcbcd309f4",
   "metadata": {},
   "outputs": [],
   "source": [
    "ds.rio.crs"
   ]
  },
  {
   "cell_type": "code",
   "execution_count": null,
   "id": "23a8c80c-0d02-4d6d-9533-98dd99bfe92c",
   "metadata": {},
   "outputs": [],
   "source": []
  },
  {
   "cell_type": "code",
   "execution_count": null,
   "id": "06137842-f307-415b-ab07-725116fcd4d0",
   "metadata": {},
   "outputs": [],
   "source": [
    "import herbie"
   ]
  },
  {
   "cell_type": "code",
   "execution_count": null,
   "id": "6bb53616-d5bb-427a-83b3-4e47d758c764",
   "metadata": {},
   "outputs": [],
   "source": [
    "ds2 = herbie.Herbie(\"2024-12-01\", product=\"prs\").xarray(\"(?:HGT|LAND):surface\")"
   ]
  },
  {
   "cell_type": "code",
   "execution_count": null,
   "id": "18d9b11c-e3b8-4131-8126-97bd4afcbe59",
   "metadata": {},
   "outputs": [],
   "source": [
    "ds2.herbie.crs"
   ]
  },
  {
   "cell_type": "code",
   "execution_count": null,
   "id": "f9e41feb-cab9-4d25-8d50-84383d3ca3c9",
   "metadata": {},
   "outputs": [],
   "source": [
    "ds2"
   ]
  },
  {
   "cell_type": "code",
   "execution_count": null,
   "id": "c5c05bc2-c6ac-4d05-97d9-62ff43bbc375",
   "metadata": {},
   "outputs": [],
   "source": [
    "ds2.orog.max()"
   ]
  },
  {
   "cell_type": "code",
   "execution_count": null,
   "id": "9d9000c3-8715-454d-8af0-78051d2d5de4",
   "metadata": {},
   "outputs": [],
   "source": [
    "ds2.dims"
   ]
  },
  {
   "cell_type": "code",
   "execution_count": null,
   "id": "d45de581-12fb-4c6f-82a1-2345f3329e99",
   "metadata": {},
   "outputs": [],
   "source": [
    "ds2.coords"
   ]
  },
  {
   "cell_type": "code",
   "execution_count": null,
   "id": "754f1466-991c-4422-a068-e2e286d4d5ae",
   "metadata": {},
   "outputs": [],
   "source": [
    "## DOESNT Work below, from xarray example and ChatGPT\n",
    "# ds2 = ds2.rename({\"longitude\": \"x\", \"latitude\": \"y\"})\n",
    "# ds2_reprojected = ds2.rio.reproject(ds.rio.crs)\n",
    "# ds2_reprojected = ds2.rio.reproject(\"EPSG:5070\")"
   ]
  },
  {
   "cell_type": "code",
   "execution_count": null,
   "id": "a8cf154b-3b3a-4aa5-aa9f-bd478556a35f",
   "metadata": {},
   "outputs": [],
   "source": [
    "H = herbie.Herbie(\"2024-12-01\", product=\"prs\")"
   ]
  },
  {
   "cell_type": "code",
   "execution_count": null,
   "id": "dd5b42b9-c816-438c-ba0d-79c909c0e8b8",
   "metadata": {
    "scrolled": true
   },
   "outputs": [],
   "source": [
    "path = H.download(\"(?:HGT|LAND):surface\")"
   ]
  },
  {
   "cell_type": "code",
   "execution_count": null,
   "id": "67a4fff3-fe39-428c-a9ed-35422381b7de",
   "metadata": {},
   "outputs": [],
   "source": [
    "print(path)"
   ]
  },
  {
   "cell_type": "code",
   "execution_count": null,
   "id": "31fe0e74-bb0e-453b-978c-67e4a0b5de30",
   "metadata": {},
   "outputs": [],
   "source": [
    "ds3 = rxr.open_rasterio(path, engine=\"cfgrib\")"
   ]
  },
  {
   "cell_type": "code",
   "execution_count": null,
   "id": "499d85f3-04fe-4c51-aa85-4783803d96ea",
   "metadata": {},
   "outputs": [],
   "source": [
    "ds3"
   ]
  },
  {
   "cell_type": "code",
   "execution_count": null,
   "id": "3dfdbac9-cff6-4f24-b838-cf5914c31c6e",
   "metadata": {},
   "outputs": [],
   "source": [
    "ds3_reprojected = ds3.rio.reproject(ds.rio.crs)"
   ]
  },
  {
   "cell_type": "code",
   "execution_count": null,
   "id": "b91a5bac-f7e2-49f9-9b01-388cc8d3d15f",
   "metadata": {},
   "outputs": [],
   "source": [
    "ds3"
   ]
  },
  {
   "cell_type": "code",
   "execution_count": null,
   "id": "93f7aa3e-6b1b-4386-adf4-a2819bfdfd55",
   "metadata": {},
   "outputs": [],
   "source": [
    "ds3_reprojected"
   ]
  },
  {
   "cell_type": "code",
   "execution_count": null,
   "id": "17baf241-e436-4365-8c96-531f95a543f8",
   "metadata": {},
   "outputs": [],
   "source": [
    "## KILLS the kernel\n",
    "# ds3_reprojected['interpolated_values'] = ds.interp(\n",
    "#     x=ds3_reprojected['x'],\n",
    "#     y=ds3_reprojected['y'],\n",
    "#     method=\"nearest\" \n",
    "# )"
   ]
  },
  {
   "cell_type": "code",
   "execution_count": null,
   "id": "2efe3381-6f26-483d-9c58-98c35cd109f6",
   "metadata": {},
   "outputs": [],
   "source": []
  },
  {
   "cell_type": "code",
   "execution_count": null,
   "id": "346e7eaf-d03a-4caf-b249-2b00bc7eb36e",
   "metadata": {},
   "outputs": [],
   "source": []
  },
  {
   "cell_type": "code",
   "execution_count": null,
   "id": "17705e62-3a48-4109-9e62-2fe7b62ecd09",
   "metadata": {},
   "outputs": [],
   "source": []
  }
 ],
 "metadata": {
  "kernelspec": {
   "display_name": "Python 3 (ipykernel)",
   "language": "python",
   "name": "python3"
  },
  "language_info": {
   "codemirror_mode": {
    "name": "ipython",
    "version": 3
   },
   "file_extension": ".py",
   "mimetype": "text/x-python",
   "name": "python",
   "nbconvert_exporter": "python",
   "pygments_lexer": "ipython3",
   "version": "3.12.9"
  }
 },
 "nbformat": 4,
 "nbformat_minor": 5
}

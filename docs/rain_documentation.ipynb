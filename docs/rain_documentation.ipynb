{
 "cells": [
  {
   "cell_type": "markdown",
   "id": "4c5a9dee-93ed-4922-9b2c-99e92e546883",
   "metadata": {},
   "source": [
    "# Rainfall Documentation\n",
    "\n",
    "This notebook is meant to organize materials related to using rainfall as a predictor. There are several conceptual and computationa challenges to using rain."
   ]
  },
  {
   "cell_type": "markdown",
   "id": "529b1704-e43b-45f1-b037-535912c5553d",
   "metadata": {},
   "source": [
    "## Units\n",
    "\n",
    "RAWS utilize rainfall capture buckets that measure hourly rainfall in millimeters (LINK RAWS RAIN BUCKET). A first difference, or a lag-1 difference, will therefore convert this to units of $mm/hr$. The HRRR acumulated precipitation is in units of $kg/m^{2}$. The difference between the f02 and f03 forecast hours is calculated to get the accumulated rainfall over an hour, so we take the difference of two $kg/m^2$ to get the accumulated rainfall in 1 hour."
   ]
  },
  {
   "cell_type": "markdown",
   "id": "fb211334-5959-4b21-9bef-5792de913446",
   "metadata": {},
   "source": [
    "The density of water is roughly 1,000 $kg/m^3$. This varies slightly by temperature, but we will assume it is constant at that value. Suppose we spread 1 $kg$ of water over an area of 1 $m^2$. The resulting water would be 1 $mm$ deep, since:\n",
    "\n",
    "$$\n",
    "1\\frac{kg}{m^2}\\cdot \\frac{m^3}{1,000 kg} = \\frac{1}{1,000} m = 1 mm\n",
    "$$\n",
    "\n",
    "Thus, the HRRR accumulated precipitation over 1 hour in units of $kg/m^2$ can be directly interpreted as rainfall in $mm/hr$"
   ]
  },
  {
   "cell_type": "code",
   "execution_count": null,
   "id": "64cf26ac-4096-4b86-8d63-2fbf189790a1",
   "metadata": {},
   "outputs": [],
   "source": []
  },
  {
   "cell_type": "code",
   "execution_count": null,
   "id": "e7eec25b-51c0-4dd2-b8bf-b80dd64ed512",
   "metadata": {},
   "outputs": [],
   "source": []
  }
 ],
 "metadata": {
  "kernelspec": {
   "display_name": "Python 3 (ipykernel)",
   "language": "python",
   "name": "python3"
  },
  "language_info": {
   "codemirror_mode": {
    "name": "ipython",
    "version": 3
   },
   "file_extension": ".py",
   "mimetype": "text/x-python",
   "name": "python",
   "nbconvert_exporter": "python",
   "pygments_lexer": "ipython3",
   "version": "3.12.2"
  }
 },
 "nbformat": 4,
 "nbformat_minor": 5
}

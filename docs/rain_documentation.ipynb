{
 "cells": [
  {
   "cell_type": "markdown",
   "id": "4c5a9dee-93ed-4922-9b2c-99e92e546883",
   "metadata": {},
   "source": [
    "# Rainfall Documentation\n",
    "\n",
    "This notebook is meant to organize materials related to using rainfall as a predictor. There are several conceptual and computationa challenges to using rain."
   ]
  },
  {
   "cell_type": "markdown",
   "id": "5eda5559-dabd-4131-9755-2a36e0a669db",
   "metadata": {},
   "source": [
    "## Setup"
   ]
  },
  {
   "cell_type": "code",
   "execution_count": 1,
   "id": "140b0d03-15f6-4305-9adf-840b02f250ef",
   "metadata": {},
   "outputs": [],
   "source": [
    "from herbie import Herbie\n",
    "import numpy as np\n",
    "from datetime import datetime"
   ]
  },
  {
   "cell_type": "markdown",
   "id": "5fbb1791-833e-4d74-89dc-d0f0eb895711",
   "metadata": {},
   "source": [
    "## Derivation of Hourly Rainfall\n",
    "\n",
    "RAWS utilize rainfall capture buckets that measure hourly rainfall in millimeters (LINK RAWS RAIN BUCKET). A first difference, or a lag-1 difference, will therefore convert this to units of $mm/hr$. \n",
    "\n",
    "The HRRR acumulated precipitation is in units of $kg/m^{2}$. The difference between the f02 and f03 forecast hours is calculated to get the accumulated rainfall over an hour, so we take the difference of two $kg/m^2$ to get the accumulated rainfall in 1 hour. The `Herbie` package provides accumulated precipitation between forecast hour periods, so that data is used within this project."
   ]
  },
  {
   "cell_type": "markdown",
   "id": "97aa3b72-6532-4fef-92a3-f7ac6ba4b670",
   "metadata": {},
   "source": [
    "### Herbie Demonstration"
   ]
  },
  {
   "cell_type": "code",
   "execution_count": 2,
   "id": "662fb85e-b2fd-4dbc-9e77-d4d5c6a81cab",
   "metadata": {},
   "outputs": [
    {
     "name": "stdout",
     "output_type": "stream",
     "text": [
      "✅ Found ┊ model=hrrr ┊ \u001b[3mproduct=prs\u001b[0m ┊ \u001b[38;2;41;130;13m2024-Dec-17 12:00 UTC\u001b[92m F03\u001b[0m ┊ \u001b[38;2;255;153;0m\u001b[3mGRIB2 @ aws\u001b[0m ┊ \u001b[38;2;255;153;0m\u001b[3mIDX @ aws\u001b[0m\n"
     ]
    }
   ],
   "source": [
    "H = Herbie(\n",
    "    \"2024-12-17 12:00\", \n",
    "    model=\"hrrr\", \n",
    "    product=\"prs\",\n",
    "    fxx=3\n",
    ")"
   ]
  },
  {
   "cell_type": "code",
   "execution_count": null,
   "id": "d5b4e706-55e4-41de-89d2-d127f09fd0d8",
   "metadata": {},
   "outputs": [],
   "source": [
    "ds = H.xarray(\":APCP:surface:2-3 hour acc\")\n",
    "ds3 = H.xarray(\":APCP:surface:0-3 hour acc\")"
   ]
  },
  {
   "cell_type": "code",
   "execution_count": null,
   "id": "19f86745-fb43-4732-9e38-0a01584aedee",
   "metadata": {},
   "outputs": [],
   "source": [
    "H2 = Herbie(\n",
    "    \"2024-12-17 12:00\", \n",
    "    model=\"hrrr\", \n",
    "    product=\"prs\",\n",
    "    fxx=2\n",
    ")\n",
    "ds2 = H2.xarray(\":APCP:surface:0-2 hour acc\")"
   ]
  },
  {
   "cell_type": "code",
   "execution_count": null,
   "id": "19e4a65f-b2ec-471d-b460-0c1fdec39822",
   "metadata": {},
   "outputs": [],
   "source": [
    "f03 = ds3.tp - ds2.tp"
   ]
  },
  {
   "cell_type": "code",
   "execution_count": null,
   "id": "0a638010-1ac2-4c3c-9831-cfe3025b2b5b",
   "metadata": {},
   "outputs": [],
   "source": [
    "np.mean(f03 == ds.tp).values"
   ]
  },
  {
   "cell_type": "code",
   "execution_count": null,
   "id": "0b02fea3-0aa5-4b2a-ba5a-12759c9f7f84",
   "metadata": {},
   "outputs": [],
   "source": [
    "np.max(np.abs(f03-ds.tp)).values"
   ]
  },
  {
   "cell_type": "markdown",
   "id": "529b1704-e43b-45f1-b037-535912c5553d",
   "metadata": {},
   "source": [
    "## Units"
   ]
  },
  {
   "cell_type": "markdown",
   "id": "fb211334-5959-4b21-9bef-5792de913446",
   "metadata": {},
   "source": [
    "The density of water is roughly 1,000 $kg/m^3$. This varies slightly by temperature, but we will assume it is constant at that value. Suppose we spread 1 $kg$ of water over an area of 1 $m^2$. The resulting water would be 1 $mm$ deep, since:\n",
    "\n",
    "$$\n",
    "1\\frac{kg}{m^2}\\cdot \\frac{m^3}{1,000 kg} = \\frac{1}{1,000} m = 1 mm\n",
    "$$\n",
    "\n",
    "Thus, the HRRR accumulated precipitation over 1 hour in units of $kg/m^2$ can be directly interpreted as rainfall in $mm/hr$"
   ]
  },
  {
   "cell_type": "code",
   "execution_count": null,
   "id": "64cf26ac-4096-4b86-8d63-2fbf189790a1",
   "metadata": {},
   "outputs": [],
   "source": []
  },
  {
   "cell_type": "code",
   "execution_count": null,
   "id": "e7eec25b-51c0-4dd2-b8bf-b80dd64ed512",
   "metadata": {},
   "outputs": [],
   "source": []
  }
 ],
 "metadata": {
  "kernelspec": {
   "display_name": "Python 3 (ipykernel)",
   "language": "python",
   "name": "python3"
  },
  "language_info": {
   "codemirror_mode": {
    "name": "ipython",
    "version": 3
   },
   "file_extension": ".py",
   "mimetype": "text/x-python",
   "name": "python",
   "nbconvert_exporter": "python",
   "pygments_lexer": "ipython3",
   "version": "3.12.2"
  }
 },
 "nbformat": 4,
 "nbformat_minor": 5
}

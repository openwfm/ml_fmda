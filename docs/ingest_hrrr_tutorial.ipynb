{
 "cells": [
  {
   "cell_type": "markdown",
   "id": "f1f4cc18-d23f-48ea-84dc-b0328a65e8e5",
   "metadata": {},
   "source": [
    "# Data Ingest of HRRR weather model data\n",
    "\n",
    "Retrieval of 10-h FMC observations is done with the software package `Herbie`. "
   ]
  },
  {
   "cell_type": "markdown",
   "id": "9721c0f9-709d-4bfe-91f1-914c5a034af1",
   "metadata": {},
   "source": [
    "A configuration file is used to control data ingest. For automated processes, the code will look for a json configuration file depending on the use case: \n",
    "\n",
    "* For building training data, `../etc/training_data_config.json`\n",
    "* For deploying the model on a grid, `../etc/forecast_config.json`\n",
    "\n",
    "For a complete set of predictors that could be useful for FMC modeling, and for compatibility with other areas of `wrfxpy`, we use the 3D pressure model from HRRR. Additionally, since we require rainfall for modeling, we utilize the 3-hour forecast from HRRR and use the difference in accumulated precipitation from the 2 to 3 hour forecasts.\n",
    "\n",
    "A module `retrieve_hrrr_api.py` has functions and other metadata for directing data ingest. A list of predictors will be provided in order to control the data downloading. Some of these predictors are derived features, such as equilibrium moisture content which is calculated from relative humidity and air temperature. Within the module, there are some hard-coded objects that have metadata related to this."
   ]
  },
  {
   "cell_type": "markdown",
   "id": "8519a528-b973-46a7-a532-3e15864dd704",
   "metadata": {},
   "source": [
    "## References\n",
    "\n",
    "For more info on HRRR data bands and definitions, see [HRRR inventory](https://www.nco.ncep.noaa.gov/pmb/products/hrrr/hrrr.t00z.wrfprsf02.grib2.shtml) for pressure model f02-f38 forecast hours.\n",
    "\n",
    "For more info on python package, see Brian Blaylock's `Herbie` [python package](https://github.com/blaylockbk/Herbie)"
   ]
  },
  {
   "cell_type": "markdown",
   "id": "84ed774d-7bef-48e7-b9a6-8f4ba4e17d81",
   "metadata": {},
   "source": [
    "## Setup\n",
    "\n",
    "User definitions, these will come from config files in other areas of this project."
   ]
  },
  {
   "cell_type": "code",
   "execution_count": null,
   "id": "509b32fd-9d6b-4582-b724-4d2a094a6832",
   "metadata": {},
   "outputs": [],
   "source": [
    "import matplotlib.pyplot as plt\n",
    "import herbie\n",
    "from herbie import FastHerbie\n",
    "from datetime import datetime\n",
    "import sys\n",
    "import pandas as pd\n",
    "import numpy as np\n",
    "sys.path.append(\"../src\")\n",
    "import ingest.retrieve_hrrr_api as ih"
   ]
  },
  {
   "cell_type": "code",
   "execution_count": null,
   "id": "46cfdc1d-f498-4404-9a00-c7c9f30931fa",
   "metadata": {},
   "outputs": [],
   "source": [
    "bbox = [40, -105, 45, -100]\n",
    "start = datetime(2024, 6, 1, 0)\n",
    "end = datetime(2024, 6, 1, 5)\n",
    "forecast_step = 3 # Do not change for now, code depends on it\n",
    "features_list = ['Ed', 'Ew', 'rain', 'wind', 'solar', 'elev', 'lat', 'lon']\n",
    "\n",
    "print(f\"Start Date of retrieval: {start}\")\n",
    "print(f\"End Date of retrieval: {end}\")\n",
    "print(f\"Spatial Domain: {bbox}\")\n",
    "print(f\"Required Features: {features_list}\")"
   ]
  },
  {
   "cell_type": "code",
   "execution_count": null,
   "id": "4623951c-9a77-45dc-870d-76b9e2ab2948",
   "metadata": {},
   "outputs": [],
   "source": [
    "# Create a range of dates\n",
    "dates = pd.date_range(\n",
    "    start = start,\n",
    "    end = end,\n",
    "    freq=\"1h\"\n",
    ")"
   ]
  },
  {
   "cell_type": "code",
   "execution_count": null,
   "id": "2f43a358-6a25-450a-ae98-202308469818",
   "metadata": {},
   "outputs": [],
   "source": [
    "ih.feature_df"
   ]
  },
  {
   "cell_type": "markdown",
   "id": "6991cec8-bc96-42b9-868d-584f56abcb43",
   "metadata": {},
   "source": [
    "### Read Data\n",
    "\n",
    "This function from `herbie` sets up a connection to read, but only what is requested later will be downloaded."
   ]
  },
  {
   "cell_type": "code",
   "execution_count": null,
   "id": "764ad005-cbf4-4e90-b857-072288fea936",
   "metadata": {},
   "outputs": [],
   "source": [
    "FH = FastHerbie(\n",
    "    dates, \n",
    "    model=\"hrrr\", \n",
    "    product=\"prs\",\n",
    "    fxx=range(3, 4)\n",
    ")"
   ]
  },
  {
   "cell_type": "code",
   "execution_count": null,
   "id": "240bdab6-4968-4b93-acab-bc9aab133b6b",
   "metadata": {},
   "outputs": [],
   "source": [
    "inv = FH.inventory()\n",
    "inv"
   ]
  },
  {
   "cell_type": "code",
   "execution_count": null,
   "id": "14e0744e-2bb0-471c-b7ad-5b635725ff2d",
   "metadata": {},
   "outputs": [],
   "source": [
    "inv[(inv.variable == \"APCP\")]"
   ]
  },
  {
   "cell_type": "code",
   "execution_count": null,
   "id": "5b119765-8176-43f1-8710-2cdb9607797a",
   "metadata": {},
   "outputs": [],
   "source": [
    "name_df_hrrr = pd.DataFrame({\n",
    "    'band_prs': [616, 620, 624, 629, 661, (561, 563, 565, 567, 569, 571, 573, 575, 577), (560, 562, 564, 566, 568, 570, 572, 574, 576), 612, 643, 610, 615, 613, 607, 639, 640],\n",
    "    'hrrr_name': ['TMP', 'RH', \"WIND\", 'APCP',\n",
    "                  'DSWRF', 'SOILW', \"TSOIL\", 'CNWAT', 'GFLUX', \"ASNOW\", \"SNOD\", \"WEASD\", \"PRES\", \"SFCR\", \"FRICV\"],\n",
    "    'herbie_str': [\"TMP:2 m\", \"RH:2 m\", \"WIND:10 m\", \":APCP:surface:2-3 hour acc\", \"DSWRF:surface\", \":SOILW:\", \n",
    "                   \":TSOIL:\", \"CNWAT:surface\", \"GFLUX:surface\", \"ASNOW:surface\", \":SNOD:surface:3 hour fcst\", \":WEASD:surface:2-3 hour acc\", \n",
    "                   \":PRES:surface:3 hour fcst\", \":SFCR:surface:3 hour fcst\", \":FRICV:surface:3 hour fcst\t\"],\n",
    "    'xarray_name': [\"t2m\", \"r2\", \"si10\", \"tp\", \"dswrf\", \"soilw\", \"tsoil\", \"cnwat\", \"gflux\", \"unknown\", \"sde\", \"sdwe\", \"sp\", \"fsr\", \"fricv\"],\n",
    "    'fmda_name': [\"temp\", \"rh\", \"wind\", \"precip_accum\",\n",
    "                 \"solar\", \"soilm\", \"soilt\", \"canopyw\", \"groundflux\", \"asnow\", \"snod\", \"weasd\", \"pres\", \"rough\", \"fricv\"],\n",
    "    'descr': ['2m Temperature [K]', \n",
    "              '2m Relative Humidity [%]', \n",
    "              '10m Wind Speed [m/s]',\n",
    "              'surface Total Precipitation [kg/m^2]',\n",
    "              'surface Downward Short-Wave Radiation Flux [W/m^2]',\n",
    "              'Volumetric Soil Moisture Content [Fraction]',\n",
    "              'Soil Temperature [K]',\n",
    "              'Plant Canopy Surface Water [kg/m^2]',\n",
    "              'surface Ground Heat Flux [W/m^2]',\n",
    "              'Total Snowfall [m]',\n",
    "              'Snow Depth [m]',\n",
    "              'Water Equivalent of Accumulated Snow Depth [kg/m^2]',\n",
    "              'Surface air pressure [Pa]',\n",
    "              'Surface Roughness [m]',\n",
    "              'Frictional Velocity [m/s]'\n",
    "             ],\n",
    "    'notes': [\"\", \"\", \"\", \"\", \"\", \"9 different depths, from 0-3m below ground\", \"9 different depths, from 0-3m below ground\", \"\", \"\", \"0-3 hr accumulated\", \"\", \n",
    "              \"0-3 hr accumulated, listed as `deprecated` in gribs\", \"\", \"\", \"\"]\n",
    "})\n",
    "name_df_hrrr"
   ]
  },
  {
   "cell_type": "code",
   "execution_count": null,
   "id": "d67adb1b-bf02-426c-b4a8-e6ab2fabb07b",
   "metadata": {},
   "outputs": [],
   "source": [
    "ds = FH.xarray(\":APCP:surface:2-3 hour acc\")"
   ]
  },
  {
   "cell_type": "code",
   "execution_count": null,
   "id": "489c9cf5-ca22-46d1-b1e1-a859fa12fd82",
   "metadata": {},
   "outputs": [],
   "source": []
  },
  {
   "cell_type": "code",
   "execution_count": null,
   "id": "bcfabd22-7a69-409c-908c-1ab76c95324c",
   "metadata": {},
   "outputs": [],
   "source": [
    "ds"
   ]
  },
  {
   "cell_type": "code",
   "execution_count": null,
   "id": "45ae726e-b943-4c58-9066-ab7ff37a1edc",
   "metadata": {},
   "outputs": [],
   "source": [
    "ds.tp.max()"
   ]
  },
  {
   "cell_type": "code",
   "execution_count": null,
   "id": "273cc1a0-b304-4793-913e-777432ccf6fa",
   "metadata": {},
   "outputs": [],
   "source": [
    "from utils import hash_ndarray"
   ]
  },
  {
   "cell_type": "code",
   "execution_count": null,
   "id": "e77bb3f4-7258-4462-aa0d-b4b97b98d6b5",
   "metadata": {},
   "outputs": [],
   "source": [
    "hash_ndarray(ds.tp.values)"
   ]
  },
  {
   "cell_type": "code",
   "execution_count": null,
   "id": "fcf1de26-ea37-4b3c-aa74-bd1379ae25be",
   "metadata": {},
   "outputs": [],
   "source": [
    "ds.tp.max()"
   ]
  },
  {
   "cell_type": "code",
   "execution_count": null,
   "id": "83003f9a-3ad2-46bc-9f59-020cd3fbc532",
   "metadata": {},
   "outputs": [],
   "source": [
    "ds.tp.min()"
   ]
  },
  {
   "cell_type": "code",
   "execution_count": null,
   "id": "553bd137-dac7-4239-b863-3a6dcf126a7d",
   "metadata": {},
   "outputs": [],
   "source": []
  },
  {
   "cell_type": "code",
   "execution_count": null,
   "id": "69f034c7-06bb-48a5-838d-1541e98ad5b8",
   "metadata": {},
   "outputs": [],
   "source": []
  },
  {
   "cell_type": "code",
   "execution_count": null,
   "id": "7a8a912a-7b0f-4e6e-ac51-392c5c835d3d",
   "metadata": {},
   "outputs": [],
   "source": []
  },
  {
   "cell_type": "code",
   "execution_count": null,
   "id": "be290e4b-684c-48d8-931d-7716471ff7ee",
   "metadata": {},
   "outputs": [],
   "source": []
  },
  {
   "cell_type": "code",
   "execution_count": null,
   "id": "6901c78a-8f6f-4af7-8fbe-e0e15dea0b6c",
   "metadata": {},
   "outputs": [],
   "source": []
  }
 ],
 "metadata": {
  "kernelspec": {
   "display_name": "Python 3 (ipykernel)",
   "language": "python",
   "name": "python3"
  },
  "language_info": {
   "codemirror_mode": {
    "name": "ipython",
    "version": 3
   },
   "file_extension": ".py",
   "mimetype": "text/x-python",
   "name": "python",
   "nbconvert_exporter": "python",
   "pygments_lexer": "ipython3",
   "version": "3.12.2"
  }
 },
 "nbformat": 4,
 "nbformat_minor": 5
}

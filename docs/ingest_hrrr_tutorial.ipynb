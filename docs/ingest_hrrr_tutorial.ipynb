{
 "cells": [
  {
   "cell_type": "markdown",
   "id": "f1f4cc18-d23f-48ea-84dc-b0328a65e8e5",
   "metadata": {},
   "source": [
    "# Data Ingest of HRRR weather model data\n",
    "\n",
    "Retrieval of 10-h FMC observations is done with the software package `Herbie`. \n",
    "\n",
    "For more info, see Brian Blaylock's `Herbie` [python package](https://github.com/blaylockbk/Herbie)"
   ]
  },
  {
   "cell_type": "markdown",
   "id": "84ed774d-7bef-48e7-b9a6-8f4ba4e17d81",
   "metadata": {},
   "source": [
    "## Setup"
   ]
  },
  {
   "cell_type": "code",
   "execution_count": null,
   "id": "509b32fd-9d6b-4582-b724-4d2a094a6832",
   "metadata": {},
   "outputs": [],
   "source": [
    "import matplotlib.pyplot as plt\n",
    "import herbie\n",
    "from herbie import FastHerbie\n",
    "from datetime import datetime\n",
    "import sys\n",
    "import pandas as pd\n",
    "import numpy as np\n",
    "sys.path.append(\"../src\")\n",
    "from ingest.hrrr_funcs import int2fstep"
   ]
  },
  {
   "cell_type": "markdown",
   "id": "9721c0f9-709d-4bfe-91f1-914c5a034af1",
   "metadata": {},
   "source": [
    "A configuration file is used to control data ingest. For automated processes, the code will look for a json configuration file depending on the use case: \n",
    "\n",
    "* For building training data, `../etc/training_data_config.json`\n",
    "* For deploying the model on a grid, `../etc/forecast_config.json`"
   ]
  },
  {
   "cell_type": "code",
   "execution_count": null,
   "id": "46cfdc1d-f498-4404-9a00-c7c9f30931fa",
   "metadata": {},
   "outputs": [],
   "source": [
    "bbox = [40, -105, 45, -100]\n",
    "start = datetime(2024, 6, 1, 0)\n",
    "end = datetime(2024, 6, 1, 5)\n",
    "forecast_step = 3 # Do not change for now, code depends on it"
   ]
  },
  {
   "cell_type": "code",
   "execution_count": null,
   "id": "4623951c-9a77-45dc-870d-76b9e2ab2948",
   "metadata": {},
   "outputs": [],
   "source": [
    "# Create a range of dates\n",
    "dates = pd.date_range(\n",
    "    start = start,\n",
    "    end = end,\n",
    "    freq=\"1h\"\n",
    ")"
   ]
  },
  {
   "cell_type": "code",
   "execution_count": null,
   "id": "764ad005-cbf4-4e90-b857-072288fea936",
   "metadata": {},
   "outputs": [],
   "source": [
    "FH = FastHerbie(\n",
    "    dates, \n",
    "    model=\"hrrr\", \n",
    "    product=\"prs\",\n",
    "    fxx=range(3, 4)\n",
    ")"
   ]
  },
  {
   "cell_type": "code",
   "execution_count": null,
   "id": "159deb9a-2a3d-466d-9b82-21e65156f01c",
   "metadata": {},
   "outputs": [],
   "source": [
    "feats = ['Ed', 'Ew', 'rain', 'wind', 'solar', 'elev', 'lat', 'lon']"
   ]
  },
  {
   "cell_type": "code",
   "execution_count": null,
   "id": "240bdab6-4968-4b93-acab-bc9aab133b6b",
   "metadata": {},
   "outputs": [],
   "source": [
    "inv = FH.inventory()\n",
    "inv"
   ]
  },
  {
   "cell_type": "code",
   "execution_count": null,
   "id": "14e0744e-2bb0-471c-b7ad-5b635725ff2d",
   "metadata": {},
   "outputs": [],
   "source": [
    "inv[(inv.variable == \"FRICV\") &  (inv.reference_time == \"2024-06-01 00:00:00\")]"
   ]
  },
  {
   "cell_type": "code",
   "execution_count": null,
   "id": "5b119765-8176-43f1-8710-2cdb9607797a",
   "metadata": {},
   "outputs": [],
   "source": [
    "band_df_hrrr = pd.DataFrame({\n",
    "    'band_prs': [616, 620, 624, 629, 661, (561, 563, 565, 567, 569, 571, 573, 575, 577), (560, 562, 564, 566, 568, 570, 572, 574, 576), 612, 643, 610, 615, 613, 607, 639, 640],\n",
    "    'hrrr_name': ['TMP', 'RH', \"WIND\", 'APCP',\n",
    "                  'DSWRF', 'SOILW', \"TSOIL\", 'CNWAT', 'GFLUX', \"ASNOW\", \"SNOD\", \"WEASD\", \"PRES\", \"SFCR\", \"FRICV\"],\n",
    "    'herbie_str': [\"TMP:2 m\", \"RH:2 m\", \"WIND:10 m\", \":APCP:surface:2-3 hour acc\", \"DSWRF:surface\", \":SOILW:\", \n",
    "                   \":TSOIL:\", \"CNWAT:surface\", \"GFLUX:surface\", \"ASNOW:surface\", \":SNOD:surface:3 hour fcst\", \":WEASD:surface:2-3 hour acc\", \n",
    "                   \":PRES:surface:3 hour fcst\", \":SFCR:surface:3 hour fcst\", \":FRICV:surface:3 hour fcst\t\"],\n",
    "    'xarray_name': [\"t2m\", \"r2\", \"si10\", \"tp\", \"dswrf\", \"soilw\", \"tsoil\", \"cnwat\", \"gflux\", \"unknown\", \"sde\", \"sdwe\", \"sp\", \"fsr\", \"fricv\"],\n",
    "    'dict_name': [\"temp\", \"rh\", \"wind\", \"precip_accum\",\n",
    "                 \"solar\", \"soilm\", \"tsoil\", \"canopyw\", \"groundflux\", \"asnow\", \"snod\", \"weasd\", \"pres\", \"rough\", \"fricv\"],\n",
    "    'descr': ['2m Temperature [K]', \n",
    "              '2m Relative Humidity [%]', \n",
    "              '10m Wind Speed [m/s]',\n",
    "              'surface Total Precipitation [kg/m^2]',\n",
    "              'surface Downward Short-Wave Radiation Flux [W/m^2]',\n",
    "              'Volumetric Soil Moisture Content [Fraction]',\n",
    "              'Soil Temperature [K]',\n",
    "              'Plant Canopy Surface Water [kg/m^2]',\n",
    "              'surface Ground Heat Flux [W/m^2]',\n",
    "              'Total Snowfall [m]',\n",
    "              'Snow Depth [m]',\n",
    "              'Water Equivalent of Accumulated Snow Depth [kg/m^2]',\n",
    "              'Surface air pressure [Pa]',\n",
    "              'Surface Roughness [m]',\n",
    "              'Frictional Velocity [m/s]'\n",
    "             ],\n",
    "    'notes': [\"\", \"\", \"\", \"\", \"\", \"9 different depths, from 0-3m below ground\", \"9 different depths, from 0-3m below ground\", \"\", \"\", \"0-3 hr accumulated\", \"\", \n",
    "              \"0-3 hr accumulated, listed as `deprecated` in gribs\", \"\", \"\", \"\"]\n",
    "})\n",
    "band_df_hrrr"
   ]
  },
  {
   "cell_type": "code",
   "execution_count": null,
   "id": "d67adb1b-bf02-426c-b4a8-e6ab2fabb07b",
   "metadata": {},
   "outputs": [],
   "source": [
    "ds = FH.xarray(\":FRICV:surface:3 hour fcst\")"
   ]
  },
  {
   "cell_type": "code",
   "execution_count": null,
   "id": "489c9cf5-ca22-46d1-b1e1-a859fa12fd82",
   "metadata": {},
   "outputs": [],
   "source": []
  },
  {
   "cell_type": "code",
   "execution_count": null,
   "id": "bcfabd22-7a69-409c-908c-1ab76c95324c",
   "metadata": {},
   "outputs": [],
   "source": [
    "ds"
   ]
  },
  {
   "cell_type": "code",
   "execution_count": null,
   "id": "e77bb3f4-7258-4462-aa0d-b4b97b98d6b5",
   "metadata": {},
   "outputs": [],
   "source": []
  },
  {
   "cell_type": "code",
   "execution_count": null,
   "id": "fedd75a7-ca70-458d-a041-bde24f3b8e5c",
   "metadata": {},
   "outputs": [],
   "source": []
  },
  {
   "cell_type": "code",
   "execution_count": null,
   "id": "7a8a912a-7b0f-4e6e-ac51-392c5c835d3d",
   "metadata": {},
   "outputs": [],
   "source": []
  },
  {
   "cell_type": "code",
   "execution_count": null,
   "id": "be290e4b-684c-48d8-931d-7716471ff7ee",
   "metadata": {},
   "outputs": [],
   "source": []
  },
  {
   "cell_type": "code",
   "execution_count": null,
   "id": "6901c78a-8f6f-4af7-8fbe-e0e15dea0b6c",
   "metadata": {},
   "outputs": [],
   "source": []
  }
 ],
 "metadata": {
  "kernelspec": {
   "display_name": "Python 3 (ipykernel)",
   "language": "python",
   "name": "python3"
  },
  "language_info": {
   "codemirror_mode": {
    "name": "ipython",
    "version": 3
   },
   "file_extension": ".py",
   "mimetype": "text/x-python",
   "name": "python",
   "nbconvert_exporter": "python",
   "pygments_lexer": "ipython3",
   "version": "3.12.2"
  }
 },
 "nbformat": 4,
 "nbformat_minor": 5
}

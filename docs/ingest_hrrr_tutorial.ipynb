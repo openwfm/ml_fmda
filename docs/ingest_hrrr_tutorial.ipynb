{
 "cells": [
  {
   "cell_type": "markdown",
   "id": "f1f4cc18-d23f-48ea-84dc-b0328a65e8e5",
   "metadata": {},
   "source": [
    "# Data Ingest of HRRR weather model data"
   ]
  },
  {
   "cell_type": "markdown",
   "id": "1321b093-c571-4527-a8c9-9c3f693fa489",
   "metadata": {},
   "source": [
    "### Intro"
   ]
  },
  {
   "cell_type": "markdown",
   "id": "b506874e-a533-45c8-aa7e-f0208e6769ef",
   "metadata": {},
   "source": [
    "Weather data predictors for the ML models of FMC are retrieved from the HRRR weather model in this project. The 3D pressure model product from HRRR is utilized, since it has a larger set of variables than other products and it is used internally in other areas of the `wrfxpy` project. Additionally, since we require rainfall for modeling, we utilize the 3-hour forecast from HRRR and use the difference in accumulated precipitation from the 2 to 3 hour forecasts.\n",
    "\n",
    "There are 2 main uses for the HRRR weather data:\n",
    "\n",
    "1. For constructing training data sets\n",
    "2. For forecasting with a trained model over a spatial domain\n",
    "\n",
    "This notebook will demonstrate reading and calculating a set of predictors derived from the HRRR model for a spatial bounding box."
   ]
  },
  {
   "cell_type": "markdown",
   "id": "15892801-55fb-43a5-a416-cb15bb3f25da",
   "metadata": {},
   "source": [
    "### Code"
   ]
  },
  {
   "cell_type": "markdown",
   "id": "9721c0f9-709d-4bfe-91f1-914c5a034af1",
   "metadata": {},
   "source": [
    "A configuration file is used to control data ingest. For automated processes, the code will look for a json configuration file depending on the use case: \n",
    "\n",
    "* For building training data, `../etc/training_data_config.json`\n",
    "* For deploying the model on a grid, `../etc/forecast_config.json`\n",
    "\n",
    "Retrieval of atmospheric weather predictors is done with the software package `Herbie`. A module `retrieve_hrrr_api.py` has functions and other metadata for directing data ingest. A list of predictors will be provided in order to control the data downloading. Some of these predictors are derived features, such as equilibrium moisture content which is calculated from relative humidity and air temperature. Within the module, there are some hard-coded objects that have metadata related to this, such as the regex formatted search strings used for each variable."
   ]
  },
  {
   "cell_type": "markdown",
   "id": "8519a528-b973-46a7-a532-3e15864dd704",
   "metadata": {},
   "source": [
    "## References\n",
    "\n",
    "For more info on HRRR data bands and definitions, see [HRRR inventory](https://www.nco.ncep.noaa.gov/pmb/products/hrrr/hrrr.t00z.wrfprsf02.grib2.shtml) for pressure model f02-f38 forecast hours.\n",
    "\n",
    "For more info on python package, see Brian Blaylock's `Herbie` [python package](https://github.com/blaylockbk/Herbie)"
   ]
  },
  {
   "cell_type": "markdown",
   "id": "84ed774d-7bef-48e7-b9a6-8f4ba4e17d81",
   "metadata": {},
   "source": [
    "## Setup\n",
    "\n",
    "User definitions, these will come from config files in other areas of this project."
   ]
  },
  {
   "cell_type": "code",
   "execution_count": null,
   "id": "509b32fd-9d6b-4582-b724-4d2a094a6832",
   "metadata": {},
   "outputs": [],
   "source": [
    "import matplotlib.pyplot as plt\n",
    "from herbie import paint, wgrib2, Herbie\n",
    "from herbie.toolbox import EasyMap, ccrs, pc\n",
    "import xarray as xr\n",
    "from herbie import FastHerbie\n",
    "from datetime import datetime\n",
    "import sys\n",
    "import pandas as pd\n",
    "import numpy as np\n",
    "sys.path.append(\"../src\")\n",
    "from utils import Dict, read_yml\n",
    "import ingest.retrieve_hrrr_api as ih"
   ]
  },
  {
   "cell_type": "code",
   "execution_count": null,
   "id": "46cfdc1d-f498-4404-9a00-c7c9f30931fa",
   "metadata": {},
   "outputs": [],
   "source": [
    "bbox = [40, -105, 45, -100]\n",
    "start = datetime(2024, 11, 1, 20)\n",
    "end = datetime(2024, 11, 2, 1)\n",
    "forecast_step = 3 # Do not change for now, code depends on it\n",
    "features_list = ['Ed', 'Ew', 'rain', 'wind', 'solar', 'elev', 'lat', 'lon']\n",
    "\n",
    "print(f\"Start Date of retrieval: {start}\")\n",
    "print(f\"End Date of retrieval: {end}\")\n",
    "print(f\"Spatial Domain: {bbox}\")\n",
    "print(f\"Required Features: {features_list}\")"
   ]
  },
  {
   "cell_type": "markdown",
   "id": "6991cec8-bc96-42b9-868d-584f56abcb43",
   "metadata": {},
   "source": [
    "### Read Data\n",
    "\n",
    "This function from `herbie` sets up a connection to read, but only what is requested later will be downloaded. Available data can be viewed with the `inventory()` method. *Note:* this will display a separate row for each time step requested."
   ]
  },
  {
   "cell_type": "code",
   "execution_count": null,
   "id": "4623951c-9a77-45dc-870d-76b9e2ab2948",
   "metadata": {},
   "outputs": [],
   "source": [
    "# Create a range of dates\n",
    "dates = pd.date_range(\n",
    "    start = start,\n",
    "    end = end,\n",
    "    freq=\"1h\"\n",
    ")"
   ]
  },
  {
   "cell_type": "code",
   "execution_count": null,
   "id": "3333b018-f468-472a-b37f-acb3929322c4",
   "metadata": {},
   "outputs": [],
   "source": [
    "dates.shape"
   ]
  },
  {
   "cell_type": "code",
   "execution_count": null,
   "id": "764ad005-cbf4-4e90-b857-072288fea936",
   "metadata": {},
   "outputs": [],
   "source": [
    "FH = FastHerbie(\n",
    "    dates, \n",
    "    model=\"hrrr\", \n",
    "    product=\"prs\",\n",
    "    fxx=range(3, 4)\n",
    ")"
   ]
  },
  {
   "cell_type": "code",
   "execution_count": null,
   "id": "240bdab6-4968-4b93-acab-bc9aab133b6b",
   "metadata": {},
   "outputs": [],
   "source": [
    "inv = FH.inventory()\n",
    "inv"
   ]
  },
  {
   "cell_type": "code",
   "execution_count": null,
   "id": "87f4c127-41b8-48ef-9008-600e260eb0ba",
   "metadata": {},
   "outputs": [],
   "source": [
    "import importlib\n",
    "import ingest.retrieve_hrrr_api\n",
    "importlib.reload(ingest.retrieve_hrrr_api)\n",
    "import ingest.retrieve_hrrr_api as ih"
   ]
  },
  {
   "cell_type": "code",
   "execution_count": null,
   "id": "dfe4c65c-81b0-4aed-a1bf-b63261bfbd35",
   "metadata": {},
   "outputs": [],
   "source": [
    "search_strings = ih.features_to_searchstr(features_list)\n",
    "search_strings"
   ]
  },
  {
   "cell_type": "markdown",
   "id": "829738f2-83ff-4da0-9e44-990047d3d366",
   "metadata": {},
   "source": [
    "### Spatial Subset\n",
    "\n",
    "Brian Blaylock recommends downloaded the data and spatially subsetting using Herbie's wrapper for `wgrib2`, then recreating the objects and reading into memory."
   ]
  },
  {
   "cell_type": "code",
   "execution_count": null,
   "id": "66fbd4e4-a124-4fa0-8c00-f385e774be25",
   "metadata": {},
   "outputs": [],
   "source": [
    "bbox"
   ]
  },
  {
   "cell_type": "code",
   "execution_count": null,
   "id": "3fe5d968-9012-4ea5-96a5-21ba3f3b664e",
   "metadata": {},
   "outputs": [],
   "source": [
    "def get_fh_layer(FH, search_string, remove_grib=True, bbox=None, subset_naming=\"myRegion\"):\n",
    "    \"\"\"\n",
    "    Get HRRR data from fastherbie object given regex search string. \n",
    "    Search string groups variables by layer/level. \n",
    "    Optional bounding box spatially subsets data\n",
    "\n",
    "    Arguments:\n",
    "        - FH: FastHerbie object, defined with start and stop times\n",
    "        - remove_grib: bool, whether or not to delete grib files returning to local read\n",
    "        - search_string: str, based on regex. see utility function features_to_searchstr\n",
    "        - bbox: list, optional bounding box to subset region\n",
    "\n",
    "    Notes: As of Dec 18, 2024, Brian Blaylock recommends downloading data and using \n",
    "        wgrib2 to spatially subset the data\n",
    "        \n",
    "    Returns:\n",
    "        xarray, optionally subsetted to a bounding box\n",
    "    \"\"\"\n",
    "\n",
    "    if bbox is None:\n",
    "        print(\"Returning data for entire conus, deleting all downloaded gribs\")\n",
    "        ds = FH.xarray(search_string, remove_grib=remove_grib)\n",
    "    else:\n",
    "        print(f\"Subsetting data to region within bbox: {bbox}\")\n",
    "        print(f\"Downloading Data to run wgrib2\")\n",
    "\n",
    "        files = FH.download(search_string)\n",
    "        files = sorted(files, key=lambda x: int(x.name.split('__hrrr.t')[1][:2])) # sort by hour\n",
    "        \n",
    "        # Reorder bbox to match format (min_lon, max_lon, min_lat, max_lat)\n",
    "        extent = (bbox[1], bbox[3], bbox[0], bbox[2]) \n",
    "        subset_files=[]\n",
    "        for file in files:\n",
    "            subset_files.append(wgrib2.region(file, extent, name=subset_naming))\n",
    "\n",
    "        # Convert PosixPath list to strings\n",
    "        file_list = [str(path) for path in subset_files]\n",
    "        \n",
    "        # Open files as a combined dataset\n",
    "        ds = xr.open_mfdataset(\n",
    "            file_list,\n",
    "            engine=\"cfgrib\",\n",
    "            concat_dim=\"time\",  # Replace 'time' with the appropriate dimension\n",
    "            combine=\"nested\" \n",
    "        )        \n",
    "        ds = ds.sortby('time')  \n",
    "\n",
    "        # Delete Files\n",
    "        if remove_grib:\n",
    "            for file in files:\n",
    "                if file.exists():  # Check if the file exists before attempting to delete it\n",
    "                    file.unlink()        \n",
    "            for file in subset_files:\n",
    "                if file.exists():  # Check if the file exists before attempting to delete it\n",
    "                    file.unlink()    \n",
    "                \n",
    "    return ds"
   ]
  },
  {
   "cell_type": "code",
   "execution_count": null,
   "id": "5301fea9-7b5a-42d5-ac33-288a5151a197",
   "metadata": {},
   "outputs": [],
   "source": [
    "ss = search_strings['2m']\n",
    "\n",
    "ds1 = get_fh_layer(FH, ss)"
   ]
  },
  {
   "cell_type": "code",
   "execution_count": null,
   "id": "b2b012ea-0db5-4739-8900-bce37f59e1af",
   "metadata": {},
   "outputs": [],
   "source": [
    "ds2 = get_fh_layer(FH, ss, remove_grib=False, bbox = bbox)"
   ]
  },
  {
   "cell_type": "code",
   "execution_count": null,
   "id": "f249b518-5523-4cc1-97a3-02ae37a800df",
   "metadata": {},
   "outputs": [],
   "source": [
    "# Get CRS from geographic herbie \n",
    "## Assuming this info doesn't change over time\n",
    "H = Herbie(\"2023-08-01\", product=\"sfc\")\n",
    "ds_hgt = H.xarray(\"(?:HGT|LAND):surface\")\n",
    "crs = ds_hgt.herbie.crs"
   ]
  },
  {
   "cell_type": "code",
   "execution_count": null,
   "id": "26fbb0d8-34e1-40ef-9108-71f235af581d",
   "metadata": {},
   "outputs": [],
   "source": [
    "ax = EasyMap(crs=crs).STATES(color=\"k\").ax\n",
    "ax.pcolormesh(ds_hgt.longitude, ds_hgt.latitude, ds_hgt.orog, cmap=paint.LandGreen.cmap, alpha=0.5, transform=pc)\n",
    "ax.pcolormesh(ds2.longitude, ds2.latitude, ds2.t2m.isel(time=0), transform=pc)\n",
    "\n",
    "ax.gridlines(xlocs=extent[:2], ylocs=extent[2:], color=\"k\", ls=\"--\", draw_labels=True)"
   ]
  },
  {
   "cell_type": "markdown",
   "id": "f5e2353b-e888-4919-8ce9-abdbc0c5309d",
   "metadata": {},
   "source": [
    "Data fields are accessed through the `.xarray()` method. This will temporarily download the file and then deliver it in memory as an xarray object. Different variables are accessed through search strings that specify the variable name (e.g. air temperature), the level of the observation (e.g. surface level), and the forecast hour relative to the f00 start time (e.g. hour 3 as we will be using). The `retrieve_hrrr_api` module in this project stores a dataframe with names and info on various variables that will be considered for modeling FMC."
   ]
  },
  {
   "cell_type": "code",
   "execution_count": null,
   "id": "f6f13b63-b8d8-482b-bf53-514b43b090a3",
   "metadata": {},
   "outputs": [],
   "source": [
    "# Show HRRR naming dataframe\n",
    "ih.hrrr_name_df"
   ]
  },
  {
   "cell_type": "markdown",
   "id": "c9983a64-f0b8-4527-b4c3-d3624eb256f6",
   "metadata": {},
   "source": [
    "## Getting a Set of Predictors\n",
    "\n",
    "We will demonstrate retrieval of a restricted set of predictors.\n",
    "\n",
    "Equilibrium moisture content is calculated from RH and air temp."
   ]
  },
  {
   "cell_type": "code",
   "execution_count": null,
   "id": "7f99faf3-5402-459f-aff5-029bd188fce2",
   "metadata": {},
   "outputs": [],
   "source": [
    "features_list = [\"Ed\", \"rain\", \"wind\"]"
   ]
  },
  {
   "cell_type": "code",
   "execution_count": null,
   "id": "d67adb1b-bf02-426c-b4a8-e6ab2fabb07b",
   "metadata": {},
   "outputs": [],
   "source": [
    "ds = FH.xarray(\"RH:2 m|TMP:2 m\", remove_grib=False)\n",
    "ds"
   ]
  },
  {
   "cell_type": "code",
   "execution_count": null,
   "id": "001e5e80-8c80-4628-bd3e-455d0e29e958",
   "metadata": {},
   "outputs": [],
   "source": [
    "from ingest.retrieve_hrrr_api import calc_eq\n",
    "calc_eq(ds)"
   ]
  },
  {
   "cell_type": "code",
   "execution_count": null,
   "id": "ec5a7da3-7ae0-4a18-af67-7966534c1b4d",
   "metadata": {},
   "outputs": [],
   "source": [
    "'time' in ds.dims"
   ]
  },
  {
   "cell_type": "code",
   "execution_count": null,
   "id": "3fa8d7c3-373d-4575-91ca-97d674e27ef2",
   "metadata": {},
   "outputs": [],
   "source": [
    "inv = FH.inventory()"
   ]
  },
  {
   "cell_type": "code",
   "execution_count": null,
   "id": "8d187614-9901-4906-a8e2-65b89a1a18d2",
   "metadata": {},
   "outputs": [],
   "source": [
    "inv[inv.variable == \"WIND\"]"
   ]
  },
  {
   "cell_type": "code",
   "execution_count": null,
   "id": "540946e3-41ca-4195-8b97-d8d1675bed29",
   "metadata": {},
   "outputs": [],
   "source": [
    "ds = FH.xarray(\"CNWAT:surface|ASNOW:surface|:SNOD:surface:3 hour fcst\")"
   ]
  },
  {
   "cell_type": "code",
   "execution_count": null,
   "id": "fbfdf1bb-1ed5-4bf8-82f7-d410fb40c34a",
   "metadata": {},
   "outputs": [],
   "source": [
    "ds"
   ]
  },
  {
   "cell_type": "code",
   "execution_count": null,
   "id": "58928076-1e25-4725-9df5-9f5103838bb9",
   "metadata": {},
   "outputs": [],
   "source": [
    "ds.herbie.pick_points(\n",
    "    pd.DataFrame({\"latitude\": [40.76, 40], \"longitude\": [-111.876183, -111]})\n",
    ")"
   ]
  },
  {
   "cell_type": "code",
   "execution_count": null,
   "id": "2b078d18-c80b-4f9d-94fd-6b9cadf0f7c8",
   "metadata": {},
   "outputs": [],
   "source": [
    "type(ds)"
   ]
  },
  {
   "cell_type": "code",
   "execution_count": null,
   "id": "cf3d2575-8592-4631-b368-4f524026a6af",
   "metadata": {},
   "outputs": [],
   "source": [
    "from herbie.toolbox import EasyMap, pc, ccrs\n",
    "from herbie import paint\n",
    "\n",
    "ax = EasyMap(\"110m\", figsize=[15, 9], crs=ds.herbie.crs).STATES().ax\n",
    "\n",
    "x = ds[\"Ed\"]\n",
    "if 'time' in x.dims:\n",
    "    x = x.isel(time=4)\n",
    "\n",
    "p = ax.pcolormesh(\n",
    "    ds.longitude,\n",
    "    ds.latitude,\n",
    "    x,\n",
    "    transform=pc,\n",
    "    cmap=paint.NWSRelativeHumidity.cmap,\n",
    ")\n",
    "\n",
    "plt.colorbar(\n",
    "    p,\n",
    "    ax=ax,\n",
    "    orientation=\"horizontal\",\n",
    "    pad=0.01,\n",
    "    shrink=0.8,\n",
    "    label=\"Equilibrium Moisture Content\",\n",
    ")\n",
    "plt.title(None, size=18)"
   ]
  },
  {
   "cell_type": "code",
   "execution_count": null,
   "id": "0b21179d-4eaa-4f23-b6fa-1c6dbe638f30",
   "metadata": {},
   "outputs": [],
   "source": [
    "paint.NWSWindSpeed"
   ]
  },
  {
   "cell_type": "code",
   "execution_count": null,
   "id": "e2176148-9491-41d4-a560-97823ed87be7",
   "metadata": {},
   "outputs": [],
   "source": [
    "ax = EasyMap(\"50m\", figsize=[15, 9], crs=ds.herbie.crs).STATES().ax\n",
    "p = ax.pcolormesh(\n",
    "    ds.longitude,\n",
    "    ds.latitude,\n",
    "    ds.t2m.isel(time=0),\n",
    "    transform=pc,\n",
    "    cmap=None,\n",
    ")\n",
    "\n",
    "plt.colorbar(\n",
    "    p,\n",
    "    ax=ax,\n",
    "    orientation=\"horizontal\",\n",
    "    pad=0.01,\n",
    "    shrink=0.8,\n",
    "    label=\"Equilibrium Moisture Content\",\n",
    ")"
   ]
  },
  {
   "cell_type": "code",
   "execution_count": null,
   "id": "8271dbf6-edef-4634-b97a-3f2df155489c",
   "metadata": {},
   "outputs": [],
   "source": [
    "ds = FH.xarray(\":TSOIL:\")\n",
    "ds"
   ]
  },
  {
   "cell_type": "code",
   "execution_count": null,
   "id": "c3276d8f-40ca-4e8b-a1d1-075c02d2acd1",
   "metadata": {},
   "outputs": [],
   "source": [
    "ds = FH.xarray(\"CNWAT:surface|:TSOIL:\")"
   ]
  },
  {
   "cell_type": "code",
   "execution_count": null,
   "id": "cd1f3872-8700-4911-8b50-d8824dec3f06",
   "metadata": {},
   "outputs": [],
   "source": [
    "ds"
   ]
  },
  {
   "cell_type": "code",
   "execution_count": null,
   "id": "6c31ede7-2dea-4ae4-8341-742bd719efe3",
   "metadata": {},
   "outputs": [],
   "source": [
    "ds2 = FH.xarray(\":APCP:surface:2-3 hour acc fcst\")\n",
    "ds2"
   ]
  },
  {
   "cell_type": "code",
   "execution_count": null,
   "id": "489c9cf5-ca22-46d1-b1e1-a859fa12fd82",
   "metadata": {},
   "outputs": [],
   "source": [
    "ax = EasyMap(\"50m\", figsize=[15, 9], crs=ds.herbie.crs).STATES().ax\n",
    "p = ax.pcolormesh(\n",
    "    ds.longitude,\n",
    "    ds.latitude,\n",
    "    ds2.tp.isel(time=0),\n",
    "    transform=pc,\n",
    "    cmap=paint.NWSPrecipitation.cmap,\n",
    ")\n",
    "\n",
    "plt.colorbar(\n",
    "    p,\n",
    "    ax=ax,\n",
    "    orientation=\"horizontal\",\n",
    "    pad=0.01,\n",
    "    shrink=0.8,\n",
    "    label=\"Equilibrium Moisture Content\",\n",
    ")"
   ]
  },
  {
   "cell_type": "code",
   "execution_count": null,
   "id": "85bd1421-c419-4054-bf66-c66e55e0b19c",
   "metadata": {},
   "outputs": [],
   "source": []
  },
  {
   "cell_type": "code",
   "execution_count": null,
   "id": "0ef01326-ba2c-48da-9a1c-ef916c7724ed",
   "metadata": {},
   "outputs": [],
   "source": []
  },
  {
   "cell_type": "code",
   "execution_count": null,
   "id": "40b816d6-b5f8-4219-b42a-6aac348ce786",
   "metadata": {},
   "outputs": [],
   "source": []
  },
  {
   "cell_type": "code",
   "execution_count": null,
   "id": "b7606a15-da3d-4e94-a15a-32c5da85b252",
   "metadata": {},
   "outputs": [],
   "source": []
  },
  {
   "cell_type": "code",
   "execution_count": null,
   "id": "7a8a912a-7b0f-4e6e-ac51-392c5c835d3d",
   "metadata": {},
   "outputs": [],
   "source": []
  },
  {
   "cell_type": "code",
   "execution_count": null,
   "id": "be290e4b-684c-48d8-931d-7716471ff7ee",
   "metadata": {},
   "outputs": [],
   "source": []
  },
  {
   "cell_type": "code",
   "execution_count": null,
   "id": "6901c78a-8f6f-4af7-8fbe-e0e15dea0b6c",
   "metadata": {},
   "outputs": [],
   "source": []
  }
 ],
 "metadata": {
  "kernelspec": {
   "display_name": "Python 3 (ipykernel)",
   "language": "python",
   "name": "python3"
  },
  "language_info": {
   "codemirror_mode": {
    "name": "ipython",
    "version": 3
   },
   "file_extension": ".py",
   "mimetype": "text/x-python",
   "name": "python",
   "nbconvert_exporter": "python",
   "pygments_lexer": "ipython3",
   "version": "3.12.2"
  }
 },
 "nbformat": 4,
 "nbformat_minor": 5
}

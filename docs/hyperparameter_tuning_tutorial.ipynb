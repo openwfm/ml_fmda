{
 "cells": [
  {
   "cell_type": "markdown",
   "id": "00fd7d02-ab96-440a-89b8-a60a6e4e8151",
   "metadata": {},
   "source": [
    "# Hyperparameter Tuning"
   ]
  },
  {
   "cell_type": "markdown",
   "id": "7eb544e3-502d-459f-92e7-3f1d03a65444",
   "metadata": {},
   "source": [
    "## Details\n",
    "\n",
    "### Time Period Considered\n",
    "\n",
    "This project tests forecast accuracy over the entire year of 2024. Thus, hyperparameter tuning will only be performed when comparing model accuracy to data in 2023. We will use 6 forecast periods: the first of the month through 48 hours into the future for July through December. Further, for computational purposes we use 6 months of training data for a given forecast period. \n",
    "\n",
    "Note that this training data is not fully representative of the year, where there are seasonal cycles, but the goal of this is just to select a strong model architecture. We are not training the final model.\n",
    "\n",
    "### Restricted Grid Search\n",
    "\n",
    "In this project, we are conducting a \"restricted\" grid search. This means that were are fixing a number of hyperparameters to make the search computationally feasible. Notably, we are fixing the feature list across all machine learning models used.\n",
    "\n",
    "For the RNN hyperparameter tuning, we use a 2 step optimization to simplify things:\n",
    "1. Tune the model architecture, including type of layers, number of layers, and number of units. \n",
    "2. Tune the optimization hyperparameters, including batch size, learning rate\n",
    "\n",
    "\n",
    "For the **model architecture search**, we use the following constraints:\n",
    "* We consider only LSTM and dense layers\n",
    "* Recurrent layers always come first\n",
    "* We consider 1 or 2 recurrent layers\n",
    "* We consider 0, 1 or 2 dense layers\n",
    "* For each layer, we consider a grid of 3 numbers of unitss: 16, 32, 64 \n",
    "* Use the funnel structure where number of units always stays the same or decreases. So 64 units can feed into 32 or 16, while 16 units can only feed into 16\n",
    "\n",
    "For optimization-related hyperparameters, we tune the folowing in a grid search:\n",
    "* Learning Rate: 0.01, 0.001, or 0.0001\n",
    "* Batch Size: 32, 64, or 128\n",
    "\n",
    "We are using early stopping with patience 5, meaning that training is halted if accuracy on the validation set does not improve for 5 epochs. We set the number of epochs to 100, which in practice is unnecessarily large but is typically halted with early stopping.\n",
    "\n",
    "### Fixed Hyperparameters\n",
    "\n",
    "Some hyperpararameters are fixed to commonly accepted defaults. These include:\n",
    "\n",
    "| Hyperparameter | Default | \n",
    "|---------------|---------| \n",
    "| **Features List** | (see paper description) | \n",
    "| **Sequence Length (aka Timesteps)** | `48` | \n",
    "| **LSTM Activation Function** | `tanh` | \n",
    "| **Dense Activation Function** | `relu` | \n",
    "| **Recurrent Activation Function (LSTM)** | `sigmoid` | \n",
    "| **Batch Normalization (On/Off)** | Off | \n",
    "| **Optimizer Type** | `Adam` | \n",
    "| **Dropout Rate (incl. Recurrent Dropout)** | `0.2` | "
   ]
  },
  {
   "cell_type": "markdown",
   "id": "3a7b1cf3-12e9-477c-95cb-019e3a9fa979",
   "metadata": {},
   "source": [
    "## Setup"
   ]
  },
  {
   "cell_type": "code",
   "execution_count": null,
   "id": "f448b18f-347b-4a2d-9557-8b79bf235a88",
   "metadata": {},
   "outputs": [],
   "source": [
    "import numpy as np\n",
    "from sklearn.model_selection import ParameterGrid\n",
    "from itertools import product\n",
    "import sys\n",
    "import os\n",
    "import os.path as osp\n",
    "from dateutil.relativedelta import relativedelta\n",
    "import pickle\n",
    "sys.path.append(\"../src\")\n",
    "from utils import Dict, read_yml, str2time, time_range\n",
    "from models.moisture_rnn import model_grid, optimization_grid, RNNData, RNN_Flexible\n",
    "import data_funcs\n",
    "import reproducibility"
   ]
  },
  {
   "cell_type": "code",
   "execution_count": null,
   "id": "33115a4d-35f7-49bb-ad43-f97dde93f4bb",
   "metadata": {},
   "outputs": [],
   "source": [
    "# Data Params, used for building ML data\n",
    "params_data = Dict(read_yml(\"../etc/params_data.yaml\"))\n",
    "\n",
    "# Full RNN Model Params\n",
    "params_rnn = Dict(read_yml(\"../etc/params_models.yaml\", subkey=\"rnn\"))\n",
    "params_rnn"
   ]
  },
  {
   "cell_type": "code",
   "execution_count": null,
   "id": "3be8849e-48ea-45d1-8741-7c708c02d30b",
   "metadata": {},
   "outputs": [],
   "source": [
    "# Hyperparam Tuning Setup\n",
    "hyper_params = Dict(read_yml(\"../etc/rnn_hyperparam_tuning_config.yaml\"))\n",
    "hyper_params"
   ]
  },
  {
   "cell_type": "code",
   "execution_count": null,
   "id": "790cd289-4ef8-4238-bc8f-034f905f52e3",
   "metadata": {},
   "outputs": [],
   "source": [
    "hyper_params['optimization']"
   ]
  },
  {
   "cell_type": "markdown",
   "id": "7df5cb9d-14bb-4dbb-97c4-ee56ba53f6e2",
   "metadata": {},
   "source": [
    "## Create Grids"
   ]
  },
  {
   "cell_type": "code",
   "execution_count": null,
   "id": "6347a522-7d26-4856-ba5e-b247c2a40103",
   "metadata": {},
   "outputs": [],
   "source": [
    "hyper_params['model_architecture']"
   ]
  },
  {
   "cell_type": "code",
   "execution_count": null,
   "id": "5fb8e66f-ddb0-4bf0-89af-b3bf5285010c",
   "metadata": {
    "scrolled": true
   },
   "outputs": [],
   "source": [
    "model_params_grid = model_grid(hyper_params['model_architecture'])\n",
    "model_params_grid"
   ]
  },
  {
   "cell_type": "code",
   "execution_count": null,
   "id": "1c700214-76a2-450e-b1cc-b86387600929",
   "metadata": {},
   "outputs": [],
   "source": [
    "opt_grid = optimization_grid(hyper_params['optimization'])\n",
    "opt_grid"
   ]
  },
  {
   "cell_type": "code",
   "execution_count": null,
   "id": "30568407-01da-4224-9a83-f909cd9bddcd",
   "metadata": {},
   "outputs": [],
   "source": [
    "len(model_params_grid)"
   ]
  },
  {
   "cell_type": "code",
   "execution_count": null,
   "id": "51491acd-a50c-471a-a1de-0c3c570631cd",
   "metadata": {},
   "outputs": [],
   "source": [
    "len(opt_grid)"
   ]
  },
  {
   "cell_type": "code",
   "execution_count": null,
   "id": "e33ba990-abaf-482d-8403-dbf928e60e1a",
   "metadata": {},
   "outputs": [],
   "source": []
  },
  {
   "cell_type": "code",
   "execution_count": null,
   "id": "96e1c0c4-6883-478d-8735-e36d8f00bba1",
   "metadata": {},
   "outputs": [],
   "source": []
  }
 ],
 "metadata": {
  "kernelspec": {
   "display_name": "Python 3 (ipykernel)",
   "language": "python",
   "name": "python3"
  },
  "language_info": {
   "codemirror_mode": {
    "name": "ipython",
    "version": 3
   },
   "file_extension": ".py",
   "mimetype": "text/x-python",
   "name": "python",
   "nbconvert_exporter": "python",
   "pygments_lexer": "ipython3",
   "version": "3.12.2"
  }
 },
 "nbformat": 4,
 "nbformat_minor": 5
}

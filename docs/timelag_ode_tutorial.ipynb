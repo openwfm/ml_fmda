{
 "cells": [
  {
   "cell_type": "markdown",
   "id": "9b7567a4-f8fc-43af-94ae-e8e87f1fae8d",
   "metadata": {},
   "source": [
    "# Timelag Differential Equation Tutorial\n",
    "\n",
    "The purpose of this notebook is to demonstrate the use of the physics-based fuel moisture model used with `wrfxpy`. This model is used as a benchmark for the machine learning methods. The model is a time-lag ODE plus a Kalman filter for assimilating fuel moisture observations."
   ]
  },
  {
   "cell_type": "markdown",
   "id": "a122a3d0-95c3-469c-8b3e-32ddb592aa2a",
   "metadata": {},
   "source": [
    "## Model Background\n",
    "\n",
    "The physics-based model used within WRF-SFIRE is a timelag ODE. Data assimilation is done through Augmented Kalman filter. Model state is extended to include equilibrium bias correction term.\n",
    "\n",
    "* **Inputs**: wetting/drying equilibrium moisture content and hourly rainfall, and optional FMC data for data assimilation\n",
    "* **Spinup**: model is run with data assimilation for a number of spinup hours for equilibrium  bias to stabilize, this is analogous to training an ML model\n",
    "* **Forecast**: model is run with no data assimilation after set number of spinup hours\n",
    "* **How Model is Applied**: ODE+KF applied pointwise, or independently at some set of grid nodes. In this project, the ODE+KF will be run at the location of RAWS sites, using the observed RAWS data for spinup data assimilation. NOTE: this is \"best case\" scenario for the model, since in production spatially interpoalted FMC used for spinup data assimilation\n",
    "\n",
    "For more info, see ___"
   ]
  },
  {
   "cell_type": "markdown",
   "id": "91f94e09-9ad4-4a9b-85bb-4358fd2009ff",
   "metadata": {
    "jp-MarkdownHeadingCollapsed": true
   },
   "source": [
    "## ODE+KF in this Project\n",
    "\n",
    "**Workflow:**\n",
    "- Retrieve fmda data: gets data from API or stash, interpolates missing observations to regular hourly intervals\n",
    "- Build fmda ML data: merges data sources and applies filters\n",
    "- Define a cross validation test period and test locations (RAWS STIDS)\n",
    "- Based on CV above, get needed data from built ML data\n",
    "\n",
    "**ODE Modeling:**\n",
    "* Run on 72 hour stretches (24 spinup, 48 val)\n",
    "* Get test station list used by other models\n",
    "* For those test stations, use `get_sts_and_times` accounting for the spinup period\n",
    "    * So adjust test times by subtracting 24 hours to account for spinup"
   ]
  },
  {
   "cell_type": "markdown",
   "id": "cab3ef19-2d45-4530-8fd3-dc921ca8f1c5",
   "metadata": {},
   "source": [
    "## Setup"
   ]
  },
  {
   "cell_type": "code",
   "execution_count": null,
   "id": "135a712d-9cf1-43ea-867d-4f8ef71f827e",
   "metadata": {},
   "outputs": [],
   "source": [
    "import os.path as osp\n",
    "import json\n",
    "import sys\n",
    "import numpy as np\n",
    "import pandas as pd\n",
    "sys.path.append('../src')\n",
    "from utils import Dict, read_yml, read_pkl, str2time, print_dict_summary, time_range, rename_dict\n",
    "import data_funcs\n",
    "from models.moisture_ode import ODE_FMC\n",
    "import matplotlib.pyplot as plt\n",
    "import reproducibility"
   ]
  },
  {
   "cell_type": "markdown",
   "id": "335cc886-ed08-4382-9ca1-49af2e91be8d",
   "metadata": {},
   "source": [
    "## Create Data"
   ]
  },
  {
   "cell_type": "code",
   "execution_count": null,
   "id": "7b9b902d-7572-4603-b073-4faf9cc1e021",
   "metadata": {},
   "outputs": [],
   "source": [
    "ml_data = read_pkl(\"../data/test_data/test_ml_dat.pkl\")\n",
    "# ml_data = read_pkl(\"../outputs/report_materials/ml_data.pkl\")"
   ]
  },
  {
   "cell_type": "code",
   "execution_count": null,
   "id": "cf4d013b-3592-45a4-b3c6-f2f9bf522dd5",
   "metadata": {},
   "outputs": [],
   "source": [
    "ft = str2time(\"2023-06-03T00:00:00Z\")"
   ]
  },
  {
   "cell_type": "code",
   "execution_count": null,
   "id": "377cb8ed-368f-45fb-9f2a-4767b402c463",
   "metadata": {},
   "outputs": [],
   "source": [
    "reproducibility.set_seed(123)\n",
    "train, val, test = data_funcs.cv_data_wrap(ml_data, ft, \n",
    "                                           train_hours=720,\n",
    "                                           forecast_hours=48)"
   ]
  },
  {
   "cell_type": "code",
   "execution_count": null,
   "id": "14048409-29fb-46aa-ae7c-55704c298cbb",
   "metadata": {},
   "outputs": [],
   "source": [
    "test.keys()"
   ]
  },
  {
   "cell_type": "code",
   "execution_count": null,
   "id": "f531276c-5fda-4e02-9b59-7871be827740",
   "metadata": {},
   "outputs": [],
   "source": [
    "te_sts = [*test.keys()]\n",
    "test_times = test[te_sts[0]][\"times\"]\n",
    "ode_data = data_funcs.get_ode_data(ml_data, te_sts, test_times)"
   ]
  },
  {
   "cell_type": "code",
   "execution_count": null,
   "id": "173e1ff7-93cc-48ae-8d18-a87f09cc14b7",
   "metadata": {},
   "outputs": [],
   "source": [
    "print(ode_data.keys())"
   ]
  },
  {
   "cell_type": "markdown",
   "id": "18bacf68-0de3-4960-86f4-d4a1c0396a93",
   "metadata": {},
   "source": [
    "## Run Model\n",
    "\n",
    "Model object creator defined in `models/moisture_models`. Has hyperparameters associated with model, such as fixed covariance matrices"
   ]
  },
  {
   "cell_type": "code",
   "execution_count": null,
   "id": "567172ff-363d-4469-865d-0d02e5c2a826",
   "metadata": {},
   "outputs": [],
   "source": [
    "ode = ODE_FMC()"
   ]
  },
  {
   "cell_type": "code",
   "execution_count": null,
   "id": "5c5b1890-f887-4d23-a99b-04f70c5dc7e8",
   "metadata": {},
   "outputs": [],
   "source": [
    "ode.params"
   ]
  },
  {
   "cell_type": "markdown",
   "id": "b9679014-400d-4bf5-9dbb-f114cce0089f",
   "metadata": {},
   "source": [
    "### Run Single Case"
   ]
  },
  {
   "cell_type": "code",
   "execution_count": null,
   "id": "fa8a5a23-c369-4e95-8e17-7ef71529fb13",
   "metadata": {},
   "outputs": [],
   "source": [
    "u = ode.run_model_single(ode_data[te_sts[0]], hours=72, h2=24)"
   ]
  },
  {
   "cell_type": "code",
   "execution_count": null,
   "id": "9cf872f6-42eb-431a-9fa3-8657ba5b43cb",
   "metadata": {},
   "outputs": [],
   "source": [
    "print(u.shape)"
   ]
  },
  {
   "cell_type": "code",
   "execution_count": null,
   "id": "2579f46f-0fe4-4332-a148-bb472bc8fc60",
   "metadata": {},
   "outputs": [],
   "source": [
    "plt.plot(u[0,:])"
   ]
  },
  {
   "cell_type": "code",
   "execution_count": null,
   "id": "3a57b7f8-9eb9-4873-a016-310e0381e43b",
   "metadata": {},
   "outputs": [],
   "source": [
    "# Print RMSE for Period\n",
    "ode.eval(u[0,:], ode_data[te_sts[0]][\"data\"].fm.to_numpy())"
   ]
  },
  {
   "cell_type": "markdown",
   "id": "f44b8987-e254-403b-8099-caf9868396af",
   "metadata": {},
   "source": [
    "## Run Whole Dictionary"
   ]
  },
  {
   "cell_type": "code",
   "execution_count": null,
   "id": "bd95eee2-a5ff-451d-b79d-ad84454c7860",
   "metadata": {},
   "outputs": [],
   "source": [
    "m, errs = ode.run_model(ode_data, hours=72, h2=24)"
   ]
  },
  {
   "cell_type": "code",
   "execution_count": null,
   "id": "db33b9c3-6cf0-4137-896b-54a53b49e4b1",
   "metadata": {},
   "outputs": [],
   "source": [
    "# Should be shape (n_locations, forecast_hours, 1)\n",
    "print(m.shape)"
   ]
  },
  {
   "cell_type": "code",
   "execution_count": null,
   "id": "96dae4cb-d64f-4383-aa83-ca6f6ce5f899",
   "metadata": {},
   "outputs": [],
   "source": [
    "print(errs)"
   ]
  },
  {
   "cell_type": "code",
   "execution_count": null,
   "id": "2cd7ca6e-4c04-4b7b-b36a-4417fa30e365",
   "metadata": {},
   "outputs": [],
   "source": [
    "from utils import hash_ndarray\n",
    "hash_ndarray(m)"
   ]
  },
  {
   "cell_type": "markdown",
   "id": "fb86a327-1ccb-45e6-a654-18c80671ff1b",
   "metadata": {},
   "source": [
    "### Analyze Error Over Time\n",
    "\n",
    "As we go from forecast hour 1 to 48, does error accumulate?"
   ]
  },
  {
   "cell_type": "code",
   "execution_count": null,
   "id": "8433b7db-3838-4f96-a12a-f01ee116e2ca",
   "metadata": {},
   "outputs": [],
   "source": [
    "fstart = str2time(\"2023-06-03T00:00:00Z\")\n",
    "fend = str2time(\"2023-06-29T23:00:00Z\")\n",
    "\n",
    "# Handle Forecast Periods\n",
    "# Define Forecast start times, 48hr spacing\n",
    "forecast_periods = time_range(\n",
    "    start = fstart,\n",
    "    end = fend,\n",
    "    freq = \"2d\"\n",
    ")"
   ]
  },
  {
   "cell_type": "code",
   "execution_count": null,
   "id": "9d843203-98d6-48e1-bbb3-4fc3ba5b94ce",
   "metadata": {
    "scrolled": true
   },
   "outputs": [],
   "source": [
    "m = []\n",
    "y_test = []\n",
    "reproducibility.set_seed(123)\n",
    "for ft in forecast_periods:\n",
    "    train, val, test = data_funcs.cv_data_wrap(ml_data, ft, \n",
    "                                               train_hours=720,\n",
    "                                               forecast_hours=48)\n",
    "    te_sts = [*test.keys()]\n",
    "    test_times = test[te_sts[0]][\"times\"]\n",
    "    ode_data = data_funcs.get_ode_data(ml_data, te_sts, test_times)    \n",
    "    mi, errsi = ode.run_model(ode_data, hours=72, h2=24)\n",
    "\n",
    "    y_list = []\n",
    "    for loc in ode_data:\n",
    "        y = ode_data[loc][\"data\"][\"fm\"][(72-48):72]\n",
    "        y = np.array(y).reshape(48, 1)  # Ensure shape is (48, 1)\n",
    "        y_list.append(y)\n",
    "    yi = np.stack(y_list) \n",
    "    \n",
    "    m.append(mi)\n",
    "    y_test.append(yi)"
   ]
  },
  {
   "cell_type": "code",
   "execution_count": null,
   "id": "7c1bc6e1-120d-4869-9428-5e710452641b",
   "metadata": {},
   "outputs": [],
   "source": [
    "preds = np.concatenate(m, axis=0)\n",
    "y = np.concatenate(y_test, axis=0)\n",
    "print(preds.shape)\n",
    "print(y.shape)"
   ]
  },
  {
   "cell_type": "code",
   "execution_count": null,
   "id": "8596b85d-2e2e-4e58-bb2c-1e75e874a1ac",
   "metadata": {},
   "outputs": [],
   "source": [
    "err2 = ((preds - y) ** 2).squeeze()\n",
    "err2.shape"
   ]
  },
  {
   "cell_type": "code",
   "execution_count": null,
   "id": "7cd42cb1-c299-4f64-9a1b-b11f7c80d09b",
   "metadata": {},
   "outputs": [],
   "source": [
    "err48 = np.mean(err2, axis=0)  # shape (48,)\n",
    "se48 = np.std(err2, axis=0, ddof=1) / np.sqrt(err2.shape[0])\n",
    "print(err48.shape)\n",
    "print(se48.shape)"
   ]
  },
  {
   "cell_type": "code",
   "execution_count": null,
   "id": "4aebae48-94a0-40e6-85c4-e5d209b91fe0",
   "metadata": {},
   "outputs": [],
   "source": [
    "time_steps = np.arange(err48.shape[0])\n",
    "\n",
    "plt.figure(figsize=(10, 4))\n",
    "plt.plot(time_steps, err48, label='Mean Squared Error', color='blue')\n",
    "plt.fill_between(\n",
    "    time_steps,\n",
    "    err48 - se48,\n",
    "    err48 + se48,\n",
    "    color='blue',\n",
    "    alpha=0.3,\n",
    "    label='±1 SD'\n",
    ")\n",
    "\n",
    "plt.xlabel('Time Step (Hour)')\n",
    "plt.ylabel('Average Squared Error')\n",
    "plt.title('ODE - Mean Squared Error Over Time')\n",
    "plt.grid(True)\n",
    "plt.legend()\n",
    "plt.tight_layout()\n",
    "plt.show()"
   ]
  },
  {
   "cell_type": "code",
   "execution_count": null,
   "id": "837af9dc-5223-4b31-82bd-5366b0401e8d",
   "metadata": {},
   "outputs": [],
   "source": [
    "#y = np.concatenate(y_test, axis=0)\n",
    "y = y.squeeze()\n",
    "ymean = np.mean(y, axis=0)  # shape (48,)\n",
    "yse = np.std(y, axis=0, ddof=1) / np.sqrt(y.shape[0])\n",
    "print(ymean.shape)\n",
    "print(yse.shape)\n",
    "\n",
    "preds = preds.squeeze()\n",
    "predmean = np.mean(preds, axis=0)  # shape (48,)\n",
    "predse = np.std(preds, axis=0, ddof=1) / np.sqrt(preds.shape[0])\n"
   ]
  },
  {
   "cell_type": "code",
   "execution_count": null,
   "id": "5c3838cb-f87e-433e-9e77-3573b4e49102",
   "metadata": {},
   "outputs": [],
   "source": [
    "plt.figure(figsize=(10, 4))\n",
    "plt.plot(time_steps, ymean, label='FMC Mean', color='green')\n",
    "# plt.fill_between(\n",
    "#     time_steps,\n",
    "#     ymean - yse,\n",
    "#     ymean + yse,\n",
    "#     color='green',\n",
    "#     alpha=0.3,\n",
    "#     label='±1 SD'\n",
    "# )\n",
    "\n",
    "plt.xlabel('Time Step (Hour)')\n",
    "plt.ylabel('FMC')\n",
    "plt.title('Mean FMC over 48 Hours')\n",
    "plt.grid(True)\n",
    "plt.legend()\n",
    "plt.tight_layout()\n",
    "plt.show()"
   ]
  },
  {
   "cell_type": "markdown",
   "id": "30f83647-d27d-4af1-93e0-a13dbee131bc",
   "metadata": {},
   "source": [
    "## Test single runs"
   ]
  },
  {
   "cell_type": "code",
   "execution_count": null,
   "id": "55c41438-c283-4953-8c74-721ac58e666f",
   "metadata": {},
   "outputs": [],
   "source": [
    "from viz import plot_one"
   ]
  },
  {
   "cell_type": "code",
   "execution_count": null,
   "id": "a2ddc526-d869-40ea-b0f3-5e411e28a90f",
   "metadata": {},
   "outputs": [],
   "source": [
    "st = \"MRLS2\"\n",
    "d = ml_data[st]\n",
    "u = ode.run_model_single(d, hours=720, h2=720-48)\n",
    "\n",
    "plot_one(ml_data, st, m=u[0,:], start_time=\"2023-06-01\", \n",
    "         end_time='2023-06-30 23:00:00+0000')"
   ]
  },
  {
   "cell_type": "code",
   "execution_count": null,
   "id": "6df09cc2-c231-4f23-a55e-a049e90f08f1",
   "metadata": {},
   "outputs": [],
   "source": []
  }
 ],
 "metadata": {
  "kernelspec": {
   "display_name": "Python 3 (ipykernel)",
   "language": "python",
   "name": "python3"
  },
  "language_info": {
   "codemirror_mode": {
    "name": "ipython",
    "version": 3
   },
   "file_extension": ".py",
   "mimetype": "text/x-python",
   "name": "python",
   "nbconvert_exporter": "python",
   "pygments_lexer": "ipython3",
   "version": "3.12.2"
  }
 },
 "nbformat": 4,
 "nbformat_minor": 5
}

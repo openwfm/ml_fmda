{
 "cells": [
  {
   "cell_type": "markdown",
   "id": "9b7567a4-f8fc-43af-94ae-e8e87f1fae8d",
   "metadata": {},
   "source": [
    "# Timelag Differential Equation Tutorial\n",
    "\n",
    "The purpose of this notebook is to demonstrate the use of the physics-based fuel moisture model used with `wrfxpy`. This model is used as a benchmark for the machine learning methods. The model is a time-lag ODE plus a Kalman filter for assimilating fuel moisture observations."
   ]
  },
  {
   "cell_type": "markdown",
   "id": "a122a3d0-95c3-469c-8b3e-32ddb592aa2a",
   "metadata": {},
   "source": [
    "## Model Background\n",
    "\n",
    "The physics-based model used within WRF-SFIRE is a timelag ODE. Data assimilation is done through Augmented Kalman filter. Model state is extended to include equilibrium bias correction term.\n",
    "\n",
    "* **Inputs**: wetting/drying equilibrium moisture content and hourly rainfall, and optional FMC data for data assimilation\n",
    "* **Spinup**: model is run with data assimilation for a number of spinup hours for equilibrium  bias to stabilize, this is analogous to training an ML model\n",
    "* **Forecast**: model is run with no data assimilation after set number of spinup hours\n",
    "* **How Model is Applied**: ODE+KF applied pointwise, or independently at some set of grid nodes. In this project, the ODE+KF will be run at the location of RAWS sites, using the observed RAWS data for spinup data assimilation. NOTE: this is \"best case\" scenario for the model, since in production spatially interpoalted FMC used for spinup data assimilation\n",
    "\n",
    "For more info, see ___"
   ]
  },
  {
   "cell_type": "markdown",
   "id": "91f94e09-9ad4-4a9b-85bb-4358fd2009ff",
   "metadata": {
    "jp-MarkdownHeadingCollapsed": true
   },
   "source": [
    "## ODE+KF in this Project\n",
    "\n",
    "**Workflow:**\n",
    "- Retrieve fmda data: gets data from API or stash, interpolates missing observations to regular hourly intervals\n",
    "- Build fmda ML data: merges data sources and applies filters\n",
    "- Define a cross validation test period and test locations (RAWS STIDS)\n",
    "- Based on CV above, get needed data from built ML data\n",
    "\n",
    "**ODE Modeling:**\n",
    "* Run on 72 hour stretches (24 spinup, 48 val)\n",
    "* Get test station list used by other models\n",
    "* For those test stations, use `get_sts_and_times` accounting for the spinup period\n",
    "    * So adjust test times by subtracting 24 hours to account for spinup"
   ]
  },
  {
   "cell_type": "markdown",
   "id": "cab3ef19-2d45-4530-8fd3-dc921ca8f1c5",
   "metadata": {},
   "source": [
    "## Setup"
   ]
  },
  {
   "cell_type": "code",
   "execution_count": null,
   "id": "135a712d-9cf1-43ea-867d-4f8ef71f827e",
   "metadata": {},
   "outputs": [],
   "source": [
    "import os.path as osp\n",
    "import json\n",
    "import sys\n",
    "import numpy as np\n",
    "import pandas as pd\n",
    "sys.path.append('../src')\n",
    "from utils import Dict, read_yml, read_pkl, str2time, print_dict_summary, time_range, rename_dict\n",
    "import data_funcs\n",
    "import models.moisture_models as mm\n",
    "import matplotlib.pyplot as plt"
   ]
  },
  {
   "cell_type": "markdown",
   "id": "335cc886-ed08-4382-9ca1-49af2e91be8d",
   "metadata": {},
   "source": [
    "## Create Data"
   ]
  },
  {
   "cell_type": "code",
   "execution_count": null,
   "id": "7b9b902d-7572-4603-b073-4faf9cc1e021",
   "metadata": {},
   "outputs": [],
   "source": [
    "ml_data = read_pkl(\"../data/test_data/test_ml_dat.pkl\")"
   ]
  },
  {
   "cell_type": "code",
   "execution_count": null,
   "id": "98c14a14-810f-416d-8f5b-1cba710992f3",
   "metadata": {},
   "outputs": [],
   "source": [
    "# Get Test Cross-Val Period\n",
    "train_times, val_times, test_times = data_funcs.cv_time_setup(\"2023-01-05T00:00:00Z\", \n",
    "                                                train_hours=48*2, forecast_hours=48)"
   ]
  },
  {
   "cell_type": "code",
   "execution_count": null,
   "id": "c7162077-c8cf-44ac-95eb-cac999ee9c1d",
   "metadata": {},
   "outputs": [],
   "source": [
    "# Get Test Station List\n",
    "stids = [*ml_data.keys()]\n",
    "\n",
    "tr_sts, val_sts, te_sts = data_funcs.cv_space_setup(stids, random_state=42)"
   ]
  },
  {
   "cell_type": "code",
   "execution_count": null,
   "id": "4ebe06d0-7f86-4c73-8384-f7dfec0d1c4a",
   "metadata": {},
   "outputs": [],
   "source": [
    "ode_data = data_funcs.get_ode_data(ml_data, te_sts, test_times)"
   ]
  },
  {
   "cell_type": "code",
   "execution_count": null,
   "id": "173e1ff7-93cc-48ae-8d18-a87f09cc14b7",
   "metadata": {},
   "outputs": [],
   "source": [
    "print(ode_data.keys())"
   ]
  },
  {
   "cell_type": "code",
   "execution_count": null,
   "id": "ce71d503-d182-47c9-b2ee-29ee01a5ddc0",
   "metadata": {},
   "outputs": [],
   "source": [
    "print(ode_data[\"YLSU1\"].keys())"
   ]
  },
  {
   "cell_type": "code",
   "execution_count": null,
   "id": "bca9b9e9-649e-4bbe-a859-b386c3b5ece3",
   "metadata": {},
   "outputs": [],
   "source": [
    "ode_data[\"YLSU1\"][\"data\"]"
   ]
  },
  {
   "cell_type": "markdown",
   "id": "18bacf68-0de3-4960-86f4-d4a1c0396a93",
   "metadata": {},
   "source": [
    "## Run Model\n",
    "\n",
    "Model object creator defined in `models/moisture_models`. Has hyperparameters associated with model, such as fixed covariance matrices"
   ]
  },
  {
   "cell_type": "code",
   "execution_count": null,
   "id": "567172ff-363d-4469-865d-0d02e5c2a826",
   "metadata": {},
   "outputs": [],
   "source": [
    "ode = mm.ODE_FMC()"
   ]
  },
  {
   "cell_type": "code",
   "execution_count": null,
   "id": "5c5b1890-f887-4d23-a99b-04f70c5dc7e8",
   "metadata": {},
   "outputs": [],
   "source": [
    "ode.params"
   ]
  },
  {
   "cell_type": "markdown",
   "id": "b9679014-400d-4bf5-9dbb-f114cce0089f",
   "metadata": {},
   "source": [
    "### Run Single Case"
   ]
  },
  {
   "cell_type": "code",
   "execution_count": null,
   "id": "fa8a5a23-c369-4e95-8e17-7ef71529fb13",
   "metadata": {},
   "outputs": [],
   "source": [
    "u = ode.run_model_single(ode_data[\"YLSU1\"], hours=72, h2=24)"
   ]
  },
  {
   "cell_type": "code",
   "execution_count": null,
   "id": "9cf872f6-42eb-431a-9fa3-8657ba5b43cb",
   "metadata": {},
   "outputs": [],
   "source": [
    "print(u.shape)"
   ]
  },
  {
   "cell_type": "code",
   "execution_count": null,
   "id": "2579f46f-0fe4-4332-a148-bb472bc8fc60",
   "metadata": {},
   "outputs": [],
   "source": [
    "plt.plot(u[0,:])"
   ]
  },
  {
   "cell_type": "code",
   "execution_count": null,
   "id": "3a57b7f8-9eb9-4873-a016-310e0381e43b",
   "metadata": {},
   "outputs": [],
   "source": [
    "# Print RMSE for Period\n",
    "ode.eval(u[0,:], ode_data[\"YLSU1\"][\"data\"].fm.to_numpy())"
   ]
  },
  {
   "cell_type": "markdown",
   "id": "f44b8987-e254-403b-8099-caf9868396af",
   "metadata": {},
   "source": [
    "## Run Whole Dictionary"
   ]
  },
  {
   "cell_type": "code",
   "execution_count": null,
   "id": "bd95eee2-a5ff-451d-b79d-ad84454c7860",
   "metadata": {},
   "outputs": [],
   "source": [
    "m, errs = ode.run_model(ode_data, hours=72, h2=24)"
   ]
  },
  {
   "cell_type": "code",
   "execution_count": null,
   "id": "db33b9c3-6cf0-4137-896b-54a53b49e4b1",
   "metadata": {},
   "outputs": [],
   "source": [
    "# Should be shape (n_locations, forecast_hours, 1)\n",
    "print(m.shape)"
   ]
  },
  {
   "cell_type": "code",
   "execution_count": null,
   "id": "96dae4cb-d64f-4383-aa83-ca6f6ce5f899",
   "metadata": {},
   "outputs": [],
   "source": [
    "print(errs)"
   ]
  },
  {
   "cell_type": "code",
   "execution_count": null,
   "id": "2cd7ca6e-4c04-4b7b-b36a-4417fa30e365",
   "metadata": {},
   "outputs": [],
   "source": []
  },
  {
   "cell_type": "code",
   "execution_count": null,
   "id": "fb672176-7e8b-4964-8fe1-b30f81aec345",
   "metadata": {},
   "outputs": [],
   "source": []
  },
  {
   "cell_type": "code",
   "execution_count": null,
   "id": "4aebae48-94a0-40e6-85c4-e5d209b91fe0",
   "metadata": {},
   "outputs": [],
   "source": []
  }
 ],
 "metadata": {
  "kernelspec": {
   "display_name": "Python 3 (ipykernel)",
   "language": "python",
   "name": "python3"
  },
  "language_info": {
   "codemirror_mode": {
    "name": "ipython",
    "version": 3
   },
   "file_extension": ".py",
   "mimetype": "text/x-python",
   "name": "python",
   "nbconvert_exporter": "python",
   "pygments_lexer": "ipython3",
   "version": "3.12.2"
  }
 },
 "nbformat": 4,
 "nbformat_minor": 5
}

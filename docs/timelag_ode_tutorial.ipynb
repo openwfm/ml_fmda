{
 "cells": [
  {
   "cell_type": "markdown",
   "id": "9b7567a4-f8fc-43af-94ae-e8e87f1fae8d",
   "metadata": {},
   "source": [
    "# Timelag Differential Equation Tutorial\n",
    "\n",
    "The purpose of this notebook is to demonstrate the use of the physics-based fuel moisture model used with `wrfxpy`. This model is used as a benchmark for the machine learning methods. The model is a time-lag ODE plus a Kalman filter for assimilating fuel moisture observations."
   ]
  },
  {
   "cell_type": "markdown",
   "id": "cab3ef19-2d45-4530-8fd3-dc921ca8f1c5",
   "metadata": {},
   "source": [
    "## Setup"
   ]
  },
  {
   "cell_type": "code",
   "execution_count": null,
   "id": "135a712d-9cf1-43ea-867d-4f8ef71f827e",
   "metadata": {},
   "outputs": [],
   "source": [
    "import os.path as osp\n",
    "import json\n",
    "import sys\n",
    "import numpy as np\n",
    "import pandas as pd\n",
    "sys.path.append('../src')\n",
    "from utils import Dict, read_yml, read_pkl, str2time, print_dict_summary, time_range, rename_dict\n",
    "from data_funcs import retrieve_fmda_data\n",
    "import models.moisture_models as mm"
   ]
  },
  {
   "cell_type": "code",
   "execution_count": null,
   "id": "f3d15aff-8cd3-48ce-bf18-0c6ec3ba17f8",
   "metadata": {},
   "outputs": [],
   "source": []
  },
  {
   "cell_type": "code",
   "execution_count": null,
   "id": "6cf43462-0098-4d31-879e-65af1542744e",
   "metadata": {},
   "outputs": [],
   "source": [
    "params = read_yml(\"../etc/params_models.yaml\", subkey=\"ode\")\n",
    "print_dict_summary(params)"
   ]
  },
  {
   "cell_type": "code",
   "execution_count": null,
   "id": "77721d23-db77-4f4b-8a61-b314dbb84761",
   "metadata": {},
   "outputs": [],
   "source": [
    "dat = read_pkl(\"../data/test.pkl\")"
   ]
  },
  {
   "cell_type": "code",
   "execution_count": null,
   "id": "526bc1ce-a9ca-4fcb-af49-5bf66babff4e",
   "metadata": {},
   "outputs": [],
   "source": [
    "def is_consecutive_hours(times):\n",
    "    # Convert to numpy timedelta64[h] for hour differences\n",
    "    time_diffs = np.diff(times).astype('timedelta64[h]')\n",
    "    return np.all(time_diffs == np.timedelta64(1, 'h'))"
   ]
  },
  {
   "cell_type": "code",
   "execution_count": null,
   "id": "a3c8e710-b558-41c0-a9aa-36752de17bfb",
   "metadata": {},
   "outputs": [],
   "source": [
    "print(f\"Total hours: {dat[\"BRLW4\"][\"times\"].shape}\")\n",
    "print(f\"Check consecutive times: {is_consecutive_hours(dat[\"BRLW4\"][\"times\"])}\")"
   ]
  },
  {
   "cell_type": "code",
   "execution_count": null,
   "id": "05077fc0-80c2-4cd4-86c1-9778b32bf2e3",
   "metadata": {},
   "outputs": [],
   "source": [
    "ode = mm.ODE_FMC()"
   ]
  },
  {
   "cell_type": "code",
   "execution_count": null,
   "id": "f73146ba-6ad5-421f-b682-81a762ce72ec",
   "metadata": {},
   "outputs": [],
   "source": [
    "m, errs = ode.run_model(dat, hours=72, h2=48)"
   ]
  },
  {
   "cell_type": "code",
   "execution_count": null,
   "id": "47668ca3-166b-4883-9a3e-11d41f6b3f37",
   "metadata": {},
   "outputs": [],
   "source": [
    "m.shape"
   ]
  },
  {
   "cell_type": "code",
   "execution_count": null,
   "id": "73543003-b288-4ff2-82e8-63219b2dc574",
   "metadata": {},
   "outputs": [],
   "source": [
    "errs"
   ]
  },
  {
   "cell_type": "code",
   "execution_count": null,
   "id": "2e024a41-53f3-46c6-a4af-751d21ec064d",
   "metadata": {},
   "outputs": [],
   "source": [
    "type(dat[\"BRLW4\"][\"times\"][0])"
   ]
  },
  {
   "cell_type": "code",
   "execution_count": null,
   "id": "0e67c35c-4c8b-46c5-8f1c-5731092fac57",
   "metadata": {},
   "outputs": [],
   "source": []
  }
 ],
 "metadata": {
  "kernelspec": {
   "display_name": "Python 3 (ipykernel)",
   "language": "python",
   "name": "python3"
  },
  "language_info": {
   "codemirror_mode": {
    "name": "ipython",
    "version": 3
   },
   "file_extension": ".py",
   "mimetype": "text/x-python",
   "name": "python",
   "nbconvert_exporter": "python",
   "pygments_lexer": "ipython3",
   "version": "3.12.2"
  }
 },
 "nbformat": 4,
 "nbformat_minor": 5
}

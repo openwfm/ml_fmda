{
 "cells": [
  {
   "cell_type": "markdown",
   "id": "9b7567a4-f8fc-43af-94ae-e8e87f1fae8d",
   "metadata": {},
   "source": [
    "# Timelag Differential Equation Tutorial\n",
    "\n",
    "The purpose of this notebook is to demonstrate the use of the physics-based fuel moisture model used with `wrfxpy`. This model is used as a benchmark for the machine learning methods. The model is a time-lag ODE plus a Kalman filter for assimilating fuel moisture observations."
   ]
  },
  {
   "cell_type": "markdown",
   "id": "cab3ef19-2d45-4530-8fd3-dc921ca8f1c5",
   "metadata": {},
   "source": [
    "## Setup"
   ]
  },
  {
   "cell_type": "code",
   "execution_count": null,
   "id": "135a712d-9cf1-43ea-867d-4f8ef71f827e",
   "metadata": {},
   "outputs": [],
   "source": [
    "import os.path as osp\n",
    "import json\n",
    "import sys\n",
    "import numpy as np\n",
    "import pandas as pd\n",
    "sys.path.append('../src')\n",
    "from utils import Dict, read_yml, read_pkl, str2time, print_dict_summary, time_range, rename_dict\n",
    "from data_funcs import retrieve_fmda_data\n",
    "import models.moisture_models as mm\n",
    "import matplotlib.pyplot as plt"
   ]
  },
  {
   "cell_type": "code",
   "execution_count": null,
   "id": "f3d15aff-8cd3-48ce-bf18-0c6ec3ba17f8",
   "metadata": {},
   "outputs": [],
   "source": []
  },
  {
   "cell_type": "code",
   "execution_count": null,
   "id": "6cf43462-0098-4d31-879e-65af1542744e",
   "metadata": {},
   "outputs": [],
   "source": [
    "params = read_yml(\"../etc/params_models.yaml\", subkey=\"ode\")\n",
    "print_dict_summary(params)"
   ]
  },
  {
   "cell_type": "code",
   "execution_count": null,
   "id": "77721d23-db77-4f4b-8a61-b314dbb84761",
   "metadata": {},
   "outputs": [],
   "source": [
    "dat = read_pkl(\"../data/test.pkl\")"
   ]
  },
  {
   "cell_type": "code",
   "execution_count": null,
   "id": "526bc1ce-a9ca-4fcb-af49-5bf66babff4e",
   "metadata": {},
   "outputs": [],
   "source": [
    "def is_consecutive_hours(times):\n",
    "    # Convert to numpy timedelta64[h] for hour differences\n",
    "    time_diffs = np.diff(times).astype('timedelta64[h]')\n",
    "    return np.all(time_diffs == np.timedelta64(1, 'h'))"
   ]
  },
  {
   "cell_type": "code",
   "execution_count": null,
   "id": "a3c8e710-b558-41c0-a9aa-36752de17bfb",
   "metadata": {},
   "outputs": [],
   "source": [
    "print(f\"Total hours: {dat[\"BRLW4\"][\"times\"].shape}\")\n",
    "print(f\"Check consecutive times: {is_consecutive_hours(dat[\"BRLW4\"][\"times\"])}\")"
   ]
  },
  {
   "cell_type": "code",
   "execution_count": null,
   "id": "05077fc0-80c2-4cd4-86c1-9778b32bf2e3",
   "metadata": {},
   "outputs": [],
   "source": [
    "ode = mm.ODE_FMC()"
   ]
  },
  {
   "cell_type": "code",
   "execution_count": null,
   "id": "f73146ba-6ad5-421f-b682-81a762ce72ec",
   "metadata": {},
   "outputs": [],
   "source": [
    "m, errs = ode.run_model(dat, hours=72, h2=48)"
   ]
  },
  {
   "cell_type": "code",
   "execution_count": null,
   "id": "47668ca3-166b-4883-9a3e-11d41f6b3f37",
   "metadata": {},
   "outputs": [],
   "source": [
    "m.shape"
   ]
  },
  {
   "cell_type": "code",
   "execution_count": null,
   "id": "73543003-b288-4ff2-82e8-63219b2dc574",
   "metadata": {},
   "outputs": [],
   "source": [
    "errs"
   ]
  },
  {
   "cell_type": "code",
   "execution_count": null,
   "id": "1e5afed9-8ed7-44e1-9760-0f4841db1cc1",
   "metadata": {},
   "outputs": [],
   "source": [
    "plot_styles = {\n",
    "    'fm': {'color': '#468a29', 'linestyle':\"-\", 'label':'FM Observed'},\n",
    "    'preds': {'color': 'k', 'linestyle':\"-\", 'label':'FM Model'},\n",
    "    'Ed': {'color': '#EF847C', 'linestyle': '--', 'alpha':.8, 'label': 'drying EQ'},\n",
    "    'Ew': {'color': '#7CCCEF', 'linestyle': '--', 'alpha':.8, 'label': 'wetting EQ'},\n",
    "    'rain': {'color': 'b', 'linestyle': '-', 'alpha':.9, 'label': 'Rain'}\n",
    "}"
   ]
  },
  {
   "cell_type": "code",
   "execution_count": null,
   "id": "50fc933a-7134-4f5c-9dc8-eb2fa7f99381",
   "metadata": {},
   "outputs": [],
   "source": [
    "def plot_feature(x, y, feature_name):\n",
    "    style = plot_styles.get(feature_name, {})\n",
    "    plt.plot(x, y, **style)"
   ]
  },
  {
   "cell_type": "code",
   "execution_count": null,
   "id": "20336049-8bae-4440-94e1-fc3a955dbe91",
   "metadata": {},
   "outputs": [],
   "source": [
    "import matplotlib.dates as mdates"
   ]
  },
  {
   "cell_type": "code",
   "execution_count": null,
   "id": "a972ca00-5c81-4b6b-9c5a-ebdee998f061",
   "metadata": {},
   "outputs": [],
   "source": [
    "def plot_fmc(times, m, title=\"\", time_format = mdates.DateFormatter('%Y-%m-%d, %H:%M:%S')):\n",
    "    fig, ax = plt.subplots()\n",
    "    style = plot_styles.get(\"fm\", {})\n",
    "    ax.plot(times, m, **style)\n",
    "    ax.xaxis.set_major_formatter(time_format)\n",
    "    \n",
    "    # plot_feature(times, m, \"fm\")\n",
    "    plt.xticks(rotation=90)\n",
    "    if not title == \"\":\n",
    "        plt.title(title)"
   ]
  },
  {
   "cell_type": "code",
   "execution_count": null,
   "id": "ca9243d3-3cbc-4cfc-8554-a6b53e067b43",
   "metadata": {},
   "outputs": [],
   "source": [
    "dat[\"VRFN1\"][\"RAWS\"][\"fm\"]"
   ]
  },
  {
   "cell_type": "code",
   "execution_count": null,
   "id": "c55c0b56-aeea-484d-9869-5355dc913ebb",
   "metadata": {},
   "outputs": [],
   "source": [
    "plot_feature(dat[\"VRFN1\"][\"times\"], dat[\"VRFN1\"][\"RAWS\"][\"fm\"], \"fm\")"
   ]
  },
  {
   "cell_type": "code",
   "execution_count": null,
   "id": "b5a1cdc4-6e84-494c-b89c-62a7ff58836f",
   "metadata": {},
   "outputs": [],
   "source": []
  },
  {
   "cell_type": "code",
   "execution_count": null,
   "id": "5eb4dccd-08ba-4566-8b3a-a93fe43a9db8",
   "metadata": {},
   "outputs": [],
   "source": [
    "plot_fmc(dat[\"VRFN1\"][\"times\"], dat[\"VRFN1\"][\"RAWS\"][\"fm\"])"
   ]
  },
  {
   "cell_type": "code",
   "execution_count": null,
   "id": "0e67c35c-4c8b-46c5-8f1c-5731092fac57",
   "metadata": {},
   "outputs": [],
   "source": [
    "type(dat[\"VRFN1\"][\"times\"][0])"
   ]
  },
  {
   "cell_type": "code",
   "execution_count": null,
   "id": "9cf872f6-42eb-431a-9fa3-8657ba5b43cb",
   "metadata": {},
   "outputs": [],
   "source": []
  },
  {
   "cell_type": "code",
   "execution_count": null,
   "id": "96dae4cb-d64f-4383-aa83-ca6f6ce5f899",
   "metadata": {},
   "outputs": [],
   "source": []
  },
  {
   "cell_type": "code",
   "execution_count": null,
   "id": "4aebae48-94a0-40e6-85c4-e5d209b91fe0",
   "metadata": {},
   "outputs": [],
   "source": []
  }
 ],
 "metadata": {
  "kernelspec": {
   "display_name": "Python 3 (ipykernel)",
   "language": "python",
   "name": "python3"
  },
  "language_info": {
   "codemirror_mode": {
    "name": "ipython",
    "version": 3
   },
   "file_extension": ".py",
   "mimetype": "text/x-python",
   "name": "python",
   "nbconvert_exporter": "python",
   "pygments_lexer": "ipython3",
   "version": "3.12.2"
  }
 },
 "nbformat": 4,
 "nbformat_minor": 5
}

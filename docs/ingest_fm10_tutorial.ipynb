{
 "cells": [
  {
   "cell_type": "markdown",
   "id": "f1f4cc18-d23f-48ea-84dc-b0328a65e8e5",
   "metadata": {},
   "source": [
    "# Data Ingest of 10-h Fuel Moisture Content\n",
    "\n",
    "This notebook demonstrates retrieval and filtering of 10-h dead FMC data from RAWS. Retrieval of 10-h FMC observations is done with the software package `SynopticPy` and a stash of RAWS data kept and maintained by the broader OpenWFM community. This notebook will demonstrate use of `Synopticpy` with a free token, so limits are placed on the number of sensor hours that can be requested. Only records within the past year are freely available.\n",
    "\n",
    "The module `ingest/retrieve_raws_api.py` has an executable section and will be run from the command line within this project. Here, the functions are used individually to demonstrate their utility. \n",
    "\n",
    "Time frame and spatial domain for data ingest are controlled in automated processes in the configuration files `training_data_config.json` or the `forecast_config.json` files. We will manually enter time frame and spatial domain variables in this notebook."
   ]
  },
  {
   "cell_type": "markdown",
   "id": "d7c537a5-1963-48ff-a502-30247065a07d",
   "metadata": {},
   "source": [
    "The main steps in the retrieval are:\n",
    "* Use `synoptic.Metadata` to determine the RAWS with FMC data in the given spatial domain and time frame\n",
    "* Use `synoptic.Timeseries` to retrieve all available data that may be relevant to FMC modeling. *NOTE:* the stations are selected so they must have FMC data, and then any other available variables are collected as a bonus. These data are used for exploratory purposes and quality control checks, but predictors for final modeling comes from HRRR."
   ]
  },
  {
   "cell_type": "markdown",
   "id": "079a0743-ad31-4d16-8307-34cf84b5c28b",
   "metadata": {},
   "source": [
    "## References\n",
    "\n",
    "For more info on python library API, see Brian Blaylock's `SynopticPy` [python package](https://github.com/blaylockbk/SynopticPy)\n",
    "\n",
    "For more info on available Synoptic RAWS variables, see [Synoptic Data](https://demos.synopticdata.com/variables/index.html) documentation"
   ]
  },
  {
   "cell_type": "markdown",
   "id": "84ed774d-7bef-48e7-b9a6-8f4ba4e17d81",
   "metadata": {},
   "source": [
    "## Setup"
   ]
  },
  {
   "cell_type": "code",
   "execution_count": 1,
   "id": "509b32fd-9d6b-4582-b724-4d2a094a6832",
   "metadata": {},
   "outputs": [],
   "source": [
    "# import matplotlib.pyplot as plt\n",
    "from datetime import datetime, timezone\n",
    "from dateutil.relativedelta import relativedelta\n",
    "import synoptic\n",
    "import json\n",
    "import sys\n",
    "import numpy as np\n",
    "import polars as pl\n",
    "import pandas as pd\n",
    "sys.path.append('../src')\n",
    "from utils import Dict, read_yml\n",
    "# from utils import Dict, time_intp\n",
    "import ingest.retrieve_raws_api as rfuncs"
   ]
  },
  {
   "cell_type": "code",
   "execution_count": 2,
   "id": "7f188f45-4040-44f3-a4c7-344efdd4478b",
   "metadata": {},
   "outputs": [
    {
     "name": "stdout",
     "output_type": "stream",
     "text": [
      "Start Date of retrieval: 2024-10-17 21:00:00+00:00\n",
      "End Date of retrieval: 2024-12-17 21:00:00+00:00\n",
      "Spatial Domain: [40, -105, 45, -100]\n"
     ]
    }
   ],
   "source": [
    "end = datetime.now(timezone.utc)\n",
    "end = end.replace(minute=0, second=0, microsecond=0)\n",
    "start = end - relativedelta(months=2)\n",
    "bbox = [40, -105, 45, -100] # subset of the rocky mountain GACC region\n",
    "\n",
    "\n",
    "print(f\"Start Date of retrieval: {start}\")\n",
    "print(f\"End Date of retrieval: {end}\")\n",
    "print(f\"Spatial Domain: {bbox}\")"
   ]
  },
  {
   "cell_type": "markdown",
   "id": "19298030-f0c2-41dd-99ff-530eb6d2eaf8",
   "metadata": {},
   "source": [
    "## Stations MetaData\n",
    "\n",
    "*Note*: the bounding box format used in `wrfxpy` is `[min_lat, min_lon, max_lat, max_lon]`. But, the bounding box format used by Synoptic is `[min_lon, min_lat, max_lon, max_lat]`. The code will assume the `wrfxpy` format and convert internally."
   ]
  },
  {
   "cell_type": "code",
   "execution_count": 3,
   "id": "069a20a4-dd0f-44d1-8670-ca914111f17d",
   "metadata": {},
   "outputs": [],
   "source": [
    "bbox_reordered = [bbox[1], bbox[0], bbox[3], bbox[2]]"
   ]
  },
  {
   "cell_type": "code",
   "execution_count": 4,
   "id": "76b8d5ae-8dd6-4209-9abc-751518d91968",
   "metadata": {},
   "outputs": [
    {
     "data": {
      "text/plain": [
       "[-105, 40, -100, 45]"
      ]
     },
     "execution_count": 4,
     "metadata": {},
     "output_type": "execute_result"
    }
   ],
   "source": [
    "bbox_reordered"
   ]
  },
  {
   "cell_type": "code",
   "execution_count": 5,
   "id": "979f6579-4836-463a-b1e6-4ee282d6a256",
   "metadata": {},
   "outputs": [
    {
     "name": "stdout",
     "output_type": "stream",
     "text": [
      "🚚💨 Speedy delivery from Synoptic's \u001b[32mmetadata\u001b[0m service.\n",
      "📦 Received data from 29 stations.\n"
     ]
    }
   ],
   "source": [
    "sts = synoptic.Metadata(\n",
    "    bbox=bbox_reordered,\n",
    "    vars=[\"fuel_moisture\"], # Note we only want to include stations with FMC. Other \"raws_vars\" are bonus\n",
    "    obrange=(start, end),\n",
    ").df()"
   ]
  },
  {
   "cell_type": "code",
   "execution_count": 6,
   "id": "0d07e391-4166-46fd-a1f8-ab7a1e7945af",
   "metadata": {},
   "outputs": [
    {
     "data": {
      "text/html": [
       "<div><style>\n",
       ".dataframe > thead > tr,\n",
       ".dataframe > tbody > tr {\n",
       "  text-align: right;\n",
       "  white-space: pre-wrap;\n",
       "}\n",
       "</style>\n",
       "<small>shape: (29, 15)</small><table border=\"1\" class=\"dataframe\"><thead><tr><th>id</th><th>stid</th><th>name</th><th>elevation</th><th>latitude</th><th>longitude</th><th>mnet_id</th><th>state</th><th>timezone</th><th>elev_dem</th><th>period_of_record_start</th><th>period_of_record_end</th><th>is_restricted</th><th>restricted_metadata</th><th>is_active</th></tr><tr><td>u32</td><td>str</td><td>str</td><td>f64</td><td>f64</td><td>f64</td><td>u32</td><td>str</td><td>str</td><td>f64</td><td>datetime[μs, UTC]</td><td>datetime[μs, UTC]</td><td>bool</td><td>bool</td><td>bool</td></tr></thead><tbody><tr><td>2438</td><td>&quot;BRLW4&quot;</td><td>&quot;BEAR LODGE&quot;</td><td>5280.0</td><td>44.59722</td><td>-104.42806</td><td>2</td><td>&quot;WY&quot;</td><td>&quot;America/Denver&quot;</td><td>5236.2</td><td>1998-07-28 00:00:00 UTC</td><td>2024-12-17 20:55:00 UTC</td><td>false</td><td>false</td><td>true</td></tr><tr><td>3807</td><td>&quot;HSYN1&quot;</td><td>&quot;BESSEY&quot;</td><td>2873.0</td><td>41.89722</td><td>-100.31056</td><td>2</td><td>&quot;NE&quot;</td><td>&quot;America/Chicago&quot;</td><td>2841.2</td><td>2002-04-18 00:00:00 UTC</td><td>2024-12-17 20:23:00 UTC</td><td>false</td><td>false</td><td>true</td></tr><tr><td>3811</td><td>&quot;HRSN1&quot;</td><td>&quot;KINGS CANYON&quot;</td><td>4080.0</td><td>42.72361</td><td>-102.97167</td><td>2</td><td>&quot;NE&quot;</td><td>&quot;America/Denver&quot;</td><td>4124.0</td><td>2002-04-18 00:00:00 UTC</td><td>2024-12-17 20:22:00 UTC</td><td>false</td><td>false</td><td>true</td></tr><tr><td>3812</td><td>&quot;SBFN1&quot;</td><td>&quot;SCOTTS BLUFF&quot;</td><td>4224.0</td><td>41.82944</td><td>-103.70806</td><td>2</td><td>&quot;NE&quot;</td><td>&quot;America/Denver&quot;</td><td>4127.3</td><td>2002-04-18 00:00:00 UTC</td><td>2024-12-17 20:34:00 UTC</td><td>false</td><td>false</td><td>true</td></tr><tr><td>3815</td><td>&quot;DOHS2&quot;</td><td>&quot;BAKER PARK&quot;</td><td>4674.0</td><td>43.97917</td><td>-103.425</td><td>2</td><td>&quot;SD&quot;</td><td>&quot;America/Denver&quot;</td><td>4681.8</td><td>2002-04-18 00:00:00 UTC</td><td>2024-12-17 20:35:00 UTC</td><td>false</td><td>false</td><td>true</td></tr><tr><td>&hellip;</td><td>&hellip;</td><td>&hellip;</td><td>&hellip;</td><td>&hellip;</td><td>&hellip;</td><td>&hellip;</td><td>&hellip;</td><td>&hellip;</td><td>&hellip;</td><td>&hellip;</td><td>&hellip;</td><td>&hellip;</td><td>&hellip;</td><td>&hellip;</td></tr><tr><td>63602</td><td>&quot;MTRN1&quot;</td><td>&quot;MONTROSE&quot;</td><td>3734.0</td><td>42.92297</td><td>-103.70964</td><td>2</td><td>&quot;NE&quot;</td><td>&quot;America/Denver&quot;</td><td>3723.8</td><td>2017-11-30 20:26:00 UTC</td><td>2024-12-17 20:24:00 UTC</td><td>false</td><td>false</td><td>true</td></tr><tr><td>63604</td><td>&quot;MKVN1&quot;</td><td>&quot;MCKELVIE&quot;</td><td>3060.0</td><td>42.6894</td><td>-101.12824</td><td>2</td><td>&quot;NE&quot;</td><td>&quot;America/Denver&quot;</td><td>3044.6</td><td>2019-02-04 22:51:00 UTC</td><td>2024-12-17 20:49:00 UTC</td><td>false</td><td>false</td><td>true</td></tr><tr><td>89644</td><td>&quot;TT562&quot;</td><td>&quot;NORTH STERLING&quot;</td><td>4066.0</td><td>40.78858</td><td>-103.26281</td><td>2</td><td>&quot;CO&quot;</td><td>&quot;America/Denver&quot;</td><td>4071.5</td><td>2019-11-07 20:51:00 UTC</td><td>2024-12-17 20:45:00 UTC</td><td>false</td><td>false</td><td>true</td></tr><tr><td>89649</td><td>&quot;TT567&quot;</td><td>&quot;CROW CREEK&quot;</td><td>4850.0</td><td>40.65013</td><td>-104.3375</td><td>2</td><td>&quot;CO&quot;</td><td>&quot;America/Denver&quot;</td><td>4849.1</td><td>2020-04-28 20:12:00 UTC</td><td>2024-12-17 21:07:00 UTC</td><td>false</td><td>false</td><td>true</td></tr><tr><td>92611</td><td>&quot;SFRS2&quot;</td><td>&quot;SPEARFISH&quot;</td><td>3898.0</td><td>44.45823</td><td>-103.81873</td><td>2</td><td>&quot;SD&quot;</td><td>&quot;America/Denver&quot;</td><td>4245.4</td><td>2019-08-16 21:16:00 UTC</td><td>2024-12-17 21:11:00 UTC</td><td>false</td><td>false</td><td>true</td></tr></tbody></table></div>"
      ],
      "text/plain": [
       "shape: (29, 15)\n",
       "┌───────┬───────┬─────────────┬───────────┬───┬─────────────┬─────────────┬────────────┬───────────┐\n",
       "│ id    ┆ stid  ┆ name        ┆ elevation ┆ … ┆ period_of_r ┆ is_restrict ┆ restricted ┆ is_active │\n",
       "│ ---   ┆ ---   ┆ ---         ┆ ---       ┆   ┆ ecord_end   ┆ ed          ┆ _metadata  ┆ ---       │\n",
       "│ u32   ┆ str   ┆ str         ┆ f64       ┆   ┆ ---         ┆ ---         ┆ ---        ┆ bool      │\n",
       "│       ┆       ┆             ┆           ┆   ┆ datetime[μs ┆ bool        ┆ bool       ┆           │\n",
       "│       ┆       ┆             ┆           ┆   ┆ , UTC]      ┆             ┆            ┆           │\n",
       "╞═══════╪═══════╪═════════════╪═══════════╪═══╪═════════════╪═════════════╪════════════╪═══════════╡\n",
       "│ 2438  ┆ BRLW4 ┆ BEAR LODGE  ┆ 5280.0    ┆ … ┆ 2024-12-17  ┆ false       ┆ false      ┆ true      │\n",
       "│       ┆       ┆             ┆           ┆   ┆ 20:55:00    ┆             ┆            ┆           │\n",
       "│       ┆       ┆             ┆           ┆   ┆ UTC         ┆             ┆            ┆           │\n",
       "│ 3807  ┆ HSYN1 ┆ BESSEY      ┆ 2873.0    ┆ … ┆ 2024-12-17  ┆ false       ┆ false      ┆ true      │\n",
       "│       ┆       ┆             ┆           ┆   ┆ 20:23:00    ┆             ┆            ┆           │\n",
       "│       ┆       ┆             ┆           ┆   ┆ UTC         ┆             ┆            ┆           │\n",
       "│ 3811  ┆ HRSN1 ┆ KINGS       ┆ 4080.0    ┆ … ┆ 2024-12-17  ┆ false       ┆ false      ┆ true      │\n",
       "│       ┆       ┆ CANYON      ┆           ┆   ┆ 20:22:00    ┆             ┆            ┆           │\n",
       "│       ┆       ┆             ┆           ┆   ┆ UTC         ┆             ┆            ┆           │\n",
       "│ 3812  ┆ SBFN1 ┆ SCOTTS      ┆ 4224.0    ┆ … ┆ 2024-12-17  ┆ false       ┆ false      ┆ true      │\n",
       "│       ┆       ┆ BLUFF       ┆           ┆   ┆ 20:34:00    ┆             ┆            ┆           │\n",
       "│       ┆       ┆             ┆           ┆   ┆ UTC         ┆             ┆            ┆           │\n",
       "│ 3815  ┆ DOHS2 ┆ BAKER PARK  ┆ 4674.0    ┆ … ┆ 2024-12-17  ┆ false       ┆ false      ┆ true      │\n",
       "│       ┆       ┆             ┆           ┆   ┆ 20:35:00    ┆             ┆            ┆           │\n",
       "│       ┆       ┆             ┆           ┆   ┆ UTC         ┆             ┆            ┆           │\n",
       "│ …     ┆ …     ┆ …           ┆ …         ┆ … ┆ …           ┆ …           ┆ …          ┆ …         │\n",
       "│ 63602 ┆ MTRN1 ┆ MONTROSE    ┆ 3734.0    ┆ … ┆ 2024-12-17  ┆ false       ┆ false      ┆ true      │\n",
       "│       ┆       ┆             ┆           ┆   ┆ 20:24:00    ┆             ┆            ┆           │\n",
       "│       ┆       ┆             ┆           ┆   ┆ UTC         ┆             ┆            ┆           │\n",
       "│ 63604 ┆ MKVN1 ┆ MCKELVIE    ┆ 3060.0    ┆ … ┆ 2024-12-17  ┆ false       ┆ false      ┆ true      │\n",
       "│       ┆       ┆             ┆           ┆   ┆ 20:49:00    ┆             ┆            ┆           │\n",
       "│       ┆       ┆             ┆           ┆   ┆ UTC         ┆             ┆            ┆           │\n",
       "│ 89644 ┆ TT562 ┆ NORTH       ┆ 4066.0    ┆ … ┆ 2024-12-17  ┆ false       ┆ false      ┆ true      │\n",
       "│       ┆       ┆ STERLING    ┆           ┆   ┆ 20:45:00    ┆             ┆            ┆           │\n",
       "│       ┆       ┆             ┆           ┆   ┆ UTC         ┆             ┆            ┆           │\n",
       "│ 89649 ┆ TT567 ┆ CROW CREEK  ┆ 4850.0    ┆ … ┆ 2024-12-17  ┆ false       ┆ false      ┆ true      │\n",
       "│       ┆       ┆             ┆           ┆   ┆ 21:07:00    ┆             ┆            ┆           │\n",
       "│       ┆       ┆             ┆           ┆   ┆ UTC         ┆             ┆            ┆           │\n",
       "│ 92611 ┆ SFRS2 ┆ SPEARFISH   ┆ 3898.0    ┆ … ┆ 2024-12-17  ┆ false       ┆ false      ┆ true      │\n",
       "│       ┆       ┆             ┆           ┆   ┆ 21:11:00    ┆             ┆            ┆           │\n",
       "│       ┆       ┆             ┆           ┆   ┆ UTC         ┆             ┆            ┆           │\n",
       "└───────┴───────┴─────────────┴───────────┴───┴─────────────┴─────────────┴────────────┴───────────┘"
      ]
     },
     "execution_count": 6,
     "metadata": {},
     "output_type": "execute_result"
    }
   ],
   "source": [
    "sts"
   ]
  },
  {
   "cell_type": "markdown",
   "id": "4fbefa25-ac25-4164-adbc-187f9740b6b8",
   "metadata": {},
   "source": [
    "## Station Time Series\n",
    "\n",
    "Timeseries of observations are drawn for a single RAWS using the `synopticpy` package. Then, the data are formatted by custom funcitons in the `retrieve_raws_api` module. We subtract one hour from the start time because most stations produce data some number of minutes after the requested time, so if you request data at 1:00 the API will return data after that time. Then the temporal interpolation procedure, described below, will be extrapolating out at end points. Shifting the start time by 1 hour accounts for this, but if the start time is longer than 1 year in the past the API will truncate to 1 year."
   ]
  },
  {
   "cell_type": "code",
   "execution_count": 7,
   "id": "d0d3adf8-deef-4897-bda5-6376b205efa5",
   "metadata": {
    "scrolled": true
   },
   "outputs": [
    {
     "name": "stdout",
     "output_type": "stream",
     "text": [
      "🚚💨 Speedy delivery from Synoptic's \u001b[32mtimeseries\u001b[0m service.\n",
      "📦 Received data from 1 stations.\n"
     ]
    },
    {
     "data": {
      "text/html": [
       "<div><style>\n",
       ".dataframe > thead > tr,\n",
       ".dataframe > tbody > tr {\n",
       "  text-align: right;\n",
       "  white-space: pre-wrap;\n",
       "}\n",
       "</style>\n",
       "<small>shape: (10_255, 21)</small><table border=\"1\" class=\"dataframe\"><thead><tr><th>date_time</th><th>variable</th><th>sensor_index</th><th>is_derived</th><th>value</th><th>units</th><th>id</th><th>stid</th><th>name</th><th>elevation</th><th>latitude</th><th>longitude</th><th>mnet_id</th><th>state</th><th>timezone</th><th>elev_dem</th><th>period_of_record_start</th><th>period_of_record_end</th><th>is_restricted</th><th>restricted_metadata</th><th>is_active</th></tr><tr><td>datetime[μs, UTC]</td><td>str</td><td>u32</td><td>bool</td><td>f64</td><td>str</td><td>u32</td><td>str</td><td>str</td><td>f64</td><td>f64</td><td>f64</td><td>u32</td><td>str</td><td>str</td><td>f64</td><td>datetime[μs, UTC]</td><td>datetime[μs, UTC]</td><td>bool</td><td>bool</td><td>bool</td></tr></thead><tbody><tr><td>2024-10-17 20:23:00 UTC</td><td>&quot;air_temp&quot;</td><td>1</td><td>false</td><td>25.556</td><td>&quot;Celsius&quot;</td><td>3807</td><td>&quot;HSYN1&quot;</td><td>&quot;BESSEY&quot;</td><td>2873.0</td><td>41.89722</td><td>-100.31056</td><td>2</td><td>&quot;NE&quot;</td><td>&quot;America/Chicago&quot;</td><td>2841.2</td><td>2002-04-18 00:00:00 UTC</td><td>2024-12-17 21:23:00 UTC</td><td>false</td><td>false</td><td>true</td></tr><tr><td>2024-10-17 21:23:00 UTC</td><td>&quot;air_temp&quot;</td><td>1</td><td>false</td><td>26.111</td><td>&quot;Celsius&quot;</td><td>3807</td><td>&quot;HSYN1&quot;</td><td>&quot;BESSEY&quot;</td><td>2873.0</td><td>41.89722</td><td>-100.31056</td><td>2</td><td>&quot;NE&quot;</td><td>&quot;America/Chicago&quot;</td><td>2841.2</td><td>2002-04-18 00:00:00 UTC</td><td>2024-12-17 21:23:00 UTC</td><td>false</td><td>false</td><td>true</td></tr><tr><td>2024-10-17 22:23:00 UTC</td><td>&quot;air_temp&quot;</td><td>1</td><td>false</td><td>24.444</td><td>&quot;Celsius&quot;</td><td>3807</td><td>&quot;HSYN1&quot;</td><td>&quot;BESSEY&quot;</td><td>2873.0</td><td>41.89722</td><td>-100.31056</td><td>2</td><td>&quot;NE&quot;</td><td>&quot;America/Chicago&quot;</td><td>2841.2</td><td>2002-04-18 00:00:00 UTC</td><td>2024-12-17 21:23:00 UTC</td><td>false</td><td>false</td><td>true</td></tr><tr><td>2024-10-17 23:23:00 UTC</td><td>&quot;air_temp&quot;</td><td>1</td><td>false</td><td>23.889</td><td>&quot;Celsius&quot;</td><td>3807</td><td>&quot;HSYN1&quot;</td><td>&quot;BESSEY&quot;</td><td>2873.0</td><td>41.89722</td><td>-100.31056</td><td>2</td><td>&quot;NE&quot;</td><td>&quot;America/Chicago&quot;</td><td>2841.2</td><td>2002-04-18 00:00:00 UTC</td><td>2024-12-17 21:23:00 UTC</td><td>false</td><td>false</td><td>true</td></tr><tr><td>2024-10-18 00:23:00 UTC</td><td>&quot;air_temp&quot;</td><td>1</td><td>false</td><td>23.333</td><td>&quot;Celsius&quot;</td><td>3807</td><td>&quot;HSYN1&quot;</td><td>&quot;BESSEY&quot;</td><td>2873.0</td><td>41.89722</td><td>-100.31056</td><td>2</td><td>&quot;NE&quot;</td><td>&quot;America/Chicago&quot;</td><td>2841.2</td><td>2002-04-18 00:00:00 UTC</td><td>2024-12-17 21:23:00 UTC</td><td>false</td><td>false</td><td>true</td></tr><tr><td>&hellip;</td><td>&hellip;</td><td>&hellip;</td><td>&hellip;</td><td>&hellip;</td><td>&hellip;</td><td>&hellip;</td><td>&hellip;</td><td>&hellip;</td><td>&hellip;</td><td>&hellip;</td><td>&hellip;</td><td>&hellip;</td><td>&hellip;</td><td>&hellip;</td><td>&hellip;</td><td>&hellip;</td><td>&hellip;</td><td>&hellip;</td><td>&hellip;</td><td>&hellip;</td></tr><tr><td>2024-12-17 16:23:00 UTC</td><td>&quot;fuel_moisture&quot;</td><td>1</td><td>false</td><td>9.0</td><td>&quot;gm&quot;</td><td>3807</td><td>&quot;HSYN1&quot;</td><td>&quot;BESSEY&quot;</td><td>2873.0</td><td>41.89722</td><td>-100.31056</td><td>2</td><td>&quot;NE&quot;</td><td>&quot;America/Chicago&quot;</td><td>2841.2</td><td>2002-04-18 00:00:00 UTC</td><td>2024-12-17 21:23:00 UTC</td><td>false</td><td>false</td><td>true</td></tr><tr><td>2024-12-17 17:23:00 UTC</td><td>&quot;fuel_moisture&quot;</td><td>1</td><td>false</td><td>9.1</td><td>&quot;gm&quot;</td><td>3807</td><td>&quot;HSYN1&quot;</td><td>&quot;BESSEY&quot;</td><td>2873.0</td><td>41.89722</td><td>-100.31056</td><td>2</td><td>&quot;NE&quot;</td><td>&quot;America/Chicago&quot;</td><td>2841.2</td><td>2002-04-18 00:00:00 UTC</td><td>2024-12-17 21:23:00 UTC</td><td>false</td><td>false</td><td>true</td></tr><tr><td>2024-12-17 18:23:00 UTC</td><td>&quot;fuel_moisture&quot;</td><td>1</td><td>false</td><td>9.0</td><td>&quot;gm&quot;</td><td>3807</td><td>&quot;HSYN1&quot;</td><td>&quot;BESSEY&quot;</td><td>2873.0</td><td>41.89722</td><td>-100.31056</td><td>2</td><td>&quot;NE&quot;</td><td>&quot;America/Chicago&quot;</td><td>2841.2</td><td>2002-04-18 00:00:00 UTC</td><td>2024-12-17 21:23:00 UTC</td><td>false</td><td>false</td><td>true</td></tr><tr><td>2024-12-17 19:23:00 UTC</td><td>&quot;fuel_moisture&quot;</td><td>1</td><td>false</td><td>9.0</td><td>&quot;gm&quot;</td><td>3807</td><td>&quot;HSYN1&quot;</td><td>&quot;BESSEY&quot;</td><td>2873.0</td><td>41.89722</td><td>-100.31056</td><td>2</td><td>&quot;NE&quot;</td><td>&quot;America/Chicago&quot;</td><td>2841.2</td><td>2002-04-18 00:00:00 UTC</td><td>2024-12-17 21:23:00 UTC</td><td>false</td><td>false</td><td>true</td></tr><tr><td>2024-12-17 20:23:00 UTC</td><td>&quot;fuel_moisture&quot;</td><td>1</td><td>false</td><td>8.4</td><td>&quot;gm&quot;</td><td>3807</td><td>&quot;HSYN1&quot;</td><td>&quot;BESSEY&quot;</td><td>2873.0</td><td>41.89722</td><td>-100.31056</td><td>2</td><td>&quot;NE&quot;</td><td>&quot;America/Chicago&quot;</td><td>2841.2</td><td>2002-04-18 00:00:00 UTC</td><td>2024-12-17 21:23:00 UTC</td><td>false</td><td>false</td><td>true</td></tr></tbody></table></div>"
      ],
      "text/plain": [
       "shape: (10_255, 21)\n",
       "┌───────────┬───────────┬───────────┬───────────┬───┬───────────┬───────────┬───────────┬──────────┐\n",
       "│ date_time ┆ variable  ┆ sensor_in ┆ is_derive ┆ … ┆ period_of ┆ is_restri ┆ restricte ┆ is_activ │\n",
       "│ ---       ┆ ---       ┆ dex       ┆ d         ┆   ┆ _record_e ┆ cted      ┆ d_metadat ┆ e        │\n",
       "│ datetime[ ┆ str       ┆ ---       ┆ ---       ┆   ┆ nd        ┆ ---       ┆ a         ┆ ---      │\n",
       "│ μs, UTC]  ┆           ┆ u32       ┆ bool      ┆   ┆ ---       ┆ bool      ┆ ---       ┆ bool     │\n",
       "│           ┆           ┆           ┆           ┆   ┆ datetime[ ┆           ┆ bool      ┆          │\n",
       "│           ┆           ┆           ┆           ┆   ┆ μs, UTC]  ┆           ┆           ┆          │\n",
       "╞═══════════╪═══════════╪═══════════╪═══════════╪═══╪═══════════╪═══════════╪═══════════╪══════════╡\n",
       "│ 2024-10-1 ┆ air_temp  ┆ 1         ┆ false     ┆ … ┆ 2024-12-1 ┆ false     ┆ false     ┆ true     │\n",
       "│ 7         ┆           ┆           ┆           ┆   ┆ 7         ┆           ┆           ┆          │\n",
       "│ 20:23:00  ┆           ┆           ┆           ┆   ┆ 21:23:00  ┆           ┆           ┆          │\n",
       "│ UTC       ┆           ┆           ┆           ┆   ┆ UTC       ┆           ┆           ┆          │\n",
       "│ 2024-10-1 ┆ air_temp  ┆ 1         ┆ false     ┆ … ┆ 2024-12-1 ┆ false     ┆ false     ┆ true     │\n",
       "│ 7         ┆           ┆           ┆           ┆   ┆ 7         ┆           ┆           ┆          │\n",
       "│ 21:23:00  ┆           ┆           ┆           ┆   ┆ 21:23:00  ┆           ┆           ┆          │\n",
       "│ UTC       ┆           ┆           ┆           ┆   ┆ UTC       ┆           ┆           ┆          │\n",
       "│ 2024-10-1 ┆ air_temp  ┆ 1         ┆ false     ┆ … ┆ 2024-12-1 ┆ false     ┆ false     ┆ true     │\n",
       "│ 7         ┆           ┆           ┆           ┆   ┆ 7         ┆           ┆           ┆          │\n",
       "│ 22:23:00  ┆           ┆           ┆           ┆   ┆ 21:23:00  ┆           ┆           ┆          │\n",
       "│ UTC       ┆           ┆           ┆           ┆   ┆ UTC       ┆           ┆           ┆          │\n",
       "│ 2024-10-1 ┆ air_temp  ┆ 1         ┆ false     ┆ … ┆ 2024-12-1 ┆ false     ┆ false     ┆ true     │\n",
       "│ 7         ┆           ┆           ┆           ┆   ┆ 7         ┆           ┆           ┆          │\n",
       "│ 23:23:00  ┆           ┆           ┆           ┆   ┆ 21:23:00  ┆           ┆           ┆          │\n",
       "│ UTC       ┆           ┆           ┆           ┆   ┆ UTC       ┆           ┆           ┆          │\n",
       "│ 2024-10-1 ┆ air_temp  ┆ 1         ┆ false     ┆ … ┆ 2024-12-1 ┆ false     ┆ false     ┆ true     │\n",
       "│ 8         ┆           ┆           ┆           ┆   ┆ 7         ┆           ┆           ┆          │\n",
       "│ 00:23:00  ┆           ┆           ┆           ┆   ┆ 21:23:00  ┆           ┆           ┆          │\n",
       "│ UTC       ┆           ┆           ┆           ┆   ┆ UTC       ┆           ┆           ┆          │\n",
       "│ …         ┆ …         ┆ …         ┆ …         ┆ … ┆ …         ┆ …         ┆ …         ┆ …        │\n",
       "│ 2024-12-1 ┆ fuel_mois ┆ 1         ┆ false     ┆ … ┆ 2024-12-1 ┆ false     ┆ false     ┆ true     │\n",
       "│ 7         ┆ ture      ┆           ┆           ┆   ┆ 7         ┆           ┆           ┆          │\n",
       "│ 16:23:00  ┆           ┆           ┆           ┆   ┆ 21:23:00  ┆           ┆           ┆          │\n",
       "│ UTC       ┆           ┆           ┆           ┆   ┆ UTC       ┆           ┆           ┆          │\n",
       "│ 2024-12-1 ┆ fuel_mois ┆ 1         ┆ false     ┆ … ┆ 2024-12-1 ┆ false     ┆ false     ┆ true     │\n",
       "│ 7         ┆ ture      ┆           ┆           ┆   ┆ 7         ┆           ┆           ┆          │\n",
       "│ 17:23:00  ┆           ┆           ┆           ┆   ┆ 21:23:00  ┆           ┆           ┆          │\n",
       "│ UTC       ┆           ┆           ┆           ┆   ┆ UTC       ┆           ┆           ┆          │\n",
       "│ 2024-12-1 ┆ fuel_mois ┆ 1         ┆ false     ┆ … ┆ 2024-12-1 ┆ false     ┆ false     ┆ true     │\n",
       "│ 7         ┆ ture      ┆           ┆           ┆   ┆ 7         ┆           ┆           ┆          │\n",
       "│ 18:23:00  ┆           ┆           ┆           ┆   ┆ 21:23:00  ┆           ┆           ┆          │\n",
       "│ UTC       ┆           ┆           ┆           ┆   ┆ UTC       ┆           ┆           ┆          │\n",
       "│ 2024-12-1 ┆ fuel_mois ┆ 1         ┆ false     ┆ … ┆ 2024-12-1 ┆ false     ┆ false     ┆ true     │\n",
       "│ 7         ┆ ture      ┆           ┆           ┆   ┆ 7         ┆           ┆           ┆          │\n",
       "│ 19:23:00  ┆           ┆           ┆           ┆   ┆ 21:23:00  ┆           ┆           ┆          │\n",
       "│ UTC       ┆           ┆           ┆           ┆   ┆ UTC       ┆           ┆           ┆          │\n",
       "│ 2024-12-1 ┆ fuel_mois ┆ 1         ┆ false     ┆ … ┆ 2024-12-1 ┆ false     ┆ false     ┆ true     │\n",
       "│ 7         ┆ ture      ┆           ┆           ┆   ┆ 7         ┆           ┆           ┆          │\n",
       "│ 20:23:00  ┆           ┆           ┆           ┆   ┆ 21:23:00  ┆           ┆           ┆          │\n",
       "│ UTC       ┆           ┆           ┆           ┆   ┆ UTC       ┆           ┆           ┆          │\n",
       "└───────────┴───────────┴───────────┴───────────┴───┴───────────┴───────────┴───────────┴──────────┘"
      ]
     },
     "execution_count": 7,
     "metadata": {},
     "output_type": "execute_result"
    }
   ],
   "source": [
    "weather_vars = rfuncs.raws_vars_dict[\"raws_weather_vars\"]\n",
    "df_temp = synoptic.TimeSeries(\n",
    "        stid=\"HSYN1\",\n",
    "        start=start-relativedelta(hours=1),\n",
    "        end=end,\n",
    "        vars=weather_vars,\n",
    "        units = \"metric\"\n",
    "    ).df()\n",
    "\n",
    "df_temp"
   ]
  },
  {
   "cell_type": "code",
   "execution_count": 8,
   "id": "dc64d531-316c-46a8-8106-b6ffddadfbc3",
   "metadata": {},
   "outputs": [
    {
     "name": "stdout",
     "output_type": "stream",
     "text": [
      "Found 1465 FMC records\n",
      "Converting RAWS air temp from C to K\n",
      "Converting RAWS elevation from ft to meters\n"
     ]
    }
   ],
   "source": [
    "dat, units = rfuncs.format_raws(df_temp)"
   ]
  },
  {
   "cell_type": "code",
   "execution_count": 9,
   "id": "6bd18139-9f5f-4022-8f1f-698c840999ec",
   "metadata": {},
   "outputs": [
    {
     "data": {
      "text/plain": [
       "{'air_temp': 'Kelvin',\n",
       " 'relative_humidity': '%',\n",
       " 'precip_accum': 'Millimeters',\n",
       " 'fuel_moisture': 'gm',\n",
       " 'wind_speed': 'm/s',\n",
       " 'solar_radiation': 'W/m**2',\n",
       " 'wind_direction': 'Degrees',\n",
       " 'elevation': 'm'}"
      ]
     },
     "execution_count": 9,
     "metadata": {},
     "output_type": "execute_result"
    }
   ],
   "source": [
    "units"
   ]
  },
  {
   "cell_type": "code",
   "execution_count": null,
   "id": "d10cc831-f309-4d3d-af3a-20ca50b01358",
   "metadata": {},
   "outputs": [],
   "source": [
    "dat"
   ]
  },
  {
   "cell_type": "markdown",
   "id": "9a326d07-edf5-4285-a7c0-e81caf1774ed",
   "metadata": {},
   "source": [
    "We then loop over the station IDs found in the previous step and retrieve all available data and then rename and pivot from long to wide.\n",
    "\n",
    "*NOTE*: this process is not parallelized, as the same IP address is used for each request and parallization may result in issues"
   ]
  },
  {
   "cell_type": "code",
   "execution_count": null,
   "id": "ffb05f7b-24d7-4811-9b12-d16764d56561",
   "metadata": {
    "scrolled": true
   },
   "outputs": [],
   "source": [
    "print(f\"Attempting retrieval of RAWS from {start} to {end} within {bbox}\")\n",
    "print(\"~\"*75)\n",
    "\n",
    "raws_dict = {}\n",
    "\n",
    "for st in sts['stid']:\n",
    "    print(\"~\"*50)\n",
    "    print(f\"Attempting retrival of station {st}\")\n",
    "    df = synoptic.TimeSeries(\n",
    "        stid=st,\n",
    "        start=start-relativedelta(hours=1),\n",
    "        end=end,\n",
    "        vars=weather_vars,\n",
    "        units = \"metric\"\n",
    "    ).df()\n",
    "    \n",
    "    dat, units = rfuncs.format_raws(df)\n",
    "    loc = rfuncs.get_static(dat)\n",
    "    raws_dict[st] = {\n",
    "        'RAWS': dat,\n",
    "        'units': units,\n",
    "        'loc': loc,\n",
    "        'misc': \"Data retrieved using `synoptic.TimeSeries` and formatted with custom functions within `ml_fmda` project.\"\n",
    "    }"
   ]
  },
  {
   "cell_type": "code",
   "execution_count": null,
   "id": "1cc95c3b-bf47-4d85-a3df-919d23a833d8",
   "metadata": {},
   "outputs": [],
   "source": [
    "raws_dict.keys()"
   ]
  },
  {
   "cell_type": "code",
   "execution_count": null,
   "id": "3ed191a8-78fa-4cfe-92e0-1e005644494f",
   "metadata": {},
   "outputs": [],
   "source": [
    "st = [*raws_dict.keys()][0]\n",
    "raws_dict[st].keys()"
   ]
  },
  {
   "cell_type": "code",
   "execution_count": null,
   "id": "56fa62b9-cd10-43a7-86c1-a2d901b78ed1",
   "metadata": {},
   "outputs": [],
   "source": [
    "raws_dict[st]['loc']"
   ]
  },
  {
   "cell_type": "code",
   "execution_count": null,
   "id": "5300f861-25f0-4476-aaba-4a68ae45b5b7",
   "metadata": {},
   "outputs": [],
   "source": [
    "raws_dict[st]['units']"
   ]
  },
  {
   "cell_type": "code",
   "execution_count": null,
   "id": "89613564-a630-4ceb-97c1-6a15d3361530",
   "metadata": {},
   "outputs": [],
   "source": [
    "raws_dict[st]['misc']"
   ]
  },
  {
   "cell_type": "markdown",
   "id": "9bea92b6-4d7a-453d-adf0-46495e761f57",
   "metadata": {},
   "source": [
    "## Fix Time and Interpolate\n",
    "\n",
    "Synoptic may return RAWS data that has missing hours or is returned not exactly on the hour. The missing hours are simply absent in the return data, not marked by NaN. We fix that by filling in NaN for missing hours and interpolating to the exact hour. The resulting data should have regular hourly observations for every RAWS station."
   ]
  },
  {
   "cell_type": "code",
   "execution_count": null,
   "id": "c0a7fb2f-fcab-4322-8308-e5899437b05c",
   "metadata": {},
   "outputs": [],
   "source": [
    "times = pl.datetime_range(\n",
    "    start=start,\n",
    "    end=end,\n",
    "    interval=\"1h\",\n",
    "    time_zone = \"UTC\",\n",
    "    eager=True\n",
    ").alias(\"time\")\n",
    "# times = np.array([dt.strftime(\"%Y-%m-%dT%H:%M:%SZ\") for dt in times.to_list()])\n",
    "times = np.array(times.to_list())"
   ]
  },
  {
   "cell_type": "code",
   "execution_count": null,
   "id": "aea61230-cc2b-4f96-b104-23e4bbc87ffe",
   "metadata": {},
   "outputs": [],
   "source": [
    "df2 = rfuncs.time_intp_df(raws_dict[\"BRLW4\"][\"RAWS\"], times)\n",
    "df2"
   ]
  },
  {
   "cell_type": "markdown",
   "id": "e106051c-b6ae-45a2-aafe-aaf8445c6de7",
   "metadata": {},
   "source": [
    "We now loop over all stations and run temporal interpolation. We also convert to pandas for easier pickle write."
   ]
  },
  {
   "cell_type": "code",
   "execution_count": null,
   "id": "d3cd8c30-2cf0-4d45-9fac-3d0c09d1afb2",
   "metadata": {
    "scrolled": true
   },
   "outputs": [],
   "source": [
    "print(f\"Interpolating dataframe in time from {times.min()} to {times.max()}\")\n",
    "for st in raws_dict:\n",
    "    print(\"~\"*75)\n",
    "    print(st)\n",
    "    nsteps = raws_dict[st][\"RAWS\"].shape[0]\n",
    "    raws_dict[st][\"RAWS\"] = rfuncs.time_intp_df(raws_dict[st][\"RAWS\"], times)\n",
    "    raws_dict[st][\"RAWS\"] = pd.DataFrame(raws_dict[st][\"RAWS\"], columns = raws_dict[st][\"RAWS\"].columns)\n",
    "    raws_dict[st][\"times\"] = times\n",
    "    if raws_dict[st][\"RAWS\"].shape[0] != nsteps:\n",
    "        raws_dict[st][\"misc\"] += \" Interpolated data with numpy linear interpolation.\"\n",
    "        print(f\"    Original Dataframe time steps: {nsteps}\")\n",
    "        print(f\"    Interpolated DataFrame time steps: {raws_dict[st][\"RAWS\"].shape[0]}\")\n",
    "        print(f\"        interpolated {raws_dict[st][\"RAWS\"].shape[0] - nsteps} time steps\")"
   ]
  },
  {
   "cell_type": "code",
   "execution_count": null,
   "id": "742e7000-cd5a-4835-994c-2597e513fdbc",
   "metadata": {},
   "outputs": [],
   "source": [
    "# import pickle\n",
    "# with open(\"../data/raws_test.pkl\", 'wb') as file:\n",
    "#     pickle.dump(raws_dict, file)\n",
    "# with open(\"../data/raws_test.pkl\", \"rb\") as f:\n",
    "#     dat = pickle.load(f)\n",
    "# print(dat.keys())\n",
    "# dat[\"BRLW4\"][\"RAWS\"]"
   ]
  },
  {
   "cell_type": "code",
   "execution_count": null,
   "id": "75b7c95f-e7fd-43af-9c64-80625a318310",
   "metadata": {},
   "outputs": [],
   "source": []
  },
  {
   "cell_type": "code",
   "execution_count": null,
   "id": "7a2457bf-0688-4147-b50d-c1d6c7b83181",
   "metadata": {},
   "outputs": [],
   "source": []
  },
  {
   "cell_type": "code",
   "execution_count": null,
   "id": "ac512fe9-6309-45e1-bd85-86225123a167",
   "metadata": {},
   "outputs": [],
   "source": []
  }
 ],
 "metadata": {
  "kernelspec": {
   "display_name": "Python 3 (ipykernel)",
   "language": "python",
   "name": "python3"
  },
  "language_info": {
   "codemirror_mode": {
    "name": "ipython",
    "version": 3
   },
   "file_extension": ".py",
   "mimetype": "text/x-python",
   "name": "python",
   "nbconvert_exporter": "python",
   "pygments_lexer": "ipython3",
   "version": "3.12.2"
  }
 },
 "nbformat": 4,
 "nbformat_minor": 5
}

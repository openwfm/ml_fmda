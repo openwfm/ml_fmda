{
 "cells": [
  {
   "cell_type": "markdown",
   "id": "f1f4cc18-d23f-48ea-84dc-b0328a65e8e5",
   "metadata": {},
   "source": [
    "# Data Ingest of 10-h Fuel Moisture Content\n",
    "\n",
    "This notebook demonstrates retrieval and filtering of 10-h dead FMC data from RAWS. Retrieval of 10-h FMC observations is done with the software package `SynopticPy` and a stash of RAWS data kept and maintained by the broader OpenWFM community. This notebook will demonstrate use of `Synopticpy` with a free token, so limits are placed on the number of sensor hours that can be requested.\n",
    "\n",
    "For more info, see Brian Blaylock's `SynopticPy` [python package](https://github.com/blaylockbk/SynopticPy)"
   ]
  },
  {
   "cell_type": "markdown",
   "id": "d7c537a5-1963-48ff-a502-30247065a07d",
   "metadata": {},
   "source": [
    "The main steps in the retrieval are:\n",
    "* Use `synoptic.Metadata` to determine the RAWS with FMC data in the given spatial domain and time frame\n",
    "* "
   ]
  },
  {
   "cell_type": "markdown",
   "id": "84ed774d-7bef-48e7-b9a6-8f4ba4e17d81",
   "metadata": {},
   "source": [
    "## Setup"
   ]
  },
  {
   "cell_type": "code",
   "execution_count": null,
   "id": "509b32fd-9d6b-4582-b724-4d2a094a6832",
   "metadata": {},
   "outputs": [],
   "source": [
    "import matplotlib.pyplot as plt\n",
    "from datetime import datetime, timedelta\n",
    "import synoptic\n",
    "import json\n",
    "import sys\n",
    "sys.path.append('../src')\n",
    "from utils import Dict"
   ]
  },
  {
   "cell_type": "markdown",
   "id": "9721c0f9-709d-4bfe-91f1-914c5a034af1",
   "metadata": {},
   "source": [
    "A configuration file is used to control data ingest. Automated processes utilize the file `training_data_config.json` or `forecast_config.json`. In this tutorial, we will manually build a config file"
   ]
  },
  {
   "cell_type": "code",
   "execution_count": null,
   "id": "c680e49a-a2f3-4472-b5a2-5c9f79870c85",
   "metadata": {},
   "outputs": [],
   "source": [
    "config = Dict({\n",
    "    'start_time': '2024-01-01_00:00:00',\n",
    "    'end_time': '2024-01-01_02:00:00',\n",
    "    'bbox': [37, -111, 46, -95],\n",
    "    'raws_vars': [\"fuel_moisture\"]\n",
    "})\n",
    "\n",
    "config"
   ]
  },
  {
   "cell_type": "markdown",
   "id": "19298030-f0c2-41dd-99ff-530eb6d2eaf8",
   "metadata": {},
   "source": [
    "## Stations MetaData\n",
    "\n",
    "*Note*: the bounding box format used in `wrfxpy` is `[min_lat, min_lon, max_lat, max_lon]`. But, the bounding box format used by Synoptic is `[min_lon, min_lat, max_lon, max_lat]`."
   ]
  },
  {
   "cell_type": "code",
   "execution_count": null,
   "id": "069a20a4-dd0f-44d1-8670-ca914111f17d",
   "metadata": {},
   "outputs": [],
   "source": [
    "bbox = config.bbox\n",
    "bbox_reordered = [bbox[1], bbox[0], bbox[3], bbox[2]]\n",
    "start = datetime.strptime(config.start_time, \"%Y-%m-%d_%H:%M:%S\")\n",
    "end = datetime.strptime(config.end_time, \"%Y-%m-%d_%H:%M:%S\")\n",
    "raws_vars = config.raws_vars"
   ]
  },
  {
   "cell_type": "code",
   "execution_count": null,
   "id": "979f6579-4836-463a-b1e6-4ee282d6a256",
   "metadata": {},
   "outputs": [],
   "source": [
    "sts = synoptic.Metadata(\n",
    "    bbox=bbox_reordered,\n",
    "    vars=raws_vars,\n",
    "    obrange=(start, end),\n",
    ").df()"
   ]
  },
  {
   "cell_type": "code",
   "execution_count": null,
   "id": "5148a09f-5277-4f64-a582-fa97087358b5",
   "metadata": {},
   "outputs": [],
   "source": [
    "sts"
   ]
  },
  {
   "cell_type": "markdown",
   "id": "4fbefa25-ac25-4164-adbc-187f9740b6b8",
   "metadata": {},
   "source": [
    "## Station Time Series\n",
    "\n",
    "We loop over the station IDs found in the previous step and retrieve all available data.\n",
    "\n",
    "*NOTE*: this process is not parallelized, as the same IP address is used for each request and parallization may result in issues"
   ]
  },
  {
   "cell_type": "code",
   "execution_count": null,
   "id": "ffb05f7b-24d7-4811-9b12-d16764d56561",
   "metadata": {
    "scrolled": true
   },
   "outputs": [],
   "source": [
    "print(f\"Attempting retrieval of RAWS from {start} to {end} within {bbox}\")\n",
    "print(\"~\"*75)\n",
    "\n",
    "raws_dict = {}\n",
    "\n",
    "for st in sts['stid']:\n",
    "    print(\"~\"*50)\n",
    "    print(f\"Attempting retrival of station {st}\")\n",
    "    df_temp = synoptic.TimeSeries(\n",
    "        stid=\"CPTC2\",\n",
    "        start=start,\n",
    "        end=end,\n",
    "        vars=[\"fuel_moisture\"]\n",
    "    ).df()\n",
    "    if df_temp.shape[0] > 0:\n",
    "        print(f\"Found {df_temp.shape[0]} FMC records. Saving to data dictionary\")\n",
    "        raws_dict[st] = df_temp"
   ]
  },
  {
   "cell_type": "code",
   "execution_count": null,
   "id": "dfe8decc-f6cd-4938-a4ed-47381ae3df46",
   "metadata": {},
   "outputs": [],
   "source": [
    "raws_dict.keys()"
   ]
  },
  {
   "cell_type": "code",
   "execution_count": null,
   "id": "3841401f-c4ff-406e-868f-be25be8f9dc4",
   "metadata": {},
   "outputs": [],
   "source": [
    "raws_dict['CPTC2']"
   ]
  },
  {
   "cell_type": "code",
   "execution_count": null,
   "id": "6901c78a-8f6f-4af7-8fbe-e0e15dea0b6c",
   "metadata": {},
   "outputs": [],
   "source": []
  }
 ],
 "metadata": {
  "kernelspec": {
   "display_name": "Python 3 (ipykernel)",
   "language": "python",
   "name": "python3"
  },
  "language_info": {
   "codemirror_mode": {
    "name": "ipython",
    "version": 3
   },
   "file_extension": ".py",
   "mimetype": "text/x-python",
   "name": "python",
   "nbconvert_exporter": "python",
   "pygments_lexer": "ipython3",
   "version": "3.11.11"
  }
 },
 "nbformat": 4,
 "nbformat_minor": 5
}

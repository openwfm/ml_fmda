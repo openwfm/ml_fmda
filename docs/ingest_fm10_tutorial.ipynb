{
 "cells": [
  {
   "cell_type": "markdown",
   "id": "f1f4cc18-d23f-48ea-84dc-b0328a65e8e5",
   "metadata": {},
   "source": [
    "# Data Ingest of 10-h Fuel Moisture Content\n",
    "\n",
    "This notebook demonstrates retrieval and filtering of 10-h dead FMC data from RAWS. Retrieval of 10-h FMC observations is done with the software package `SynopticPy` and a stash of RAWS data kept and maintained by the broader OpenWFM community. This notebook will demonstrate use of `Synopticpy` with a free token, so limits are placed on the number of sensor hours that can be requested.\n",
    "\n",
    "For more info, see Brian Blaylock's `SynopticPy` [python package](https://github.com/blaylockbk/SynopticPy)"
   ]
  },
  {
   "cell_type": "markdown",
   "id": "d7c537a5-1963-48ff-a502-30247065a07d",
   "metadata": {},
   "source": [
    "The main steps in the retrieval are:\n",
    "* Use `synoptic.Metadata` to determine the RAWS with FMC data in the given spatial domain and time frame\n",
    "* "
   ]
  },
  {
   "cell_type": "markdown",
   "id": "84ed774d-7bef-48e7-b9a6-8f4ba4e17d81",
   "metadata": {},
   "source": [
    "## Setup"
   ]
  },
  {
   "cell_type": "code",
   "execution_count": null,
   "id": "509b32fd-9d6b-4582-b724-4d2a094a6832",
   "metadata": {},
   "outputs": [],
   "source": [
    "import matplotlib.pyplot as plt\n",
    "from datetime import datetime, timedelta\n",
    "import synoptic\n",
    "import json\n",
    "import sys\n",
    "import polars as pl\n",
    "sys.path.append('../src')\n",
    "from utils import Dict"
   ]
  },
  {
   "cell_type": "markdown",
   "id": "9721c0f9-709d-4bfe-91f1-914c5a034af1",
   "metadata": {},
   "source": [
    "A configuration file is used to control data ingest. Automated processes utilize the file `training_data_config.json` or `forecast_config.json`. In this tutorial, we will manually build a config file"
   ]
  },
  {
   "cell_type": "code",
   "execution_count": null,
   "id": "c680e49a-a2f3-4472-b5a2-5c9f79870c85",
   "metadata": {},
   "outputs": [],
   "source": [
    "config = Dict({\n",
    "    'start_time': '2024-01-01_00:00:00',\n",
    "    'end_time': '2024-01-01_02:00:00',\n",
    "    'bbox': [37, -111, 46, -95],\n",
    "    # 'raws_vars': [\"fuel_moisture\"]\n",
    "    'raws_vars': [\"air_temp\", \"relative_humidity\", \"precip_accum\", \"fuel_moisture\", \"wind_speed\", \"solar_radiation\", \"soil_moisture\"]\n",
    "})\n",
    "\n",
    "config"
   ]
  },
  {
   "cell_type": "markdown",
   "id": "19298030-f0c2-41dd-99ff-530eb6d2eaf8",
   "metadata": {},
   "source": [
    "## Stations MetaData\n",
    "\n",
    "*Note*: the bounding box format used in `wrfxpy` is `[min_lat, min_lon, max_lat, max_lon]`. But, the bounding box format used by Synoptic is `[min_lon, min_lat, max_lon, max_lat]`."
   ]
  },
  {
   "cell_type": "code",
   "execution_count": null,
   "id": "069a20a4-dd0f-44d1-8670-ca914111f17d",
   "metadata": {},
   "outputs": [],
   "source": [
    "bbox = config.bbox\n",
    "bbox_reordered = [bbox[1], bbox[0], bbox[3], bbox[2]]\n",
    "start = datetime.strptime(config.start_time, \"%Y-%m-%d_%H:%M:%S\")\n",
    "end = datetime.strptime(config.end_time, \"%Y-%m-%d_%H:%M:%S\")\n",
    "raws_vars = config.raws_vars"
   ]
  },
  {
   "cell_type": "code",
   "execution_count": null,
   "id": "979f6579-4836-463a-b1e6-4ee282d6a256",
   "metadata": {},
   "outputs": [],
   "source": [
    "sts = synoptic.Metadata(\n",
    "    bbox=bbox_reordered,\n",
    "    vars=[\"fuel_moisture\"], # Note we only want to include stations with FMC. Other \"raws_vars\" are bonus\n",
    "    obrange=(start, end),\n",
    ").df()"
   ]
  },
  {
   "cell_type": "code",
   "execution_count": null,
   "id": "5148a09f-5277-4f64-a582-fa97087358b5",
   "metadata": {},
   "outputs": [],
   "source": [
    "sts"
   ]
  },
  {
   "cell_type": "markdown",
   "id": "4fbefa25-ac25-4164-adbc-187f9740b6b8",
   "metadata": {},
   "source": [
    "## Station Time Series\n",
    "\n",
    "We loop over the station IDs found in the previous step and retrieve all available data and then format and clean.\n",
    "\n",
    "*NOTE*: this process is not parallelized, as the same IP address is used for each request and parallization may result in issues"
   ]
  },
  {
   "cell_type": "code",
   "execution_count": null,
   "id": "c0abc62d-f063-48f8-8677-209f7f33525d",
   "metadata": {},
   "outputs": [],
   "source": [
    "# name_mapping = {\n",
    "#     \"air_temp\":\"temp\", \n",
    "#     \"fuel_moisture\":\"fm\", \n",
    "#     \"relative_humidity\":\"rh\", \n",
    "#     \"precip_accum\":\"rain\",\n",
    "#     \"solar_radiation\":\"solar\", \n",
    "#     \"wind_speed\":\"wind\", \n",
    "#     \"precip_accum\":\"precip_accum\", \n",
    "#     \"soil_moisture\":\"soil_moisture\"\n",
    "# }"
   ]
  },
  {
   "cell_type": "code",
   "execution_count": null,
   "id": "658e6e0e-57a8-4621-a904-7cad9a05912c",
   "metadata": {},
   "outputs": [],
   "source": [
    "def format_raws(df, tstart, tend, \n",
    "                static_cols = [\"stid\", \"latitude\", \"longitude\", \"elevation\", \"name\", \"state\", \"id\"], \n",
    "                weather_vars = [\"air_temp\", \"relative_humidity\", \"precip_accum\", \"fuel_moisture\", \"wind_speed\", \"solar_radiation\", \"soil_moisture\"],\n",
    "                verbose=True):\n",
    "    # Given input dataframe (the output of synoptic.TimeSeries), return formatted dictionary\n",
    "    # Inputs:\n",
    "    # df: (dataframe)\n",
    "    # tstart: (datetime)\n",
    "    # tend: (datetime)\n",
    "    # Returns: tuple of dictionaries, location data and raws data (loc, raws)    \n",
    "    ## NOTE: assumes you can join by date_time in the dataframe\n",
    "\n",
    "    ## Set up return dictionaries\n",
    "    loc = {} # static, physical features of the location\n",
    "    weather = {} # time-dynamic weather variables\n",
    "    units = {} # stores units for variables\n",
    "    \n",
    "    ## Extract Static Info into dictionary, raise error if any static vars missing\n",
    "    for col in static_cols:\n",
    "        if col not in df.columns:\n",
    "            raise ValueError(f\"Column '{col}' does not exist in the input dataframe.\")\n",
    "        unique_vals = df[col].unique()\n",
    "        if len(unique_vals) != 1:\n",
    "            raise ValueError(f\"Column '{col}' must have exactly one unique value, found {len(unique_vals)}: {unique_vals}\")\n",
    "        loc[col] = unique_vals[0]     \n",
    "    if 'elevation' in static_cols: # convert ft to meters\n",
    "        if verbose:\n",
    "            print(\"Converting elevation from ft to meters\")\n",
    "        loc['elevation'] = loc['elevation'] * 0.3048\n",
    "        units['elevation'] = \"m\"\n",
    "\n",
    "    ## Extract weather data into dictionary, allow for missing data except fuel moisture\n",
    "    ## Extract value and associated time\n",
    "    assert \"fuel_moisture\" in df[\"variable\"], \"fuel_moisture not detected in input dictionary\"\n",
    "    for var in weather_vars:\n",
    "        if var in df['variable']:\n",
    "            df_temp = df.filter(df['variable'] == var)\n",
    "            unit = df_temp['units'].unique()\n",
    "            if len(unit) != 1:\n",
    "                raise ValueError(f\"Variable {var} has multiple values for units\")\n",
    "            units[var] = unit[0]\n",
    "    \n",
    "    dat = df.filter(pl.col(\"variable\").is_in(weather_vars))\n",
    "    dat = dat.pivot(\n",
    "        values=\"value\",\n",
    "        index=[\"date_time\", \"stid\", \"longitude\", \"latitude\"],\n",
    "        on=\"variable\"\n",
    "    )\n",
    "\n",
    "    if \"air_temp\" in dat.columns and units['air_temp'] == \"Celsius\":\n",
    "        print(\"Converting RAWS air temp from C to K\")\n",
    "        units['air_temp'] = \"K\"\n",
    "        \n",
    "        \n",
    "\n",
    "        \n",
    "    return loc, units, dat"
   ]
  },
  {
   "cell_type": "code",
   "execution_count": null,
   "id": "dc64d531-316c-46a8-8106-b6ffddadfbc3",
   "metadata": {},
   "outputs": [],
   "source": [
    "format_raws(df_temp, start, end, weather_vars = config.raws_vars)"
   ]
  },
  {
   "cell_type": "code",
   "execution_count": null,
   "id": "d0d3adf8-deef-4897-bda5-6376b205efa5",
   "metadata": {},
   "outputs": [],
   "source": [
    "df_temp = synoptic.TimeSeries(\n",
    "        stid=\"CPTC2\",\n",
    "        start=start,\n",
    "        end=end,\n",
    "        vars=config.raws_vars\n",
    "    ).df()"
   ]
  },
  {
   "cell_type": "code",
   "execution_count": null,
   "id": "44c891d4-83d7-44b1-a614-000e24b4f2f4",
   "metadata": {},
   "outputs": [],
   "source": [
    "df_temp"
   ]
  },
  {
   "cell_type": "code",
   "execution_count": null,
   "id": "1574fdc0-ae3c-489c-97f1-65ac9daed607",
   "metadata": {},
   "outputs": [],
   "source": [
    "weather_vars = [\"air_temp\", \"relative_humidity\", \"precip_accum\", \"fuel_moisture\", \"wind_speed\", \"solar_radiation\", \"soil_moisture\"]"
   ]
  },
  {
   "cell_type": "code",
   "execution_count": null,
   "id": "14bd2247-8dbb-4221-895e-f2afab3cfd99",
   "metadata": {},
   "outputs": [],
   "source": [
    "df = df_temp"
   ]
  },
  {
   "cell_type": "code",
   "execution_count": null,
   "id": "342b2dfd-302f-457d-b440-d198e5f23b94",
   "metadata": {},
   "outputs": [],
   "source": [
    "weather_df = df.filter(pl.col(\"variable\").is_in(weather_vars))"
   ]
  },
  {
   "cell_type": "code",
   "execution_count": null,
   "id": "e187e295-ba47-4e14-ac24-f911d63bc51a",
   "metadata": {},
   "outputs": [],
   "source": [
    "weather_df"
   ]
  },
  {
   "cell_type": "code",
   "execution_count": null,
   "id": "7db7cea6-597a-4fd1-84b6-9a8fcd048c11",
   "metadata": {},
   "outputs": [],
   "source": [
    "result_df = weather_df.pivot(\n",
    "    values=\"value\",\n",
    "    index=\"date_time\",\n",
    "    on=\"variable\"\n",
    ")"
   ]
  },
  {
   "cell_type": "code",
   "execution_count": null,
   "id": "b7022258-17ce-42c6-960b-488647694a56",
   "metadata": {},
   "outputs": [],
   "source": []
  },
  {
   "cell_type": "code",
   "execution_count": null,
   "id": "cecd5025-dd2d-4e53-b11a-35c557523096",
   "metadata": {},
   "outputs": [],
   "source": []
  },
  {
   "cell_type": "code",
   "execution_count": null,
   "id": "e930da3d-2f4f-4451-9d77-966c2bfdd111",
   "metadata": {},
   "outputs": [],
   "source": []
  },
  {
   "cell_type": "code",
   "execution_count": null,
   "id": "9d104a56-bfe3-46a5-8b0c-9f26eaa7d0b9",
   "metadata": {},
   "outputs": [],
   "source": []
  },
  {
   "cell_type": "code",
   "execution_count": null,
   "id": "c948c3e9-fe4e-4801-b3bb-314f7f698862",
   "metadata": {},
   "outputs": [],
   "source": []
  },
  {
   "cell_type": "code",
   "execution_count": null,
   "id": "42f194cf-91e2-4e17-b3a2-dcb114953b78",
   "metadata": {},
   "outputs": [],
   "source": []
  },
  {
   "cell_type": "code",
   "execution_count": null,
   "id": "f58b1a44-0dfa-40da-ac71-27ccdb6dd100",
   "metadata": {},
   "outputs": [],
   "source": []
  },
  {
   "cell_type": "code",
   "execution_count": null,
   "id": "76bc1e11-bd96-4ba7-b4a3-4a125f8f1f65",
   "metadata": {},
   "outputs": [],
   "source": []
  },
  {
   "cell_type": "code",
   "execution_count": null,
   "id": "ffb05f7b-24d7-4811-9b12-d16764d56561",
   "metadata": {
    "scrolled": true
   },
   "outputs": [],
   "source": [
    "print(f\"Attempting retrieval of RAWS from {start} to {end} within {bbox}\")\n",
    "print(\"~\"*75)\n",
    "\n",
    "raws_dict = {}\n",
    "\n",
    "for st in sts['stid']:\n",
    "    print(\"~\"*50)\n",
    "    print(f\"Attempting retrival of station {st}\")\n",
    "    df_temp = synoptic.TimeSeries(\n",
    "        stid=\"CPTC2\",\n",
    "        start=start,\n",
    "        end=end,\n",
    "        vars=[\"fuel_moisture\"]\n",
    "    ).df()\n",
    "\n",
    "    \n",
    "    \n",
    "    if df_temp.shape[0] > 0:\n",
    "        print(f\"Found {df_temp.shape[0]} FMC records. Saving to data dictionary\")\n",
    "        raws_dict[st] = df_temp"
   ]
  },
  {
   "cell_type": "code",
   "execution_count": null,
   "id": "e5525660-ba5e-4784-ab45-e36caeacc631",
   "metadata": {},
   "outputs": [],
   "source": []
  },
  {
   "cell_type": "code",
   "execution_count": null,
   "id": "60e54921-89ff-4f6e-8977-5d22f01f1138",
   "metadata": {},
   "outputs": [],
   "source": []
  },
  {
   "cell_type": "code",
   "execution_count": null,
   "id": "6901c78a-8f6f-4af7-8fbe-e0e15dea0b6c",
   "metadata": {},
   "outputs": [],
   "source": []
  }
 ],
 "metadata": {
  "kernelspec": {
   "display_name": "Python 3 (ipykernel)",
   "language": "python",
   "name": "python3"
  },
  "language_info": {
   "codemirror_mode": {
    "name": "ipython",
    "version": 3
   },
   "file_extension": ".py",
   "mimetype": "text/x-python",
   "name": "python",
   "nbconvert_exporter": "python",
   "pygments_lexer": "ipython3",
   "version": "3.12.2"
  }
 },
 "nbformat": 4,
 "nbformat_minor": 5
}

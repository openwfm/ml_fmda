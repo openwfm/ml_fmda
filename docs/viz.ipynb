{
 "cells": [
  {
   "cell_type": "markdown",
   "id": "48f6e8b4-f15f-4535-b7a6-40e9d91bacb0",
   "metadata": {},
   "source": [
    "# Visualizations"
   ]
  },
  {
   "cell_type": "markdown",
   "id": "940956d3-1ce9-4c47-925f-943de0e1ec95",
   "metadata": {},
   "source": [
    "## Setup"
   ]
  },
  {
   "cell_type": "code",
   "execution_count": null,
   "id": "2e3a02ea-8611-4d1b-ade4-13ce0dfacc62",
   "metadata": {},
   "outputs": [],
   "source": [
    "import matplotlib.pyplot as plt\n",
    "from herbie import FastHerbie, paint, wgrib2, Herbie\n",
    "# from herbie.toolbox import EasyMap, ccrs, pc\n",
    "import xarray as xr\n",
    "from datetime import datetime\n",
    "import sys\n",
    "import os.path as osp\n",
    "import pandas as pd\n",
    "import numpy as np\n",
    "sys.path.append(\"../src\")\n",
    "from utils import Dict, read_yml, str2time, print_dict_summary, read_pkl\n",
    "from viz import map_var, create_gif"
   ]
  },
  {
   "cell_type": "code",
   "execution_count": null,
   "id": "96bbbc89-715e-4400-880a-bb231f2f52a9",
   "metadata": {},
   "outputs": [],
   "source": [
    "with open(\"../etc/forecast_config.json\", \"r\") as json_file:\n",
    "    config = json.load(json_file)   \n",
    "    config = Dict(config)\n",
    "config.update({\n",
    "    'start_time': \"2024-12-01T00:00:00Z\",\n",
    "    'end_time': \"2024-12-02T23:00:00Z\"\n",
    "})\n",
    "print_dict_summary(config)"
   ]
  },
  {
   "cell_type": "code",
   "execution_count": null,
   "id": "1454ddbd-c41b-44d6-8ed0-e4e6d307837a",
   "metadata": {},
   "outputs": [],
   "source": [
    "## Retrieve Data\n",
    "# hrrr_ds = ih.retrieve_hrrr(config)\n",
    "# hrrr_ds[\"date_time\"] = hrrr_ds[\"date_time\"].astype(\"datetime64[ns]\")\n",
    "\n",
    "## Save Data\n",
    "# hrrr_ds.to_netcdf(\"../data/hrrr_ds.nc\")\n",
    "\n",
    "## Read HRRR Data\n",
    "hrrr_ds = xr.open_dataset(\"../data/hrrr_ds.nc\")"
   ]
  },
  {
   "cell_type": "code",
   "execution_count": null,
   "id": "eeae63da-0766-487f-9f37-7d24ada0d2aa",
   "metadata": {
    "scrolled": true
   },
   "outputs": [],
   "source": [
    "config.update({\n",
    "    'start_time': \"2023-12-01T00:00:00Z\",\n",
    "    'end_time': \"2023-12-07T23:00:00Z\"\n",
    "})\n",
    "raws_dict = rrs.build_raws_dict(config)"
   ]
  },
  {
   "cell_type": "markdown",
   "id": "8adf0f34-9db5-499b-af73-1fb49166f506",
   "metadata": {},
   "source": [
    "## Viz"
   ]
  },
  {
   "cell_type": "markdown",
   "id": "d6854099-405e-4f52-895e-93a56c28eaa0",
   "metadata": {},
   "source": [
    "### Animated Maps"
   ]
  },
  {
   "cell_type": "code",
   "execution_count": null,
   "id": "d030efc6-53db-492b-b182-e6fdbea6812e",
   "metadata": {},
   "outputs": [],
   "source": [
    "H = Herbie(\"2024-01-01\", product=\"sfc\")\n",
    "ds = H.xarray(\"(?:HGT|LAND):surface\")\n",
    "\n",
    "hrrr_ds[\"Ew\"] = hrrr_ds.Ew.where(ds.lsm > 0)"
   ]
  },
  {
   "cell_type": "code",
   "execution_count": null,
   "id": "e05716f7-ba06-42ab-b368-9a933055280d",
   "metadata": {},
   "outputs": [],
   "source": [
    "mt_time = pd.to_datetime(hrrr_ds.valid_time.values).tz_localize(\"UTC\").tz_convert(\"America/Denver\")"
   ]
  },
  {
   "cell_type": "code",
   "execution_count": null,
   "id": "dde4e8d1-acaf-4c1e-a44d-cd2a0ed16de0",
   "metadata": {},
   "outputs": [],
   "source": [
    "tstep = 0\n",
    "\n",
    "t = hrrr_ds.valid_time[tstep]\n",
    "t = f\"{t.dt.year.item():04d}-{t.dt.month.item():02d}-{t.dt.day.item():02d} {t.dt.hour.item():02d}:{t.dt.minute.item():02d}:{t.dt.second.item():02d}\"\n",
    "\n",
    "map_var(hrrr_ds, \"Ew\", \n",
    "        time_step = tstep,\n",
    "        legend_title = \"Fuel Moisture Content (%)\",\n",
    "        title = f\"FMC Forecast at {t} UTC\"\n",
    "       )"
   ]
  },
  {
   "cell_type": "code",
   "execution_count": null,
   "id": "d34d157d-d248-4e6b-9760-8daa0abce74d",
   "metadata": {},
   "outputs": [],
   "source": [
    "# Define time steps (e.g., first 10)\n",
    "time_steps = range(0, 48)  # Adjust as needed\n",
    "create_gif(hrrr_ds, \"Ew\", time_steps, legend_title=\"Fuel Moisture Content (%)\", gif_path='../outputs/fmc.gif', duration=0.5)\n"
   ]
  },
  {
   "cell_type": "code",
   "execution_count": null,
   "id": "be0a2bcd-d20e-43dc-9c80-d42229b270f8",
   "metadata": {},
   "outputs": [],
   "source": [
    "# create_gif(hrrr_ds, \"rh\", time_steps, legend_title=\"Relative Humidity (%)\", gif_path='../outputs/rh.gif', duration=0.5)"
   ]
  },
  {
   "cell_type": "code",
   "execution_count": null,
   "id": "cf7bf7ac-d4cf-44d2-a4bd-cfce907bd097",
   "metadata": {},
   "outputs": [],
   "source": [
    "# create_gif(hrrr_ds, \"temp\", time_steps, legend_title=\"Air Temperature (K)\", gif_path='../outputs/temp.gif', duration=0.5)"
   ]
  },
  {
   "cell_type": "code",
   "execution_count": null,
   "id": "c1148fc7-b36d-4751-914e-d0025c0898fb",
   "metadata": {},
   "outputs": [],
   "source": [
    "# create_gif(hrrr_ds, \"wind\", time_steps, legend_title=\"Wind Speed 10m (m/s)\", gif_path='../outputs/wind.gif', duration=0.5)"
   ]
  },
  {
   "cell_type": "markdown",
   "id": "50543c58-0b93-4bc0-9741-f67d0530c55b",
   "metadata": {},
   "source": [
    "### Timeseries Plots"
   ]
  },
  {
   "cell_type": "code",
   "execution_count": null,
   "id": "fd52b5da-ee06-4719-853a-03f97cc56d40",
   "metadata": {},
   "outputs": [],
   "source": [
    "raws_dict.keys()"
   ]
  },
  {
   "cell_type": "code",
   "execution_count": null,
   "id": "4cf843d0-d18e-41b5-a028-d0cebfb71f14",
   "metadata": {},
   "outputs": [],
   "source": [
    "st = \"HSYN1\"\n",
    "y = raws_dict[st][\"RAWS\"][\"fm\"].to_numpy()\n",
    "x = raws_dict[st][\"times\"]\n",
    "plt.plot(y, linestyle='-',c='#468a29',label='FM Observed')\n",
    "plt.xlabel(\"Hour\")\n",
    "plt.ylabel(\"FMC (%)\")\n",
    "plt.savefig(\"../outputs/ts.png\")"
   ]
  },
  {
   "cell_type": "code",
   "execution_count": null,
   "id": "d466d5e5-4591-4d05-9682-60db75073b02",
   "metadata": {},
   "outputs": [],
   "source": [
    "st = \"TT562\"\n",
    "y = raws_dict[st][\"RAWS\"][\"fm\"].to_numpy()\n",
    "x = raws_dict[st][\"times\"]\n",
    "plt.plot(x, y, linestyle='-',c='#468a29',label='FM Observed')\n",
    "plt.legend()\n",
    "plt.title(f\"Observed FMC at RAWS {st}\")\n",
    "plt.xticks(rotation=90)\n",
    "plt.savefig(\"../outputs/fmc_ts.png\")"
   ]
  },
  {
   "cell_type": "code",
   "execution_count": null,
   "id": "31e01598-4f5e-4f7b-95fc-defdcb0e5ed5",
   "metadata": {},
   "outputs": [],
   "source": []
  },
  {
   "cell_type": "code",
   "execution_count": null,
   "id": "0683f1ee-fb44-4876-8861-96100c9f41db",
   "metadata": {},
   "outputs": [],
   "source": []
  },
  {
   "cell_type": "code",
   "execution_count": null,
   "id": "b515eb2b-f858-4483-a841-7450ac238219",
   "metadata": {},
   "outputs": [],
   "source": []
  },
  {
   "cell_type": "code",
   "execution_count": null,
   "id": "46dd1bfe-1f62-48fa-8b5a-6e370ce69393",
   "metadata": {},
   "outputs": [],
   "source": []
  }
 ],
 "metadata": {
  "kernelspec": {
   "display_name": "Python 3 (ipykernel)",
   "language": "python",
   "name": "python3"
  },
  "language_info": {
   "codemirror_mode": {
    "name": "ipython",
    "version": 3
   },
   "file_extension": ".py",
   "mimetype": "text/x-python",
   "name": "python",
   "nbconvert_exporter": "python",
   "pygments_lexer": "ipython3",
   "version": "3.12.2"
  }
 },
 "nbformat": 4,
 "nbformat_minor": 5
}

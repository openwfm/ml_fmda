{
 "cells": [
  {
   "cell_type": "markdown",
   "id": "48f6e8b4-f15f-4535-b7a6-40e9d91bacb0",
   "metadata": {},
   "source": [
    "# Visualizations"
   ]
  },
  {
   "cell_type": "markdown",
   "id": "940956d3-1ce9-4c47-925f-943de0e1ec95",
   "metadata": {},
   "source": [
    "## Setup"
   ]
  },
  {
   "cell_type": "code",
   "execution_count": null,
   "id": "2e3a02ea-8611-4d1b-ade4-13ce0dfacc62",
   "metadata": {},
   "outputs": [],
   "source": [
    "import matplotlib.pyplot as plt\n",
    "from herbie import FastHerbie, paint, wgrib2, Herbie\n",
    "from herbie.toolbox import EasyMap, ccrs, pc\n",
    "import xarray as xr\n",
    "from datetime import datetime\n",
    "import sys\n",
    "import os.path as osp\n",
    "import pandas as pd\n",
    "import numpy as np\n",
    "sys.path.append(\"../src\")\n",
    "from utils import Dict, read_yml, str2time, print_dict_summary, read_pkl\n",
    "from viz import map_var, create_gif"
   ]
  },
  {
   "cell_type": "code",
   "execution_count": null,
   "id": "56698ec9-94e3-43d8-887d-0b5ccf1a5b22",
   "metadata": {},
   "outputs": [],
   "source": [
    "data = pd.read_pickle(\"../data/ml_data_rocky24.pkl\")\n",
    "outdir = \"../outputs/forecast_outputs\""
   ]
  },
  {
   "cell_type": "code",
   "execution_count": null,
   "id": "1454ddbd-c41b-44d6-8ed0-e4e6d307837a",
   "metadata": {},
   "outputs": [],
   "source": [
    "# Read HRRR Data\n",
    "H = Herbie(\"2025-01-01\", product=\"prs\")\n",
    "ds = H.xarray(\"(?:HGT|LAND):surface\")\n",
    "hrrr_ds = xr.open_dataset(\"../data/fm_preds_hrrr.nc\")\n",
    "hrrr_ds.herbie.crs = ds.herbie.crs"
   ]
  },
  {
   "cell_type": "markdown",
   "id": "8adf0f34-9db5-499b-af73-1fb49166f506",
   "metadata": {},
   "source": [
    "## Viz"
   ]
  },
  {
   "cell_type": "markdown",
   "id": "d6854099-405e-4f52-895e-93a56c28eaa0",
   "metadata": {},
   "source": [
    "### Animated Maps"
   ]
  },
  {
   "cell_type": "code",
   "execution_count": null,
   "id": "d030efc6-53db-492b-b182-e6fdbea6812e",
   "metadata": {},
   "outputs": [],
   "source": [
    "hrrr_ds[\"Ew\"] = hrrr_ds.Ew.where(hrrr_ds.lsm > 0)\n",
    "hrrr_ds[\"fm_preds\"] = hrrr_ds.fm_preds.where(hrrr_ds.lsm > 0)"
   ]
  },
  {
   "cell_type": "code",
   "execution_count": null,
   "id": "e05716f7-ba06-42ab-b368-9a933055280d",
   "metadata": {},
   "outputs": [],
   "source": [
    "mt_time = pd.to_datetime(hrrr_ds.valid_time.values).tz_localize(\"UTC\").tz_convert(\"America/Denver\")"
   ]
  },
  {
   "cell_type": "code",
   "execution_count": null,
   "id": "dde4e8d1-acaf-4c1e-a44d-cd2a0ed16de0",
   "metadata": {},
   "outputs": [],
   "source": [
    "tstep = 0\n",
    "\n",
    "t = hrrr_ds.valid_time[tstep]\n",
    "t = f\"{t.dt.year.item():04d}-{t.dt.month.item():02d}-{t.dt.day.item():02d} {t.dt.hour.item():02d}:{t.dt.minute.item():02d}:{t.dt.second.item():02d}\"\n",
    "\n",
    "map_var(hrrr_ds, \"Ew\", \n",
    "        time_step = tstep,\n",
    "        legend_title = \"Equilibrium Moisture Content (%)\",\n",
    "        title = f\"Wetting Equilibrium HRRR Forecast at {t} UTC\"\n",
    "       )"
   ]
  },
  {
   "cell_type": "code",
   "execution_count": null,
   "id": "d34d157d-d248-4e6b-9760-8daa0abce74d",
   "metadata": {},
   "outputs": [],
   "source": [
    "# Define time steps (e.g., first 10)\n",
    "time_steps = range(0, 48)  \n",
    "create_gif(hrrr_ds, \"Ew\", time_steps, \n",
    "           legend_title=\"Equilibrium Moisture Content (%)\", gif_path='../outputs/eq.gif', duration=0.5)\n"
   ]
  },
  {
   "cell_type": "code",
   "execution_count": null,
   "id": "448f20ea-cf36-472c-99e3-f8eacc8c5003",
   "metadata": {},
   "outputs": [],
   "source": [
    "tstep = 0\n",
    "time_steps = range(0, 48)  \n",
    "t = hrrr_ds.valid_time[tstep]\n",
    "t = f\"{t.dt.year.item():04d}-{t.dt.month.item():02d}-{t.dt.day.item():02d} {t.dt.hour.item():02d}:{t.dt.minute.item():02d}:{t.dt.second.item():02d}\"\n",
    "\n",
    "create_gif(hrrr_ds, \"fm_preds\", time_steps, legend_title=\"Fuel Moisture Content (%)\", gif_path='../outputs/fmc2.gif', duration=0.5)"
   ]
  },
  {
   "cell_type": "code",
   "execution_count": null,
   "id": "be0a2bcd-d20e-43dc-9c80-d42229b270f8",
   "metadata": {},
   "outputs": [],
   "source": [
    "create_gif(hrrr_ds, \"rh\", time_steps, legend_title=\"Relative Humidity (%)\", gif_path='../outputs/rh2.gif', duration=0.5)"
   ]
  },
  {
   "cell_type": "code",
   "execution_count": null,
   "id": "0a197269-0bc3-4e2a-8628-8730ca90b642",
   "metadata": {},
   "outputs": [],
   "source": [
    "create_gif(hrrr_ds, \"rain\", time_steps, legend_title=\"Rain (mm/hr)\", gif_path='../outputs/rain.gif', duration=0.5)"
   ]
  },
  {
   "cell_type": "code",
   "execution_count": null,
   "id": "cf7bf7ac-d4cf-44d2-a4bd-cfce907bd097",
   "metadata": {},
   "outputs": [],
   "source": [
    "create_gif(hrrr_ds, \"temp\", time_steps, legend_title=\"Air Temperature (K)\", gif_path='../outputs/temp2.gif', duration=0.5)"
   ]
  },
  {
   "cell_type": "code",
   "execution_count": null,
   "id": "c1148fc7-b36d-4751-914e-d0025c0898fb",
   "metadata": {},
   "outputs": [],
   "source": [
    "tstep = 0\n",
    "time_steps = range(0, 48)  \n",
    "t = hrrr_ds.valid_time[tstep]\n",
    "t = f\"{t.dt.year.item():04d}-{t.dt.month.item():02d}-{t.dt.day.item():02d} {t.dt.hour.item():02d}:{t.dt.minute.item():02d}:{t.dt.second.item():02d}\"\n",
    "\n",
    "create_gif(hrrr_ds, \"wind\", time_steps, legend_title=\"Wind Speed 10m (m/s)\", gif_path='../outputs/wind2.gif', duration=0.5)"
   ]
  },
  {
   "cell_type": "markdown",
   "id": "032551eb-6caf-4699-9bfc-28b05b2f5410",
   "metadata": {},
   "source": [
    "## Predictor Maps\n",
    "\n",
    "Show that rain has discontinuities, rh and temp smooth."
   ]
  },
  {
   "cell_type": "code",
   "execution_count": null,
   "id": "b2089ce9-1bfe-4145-94aa-9c6410c6f86c",
   "metadata": {},
   "outputs": [],
   "source": [
    "bbox = [37,-111,46,-95]"
   ]
  },
  {
   "cell_type": "code",
   "execution_count": null,
   "id": "b393c2ff-1e3b-42ec-82ed-21ad62518b6b",
   "metadata": {},
   "outputs": [],
   "source": [
    "tstep = 47\n",
    "t = hrrr_ds.valid_time[tstep]\n",
    "t = f\"{t.dt.year.item():04d}-{t.dt.month.item():02d}-{t.dt.day.item():02d} {t.dt.hour.item():02d}:{t.dt.minute.item():02d}:{t.dt.second.item():02d}\"\n",
    "\n",
    "map_var(hrrr_ds, \"rain\", \n",
    "        time_step = tstep,\n",
    "        legend_title = \"Rain (mm/hr)\",\n",
    "        title = f\"Rain HRRR Forecast at {t} UTC\",\n",
    "        save_path = \"../outputs/rain_map.png\"\n",
    "       )"
   ]
  },
  {
   "cell_type": "code",
   "execution_count": null,
   "id": "ebcef495-352e-4e22-9741-82bdd5c8e7c7",
   "metadata": {},
   "outputs": [],
   "source": [
    "map_var(hrrr_ds, \"temp\", \n",
    "        time_step = tstep,\n",
    "        legend_title = \"Temperature (k)\",\n",
    "        title = f\"Air Temp HRRR Forecast at {t} UTC\",\n",
    "        save_path = \"../outputs/temp_map.png\"\n",
    "       )"
   ]
  },
  {
   "cell_type": "code",
   "execution_count": null,
   "id": "64da2742-3c10-4fc3-b504-fd4ba7b71b4e",
   "metadata": {},
   "outputs": [],
   "source": [
    "map_var(hrrr_ds, \"rh\", \n",
    "        time_step = tstep,\n",
    "        legend_title = \"Relative Humidity (%)\",\n",
    "        title = f\"Relative Humidity HRRR Forecast at {t} UTC\",\n",
    "        save_path = \"../outputs/rh_map.png\"\n",
    "       )"
   ]
  },
  {
   "cell_type": "code",
   "execution_count": null,
   "id": "0933173a-74d8-4b18-967e-365558c6ae6f",
   "metadata": {},
   "outputs": [],
   "source": [
    "map_var(hrrr_ds, \"Ew\", \n",
    "        time_step = 0,\n",
    "        legend_title = \"Equilibrium Moisture Content (%)\",\n",
    "        title = f\"Eq from HRRR Forecast at {t} UTC\",\n",
    "        save_path = \"../outputs/eq_map.png\"\n",
    "       )"
   ]
  },
  {
   "cell_type": "code",
   "execution_count": null,
   "id": "64820787-9433-4ccf-ab70-61d16ea4aa5d",
   "metadata": {},
   "outputs": [],
   "source": [
    "hrrr_ds['longitude'] = xr.where(hrrr_ds.longitude > 180, hrrr_ds.longitude - 360, hrrr_ds.longitude)\n",
    "lat = hrrr_ds.latitude\n",
    "lon = hrrr_ds.longitude\n",
    "\n",
    "mask = (\n",
    "    (lat >= bbox[0]) & (lat <= bbox[2]) &\n",
    "    (lon >= bbox[1]) & (lon <= bbox[3])\n",
    ")\n",
    "\n",
    "subset = hrrr_ds.where(mask)                    # apply mask\n",
    "subset = subset.dropna(dim='x', how='all')      # drop fully-masked columns\n",
    "subset = subset.dropna(dim='y', how='all')      # drop fully-masked rows\n",
    "subset.herbie.crs = ds.herbie.crs"
   ]
  },
  {
   "cell_type": "code",
   "execution_count": null,
   "id": "b4978977-6222-41a1-aeab-688bd2e3a679",
   "metadata": {},
   "outputs": [],
   "source": [
    "# tstep=47\n",
    "# t = hrrr_ds.valid_time[tstep]\n",
    "# t = f\"{t.dt.year.item():04d}-{t.dt.month.item():02d}-{t.dt.day.item():02d} {t.dt.hour.item():02d}:{t.dt.minute.item():02d}:{t.dt.second.item():02d}\"\n",
    "\n",
    "# map_var(subset, \"rain\", \n",
    "#         time_step = tstep,\n",
    "#         legend_title = \"Rain (mm/hr)\",\n",
    "#         title = f\"Rain HRRR Forecast at {t} UTC - Rocky Mountain GACC\",\n",
    "#         save_path = \"../outputs/rain_map_zoom.png\"\n",
    "#        )"
   ]
  },
  {
   "cell_type": "code",
   "execution_count": null,
   "id": "4f891345-7e56-40ac-82e2-a85824e9ec30",
   "metadata": {},
   "outputs": [],
   "source": [
    "# map_var(subset, \"temp\", \n",
    "#         time_step = tstep,\n",
    "#         legend_title = \"Temperature (k)\",\n",
    "#         title = f\"Temperature HRRR Forecast at {t} UTC - Rocky Mountain GACC|\",\n",
    "#         save_path = \"../outputs/temp_map_zoom.png\"\n",
    "#        )"
   ]
  },
  {
   "cell_type": "code",
   "execution_count": null,
   "id": "d71bdf6f-d475-4873-821f-439e9e188619",
   "metadata": {},
   "outputs": [],
   "source": [
    "# map_var(subset, \"rh\", \n",
    "#         time_step = tstep,\n",
    "#         legend_title = \"Relative Humidity (%)\",\n",
    "#         title = f\"Relative Humidity HRRR Forecast at {t} UTC - Rocky Mountain GACC\",\n",
    "#         save_path = \"../outputs/rh_map_zoom.png\"\n",
    "#        )"
   ]
  },
  {
   "cell_type": "code",
   "execution_count": null,
   "id": "1933ef81-e1d4-4ea3-8836-c50e0aa6c63f",
   "metadata": {},
   "outputs": [],
   "source": [
    "map_var(subset, \"Ew\", \n",
    "        time_step = 0,\n",
    "        legend_title = \"Equilibrium Moisture Content (%)\",\n",
    "        title = f\"Eq from HRRR Forecast at {t} UTC - Rocky Mountain GACC\",\n",
    "        save_path = \"../outputs/eq_map_zoom.png\"\n",
    "       )"
   ]
  },
  {
   "cell_type": "markdown",
   "id": "50543c58-0b93-4bc0-9741-f67d0530c55b",
   "metadata": {},
   "source": [
    "### Timeseries Plots"
   ]
  },
  {
   "cell_type": "markdown",
   "id": "5369e8cc-c16a-4908-8e53-c0e973e13e22",
   "metadata": {},
   "source": [
    "### Plot fm"
   ]
  },
  {
   "cell_type": "code",
   "execution_count": null,
   "id": "f70ee55f-3393-46ae-ba8e-00a8d04f7b3d",
   "metadata": {},
   "outputs": [],
   "source": [
    "start = str2time(\"2024-01-01T00:00:00Z\")\n",
    "end = str2time(\"2024-01-02T23:00:00Z\")\n",
    "st = \"SOPC2\""
   ]
  },
  {
   "cell_type": "code",
   "execution_count": null,
   "id": "60b26861-143c-46e8-898a-8c298ee9f5fb",
   "metadata": {},
   "outputs": [],
   "source": [
    "df= data[st][\"data\"]\n",
    "df = df[(df.date_time >= start) & (df.date_time <= end)]"
   ]
  },
  {
   "cell_type": "code",
   "execution_count": null,
   "id": "4e095172-5b5f-457f-ada6-90a8f1d13c15",
   "metadata": {},
   "outputs": [],
   "source": [
    "plt.rcParams.update({'font.size': 16})  # or try 12, 16, etc.\n",
    "\n",
    "fig, axs = plt.subplots(4, 1, figsize=(12, 8), sharex=True, constrained_layout=True)\n",
    "axs[0].set_title(f\"HRRR Weather Forecast at RAWS {st}\")\n",
    "axs[0].plot(df.date_time, df.Ed, color='#EF847C', label=\"Eq\")\n",
    "axs[0].set_ylabel(\"Eq Moisture (%)\")\n",
    "\n",
    "axs[1].plot(df.date_time, df.wind, color=\"gray\", label=\"Wind\")\n",
    "axs[1].set_ylabel(\"Wind Speed (m/s)\")\n",
    "\n",
    "axs[2].plot(df.date_time, df.rain, color=\"blue\", label=\"Rain\")\n",
    "axs[2].set_ylabel(\"Rain (mm/hr)\")\n",
    "\n",
    "axs[3].plot(df.date_time, df.elev, color=\"k\", label=\"Elevation\")\n",
    "axs[3].set_ylabel(\"Elevation (m)\")\n",
    "\n",
    "import matplotlib.lines as mlines\n",
    "ellipsis_line = mlines.Line2D([], [], color='none', label='...')\n",
    "\n",
    "\n",
    "lines = []\n",
    "labels = []\n",
    "for ax in axs:\n",
    "    for line in ax.get_lines():\n",
    "        lines.append(line)\n",
    "        labels.append(line.get_label())\n",
    "# Dummy entry to make ellipses\n",
    "lines.append(ellipsis_line)\n",
    "labels.append(r'$\\vdots$')\n",
    "\n",
    "# fig.tight_layout()\n",
    "fig.legend(lines, labels, loc='upper left', bbox_to_anchor=(1, 1))  # right of figure\n",
    "\n",
    "\n",
    "# plt.show()\n",
    "plt.savefig(\"../outputs/stacked_weather.png\", bbox_inches='tight', dpi=300)"
   ]
  },
  {
   "cell_type": "code",
   "execution_count": null,
   "id": "97c5e8a7-dfb8-4089-aa36-92f1e7890f22",
   "metadata": {},
   "outputs": [],
   "source": [
    "fig, ax = plt.subplots(figsize=(12, 2))  # same width, single subplot height\n",
    "\n",
    "# Example plot\n",
    "ax.plot(df.date_time, df.fm, color=\"#468a29\")\n",
    "ax.set_ylabel(\"FMC (%)\")\n",
    "ax.set_title(f\"Observed FMC at RAWS {st}\")\n",
    "plt.xticks(rotation=90)\n",
    "# plt.show()\n",
    "plt.savefig(\"../outputs/fmc_ts_for_stacked.png\", bbox_inches='tight', dpi=300)"
   ]
  },
  {
   "cell_type": "code",
   "execution_count": null,
   "id": "31e01598-4f5e-4f7b-95fc-defdcb0e5ed5",
   "metadata": {},
   "outputs": [],
   "source": []
  },
  {
   "cell_type": "code",
   "execution_count": null,
   "id": "0683f1ee-fb44-4876-8861-96100c9f41db",
   "metadata": {},
   "outputs": [],
   "source": []
  },
  {
   "cell_type": "code",
   "execution_count": null,
   "id": "b515eb2b-f858-4483-a841-7450ac238219",
   "metadata": {},
   "outputs": [],
   "source": []
  },
  {
   "cell_type": "code",
   "execution_count": null,
   "id": "46dd1bfe-1f62-48fa-8b5a-6e370ce69393",
   "metadata": {},
   "outputs": [],
   "source": []
  }
 ],
 "metadata": {
  "kernelspec": {
   "display_name": "Python 3 (ipykernel)",
   "language": "python",
   "name": "python3"
  },
  "language_info": {
   "codemirror_mode": {
    "name": "ipython",
    "version": 3
   },
   "file_extension": ".py",
   "mimetype": "text/x-python",
   "name": "python",
   "nbconvert_exporter": "python",
   "pygments_lexer": "ipython3",
   "version": "3.13.5"
  }
 },
 "nbformat": 4,
 "nbformat_minor": 5
}

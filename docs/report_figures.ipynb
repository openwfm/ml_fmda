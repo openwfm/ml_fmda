{
 "cells": [
  {
   "cell_type": "markdown",
   "id": "4ab7040e-abc3-4028-b4f7-7898c9a8110a",
   "metadata": {},
   "source": [
    "# Report Figures\n",
    "\n",
    "Notebook to generate tables and figures used in final paper. Model outputs generated in Alderaan and staged on OpenWFM. \n",
    "\n",
    "All outputs kept in MSE from code. Leaving as a later option to calculate RMSE, since it depends when you take root versus when you aggregate with mean over replications and locations.\n",
    "\n",
    "Pandas dataframes converted to latex format with particular formatting and then manually copied into latex report."
   ]
  },
  {
   "cell_type": "code",
   "execution_count": null,
   "id": "2e70e4ae-ac96-4a94-90e4-a33596bbbada",
   "metadata": {},
   "outputs": [],
   "source": [
    "import matplotlib.pyplot as plt\n",
    "from datetime import datetime\n",
    "import sys\n",
    "import os.path as osp\n",
    "import pandas as pd\n",
    "import numpy as np\n",
    "from scipy import stats\n",
    "import itertools\n",
    "import os.path as osp\n",
    "sys.path.append(\"../src\")\n",
    "from utils import Dict, read_yml, str2time, print_dict_summary, read_pkl, retrieve_url\n",
    "from viz import plot_one, make_st_map_interactive"
   ]
  },
  {
   "cell_type": "code",
   "execution_count": null,
   "id": "b845e276-b6ba-4906-9afe-4859c7cc1a72",
   "metadata": {},
   "outputs": [],
   "source": [
    "base_url = \"https://demo.openwfm.org/web/data/fmda/analysis_results/test_results/\"\n",
    "destination_dir = \"../outputs/report_materials\""
   ]
  },
  {
   "cell_type": "code",
   "execution_count": null,
   "id": "42e8afdb-2838-496c-97c6-b1bbc5a04316",
   "metadata": {},
   "outputs": [],
   "source": [
    "retrieve_url(\n",
    "    url = osp.join(base_url, \"forecast_errs.csv\"),\n",
    "    dest_path = osp.join(destination_dir, \"forecast_errs.csv\")\n",
    ")\n",
    "\n",
    "retrieve_url(\n",
    "    url = osp.join(base_url, \"ml_data.pkl\"),\n",
    "    dest_path = osp.join(destination_dir, \"ml_data.pkl\")\n",
    ")\n",
    "\n",
    "retrieve_url(\n",
    "    url = osp.join(base_url, \"rnn_loc_errors.csv\"),\n",
    "    dest_path = osp.join(destination_dir, \"rnn_loc_errors.csv\")\n",
    ")"
   ]
  },
  {
   "cell_type": "code",
   "execution_count": null,
   "id": "fd982764-7ae0-4bdd-bb2c-d086406e54d4",
   "metadata": {},
   "outputs": [],
   "source": [
    "df = pd.read_csv(osp.join(base_url, \"forecast_errs.csv\"), index_col=0)\n",
    "rnn = pd.read_csv(osp.join(base_url, \"rnn_loc_errors.csv\"), index_col=0)\n",
    "ml_data = read_pkl(osp.join(destination_dir, \"ml_data.pkl\"))"
   ]
  },
  {
   "cell_type": "markdown",
   "id": "9952ccb5-5f6f-4128-b3ca-68df90bfdfc3",
   "metadata": {},
   "source": [
    "## Model Summary Tables"
   ]
  },
  {
   "cell_type": "code",
   "execution_count": null,
   "id": "51eb7eb1-d35d-4f68-8331-f960ea7904f6",
   "metadata": {},
   "outputs": [],
   "source": [
    "df"
   ]
  },
  {
   "cell_type": "markdown",
   "id": "ba47a65d-5be7-4124-9559-62c3dcf78c96",
   "metadata": {},
   "source": [
    "## Overall Error\n",
    "\n",
    "Averaged over forecast periods and location"
   ]
  },
  {
   "cell_type": "code",
   "execution_count": null,
   "id": "aad42682-f167-4259-96c2-a22bd4486c90",
   "metadata": {},
   "outputs": [],
   "source": [
    "means = df.mean(axis=0)\n",
    "stds = df.std(axis=0)\n",
    "overall_errs_df = pd.DataFrame({\"Mean Error\": means, \"(Std)\": stds})\n",
    "overall_errs_df = overall_errs_df.round(3)\n",
    "overall_errs_df = overall_errs_df.reset_index(names=\"Model\")\n",
    "overall_errs_df"
   ]
  },
  {
   "cell_type": "code",
   "execution_count": null,
   "id": "a267b25a-45e1-46d6-9e03-c26e390e761d",
   "metadata": {},
   "outputs": [],
   "source": [
    "overall_errs_df = overall_errs_df.map(lambda x: f\"{x:.3f}\".rstrip(\"0\").rstrip(\".\") if isinstance(x, float) else x)\n",
    "\n",
    "print(overall_errs_df.to_latex(index=False))"
   ]
  },
  {
   "cell_type": "markdown",
   "id": "08af9dcc-d2ef-4653-bf13-ecd520007ccc",
   "metadata": {},
   "source": [
    "## T Tests\n",
    "\n",
    "For significant differences among error for forecast periods, paired by forecast period. Compare to Bonferroni corrected p-value"
   ]
  },
  {
   "cell_type": "code",
   "execution_count": null,
   "id": "c3f9e0f0-1007-4a0e-9cdb-14b28401dc2f",
   "metadata": {},
   "outputs": [],
   "source": [
    "col_pairs = list(itertools.combinations(df.columns, 2))\n",
    "\n",
    "# Apply t-test to each pair\n",
    "ttests = {\n",
    "    (col1, col2): stats.ttest_rel(df[col1], df[col2])\n",
    "    for col1, col2 in col_pairs\n",
    "}"
   ]
  },
  {
   "cell_type": "code",
   "execution_count": null,
   "id": "fd4b9194-c918-4116-a2d0-9f4cd59e22a4",
   "metadata": {},
   "outputs": [],
   "source": [
    "ttests"
   ]
  },
  {
   "cell_type": "code",
   "execution_count": null,
   "id": "83b42434-d7a6-4760-83b2-149c783ea465",
   "metadata": {},
   "outputs": [],
   "source": [
    "ttests[('ODE', 'XGB')]"
   ]
  },
  {
   "cell_type": "code",
   "execution_count": null,
   "id": "316550f2-c959-49e0-b795-56e09781fa72",
   "metadata": {},
   "outputs": [],
   "source": [
    "print(f\"Number of ttests run: {len(col_pairs)}\")\n",
    "print(f\"Bonferroni Corrected Thresholds:\")\n",
    "print(f\"    Threshold 0.05 :  Corrected {0.05/len(col_pairs)}\")\n",
    "print(f\"    Threshold 0.01 :  Corrected {0.01/len(col_pairs)}\")"
   ]
  },
  {
   "cell_type": "code",
   "execution_count": null,
   "id": "6c26ea44-6e31-4326-b7d2-ee1b65aac420",
   "metadata": {},
   "outputs": [],
   "source": []
  },
  {
   "cell_type": "code",
   "execution_count": null,
   "id": "6cab258f-c56e-4c59-9596-4f34821bc21a",
   "metadata": {},
   "outputs": [],
   "source": [
    "p_values = { (col1, col2): stats.ttest_rel(df[col1], df[col2]).pvalue for col1, col2 in col_pairs }\n",
    "\n",
    "# Create an empty DataFrame for storing p-values\n",
    "pval_df = pd.DataFrame(index=df.columns, columns=df.columns, dtype=float)\n",
    "pval_df = pd.DataFrame(index=df.columns, columns=df.columns, dtype=str)\n",
    "pval_df = pval_df.fillna(\"-\")\n",
    "\n",
    "# Fill upper triangle with p-values\n",
    "for (col1, col2), pval in p_values.items():\n",
    "    pval_df.loc[col1, col2] = f\"{pval:.4f}\" if pval >= 0.001 else f\"{pval:.2e}\""
   ]
  },
  {
   "cell_type": "code",
   "execution_count": null,
   "id": "403897d9-4481-4fa1-8e96-a1d1ad156c4e",
   "metadata": {},
   "outputs": [],
   "source": [
    "pval_df"
   ]
  },
  {
   "cell_type": "code",
   "execution_count": null,
   "id": "1c93d748-fc34-42fa-bf0c-8926f39d10bf",
   "metadata": {},
   "outputs": [],
   "source": [
    "# Convert DataFrame to LaTeX with full grid cells\n",
    "latex_table = pval_df.to_latex(index=True, escape=False, na_rep=\"-\", column_format=\"|\" + \"c|\" * (len(pval_df.columns) + 1))\n",
    "\n",
    "# Adjust LaTeX formatting to ensure full grid lines\n",
    "latex_table = latex_table.replace(\"\\\\toprule\", \"\\\\hline\")\n",
    "latex_table = latex_table.replace(\"\\\\midrule\", \"\\\\hline\")\n",
    "latex_table = latex_table.replace(\"\\\\bottomrule\", \"\\\\hline\")\n",
    "print(latex_table)"
   ]
  },
  {
   "cell_type": "markdown",
   "id": "fd1de290-81af-469c-9c44-534018bd416d",
   "metadata": {},
   "source": [
    "## Skill Scores\n",
    "\n",
    "Based on overall Error"
   ]
  },
  {
   "cell_type": "code",
   "execution_count": null,
   "id": "424fef38-d925-4a3e-8953-670935e8adc4",
   "metadata": {},
   "outputs": [],
   "source": [
    "means = df.mean(axis=0)\n",
    "stds = df.std(axis=0)\n",
    "overall_errs_df = pd.DataFrame({\"Mean Error\": means, \"(Std)\": stds})\n",
    "overall_errs_df = overall_errs_df.round(3)\n",
    "overall_errs_df"
   ]
  },
  {
   "cell_type": "code",
   "execution_count": null,
   "id": "d7bf1616-24c9-42b0-9ba3-c041c650f60d",
   "metadata": {},
   "outputs": [],
   "source": [
    "err_model = overall_errs_df.loc['RNN'].iloc[0]\n",
    "err_baseline1 = overall_errs_df.loc['CLIMATOLOGY'].iloc[0]\n",
    "err_baseline2 = overall_errs_df.loc['ODE'].iloc[0]\n",
    "err_baseline3 = overall_errs_df.loc['XGB'].iloc[0]\n",
    "\n",
    "print(f\"Skill Score (Clim Baseline): \")\n",
    "print(f\"    {1-err_model/err_baseline1}\")\n",
    "print()\n",
    "print(f\"Skill Score (Ode Baseline): \")\n",
    "print(f\"    {1-err_model/err_baseline2}\")\n",
    "print()\n",
    "print(f\"Skill Score (XGB Baseline): \")\n",
    "print(f\"    {1-err_model/err_baseline3}\")\n",
    "print()\n"
   ]
  },
  {
   "cell_type": "code",
   "execution_count": null,
   "id": "da10170a-d165-4774-833b-5b84212cfa45",
   "metadata": {},
   "outputs": [],
   "source": [
    "overall_errs_df.loc[\"RNN\", \"Mean Error\"]"
   ]
  },
  {
   "cell_type": "code",
   "execution_count": null,
   "id": "8894af1d-d381-4408-bb20-d4c95e16bb83",
   "metadata": {},
   "outputs": [],
   "source": [
    "error_rnn = overall_errs_df.loc[\"RNN\", \"Mean Error\"]\n",
    "error_baseline = overall_errs_df.loc[overall_errs_df.index != \"RNN\", \"Mean Error\"]\n",
    "skill_score = 1 - (error_rnn / error_baseline)\n",
    "result_df = pd.DataFrame({\"Skill Score\": skill_score})\n",
    "result_df = result_df.reset_index(names=\"Baseline\")\n",
    "result_df = result_df.round(3)\n",
    "result_df"
   ]
  },
  {
   "cell_type": "code",
   "execution_count": null,
   "id": "63d2fb52-d79f-4916-8d83-12d1a485ec8a",
   "metadata": {},
   "outputs": [],
   "source": [
    "result_df = result_df.map(lambda x: f\"{x:.3f}\".rstrip(\"0\").rstrip(\".\") if isinstance(x, float) else x)\n",
    "\n",
    "print(result_df.to_latex(index=False))"
   ]
  },
  {
   "cell_type": "markdown",
   "id": "08e899bc-2d96-41ab-8cf9-eac8a14b0ced",
   "metadata": {},
   "source": [
    "## Plots"
   ]
  },
  {
   "cell_type": "markdown",
   "id": "c28bd5a4-74bd-41bb-801c-d942886aed36",
   "metadata": {},
   "source": [
    "### Basic example timeseries plot for one location"
   ]
  },
  {
   "cell_type": "code",
   "execution_count": null,
   "id": "e889c5e6-2eaa-4014-87e0-64095237ffce",
   "metadata": {},
   "outputs": [],
   "source": [
    "st = \"CHAC2\"\n",
    "start_time = pd.Timestamp(\"2024-01-01\", tz=\"UTC\")\n",
    "end_time = pd.Timestamp(\"2024-01-07\", tz=\"UTC\")\n",
    "timestamps = ml_data[st][\"times\"]\n",
    "inds = np.where((timestamps >= start_time) & (timestamps <= end_time))[0]"
   ]
  },
  {
   "cell_type": "code",
   "execution_count": null,
   "id": "f512d0eb-37e0-4beb-91d6-9f46c0e8980b",
   "metadata": {},
   "outputs": [],
   "source": [
    "st = \"CHAC2\"\n",
    "plot_one(ml_data, st, start_time = \"2024-01-01\", end_time = \"2024-01-07\", save_path = osp.join(destination_dir, \"ts.png\"))"
   ]
  },
  {
   "cell_type": "code",
   "execution_count": null,
   "id": "ab79db14-841b-4247-b1e2-79fcca2f7735",
   "metadata": {},
   "outputs": [],
   "source": [
    "ml_data[st]['loc']"
   ]
  },
  {
   "cell_type": "markdown",
   "id": "74641754-d360-46c8-acc4-9e10cb032c1d",
   "metadata": {},
   "source": [
    "## Map Stations"
   ]
  },
  {
   "cell_type": "code",
   "execution_count": null,
   "id": "8167c921-cb6e-4538-a09a-dcbce1cab36a",
   "metadata": {},
   "outputs": [],
   "source": [
    "df = pd.DataFrame([\n",
    "    {'stid': st, 'lon': ml_data[st]['loc']['lon'], 'lat': ml_data[st]['loc']['lat']}\n",
    "    for st in ml_data\n",
    "])\n",
    "df"
   ]
  },
  {
   "cell_type": "code",
   "execution_count": null,
   "id": "06497c56-8833-4187-b1b5-e324f9d20968",
   "metadata": {},
   "outputs": [],
   "source": [
    "# Number of stations\n",
    "df.shape[0]"
   ]
  },
  {
   "cell_type": "code",
   "execution_count": null,
   "id": "dc0e1898-ef94-4735-8ce2-517a35cb8520",
   "metadata": {},
   "outputs": [],
   "source": [
    "# make_st_map_interactive(df)"
   ]
  },
  {
   "cell_type": "markdown",
   "id": "0061a138-0384-4d15-9d2f-b1b23e86f827",
   "metadata": {},
   "source": [
    "## Map RNN MSE by Station\n",
    "\n",
    "Visualize spatial error of FMC"
   ]
  },
  {
   "cell_type": "code",
   "execution_count": null,
   "id": "60a11fb3-7d90-4fcd-bda4-a057d4b3b5d7",
   "metadata": {},
   "outputs": [],
   "source": [
    "df = pd.DataFrame([\n",
    "    {'stid': st, 'lon': ml_data[st]['loc']['lon'], 'lat': ml_data[st]['loc']['lat']}\n",
    "    for st in ml_data\n",
    "])\n",
    "\n",
    "# calc sqrt"
   ]
  },
  {
   "cell_type": "code",
   "execution_count": null,
   "id": "c6909940-1289-44a9-be40-ba7320cbf1e6",
   "metadata": {},
   "outputs": [],
   "source": [
    "len(rnn.stid.unique())"
   ]
  },
  {
   "cell_type": "code",
   "execution_count": null,
   "id": "1ca65754-d3b3-42f2-b69d-db41940aea6b",
   "metadata": {},
   "outputs": [],
   "source": [
    "rnn"
   ]
  },
  {
   "cell_type": "code",
   "execution_count": null,
   "id": "e91fc519-5d52-443c-909b-fa81b5a10c27",
   "metadata": {},
   "outputs": [],
   "source": [
    "loc_err = rnn.groupby(\"stid\")[\"loc_error\"].mean()"
   ]
  },
  {
   "cell_type": "code",
   "execution_count": null,
   "id": "9ae19b62-a62b-495e-ac24-9bdc1734e120",
   "metadata": {},
   "outputs": [],
   "source": [
    "loc_err"
   ]
  },
  {
   "cell_type": "code",
   "execution_count": null,
   "id": "e16498c9-76f6-4e79-9e5e-e42653b3011c",
   "metadata": {},
   "outputs": [],
   "source": [
    "print(f\"RNN Mean RMSE by Loc: {loc_err.mean()}\")"
   ]
  },
  {
   "cell_type": "code",
   "execution_count": null,
   "id": "d7bb075c-79e6-4b33-abc0-35bccbb07951",
   "metadata": {},
   "outputs": [],
   "source": [
    "minval = loc_err.min()\n",
    "maxval = loc_err.max()\n",
    "minind =  loc_err.index[loc_err.argmin()]\n",
    "maxind = loc_err.index[loc_err.argmax()]"
   ]
  },
  {
   "cell_type": "code",
   "execution_count": null,
   "id": "0622bfa9-a4ff-40fd-9847-d6c0d5627458",
   "metadata": {},
   "outputs": [],
   "source": [
    "print(f\"Minimum RMSE by Loc: {minval}, STID: {minind}\")\n",
    "print(f\"Maximum RMSE by Loc: {maxval}, STID: {maxind}\")"
   ]
  },
  {
   "cell_type": "code",
   "execution_count": null,
   "id": "81971716-4091-4e0f-927b-658efd897e8d",
   "metadata": {},
   "outputs": [],
   "source": [
    "plt.hist(loc_err)"
   ]
  },
  {
   "cell_type": "code",
   "execution_count": null,
   "id": "62f1a1fe-560c-48c1-878e-54ef21ead21b",
   "metadata": {},
   "outputs": [],
   "source": [
    "loc_err"
   ]
  },
  {
   "cell_type": "code",
   "execution_count": null,
   "id": "bece332e-ee98-47bd-8811-5dfdb9607b3a",
   "metadata": {},
   "outputs": [],
   "source": [
    "df2 = df.join(loc_err.rename(\"Mean RMSE\"), on=\"stid\", how=\"inner\")\n",
    "df2"
   ]
  },
  {
   "cell_type": "code",
   "execution_count": null,
   "id": "eff7125b-1f23-4c1e-868f-911bfe215eca",
   "metadata": {},
   "outputs": [],
   "source": [
    "import importlib\n",
    "import viz\n",
    "importlib.reload(viz)\n",
    "from viz import make_st_map_interactive"
   ]
  },
  {
   "cell_type": "code",
   "execution_count": null,
   "id": "0e6dbcb9-09c2-4dd2-b764-a66d0c82d096",
   "metadata": {},
   "outputs": [],
   "source": [
    "# make_st_map_interactive(df2, color=\"Mean RMSE\")"
   ]
  },
  {
   "cell_type": "code",
   "execution_count": null,
   "id": "0da9d4f4-cca6-4b4b-ad4e-ddf5600d812e",
   "metadata": {},
   "outputs": [],
   "source": []
  },
  {
   "cell_type": "code",
   "execution_count": null,
   "id": "dadd1861-1d87-486f-b54b-13ab3912d25f",
   "metadata": {},
   "outputs": [],
   "source": []
  },
  {
   "cell_type": "code",
   "execution_count": null,
   "id": "bd42f7fc-6439-459e-8e22-c05a60a5f917",
   "metadata": {},
   "outputs": [],
   "source": []
  },
  {
   "cell_type": "code",
   "execution_count": null,
   "id": "791ef592-73b3-4419-bf73-6af04192eca3",
   "metadata": {},
   "outputs": [],
   "source": []
  }
 ],
 "metadata": {
  "kernelspec": {
   "display_name": "Python 3 (ipykernel)",
   "language": "python",
   "name": "python3"
  },
  "language_info": {
   "codemirror_mode": {
    "name": "ipython",
    "version": 3
   },
   "file_extension": ".py",
   "mimetype": "text/x-python",
   "name": "python",
   "nbconvert_exporter": "python",
   "pygments_lexer": "ipython3",
   "version": "3.12.2"
  }
 },
 "nbformat": 4,
 "nbformat_minor": 5
}

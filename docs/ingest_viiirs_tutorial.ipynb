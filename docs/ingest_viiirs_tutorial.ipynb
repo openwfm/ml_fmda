{
 "cells": [
  {
   "cell_type": "markdown",
   "id": "007467d8-6319-4bf9-b273-4bca1fefe254",
   "metadata": {},
   "source": [
    "# VIIIRS Data Retrieval Tutorial"
   ]
  },
  {
   "cell_type": "markdown",
   "id": "aa9717b5-74cc-4146-a749-182d42e09017",
   "metadata": {},
   "source": [
    "Target data are M5 and M7 reflectance bands, commonly used to calculate NDVI\n",
    "\n",
    "https://git.earthdata.nasa.gov/projects/LPDUR/repos/nasa-viirs/browse/notebooks/VIIRS_Processing_Notebook.ipynb\n",
    "\n",
    "https://lpdaac.usgs.gov/data/get-started-data/collection-overview/missions/s-npp-nasa-viirs-overview/\n",
    "\n",
    "https://viirsland.gsfc.nasa.gov/PDF/VIIRS_Surf_Refl_UserGuide_v1.3.pdf"
   ]
  },
  {
   "cell_type": "markdown",
   "id": "d24e7415-d235-4258-a495-aa83b7ef9865",
   "metadata": {},
   "source": [
    "## Setup"
   ]
  },
  {
   "cell_type": "code",
   "execution_count": null,
   "id": "d48692f1-9090-402f-a35b-8bad178d6c30",
   "metadata": {},
   "outputs": [],
   "source": [
    "import os.path as osp\n",
    "import h5py"
   ]
  },
  {
   "cell_type": "code",
   "execution_count": null,
   "id": "11d85ae5-f562-4e19-8819-92a5bb68f032",
   "metadata": {},
   "outputs": [],
   "source": [
    "data_path = \"../data\""
   ]
  },
  {
   "cell_type": "code",
   "execution_count": null,
   "id": "6e0c3004-2dd4-451e-9c96-44bfd870f1ce",
   "metadata": {},
   "outputs": [],
   "source": [
    "viirs_meta = {\n",
    "    'base_url' : \"https://ladsweb.modaps.eosdis.nasa.gov/archive/allData/\",\n",
    "    'versions': [5000], # collection version numbers in order of search priority, realtime is 5000 other numbers are scientifically validated\n",
    "    \"product_daily_swath\": \"VNP09\", \n",
    "    \"product_daily_tiled_rt\": \"VNP09G1KI\",\n",
    "    'product_daily_tiled_archive': \"VNP09GA\",\n",
    "    \"product_composite_archive\": \"VNP09A1\",\n",
    "    \"product_cmg_archive\": \"VNP09CMG\"\n",
    "}"
   ]
  },
  {
   "cell_type": "code",
   "execution_count": null,
   "id": "ffab45a2-ff17-49e8-96c7-cdcd745756d3",
   "metadata": {},
   "outputs": [],
   "source": []
  },
  {
   "cell_type": "code",
   "execution_count": null,
   "id": "29c65a52-3869-49f0-8f04-286d231c9bd6",
   "metadata": {},
   "outputs": [],
   "source": []
  },
  {
   "cell_type": "markdown",
   "id": "c43448ac-6b39-4974-914b-7d999cfcba44",
   "metadata": {},
   "source": [
    "## Read"
   ]
  },
  {
   "cell_type": "code",
   "execution_count": null,
   "id": "1dcfee9c-5b07-4d96-aea3-3755d5a1f832",
   "metadata": {},
   "outputs": [],
   "source": [
    "vfile = osp.join(data_path, \"VNP09A1.A2012073.h10v06.001.2016297035634.h5\")"
   ]
  },
  {
   "cell_type": "code",
   "execution_count": null,
   "id": "6ae6f31a-84ef-4a34-9539-83d6f2916e51",
   "metadata": {},
   "outputs": [],
   "source": [
    "f = h5py.File('{}'.format(vfile), \"r\") "
   ]
  },
  {
   "cell_type": "code",
   "execution_count": null,
   "id": "d4216e23-2e39-4039-815d-2ea63781ed6a",
   "metadata": {},
   "outputs": [],
   "source": [
    "f"
   ]
  },
  {
   "cell_type": "code",
   "execution_count": null,
   "id": "f38bb948-6bea-4f7b-9671-82d7f416bf16",
   "metadata": {},
   "outputs": [],
   "source": [
    "all_h5_objs = []              # Create empty list\n",
    "f.visit(all_h5_objs.append)   # Walk through directory tree, retrieve objects and append to list\n",
    "all_h5_objs"
   ]
  },
  {
   "cell_type": "code",
   "execution_count": null,
   "id": "b324a5b7-4c89-4069-918e-3a38e0d8d8f9",
   "metadata": {},
   "outputs": [],
   "source": [
    "f_metadata = f['HDFEOS INFORMATION']['StructMetadata.0'][()].split()   # Read file metadata\n",
    "f_metadata_byte2str = [s.decode('utf-8') for s in f_metadata]          # Clean up file metadata\n",
    "f_metadata_byte2str                                                   # Print the file metadata record"
   ]
  },
  {
   "cell_type": "code",
   "execution_count": null,
   "id": "e5b1d499-fe4c-4f6b-8027-150bc5d0d9b5",
   "metadata": {},
   "outputs": [],
   "source": []
  },
  {
   "cell_type": "code",
   "execution_count": null,
   "id": "a8f3cb4a-a033-440f-9193-ee9f505a2900",
   "metadata": {},
   "outputs": [],
   "source": []
  }
 ],
 "metadata": {
  "kernelspec": {
   "display_name": "Python 3 (ipykernel)",
   "language": "python",
   "name": "python3"
  },
  "language_info": {
   "codemirror_mode": {
    "name": "ipython",
    "version": 3
   },
   "file_extension": ".py",
   "mimetype": "text/x-python",
   "name": "python",
   "nbconvert_exporter": "python",
   "pygments_lexer": "ipython3",
   "version": "3.12.2"
  }
 },
 "nbformat": 4,
 "nbformat_minor": 5
}

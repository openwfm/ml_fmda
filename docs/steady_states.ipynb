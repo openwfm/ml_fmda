{
 "cells": [
  {
   "cell_type": "markdown",
   "id": "ac546d6f-3c70-4f07-8084-449477188b75",
   "metadata": {},
   "source": [
    "# Steady State Behavior in FMC Models"
   ]
  },
  {
   "cell_type": "markdown",
   "id": "b6e4d59f-bc0d-4ee8-9365-c5c2307791c5",
   "metadata": {},
   "source": [
    "A key assumption of the timelag ODE is that the state of the system will approach the equilibrium moisture content if environmental conditions are kept stable. Many physics-based models of dynamic systems have this type longrun behavior. \n",
    "\n",
    "In this notebook, we will investigate how a trained RNN behaves when predicting new values with constant weather inputs. It is possible that the network learned some type of trend or oscillatory behavior that is built into the weights. If, however, the hidden states stabilize to some constant level associated with a constant output, those hidden states could be extracted and used for initialization."
   ]
  },
  {
   "cell_type": "markdown",
   "id": "b19eb1b9-3af9-4859-b470-112e66bca7d9",
   "metadata": {},
   "source": [
    "## Setup"
   ]
  },
  {
   "cell_type": "code",
   "execution_count": null,
   "id": "d0c0156f-eccb-4a10-94f0-06b5abb0e4fc",
   "metadata": {},
   "outputs": [],
   "source": [
    "import numpy as np\n",
    "import matplotlib.pyplot as plt\n",
    "import tensorflow as tf\n",
    "import sys\n",
    "sys.path.append(\"../src\")\n",
    "from models.moisture_rnn import RNNData\n",
    "import pandas as pd\n",
    "from utils import str2time\n",
    "from data_funcs import cv_data_wrap"
   ]
  },
  {
   "cell_type": "code",
   "execution_count": null,
   "id": "4d6e8f3f-f9f9-42c2-b4c6-a4d2d024fee2",
   "metadata": {},
   "outputs": [],
   "source": [
    "# Read in trained model\n",
    "rnn = tf.keras.models.load_model(\"../models/train_rocky/rnn.keras\")\n",
    "\n",
    "features_list = ['Ed', 'Ew', 'solar', 'wind', 'elev', 'lon', 'lat', 'rain', 'hod', 'doy'] "
   ]
  },
  {
   "cell_type": "code",
   "execution_count": null,
   "id": "33c596a4-b71f-4422-a1c4-d9691421fff5",
   "metadata": {},
   "outputs": [],
   "source": [
    "tstart = str2time(\"2023-01-01T00:00:00Z\")\n",
    "tend = str2time(\"2023-12-31T23:00:00Z\")\n",
    "\n",
    "dat = pd.read_pickle(\"../models/train_rocky/ml_data.pkl\")"
   ]
  },
  {
   "cell_type": "code",
   "execution_count": null,
   "id": "e01d9ab2-e319-4b2a-902b-3a670051c02d",
   "metadata": {},
   "outputs": [],
   "source": [
    "rnn.summary()"
   ]
  },
  {
   "cell_type": "markdown",
   "id": "5538e768-bdec-4608-ba84-99131a1251dc",
   "metadata": {},
   "source": [
    "## Training Data Summary\n",
    "\n",
    "Get sample means and bounds of data used to train model before scaling."
   ]
  },
  {
   "cell_type": "code",
   "execution_count": null,
   "id": "e816036c-eea0-47fe-87a2-70e7ba18e630",
   "metadata": {},
   "outputs": [],
   "source": [
    "train, val, test = cv_data_wrap(dat, fstart=None, fend=None, tstart=tstart, tend=tend, val_hours=48, test_frac = 0.1, random_state=42)\n",
    "rnndat = RNNData(train, val, test=None, method=\"random\", timesteps=48, random_state=None, features_list = features_list)"
   ]
  },
  {
   "cell_type": "code",
   "execution_count": null,
   "id": "d4c29134-42eb-4f0e-aaa1-b910f62b2296",
   "metadata": {},
   "outputs": [],
   "source": [
    "arr = rnndat.X_train\n",
    "df = pd.DataFrame(arr.reshape(-1, arr.shape[2]), columns=features_list)\n",
    "train_stats = df.agg(['mean', 'min', 'max', 'std']).T  \n",
    "train_stats.index.name = 'Variable'\n",
    "train_stats = pd.concat(\n",
    "    [pd.DataFrame([np.mean(rnndat.y_train)], index=['fm'], columns=['mean'])\n",
    "       .assign(min=np.min(rnndat.y_train), max=np.max(rnndat.y_train), std=np.std(rnndat.y_train)),\n",
    "     train_stats]\n",
    ")\n",
    "train_stats"
   ]
  },
  {
   "cell_type": "code",
   "execution_count": null,
   "id": "6543e84f-f38d-4443-96fa-5816c28aebe9",
   "metadata": {},
   "outputs": [],
   "source": [
    "rnndat.scale_data()"
   ]
  },
  {
   "cell_type": "markdown",
   "id": "59885826-f3c8-4e80-a164-454e6027f95c",
   "metadata": {},
   "source": [
    "## Test Longrun Behavior\n",
    "\n",
    "Based on features list, set up constant inputs. Since standard scaling used, start with zeros input to represent mean of all features."
   ]
  },
  {
   "cell_type": "code",
   "execution_count": null,
   "id": "efb98ae7-1b87-4fab-89ac-cbbdc6ea082f",
   "metadata": {},
   "outputs": [],
   "source": [
    "tsteps = 500\n",
    "X0 = np.zeros((1, tsteps, len(features_list)))"
   ]
  },
  {
   "cell_type": "code",
   "execution_count": null,
   "id": "72343a23-4a84-4dc8-b462-3c5abbbd91cd",
   "metadata": {},
   "outputs": [],
   "source": [
    "p0 = rnn.predict(X0)"
   ]
  },
  {
   "cell_type": "code",
   "execution_count": null,
   "id": "0d83a981-e7ae-44c1-9871-d8e698f0f6f6",
   "metadata": {},
   "outputs": [],
   "source": [
    "plt.plot(np.arange(0, tsteps), p0[0,:,0])\n",
    "plt.xlabel(\"Time Step\")\n",
    "plt.ylabel(\"FMC Prediction (%)\")\n",
    "plt.title(\"Long-run behavior with constant zeros\")"
   ]
  },
  {
   "cell_type": "code",
   "execution_count": null,
   "id": "b59a279f-33ac-4185-ac49-b4a5d3bf399f",
   "metadata": {},
   "outputs": [],
   "source": [
    "print(f\"Last 10 values: {p0[0,-10:,0]}\")"
   ]
  },
  {
   "cell_type": "code",
   "execution_count": null,
   "id": "649795d6-c3ef-4cf9-b069-7d41aa3f18db",
   "metadata": {},
   "outputs": [],
   "source": [
    "plt.plot(np.arange(0, 30), p0[0,0:30,0])\n",
    "plt.xlabel(\"Time Step\")\n",
    "plt.ylabel(\"FMC Prediction (%)\")\n",
    "plt.title(\"Starting timesteps\")"
   ]
  },
  {
   "cell_type": "markdown",
   "id": "88331029-67b9-4c59-96f2-2761963194e4",
   "metadata": {},
   "source": [
    "## Test HOD\n",
    "\n",
    "Hour of day (HOD) was used as a feature to help the model learn the diurnal patterns of FMC. Next, we test the long run behavior of the RNN predictions when all features are kept to zero (mean of training data) and HOD cycles from 0-23 (scaled to match training)"
   ]
  },
  {
   "cell_type": "code",
   "execution_count": null,
   "id": "4a87d3ef-02a5-44f9-ad4d-0f31c353ed7a",
   "metadata": {},
   "outputs": [],
   "source": [
    "tsteps = 500\n",
    "seq = np.arange(24) # 0-23\n",
    "repeats = int(np.ceil(tsteps / len(seq)))\n",
    "hod = np.tile(seq, repeats)[:tsteps]\n",
    "\n",
    "# Scale hod column with rnndata scaler, but only copy that column over to the zeros\n",
    "from models.moisture_rnn import scale_3d\n",
    "ind = features_list.index(\"hod\")\n",
    "X0 = np.zeros((1, tsteps, len(features_list)))\n",
    "Xtemp = X0.copy()\n",
    "Xtemp[:,:,ind] = hod\n",
    "Xtemp = scale_3d(Xtemp, rnndat.scaler, fit=False)\n",
    "Xh = X0.copy()\n",
    "Xh[:,:,ind] = Xtemp[:,:,ind]"
   ]
  },
  {
   "cell_type": "code",
   "execution_count": null,
   "id": "826d9228-da94-465d-a289-dcb5d545d428",
   "metadata": {},
   "outputs": [],
   "source": [
    "ph = rnn.predict(Xh)"
   ]
  },
  {
   "cell_type": "code",
   "execution_count": null,
   "id": "1c481454-452d-44fc-8bf4-ded395acd25d",
   "metadata": {},
   "outputs": [],
   "source": [
    "plt.plot(np.arange(0, tsteps), ph[0,:,0])\n",
    "plt.xlabel(\"Time Step\")\n",
    "plt.ylabel(\"FMC Prediction (%)\")\n",
    "plt.title(\"Constant zeros, cycling HOD\")"
   ]
  },
  {
   "cell_type": "code",
   "execution_count": null,
   "id": "218ee30b-5ea3-4003-9a78-7e49fc6420c2",
   "metadata": {},
   "outputs": [],
   "source": [
    "print(Xh[:,456:(456+24), ind])"
   ]
  },
  {
   "cell_type": "code",
   "execution_count": null,
   "id": "6158bb0d-9927-4576-b6e2-a6b1ff8091c1",
   "metadata": {},
   "outputs": [],
   "source": [
    "t = 456\n",
    "plt.plot(np.arange(0, tsteps)[t:t+48], ph[0,t:t+48,0])\n",
    "plt.xlabel(\"Time Step\")\n",
    "plt.ylabel(\"FMC Prediction (%)\")\n",
    "plt.title(\"Constant zeros, cycling HOD\")"
   ]
  },
  {
   "cell_type": "markdown",
   "id": "bb662182-e971-4e5b-afc3-f4a92acc8db1",
   "metadata": {},
   "source": [
    "## Test DOY\n",
    "\n",
    "The day of the year is used as a feature to help the model learn seasonal patterns in FMC. Next, we test the long run behavior of the RNN when all features are kept to zero, but the day of the year cycles from 1-365."
   ]
  },
  {
   "cell_type": "code",
   "execution_count": null,
   "id": "4efcc2c9-ae48-4423-abb2-4380f57eee0f",
   "metadata": {},
   "outputs": [],
   "source": [
    "tsteps = 365*5\n",
    "seq = np.arange(365) # 0-364\n",
    "repeats = int(np.ceil(tsteps / len(seq)))\n",
    "doy = np.tile(seq, repeats)[:tsteps]\n",
    "\n",
    "# Scale hod column with rnndata scaler, but only copy that column over to the zeros\n",
    "from models.moisture_rnn import scale_3d\n",
    "ind = features_list.index(\"doy\")\n",
    "X0 = np.zeros((1, tsteps, len(features_list)))\n",
    "Xtemp = X0.copy()\n",
    "Xtemp[:,:,ind] = doy\n",
    "Xtemp = scale_3d(Xtemp, rnndat.scaler, fit=False)\n",
    "Xd = X0.copy()\n",
    "Xd[:,:,ind] = Xtemp[:,:,ind]"
   ]
  },
  {
   "cell_type": "code",
   "execution_count": null,
   "id": "31cd04e1-b457-4d3e-9d8d-cd2d3ef6d7a9",
   "metadata": {},
   "outputs": [],
   "source": [
    "pd = rnn.predict(Xd)"
   ]
  },
  {
   "cell_type": "code",
   "execution_count": null,
   "id": "9322d8db-0b72-428d-a25f-046de5aa4a05",
   "metadata": {},
   "outputs": [],
   "source": [
    "plt.plot(np.arange(0, tsteps), pd[0,:,0])\n",
    "plt.xlabel(\"Time Step\")\n",
    "plt.ylabel(\"FMC Prediction (%)\")\n",
    "plt.title(\"Constant zeros, cycling DOY\")"
   ]
  },
  {
   "cell_type": "code",
   "execution_count": null,
   "id": "7a4b34fc-53e7-4baa-bcb9-f11ca70962d1",
   "metadata": {},
   "outputs": [],
   "source": [
    "plt.plot(np.arange(0, tsteps)[-365:], pd[0,-365:,0])\n",
    "plt.xlabel(\"Time Step\")\n",
    "plt.ylabel(\"FMC Prediction (%)\")\n",
    "plt.title(\"Constant zeros, cycling DOY\")"
   ]
  },
  {
   "cell_type": "markdown",
   "id": "4bc2297d-39f1-4d71-b2fe-43b2529208f5",
   "metadata": {},
   "source": [
    "## Test Eqs\n",
    "\n",
    "Test varying Ed and Ew, and whether they interact at all."
   ]
  },
  {
   "cell_type": "code",
   "execution_count": null,
   "id": "53f98335-2629-40ab-880a-6de6863ef8bf",
   "metadata": {},
   "outputs": [],
   "source": [
    "ind = features_list.index(\"Ed\")\n",
    "ind2 = features_list.index(\"Ew\")"
   ]
  },
  {
   "cell_type": "code",
   "execution_count": null,
   "id": "fe995538-80b9-45d8-afce-edc533d952f8",
   "metadata": {},
   "outputs": [],
   "source": [
    "sdgrid = [-3, -2, -1, -0.5, 0, 0.5, 1, 2, 3]\n",
    "X_list = []\n",
    "for val in sdgrid:\n",
    "    arr = np.zeros((1, tsteps, len(features_list)))\n",
    "    arr[:, :, ind] += val\n",
    "    arr[:, :, ind2] += val\n",
    "    X_list.append(arr)\n",
    "\n",
    "X = np.concatenate(X_list, axis=0)"
   ]
  },
  {
   "cell_type": "code",
   "execution_count": null,
   "id": "5fe613cf-4a18-4924-b940-21c5690a2e6f",
   "metadata": {},
   "outputs": [],
   "source": [
    "p = rnn.predict(X)"
   ]
  },
  {
   "cell_type": "code",
   "execution_count": null,
   "id": "704066d8-2230-42c4-8ebe-291b6f5547a1",
   "metadata": {},
   "outputs": [],
   "source": [
    "# Get blue-red color spectrum\n",
    "import matplotlib.colors as mcolors\n",
    "norm = mcolors.Normalize(vmin=min(sdgrid), vmax=max(sdgrid))\n",
    "cmap = plt.colormaps.get_cmap('coolwarm')  # blue → red\n",
    "\n",
    "plt.figure(figsize=(10,6))\n",
    "for i in range(0, X.shape[0]):\n",
    "    color = cmap(norm(sdgrid[i]))\n",
    "    line, = plt.plot(np.arange(0, tsteps), p[i, :, 0], color=color)\n",
    "    plt.text(\n",
    "        tsteps - 1,\n",
    "        p[i, -1, 0],    \n",
    "        f\"Eq={sdgrid[i]}\",\n",
    "        va='center', ha='left',\n",
    "        color=color\n",
    "    ) \n",
    "plt.xlim(0, tsteps*1.1)\n",
    "plt.xlabel(\"Time Step\")\n",
    "plt.ylabel(\"FMC Prediction (%)\")\n",
    "plt.title(\"Varying Constant Equilibria\")"
   ]
  },
  {
   "cell_type": "markdown",
   "id": "240011c5-5d39-4f7f-84e7-89d6c265997c",
   "metadata": {},
   "source": [
    "## Test Elev\n",
    "\n",
    "Run to stead state with all zeros except different levels of elevation"
   ]
  },
  {
   "cell_type": "code",
   "execution_count": null,
   "id": "24924e0c-cec0-4b96-a52c-8d456dcc96bb",
   "metadata": {},
   "outputs": [],
   "source": [
    "tsteps=500\n",
    "ind = features_list.index(\"elev\")\n",
    "sdgrid = [-3, -2, -1, -0.5, 0, 0.5, 1, 2, 3]\n",
    "X_list = []\n",
    "for val in sdgrid:\n",
    "    arr = np.zeros((1, tsteps, len(features_list)))\n",
    "    arr[:, :, ind] += val\n",
    "    X_list.append(arr)\n",
    "\n",
    "X = np.concatenate(X_list, axis=0)"
   ]
  },
  {
   "cell_type": "code",
   "execution_count": null,
   "id": "61bea129-8169-4e45-8193-5193cc740896",
   "metadata": {},
   "outputs": [],
   "source": [
    "p = rnn.predict(X)"
   ]
  },
  {
   "cell_type": "code",
   "execution_count": null,
   "id": "49a9d5e6-7bca-4a34-ab1b-2f961e51a924",
   "metadata": {},
   "outputs": [],
   "source": [
    "norm = mcolors.Normalize(vmin=min(sdgrid), vmax=max(sdgrid))\n",
    "cmap = plt.colormaps.get_cmap('coolwarm')  # blue → red\n",
    "\n",
    "plt.figure(figsize=(10,6))\n",
    "for i in range(0, X.shape[0]):\n",
    "    color = cmap(norm(sdgrid[i]))\n",
    "    line, = plt.plot(np.arange(0, tsteps), p[i, :, 0], color=color)\n",
    "    plt.text(\n",
    "        tsteps - 1,\n",
    "        p[i, -1, 0],    \n",
    "        f\"Elev={sdgrid[i]}\",\n",
    "        va='center', ha='left',\n",
    "        color=color\n",
    "    ) \n",
    "plt.xlim(0, tsteps*1.1)\n",
    "plt.xlabel(\"Time Step\")\n",
    "plt.ylabel(\"FMC Prediction (%)\")\n",
    "plt.title(\"Varying Elevation\")"
   ]
  },
  {
   "cell_type": "markdown",
   "id": "d1429346-77c8-4cea-a753-c6021e2afca7",
   "metadata": {},
   "source": [
    "## Test Rain\n",
    "\n",
    "Holding all else to zeros, vary rain. \n",
    "\n",
    "What do we expect to happen? Some scenarios:\n",
    "- constant rain of various levels, expect moisture to increase to saturation level\n",
    "- impulse of rain, need to allow stabilization before"
   ]
  },
  {
   "cell_type": "code",
   "execution_count": null,
   "id": "0666e310-4b66-4685-a747-3170214c5689",
   "metadata": {},
   "outputs": [],
   "source": [
    "tsteps=500\n",
    "ind = features_list.index(\"rain\")\n",
    "sdgrid = [-3, -2, -1, -0.5, 0, 0.5, 1, 2, 3, 10, 50]\n",
    "X_list = []\n",
    "for val in sdgrid:\n",
    "    arr = np.zeros((1, tsteps, len(features_list)))\n",
    "    arr[:, :, ind] += val\n",
    "    X_list.append(arr)\n",
    "\n",
    "X = np.concatenate(X_list, axis=0)"
   ]
  },
  {
   "cell_type": "code",
   "execution_count": null,
   "id": "6710d4cd-c7ba-469d-beb1-5c93714e918f",
   "metadata": {},
   "outputs": [],
   "source": [
    "p = rnn.predict(X)"
   ]
  },
  {
   "cell_type": "code",
   "execution_count": null,
   "id": "34a83627-1bf6-4b06-a398-4940ae465b2d",
   "metadata": {},
   "outputs": [],
   "source": [
    "norm = mcolors.Normalize(vmin=min(sdgrid), vmax=max(sdgrid))\n",
    "cmap = plt.colormaps.get_cmap('coolwarm')  # blue → red\n",
    "\n",
    "plt.figure(figsize=(10,6))\n",
    "for i in range(0, X.shape[0]):\n",
    "    color = cmap(norm(sdgrid[i]))\n",
    "    line, = plt.plot(np.arange(0, tsteps), p[i, :, 0], color=color)\n",
    "    plt.text(\n",
    "        tsteps - 1,\n",
    "        p[i, -1, 0],    \n",
    "        f\"Rain={sdgrid[i]}\",\n",
    "        va='center', ha='left',\n",
    "        color=color\n",
    "    ) \n",
    "plt.xlim(0, tsteps*1.1)\n",
    "plt.xlabel(\"Time Step\")\n",
    "plt.ylabel(\"FMC Prediction (%)\")\n",
    "plt.title(\"Varying Rain\")"
   ]
  },
  {
   "cell_type": "code",
   "execution_count": null,
   "id": "d0211963-6977-4f97-a3fa-e62e29a4eea1",
   "metadata": {},
   "outputs": [],
   "source": []
  },
  {
   "cell_type": "code",
   "execution_count": null,
   "id": "c0542d31-7989-4fd2-b180-cd00f83d7e9a",
   "metadata": {},
   "outputs": [],
   "source": []
  }
 ],
 "metadata": {
  "kernelspec": {
   "display_name": "Python 3 (ipykernel)",
   "language": "python",
   "name": "python3"
  },
  "language_info": {
   "codemirror_mode": {
    "name": "ipython",
    "version": 3
   },
   "file_extension": ".py",
   "mimetype": "text/x-python",
   "name": "python",
   "nbconvert_exporter": "python",
   "pygments_lexer": "ipython3",
   "version": "3.12.9"
  }
 },
 "nbformat": 4,
 "nbformat_minor": 5
}

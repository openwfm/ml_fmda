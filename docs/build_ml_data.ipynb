{
 "cells": [
  {
   "cell_type": "markdown",
   "id": "f1f4cc18-d23f-48ea-84dc-b0328a65e8e5",
   "metadata": {},
   "source": [
    "# Build Machine Learning Dataset\n"
   ]
  },
  {
   "cell_type": "markdown",
   "id": "84ed774d-7bef-48e7-b9a6-8f4ba4e17d81",
   "metadata": {},
   "source": [
    "## Setup"
   ]
  },
  {
   "cell_type": "code",
   "execution_count": null,
   "id": "509b32fd-9d6b-4582-b724-4d2a094a6832",
   "metadata": {},
   "outputs": [],
   "source": [
    "import os.path as osp\n",
    "from datetime import datetime, timezone\n",
    "from dateutil.relativedelta import relativedelta\n",
    "import synoptic\n",
    "import json\n",
    "import sys\n",
    "import numpy as np\n",
    "import polars as pl\n",
    "import pandas as pd\n",
    "sys.path.append('../src')\n",
    "from utils import Dict, read_yml, read_pkl, str2time, print_dict_summary, time_range\n",
    "from data_funcs import rename_dict\n",
    "import ingest.retrieve_raws_api as rr\n",
    "import ingest.retrieve_raws_stash as rrs"
   ]
  },
  {
   "cell_type": "code",
   "execution_count": null,
   "id": "dd65b844-5584-4011-b6db-a2a3f0c1fe97",
   "metadata": {},
   "outputs": [],
   "source": [
    "# raws_meta = read_yml(\"../etc/variable_metadata/raws_metadata.yaml\")\n",
    "\n",
    "with open(\"../etc/training_data_config.json\", \"r\") as json_file:\n",
    "    config = json.load(json_file)   \n",
    "    config = Dict(config)\n",
    "print_dict_summary(config)"
   ]
  },
  {
   "cell_type": "code",
   "execution_count": null,
   "id": "331376db-ab47-46cb-bd9b-04830e574a1a",
   "metadata": {},
   "outputs": [],
   "source": [
    "raws_stash_path = rrs.raws_meta[\"raws_stash_path\"]\n",
    "print(raws_stash_path)\n",
    "osp.exists(raws_stash_path)"
   ]
  },
  {
   "cell_type": "code",
   "execution_count": null,
   "id": "e3ce7185-2253-463d-ad42-8086310d3297",
   "metadata": {},
   "outputs": [],
   "source": [
    "times = time_range(config.start_time, config.end_time, start_offset=True)"
   ]
  },
  {
   "cell_type": "code",
   "execution_count": null,
   "id": "bb577483-4fc2-49f3-99b3-6cd671e5de48",
   "metadata": {},
   "outputs": [],
   "source": [
    "raws_dict = rrs.build_raws_dict(config)"
   ]
  },
  {
   "cell_type": "code",
   "execution_count": null,
   "id": "c9ab1140-7fa3-4102-93d7-b94451b68d1b",
   "metadata": {
    "scrolled": true
   },
   "outputs": [],
   "source": [
    "print_dict_summary(raws_dict)"
   ]
  },
  {
   "cell_type": "code",
   "execution_count": null,
   "id": "1ac949c8-afe7-4776-b675-98b58dbbc9a7",
   "metadata": {},
   "outputs": [],
   "source": [
    "import importlib\n",
    "import ingest.retrieve_hrrr_api\n",
    "importlib.reload(ingest.retrieve_hrrr_api)\n",
    "import ingest.retrieve_hrrr_api as ih"
   ]
  },
  {
   "cell_type": "code",
   "execution_count": null,
   "id": "d5c5c1ae-674b-4408-970e-b8d4287aba06",
   "metadata": {},
   "outputs": [],
   "source": [
    "hrrr_ds = ih.retrieve_hrrr(config)"
   ]
  },
  {
   "cell_type": "code",
   "execution_count": null,
   "id": "020c698e-f981-4583-871c-b0db106c517d",
   "metadata": {
    "scrolled": true
   },
   "outputs": [],
   "source": [
    "hrrr_pts = ih.subset_hrrr2raws(hrrr_ds, raws_dict)\n",
    "hrrr_pts = ih.rename_ds(hrrr_pts)"
   ]
  },
  {
   "cell_type": "code",
   "execution_count": null,
   "id": "40c773da-d516-4336-9bbe-cb52b53df3ae",
   "metadata": {},
   "outputs": [],
   "source": [
    "hrrr_pts"
   ]
  },
  {
   "cell_type": "code",
   "execution_count": null,
   "id": "081b917e-aa2f-4827-b568-b4b14c1e14cc",
   "metadata": {},
   "outputs": [],
   "source": [
    "# Check same STIDs\n",
    "np.all(hrrr_pts.point_stid.to_numpy() == np.array([*raws_dict.keys()]))"
   ]
  },
  {
   "cell_type": "code",
   "execution_count": null,
   "id": "d400cf95-cd8b-4d99-bb38-3a056da6a868",
   "metadata": {},
   "outputs": [],
   "source": [
    "for st in raws_dict:\n",
    "\n",
    "    # Comfirm times match. For HRRR data it should be the valid_time which accounts for forecast hour\n",
    "    raws_timesi = np.array([dt.replace(tzinfo=None) for dt in raws_dict[st][\"times\"]], dtype=\"datetime64\")\n",
    "    assert np.all(raws_timesi == hrrr_pts.valid_time.to_numpy()), \"Times in RAWS dict don't match HRRR data valid_time\"\n",
    "\n",
    "    # Extract dataframe of predictors, save in HRRR subdictionary\n",
    "    df = hrrr_pts.where(hrrr_pts.point_stid == st, drop=True).to_dataframe()\n",
    "    df.reset_index('point', drop=True, inplace=True)\n",
    "    raws_dict[st][\"HRRR\"] = df"
   ]
  },
  {
   "cell_type": "code",
   "execution_count": null,
   "id": "aa69d6a6-11cd-4582-bdda-62c11c5190b9",
   "metadata": {},
   "outputs": [],
   "source": []
  },
  {
   "cell_type": "code",
   "execution_count": null,
   "id": "e6acc047-3527-4a9e-83cd-de58d5e40cde",
   "metadata": {},
   "outputs": [],
   "source": []
  },
  {
   "cell_type": "code",
   "execution_count": null,
   "id": "91432967-f27d-4c15-9c76-a67e83e009d3",
   "metadata": {},
   "outputs": [],
   "source": []
  },
  {
   "cell_type": "code",
   "execution_count": null,
   "id": "4b4a8e8c-697c-4549-bf7a-c64534700c12",
   "metadata": {},
   "outputs": [],
   "source": []
  }
 ],
 "metadata": {
  "kernelspec": {
   "display_name": "Python 3 (ipykernel)",
   "language": "python",
   "name": "python3"
  },
  "language_info": {
   "codemirror_mode": {
    "name": "ipython",
    "version": 3
   },
   "file_extension": ".py",
   "mimetype": "text/x-python",
   "name": "python",
   "nbconvert_exporter": "python",
   "pygments_lexer": "ipython3",
   "version": "3.12.2"
  }
 },
 "nbformat": 4,
 "nbformat_minor": 5
}

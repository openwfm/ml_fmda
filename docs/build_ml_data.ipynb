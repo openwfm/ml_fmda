{
 "cells": [
  {
   "cell_type": "markdown",
   "id": "f1f4cc18-d23f-48ea-84dc-b0328a65e8e5",
   "metadata": {},
   "source": [
    "# Build Machine Learning Dataset\n"
   ]
  },
  {
   "cell_type": "markdown",
   "id": "c79db2ac-aa72-4e5f-85e0-e21def49917d",
   "metadata": {},
   "source": [
    "The data retrieval process loops through a range of dates, retrieves and joins RAWS, HRRR, and other data sources and saves to a local directory.\n",
    "\n",
    "This notebook describes the process of reading that data, performing the final set of quality control filters, and formatting into data that can be fed into the various models used in this project. "
   ]
  },
  {
   "cell_type": "markdown",
   "id": "84ed774d-7bef-48e7-b9a6-8f4ba4e17d81",
   "metadata": {},
   "source": [
    "## Setup"
   ]
  },
  {
   "cell_type": "code",
   "execution_count": null,
   "id": "509b32fd-9d6b-4582-b724-4d2a094a6832",
   "metadata": {},
   "outputs": [],
   "source": [
    "import os.path as osp\n",
    "from datetime import datetime, timezone\n",
    "from dateutil.relativedelta import relativedelta\n",
    "import synoptic\n",
    "import json\n",
    "import sys\n",
    "import numpy as np\n",
    "import polars as pl\n",
    "import pandas as pd\n",
    "import pickle\n",
    "from sklearn.metrics import mean_squared_error\n",
    "sys.path.append('../src')\n",
    "import reproducibility\n",
    "from utils import Dict, read_yml, read_pkl, str2time, print_dict_summary, time_range, rename_dict\n",
    "# import models.moisture_models as mm\n",
    "import models.moisture_rnn as mrnn\n",
    "from models.moisture_ode import ODE_FMC\n",
    "from models.moisture_static import XGB, LM\n",
    "import ingest.RAWS as rr\n",
    "import ingest.HRRR as ih\n",
    "import data_funcs "
   ]
  },
  {
   "cell_type": "code",
   "execution_count": null,
   "id": "22ba6476-fbc3-4dff-93e3-ab0550a3ac07",
   "metadata": {},
   "outputs": [],
   "source": [
    "start = \"2023-01-01T00:00:00Z\"\n",
    "end = \"2023-01-06T23:00:00Z\""
   ]
  },
  {
   "cell_type": "code",
   "execution_count": null,
   "id": "7bffca74-8c6d-45b0-9726-cd2a0687a4c3",
   "metadata": {},
   "outputs": [],
   "source": [
    "params_data = Dict(read_yml(\"../etc/params_data.yaml\"))\n",
    "print_dict_summary(params_data)"
   ]
  },
  {
   "cell_type": "markdown",
   "id": "cf05eb21-3b84-4de1-96a9-40ee2826b851",
   "metadata": {},
   "source": [
    "## Retrieve Data\n",
    "\n",
    "Nested dictionary with top level key corresponding to a RAWS and subkeys for RAWS, atmospheric data (HRRR), geographic info, etc\n",
    "\n",
    "This format is used because different FMC models used in this project require different data formatting. The ODE+KF physics-based model is run pointwise and does not incorporate info from other locations. The static ML models have the least restrictive input data structure, and all observations can be thrown into one set of tabular data. The RNN models require structuring input data with the format (batch_size, timesteps, features). Thus, it is simpler to keep all data separate at separate locations and recombine in various ways at the modeling step. Also, data filters for suspect RAWS sensors are applied in the next step. This is because the raw data retrieval should not depend on hyperparameter choices related to data filters, so it is easier to collect everything and apply filters later."
   ]
  },
  {
   "cell_type": "code",
   "execution_count": null,
   "id": "4e0547a5-0e20-4deb-a42b-524d78315726",
   "metadata": {},
   "outputs": [],
   "source": [
    "# paths = [\"../data/rocky_fmda/202301/fmda_20230101.pkl\", \n",
    "#          \"../data/rocky_fmda/202301/fmda_20230102.pkl\",\n",
    "#          \"../data/rocky_fmda/202301/fmda_20230103.pkl\",\n",
    "#          \"../data/rocky_fmda/202301/fmda_20230104.pkl\",\n",
    "#          \"../data/rocky_fmda/202301/fmda_20230105.pkl\",\n",
    "#          \"../data/rocky_fmda/202301/fmda_20230106.pkl\"\n",
    "#         ]\n",
    "paths = data_funcs.sort_files_by_date(\"../data/rocky_fmda/202301\")"
   ]
  },
  {
   "cell_type": "code",
   "execution_count": null,
   "id": "c4b41eb6-099b-453a-9afa-8547ddd5966c",
   "metadata": {
    "scrolled": true
   },
   "outputs": [],
   "source": [
    "raws_dict = data_funcs.combine_fmda_files(paths, save_path=\"../data/test_data/test_fmda_combined.pkl\")"
   ]
  },
  {
   "cell_type": "markdown",
   "id": "11870378-f722-423e-9ab7-82ca9dfdad2e",
   "metadata": {},
   "source": [
    "## Build ML Dataset\n",
    "\n",
    "Filter data and merge RAWS and HRRR and other sources. The file `etc/params_data.yaml` has hyperparameters related to filtering data. The steps include:\n",
    "\n",
    "- Determine atmospheric data source. Intended to be \"HRRR\" for production, but \"RAWS\" used for research purposes.\n",
    "- Combine atmospheric data predictors with FMC\n",
    "- Break timeseries into 72 hour periods, adding a column \"st_period\" starting at 0 (see README for info on why 72)\n",
    "- Apply data filters to 72 hour periods to RAWS data and remove from samples. HRRR data should already be QC'ed, so filtering will not be performed."
   ]
  },
  {
   "cell_type": "code",
   "execution_count": null,
   "id": "b176544c-e363-44c9-baf1-732e09067a21",
   "metadata": {},
   "outputs": [],
   "source": [
    "params_data"
   ]
  },
  {
   "cell_type": "code",
   "execution_count": null,
   "id": "486b58a8-6f41-4ade-9a3e-b92d4f789b06",
   "metadata": {
    "scrolled": true
   },
   "outputs": [],
   "source": [
    "ml_dict = data_funcs.build_ml_data(raws_dict, hours=params_data.hours, \n",
    "                                   max_linear_time = params_data.max_linear_time, \n",
    "                                   save_path = \"../data/test_data/test_ml_dat.pkl\")"
   ]
  },
  {
   "cell_type": "code",
   "execution_count": null,
   "id": "2134f539-6cb4-4015-bd12-e250111fd78c",
   "metadata": {},
   "outputs": [],
   "source": [
    "len(raws_dict.keys())"
   ]
  },
  {
   "cell_type": "code",
   "execution_count": null,
   "id": "d722c8ac-3e73-437c-a014-5995a0fa2cb8",
   "metadata": {},
   "outputs": [],
   "source": [
    "len(ml_dict.keys())"
   ]
  },
  {
   "cell_type": "markdown",
   "id": "f339e91d-6c3e-4134-ba22-651c4a3ee790",
   "metadata": {},
   "source": [
    "## Setup CV\n",
    "\n",
    "Steps:\n",
    "* Determine time ranges for train/val/test\n",
    "* Get stations with data availability in those periods\n",
    "* Sample stations for train/val/test\n",
    "\n",
    "\n",
    "Different stations will have different gaps of data availability for the train/val/test time periods. When selecting stations for inclusion in those periods, we use the following methodology:\n",
    "* Let $N$ be the total number of stations that returned data over the combined train/val/test times\n",
    "* Let $N_t$ be the number of stations included in each of the validation and test sets, and are chosen to be the nearest integer to 10\\% of $N$\n",
    "* Starting with the test time period, we select $N_t$ of the number of stations with data availability in the period. In other words, there may be less than $N$ stations with data availability in the test period, but we select $N_t$ if possible\n",
    "* Then, we select $N_t$ stations for inclusion in the validation set, excluding any of the $N_t$ stations included in the test set\n",
    "* Finally, we use any remaining stations for the training set that weren't included in either of the validation or test sets. So there is a maximum of $N-2\\cdot N_t$ stations included in the training set \n",
    "\n",
    "This methodology makes it so the number of stations included in the training set varies and is sometimes less than $N-2\\cdot N_t$. We fix the number of stations in the test and validation sets and allow the number of stations in the training set to vary. This is because we don't want accuracy metrics to be calculated consistently for those periods. If there are fewer stations with data availability for a certain period, we want that be to reflected in a smaller training set and presumably less accurate metrics on the test set."
   ]
  },
  {
   "cell_type": "code",
   "execution_count": null,
   "id": "1c2a4c75-f4fd-4504-a093-3797e20b127b",
   "metadata": {},
   "outputs": [],
   "source": [
    "train, val, test = data_funcs.cv_data_wrap(ml_dict, \"2023-01-29T00:00:00Z\", \n",
    "                train_hours = 24*28, forecast_hours=48,\n",
    "                random_state=42)"
   ]
  },
  {
   "cell_type": "markdown",
   "id": "568c10d7-fc06-4c89-aa22-8f6e4de7519d",
   "metadata": {},
   "source": [
    "## ODE+KF Data\n",
    "\n",
    "* Run on 72 hour stretches (24 spinup, 48 val)\n",
    "* Get test station list used by other models\n",
    "* For those test stations, use `get_sts_and_times` accounting for the spinup period\n",
    "    * So adjust test times by subtracting 24 hours to account for spinup\n",
    " \n",
    "Function `get_ode_data` wraps the `get_sts_and_times` function... "
   ]
  },
  {
   "cell_type": "code",
   "execution_count": null,
   "id": "d9c58b72-feb2-4892-973b-7fb7eef71be3",
   "metadata": {},
   "outputs": [],
   "source": [
    "te_sts = [*test.keys()]\n",
    "test_times = test[te_sts[0]][\"times\"]\n",
    "\n",
    "ode_data = data_funcs.get_ode_data(ml_dict, te_sts, test_times)"
   ]
  },
  {
   "cell_type": "code",
   "execution_count": null,
   "id": "0766c087-84ef-46b6-8dd8-95c5ff5e1c91",
   "metadata": {},
   "outputs": [],
   "source": [
    "ode = ODE_FMC()\n",
    "m, errs = ode.run_model(ode_data, hours=72, h2=24)"
   ]
  },
  {
   "cell_type": "code",
   "execution_count": null,
   "id": "149cf12c-db9a-4f32-8070-cf4bd3c9cee1",
   "metadata": {},
   "outputs": [],
   "source": [
    "print(f\"RMSE Over Test Period: {errs}\")"
   ]
  },
  {
   "cell_type": "markdown",
   "id": "cabc3c8f-8789-4d9c-a53f-0eabc7b88fd2",
   "metadata": {},
   "source": [
    "## Static ML Data\n",
    "\n",
    "Throw all train/val/test data together without worrying about timesteps samples. In other words, data can all be jumbled up in any order as observations are considered independent in time.\n",
    "\n",
    "Data is stored as a custom class `StaticMLData` defined in `models/moisture_models.py`. A custom class is used to organize data scaling and inverse scaling. A scaler should be fit using only the training data, and then applied to the val and test data to avoid data leakage. This is done internally in the StaticMLData class. "
   ]
  },
  {
   "cell_type": "code",
   "execution_count": null,
   "id": "13c9ce42-0800-41b8-aafb-bfea2112c299",
   "metadata": {},
   "outputs": [],
   "source": [
    "dat = data_funcs.StaticMLData(train, val, test)"
   ]
  },
  {
   "cell_type": "code",
   "execution_count": null,
   "id": "54c32b94-a30d-4844-8ab0-4e1e131cbfeb",
   "metadata": {},
   "outputs": [],
   "source": [
    "dat.scale_data()"
   ]
  },
  {
   "cell_type": "code",
   "execution_count": null,
   "id": "4ffaf020-bf3a-4ea6-857b-9a9632eeed88",
   "metadata": {},
   "outputs": [],
   "source": [
    "tr, v, te = dat.inverse_scale(save_changes=False)"
   ]
  },
  {
   "cell_type": "code",
   "execution_count": null,
   "id": "b2cb8d42-d1d4-4753-b381-173dc8ba7649",
   "metadata": {},
   "outputs": [],
   "source": [
    "print(dat.X_train[:, 0].mean())"
   ]
  },
  {
   "cell_type": "code",
   "execution_count": null,
   "id": "fd15177e-8196-43ea-adc1-fe2eef16fccb",
   "metadata": {},
   "outputs": [],
   "source": [
    "print(tr[:, 0].mean())"
   ]
  },
  {
   "cell_type": "code",
   "execution_count": null,
   "id": "340ead97-2a25-4087-a35a-70320a7e0dc2",
   "metadata": {},
   "outputs": [],
   "source": [
    "dat.scale_data()"
   ]
  },
  {
   "cell_type": "markdown",
   "id": "6066d23b-0123-4cb9-b268-d06989d6a06c",
   "metadata": {},
   "source": [
    "### Fitting Static Models\n",
    "\n",
    "Using StaticMLData custom class above, fit and predict using some static ML models."
   ]
  },
  {
   "cell_type": "code",
   "execution_count": null,
   "id": "07e3d867-b34e-4b4a-b137-2b8c8a089ac5",
   "metadata": {
    "scrolled": true
   },
   "outputs": [],
   "source": [
    "xgb_model = XGB(random_state=42)\n",
    "xgb_model.fit(dat.X_train, dat.y_train)\n",
    "print(\"~\"*50)\n",
    "err_val = xgb_model.test_eval(dat.X_val, dat.y_val)\n",
    "err = xgb_model.test_eval(dat.X_test, dat.y_test)"
   ]
  },
  {
   "cell_type": "code",
   "execution_count": null,
   "id": "ab3986a3-624c-45c8-a020-1ef5d3c52bf9",
   "metadata": {},
   "outputs": [],
   "source": [
    "lm_model = LM()\n",
    "lm_model.fit(dat.X_train, dat.y_train)\n",
    "\n",
    "print(\"~\"*50)\n",
    "err_val = lm_model.test_eval(dat.X_val, dat.y_val)\n",
    "err = lm_model.test_eval(dat.X_test, dat.y_test)"
   ]
  },
  {
   "cell_type": "markdown",
   "id": "f5c14999-9b74-4faf-8eed-0a5318826b05",
   "metadata": {},
   "source": [
    "## RNN Data\n",
    "\n",
    "For training RNNs (simple, LSTM, GRU included), the data must be structured as `(batch_size, timesteps, features)`. So a single \"sample\" in this context is a timeseries of length `timesteps` and dimensionality `features`. RNNs can be trained with different size timesteps and batch sizes, which is often useful in the context of natural language processing. However, if running an RNN in \"stateful\" model, which maintains the dependence between different samples from the same location, the data must have consistent number of timesteps and batch size across all inputs. Further, when using static features like lon/lat or elevation, it is desirable to have samples from different locations within the same batch. Otherwise, if a batch is constructed with samples all from the same location, the static features will have zero variance for a given batch and the model cannot learn any relationship between the static features and the outcome variable for that batch.\n",
    "\n",
    "Data is stored in a custom class `RNNData` defined in `models/moisture_rnn.py`. A custom class is used to organize scaling as well as batch construction. "
   ]
  },
  {
   "cell_type": "code",
   "execution_count": null,
   "id": "ac3df6f7-9f67-46fc-ab0b-a6df66fb4210",
   "metadata": {},
   "outputs": [],
   "source": [
    "dat = mrnn.RNNData(train, val, test,\n",
    "                  method=\"random\", random_state=None)"
   ]
  },
  {
   "cell_type": "code",
   "execution_count": null,
   "id": "5812c8a6-e2b2-48e8-a3e3-b2dbd639eae4",
   "metadata": {},
   "outputs": [],
   "source": [
    "# Save Test Data\n",
    "\n",
    "with open(\"../data/test_data/test_rnn_dat.pkl\", 'wb') as handle:\n",
    "    pickle.dump(dat, handle, protocol=pickle.HIGHEST_PROTOCOL)"
   ]
  },
  {
   "cell_type": "code",
   "execution_count": null,
   "id": "2978b5f8-76a6-4cde-884d-3bd772ae90b3",
   "metadata": {},
   "outputs": [],
   "source": [
    "dat.X_train.shape"
   ]
  },
  {
   "cell_type": "code",
   "execution_count": null,
   "id": "646f3d08-6dc7-4708-bff9-aa4f66864793",
   "metadata": {},
   "outputs": [],
   "source": [
    "np.mean(dat.X_train, axis=(0,1))"
   ]
  },
  {
   "cell_type": "code",
   "execution_count": null,
   "id": "1ed2858d-060d-40c7-b269-45448308c957",
   "metadata": {},
   "outputs": [],
   "source": [
    "np.mean(dat.X_val, axis=(0,1))"
   ]
  },
  {
   "cell_type": "code",
   "execution_count": null,
   "id": "bb7d4126-300b-4020-ae82-6c5c096d404a",
   "metadata": {},
   "outputs": [],
   "source": [
    "np.mean(dat.X_test, axis=(0,1))"
   ]
  },
  {
   "cell_type": "code",
   "execution_count": null,
   "id": "84e04d56-e9b0-46ea-aabf-57c7c7ba9480",
   "metadata": {},
   "outputs": [],
   "source": [
    "dat.scale_data()"
   ]
  },
  {
   "cell_type": "code",
   "execution_count": null,
   "id": "23e66d8f-c7a9-4515-9080-6c919f0ae7a1",
   "metadata": {},
   "outputs": [],
   "source": [
    "np.mean(dat.X_train, axis=(0,1))"
   ]
  },
  {
   "cell_type": "code",
   "execution_count": null,
   "id": "d4a887fd-8054-403b-a08b-dcc3298e8f56",
   "metadata": {
    "scrolled": true
   },
   "outputs": [],
   "source": [
    "np.mean(dat.X_val, axis=(0,1))"
   ]
  },
  {
   "cell_type": "code",
   "execution_count": null,
   "id": "654c57a9-ef37-4c97-8d91-a7eebb7b0f8e",
   "metadata": {
    "scrolled": true
   },
   "outputs": [],
   "source": [
    "np.mean(dat.X_test, axis=(0,1))"
   ]
  },
  {
   "cell_type": "code",
   "execution_count": null,
   "id": "3875e47b-1700-440e-a0c0-2176a895b2b1",
   "metadata": {},
   "outputs": [],
   "source": [
    "a, b, c = dat.inverse_scale()"
   ]
  },
  {
   "cell_type": "code",
   "execution_count": null,
   "id": "47dacc6b-7c57-4d03-8576-09eb71824262",
   "metadata": {},
   "outputs": [],
   "source": [
    "np.mean(a, axis=(0,1))"
   ]
  },
  {
   "cell_type": "code",
   "execution_count": null,
   "id": "6623ad15-f825-4ecb-a4b3-be3fb0319a9a",
   "metadata": {},
   "outputs": [],
   "source": [
    "np.mean(b, axis=(0,1))"
   ]
  },
  {
   "cell_type": "code",
   "execution_count": null,
   "id": "c4301f14-1a5c-40b9-9a96-165e396c2b98",
   "metadata": {},
   "outputs": [],
   "source": [
    "np.mean(c, axis=(0,1))"
   ]
  },
  {
   "cell_type": "code",
   "execution_count": null,
   "id": "f7097c99-44c8-439b-a5bc-890f33720f90",
   "metadata": {},
   "outputs": [],
   "source": []
  },
  {
   "cell_type": "code",
   "execution_count": null,
   "id": "027a28ab-5faa-4c1a-aac4-f992eff02ffc",
   "metadata": {},
   "outputs": [],
   "source": []
  },
  {
   "cell_type": "code",
   "execution_count": null,
   "id": "bd2e7add-dfe3-4c1f-872a-1825037dac1f",
   "metadata": {},
   "outputs": [],
   "source": [
    "dat.y_train.shape"
   ]
  },
  {
   "cell_type": "code",
   "execution_count": null,
   "id": "e64779a6-5a0d-4c55-81c5-a8343ede3df2",
   "metadata": {},
   "outputs": [],
   "source": [
    "dat.X_val.shape"
   ]
  },
  {
   "cell_type": "code",
   "execution_count": null,
   "id": "77a69c5a-439e-4229-a925-3a5964f7b927",
   "metadata": {},
   "outputs": [],
   "source": [
    "dat.y_val.shape"
   ]
  },
  {
   "cell_type": "code",
   "execution_count": null,
   "id": "ce569a4d-3670-4340-a591-39390a952d05",
   "metadata": {},
   "outputs": [],
   "source": [
    "dat.X_test.shape"
   ]
  },
  {
   "cell_type": "code",
   "execution_count": null,
   "id": "bc7cca1c-a9c2-4c55-8d7d-bff978939114",
   "metadata": {},
   "outputs": [],
   "source": [
    "dat.y_test.shape"
   ]
  },
  {
   "cell_type": "markdown",
   "id": "af33a42c-b3e2-4012-b457-78fba49993e2",
   "metadata": {},
   "source": [
    "### Fitting RNN Models"
   ]
  },
  {
   "cell_type": "code",
   "execution_count": null,
   "id": "51eacdc0-a0aa-459e-a099-dfdbbe343853",
   "metadata": {
    "scrolled": true
   },
   "outputs": [],
   "source": [
    "import importlib\n",
    "import models.moisture_rnn\n",
    "importlib.reload(models.moisture_rnn)\n",
    "import models.moisture_rnn as mrnn"
   ]
  },
  {
   "cell_type": "code",
   "execution_count": null,
   "id": "85aa7672-aea6-4885-97ec-60d0b12bbe7c",
   "metadata": {},
   "outputs": [],
   "source": [
    "params = mrnn.params_models[\"rnn\"]\n",
    "params.update({\n",
    "    'stateful': False,\n",
    "    'return_sequences': True,\n",
    "    'hidden_units': [20, 20, None], \n",
    "    'batch_size': 32,\n",
    "    'timesteps': None,\n",
    "    'epochs':100,\n",
    "    'random_state': 42\n",
    "})\n",
    "params\n",
    "\n",
    "rnn = mrnn.RNN_Flexible(n_features=dat.n_features, params=params)"
   ]
  },
  {
   "cell_type": "code",
   "execution_count": null,
   "id": "aca3f8f1-9648-4065-b3bd-9726786d2157",
   "metadata": {},
   "outputs": [],
   "source": [
    "dat.X_train.shape"
   ]
  },
  {
   "cell_type": "code",
   "execution_count": null,
   "id": "df0f58a7-821b-404d-8511-8db38ba4c540",
   "metadata": {},
   "outputs": [],
   "source": [
    "dat.y_train.shape"
   ]
  },
  {
   "cell_type": "code",
   "execution_count": null,
   "id": "c2d77773-ff65-42db-9b37-c06ff8195bcf",
   "metadata": {},
   "outputs": [],
   "source": [
    "type(dat.y_val[0,0,0])"
   ]
  },
  {
   "cell_type": "code",
   "execution_count": null,
   "id": "58562e3b-b518-40ab-879d-19d437fe9d15",
   "metadata": {},
   "outputs": [],
   "source": [
    "type(dat.y_train[0,0,0])"
   ]
  },
  {
   "cell_type": "code",
   "execution_count": null,
   "id": "98c1d12f-6eea-402b-aac8-73413b6f43d9",
   "metadata": {},
   "outputs": [],
   "source": [
    "rnn.fit(dat.X_train, dat.y_train, \n",
    "        validation_data=(dat.X_val, dat.y_val),\n",
    "        batch_size = params[\"batch_size\"],\n",
    "        epochs = 3,\n",
    "        verbose_fit = True\n",
    "       )"
   ]
  },
  {
   "cell_type": "code",
   "execution_count": null,
   "id": "0d7f00f2-f1e1-45d3-8788-b5cffcb808d8",
   "metadata": {},
   "outputs": [],
   "source": [
    "rnn.test_eval(dat.X_test, dat.y_test)"
   ]
  },
  {
   "cell_type": "code",
   "execution_count": null,
   "id": "fa7af791-2c2c-45e0-92f8-1756984cc34c",
   "metadata": {},
   "outputs": [],
   "source": [
    "p = rnn.predict(dat.X_test)\n",
    "np.sqrt(mean_squared_error(p.flatten(), dat.y_test.flatten()))"
   ]
  },
  {
   "cell_type": "code",
   "execution_count": null,
   "id": "50c3b867-e898-4a4e-814d-e9c3618ef45d",
   "metadata": {},
   "outputs": [],
   "source": [
    "dat.X_train.shape"
   ]
  },
  {
   "cell_type": "code",
   "execution_count": null,
   "id": "133eba1d-d60d-4051-8399-80b66b742b6a",
   "metadata": {},
   "outputs": [],
   "source": []
  },
  {
   "cell_type": "code",
   "execution_count": null,
   "id": "b13b26b6-b12e-4d23-a2b1-4f15552d1c5f",
   "metadata": {},
   "outputs": [],
   "source": []
  },
  {
   "cell_type": "code",
   "execution_count": null,
   "id": "65b4c49d-e23e-4262-aec3-b4f8b05f48fa",
   "metadata": {},
   "outputs": [],
   "source": []
  },
  {
   "cell_type": "code",
   "execution_count": null,
   "id": "8591edd8-4b81-4c63-9e6b-aa4708ab0012",
   "metadata": {},
   "outputs": [],
   "source": []
  },
  {
   "cell_type": "code",
   "execution_count": null,
   "id": "4192d1ab-d8d7-4ed6-a71d-556c3666b009",
   "metadata": {},
   "outputs": [],
   "source": []
  }
 ],
 "metadata": {
  "kernelspec": {
   "display_name": "Python 3 (ipykernel)",
   "language": "python",
   "name": "python3"
  },
  "language_info": {
   "codemirror_mode": {
    "name": "ipython",
    "version": 3
   },
   "file_extension": ".py",
   "mimetype": "text/x-python",
   "name": "python",
   "nbconvert_exporter": "python",
   "pygments_lexer": "ipython3",
   "version": "3.12.2"
  }
 },
 "nbformat": 4,
 "nbformat_minor": 5
}

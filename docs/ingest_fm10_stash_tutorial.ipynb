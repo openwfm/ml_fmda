{
 "cells": [
  {
   "cell_type": "markdown",
   "id": "f1f4cc18-d23f-48ea-84dc-b0328a65e8e5",
   "metadata": {},
   "source": [
    "# Data Ingest of 10-h Fuel Moisture Content\n",
    "\n",
    "This notebook demonstrates retrieval and filtering of 10-h dead FMC data from a RAWS stash maintained by Angel Farguell."
   ]
  },
  {
   "cell_type": "markdown",
   "id": "079a0743-ad31-4d16-8307-34cf84b5c28b",
   "metadata": {},
   "source": [
    "## References\n",
    "\n",
    "For more info on python library API, see Brian Blaylock's `SynopticPy` [python package](https://github.com/blaylockbk/SynopticPy)\n",
    "\n",
    "For more info on available Synoptic RAWS variables, see [Synoptic Data](https://demos.synopticdata.com/variables/index.html) documentation"
   ]
  },
  {
   "cell_type": "markdown",
   "id": "84ed774d-7bef-48e7-b9a6-8f4ba4e17d81",
   "metadata": {},
   "source": [
    "## Setup"
   ]
  },
  {
   "cell_type": "code",
   "execution_count": null,
   "id": "509b32fd-9d6b-4582-b724-4d2a094a6832",
   "metadata": {},
   "outputs": [],
   "source": [
    "import os.path as osp\n",
    "from datetime import datetime, timezone\n",
    "from dateutil.relativedelta import relativedelta\n",
    "import synoptic\n",
    "import json\n",
    "import sys\n",
    "import numpy as np\n",
    "import polars as pl\n",
    "import pandas as pd\n",
    "sys.path.append('../src')\n",
    "from utils import Dict, read_yml, read_pkl, str2time\n",
    "from data_funcs import rename_dict\n",
    "import ingest.retrieve_raws_api as rr\n",
    "import ingest.retrieve_raws_stash as rrs"
   ]
  },
  {
   "cell_type": "code",
   "execution_count": null,
   "id": "dd65b844-5584-4011-b6db-a2a3f0c1fe97",
   "metadata": {},
   "outputs": [],
   "source": [
    "# raws_meta = read_yml(\"../etc/variable_metadata/raws_metadata.yaml\")\n",
    "\n",
    "with open(\"../etc/training_data_config.json\", \"r\") as json_file:\n",
    "    config = json.load(json_file)   \n",
    "    config = Dict(config)"
   ]
  },
  {
   "cell_type": "code",
   "execution_count": null,
   "id": "7b91e911-b0dd-4937-b566-c361a2004f62",
   "metadata": {},
   "outputs": [],
   "source": [
    "config"
   ]
  },
  {
   "cell_type": "code",
   "execution_count": null,
   "id": "331376db-ab47-46cb-bd9b-04830e574a1a",
   "metadata": {},
   "outputs": [],
   "source": [
    "raws_stash_path = rrs.raws_meta[\"raws_stash_path\"]\n",
    "print(raws_stash_path)\n",
    "osp.exists(raws_stash_path)"
   ]
  },
  {
   "cell_type": "code",
   "execution_count": null,
   "id": "fcc72ad6-40f5-40ef-91b4-aa76117a952f",
   "metadata": {},
   "outputs": [],
   "source": [
    "start = str2time(config.start_time)\n",
    "end  = str2time(config.end_time)\n",
    "bbox = config.bbox\n",
    "bbox_reordered = [bbox[1], bbox[0], bbox[3], bbox[2]]"
   ]
  },
  {
   "cell_type": "code",
   "execution_count": null,
   "id": "51adc2d5-c0a9-4266-bb57-d47f0168d66d",
   "metadata": {},
   "outputs": [],
   "source": [
    "start"
   ]
  },
  {
   "cell_type": "code",
   "execution_count": null,
   "id": "fa142752-e962-49a9-b28d-f1e01a07dac7",
   "metadata": {},
   "outputs": [],
   "source": [
    "start.year"
   ]
  },
  {
   "cell_type": "code",
   "execution_count": null,
   "id": "ee13ff72-c818-4242-8886-27a641bd1658",
   "metadata": {},
   "outputs": [],
   "source": [
    "sts = rr.get_stations(bbox_reordered, start, end)\n",
    "sts"
   ]
  },
  {
   "cell_type": "code",
   "execution_count": null,
   "id": "35e81659-ea59-4dd9-806b-c53c4cd401d0",
   "metadata": {},
   "outputs": [],
   "source": [
    "# times = pd.date_range(start-relativedelta(hours=1), end, freq=\"h\")\n",
    "# times = times.to_pydatetime()\n",
    "# times"
   ]
  },
  {
   "cell_type": "code",
   "execution_count": null,
   "id": "d9eda0bc-c6d0-46cc-95fb-60a38a0d5dad",
   "metadata": {},
   "outputs": [],
   "source": []
  },
  {
   "cell_type": "code",
   "execution_count": null,
   "id": "3d261cfa-4539-47c6-a10b-dc672093a60e",
   "metadata": {},
   "outputs": [],
   "source": [
    "# def get_file_paths(start, end):\n",
    "#     \"\"\"\n",
    "#     Get file paths for RAWS stash from given start and end dates.\n",
    "#     \"\"\"  \n",
    "#     # yr = str(time.year)\n",
    "#     # doy = time.strftime('%j') # Julian day of year, 001-366\n",
    "#     # hod = time.strftime('%H') # Hour of day, 00-23\n",
    "\n",
    "#     paths = [\n",
    "#         osp.join(\n",
    "#             raws_stash_path,        \n",
    "#             str(time.year),     \n",
    "#             time.strftime('%j'),    #  Julian day of year, 001-366\n",
    "#             f\"{str(time.year)}{time.strftime('%j')}{time.strftime('%H')}.pkl\" )# Join with hour of day, 00-23\n",
    "#         for time in times\n",
    "#     ]\n",
    "    \n",
    "#     return paths"
   ]
  },
  {
   "cell_type": "code",
   "execution_count": null,
   "id": "f0e0c081-3270-4954-ab8c-1c3de8cb55fc",
   "metadata": {},
   "outputs": [],
   "source": [
    "paths = rrs.get_file_paths(start, end)\n",
    "paths"
   ]
  },
  {
   "cell_type": "code",
   "execution_count": null,
   "id": "09033bda-889e-417b-84c8-0cf3d4d31b7e",
   "metadata": {},
   "outputs": [],
   "source": []
  },
  {
   "cell_type": "code",
   "execution_count": null,
   "id": "69bef11f-86ea-42dc-8643-2b38b27c6dc8",
   "metadata": {},
   "outputs": [],
   "source": [
    "np.all([osp.exists(path) for path in paths])"
   ]
  },
  {
   "cell_type": "code",
   "execution_count": null,
   "id": "4c649667-151e-4b64-850c-9d846929cb4a",
   "metadata": {},
   "outputs": [],
   "source": [
    "sts"
   ]
  },
  {
   "cell_type": "code",
   "execution_count": null,
   "id": "7d9390cd-524e-4d9a-8cf8-83aefcfdad57",
   "metadata": {},
   "outputs": [],
   "source": [
    "# times"
   ]
  },
  {
   "cell_type": "code",
   "execution_count": null,
   "id": "775b828b-ed13-4296-b0e1-a6710e320d92",
   "metadata": {},
   "outputs": [],
   "source": [
    "paths"
   ]
  },
  {
   "cell_type": "code",
   "execution_count": null,
   "id": "1b18e515-f5f8-4833-b72e-724784f07db8",
   "metadata": {},
   "outputs": [],
   "source": [
    "d1 = read_pkl(paths[0])\n",
    "d1"
   ]
  },
  {
   "cell_type": "code",
   "execution_count": null,
   "id": "7a299d15-c4b6-443d-8137-58876e039800",
   "metadata": {},
   "outputs": [],
   "source": [
    "sts[0]"
   ]
  },
  {
   "cell_type": "code",
   "execution_count": null,
   "id": "5b04f5cf-a5c2-4b5a-9474-493c4d011176",
   "metadata": {},
   "outputs": [],
   "source": [
    "# name_mapping = {\n",
    "#     \"STID\": \"stid\",\n",
    "#     \"datetime\": \"date_time\",\n",
    "#     \"fm10\": \"fm\",\n",
    "#     \"latitude\": \"lat\",\n",
    "#     \"longitude\": \"lon\",\n",
    "#     \"elevation\": \"elev\"\n",
    "# }\n"
   ]
  },
  {
   "cell_type": "code",
   "execution_count": null,
   "id": "a7348fe2-27ac-4123-9bca-3e494cd945eb",
   "metadata": {},
   "outputs": [],
   "source": [
    "# def get_static(df, st, static_vars=[\"stid\", \"latitude\", \"longitude\", \"elevation\", \"name\", \"state\", \"id\"]):\n",
    "#     loc = {col: values[0] for col, values in sts.filter(sts[\"stid\"] == st).select(static_vars).to_dict(as_series=False).items()}\n",
    "#     loc = rename_dict(loc, name_mapping)\n",
    "#     loc[\"elev\"] = loc[\"elev\"] * 0.3048 # Convert ft to M\n",
    "    \n",
    "#     return loc"
   ]
  },
  {
   "cell_type": "code",
   "execution_count": null,
   "id": "6f02a8bd-8542-4f72-9226-35386a335512",
   "metadata": {},
   "outputs": [],
   "source": [
    "rr.get_static(sts, \"BRLW4\")"
   ]
  },
  {
   "cell_type": "code",
   "execution_count": null,
   "id": "a5fef840-28de-4835-a5da-dcdd1447ed29",
   "metadata": {
    "scrolled": true
   },
   "outputs": [],
   "source": [
    "raws_dict = {\n",
    "    st: {\n",
    "        \"RAWS\": [],\n",
    "        \"units\": {\"fm\": \"%\", \"elev\": \"m\"},\n",
    "        \"loc\": rr.get_static(sts, st),\n",
    "        \"misc\": \"Data collected from RAWS stash\"\n",
    "        } \n",
    "    for st in sts[\"stid\"]}\n",
    "raws_dict"
   ]
  },
  {
   "cell_type": "code",
   "execution_count": null,
   "id": "c2d2d5a8-d5ba-40b2-94ec-14d1cc58b0c1",
   "metadata": {
    "scrolled": true
   },
   "outputs": [],
   "source": [
    "raws_dict.keys()"
   ]
  },
  {
   "cell_type": "code",
   "execution_count": null,
   "id": "2394ae82-61ed-4a2b-9cc2-02720ff026bd",
   "metadata": {},
   "outputs": [],
   "source": [
    "raws_dict[\"TS399\"][\"loc\"]"
   ]
  },
  {
   "cell_type": "code",
   "execution_count": null,
   "id": "04f6fe18-93a4-4b1b-8c42-e2c6febb3702",
   "metadata": {},
   "outputs": [],
   "source": [
    "for path in paths:\n",
    "    dat = read_pkl(path)\n",
    "    for st in sts[\"stid\"]:\n",
    "        # Filter the data for the current station and append\n",
    "        filtered = dat[dat['STID'] == st]\n",
    "        if not filtered.empty:\n",
    "            raws_dict[st][\"RAWS\"].append(filtered)"
   ]
  },
  {
   "cell_type": "code",
   "execution_count": null,
   "id": "bd6df99a-1fd8-442b-b5d7-a213c89734b2",
   "metadata": {},
   "outputs": [],
   "source": [
    "# Combine the lists of DataFrames for each station into a single DataFrame\n",
    "\n",
    "for st in raws_dict:\n",
    "    if raws_dict[st][\"RAWS\"]:  # Check if the list is not empty\n",
    "        raws_dict[st][\"RAWS\"] = pd.concat(raws_dict[st][\"RAWS\"], ignore_index=True)\n",
    "    else:\n",
    "        raws_dict[st][\"RAWS\"] = pd.DataFrame()  # Set an empty DataFrame if no data was found\n",
    "    raws_dict[st][\"RAWS\"].rename(columns=rrs.raws_meta[\"rename_stash\"], inplace=True)"
   ]
  },
  {
   "cell_type": "code",
   "execution_count": null,
   "id": "cbfcfa8d-cb83-450a-a8c7-e04fd25d1572",
   "metadata": {},
   "outputs": [],
   "source": [
    "raws_dict[\"BRLW4\"][\"RAWS\"]"
   ]
  },
  {
   "cell_type": "code",
   "execution_count": null,
   "id": "1518a740-bc66-4aa9-84bb-6cabf5d3a5f5",
   "metadata": {},
   "outputs": [],
   "source": [
    "type(raws_dict[\"BRLW4\"][\"RAWS\"])"
   ]
  },
  {
   "cell_type": "code",
   "execution_count": null,
   "id": "ef110713-d5ee-4b51-baa3-94c096ca9bb9",
   "metadata": {},
   "outputs": [],
   "source": [
    "read_pkl(osp.join(raws_stash_path, \"stations.pkl\"))"
   ]
  },
  {
   "cell_type": "code",
   "execution_count": null,
   "id": "65fa5f6b-dd18-45cb-89a0-910fcb942b64",
   "metadata": {},
   "outputs": [],
   "source": [
    "raws_dict[\"BRLW4\"].keys()"
   ]
  },
  {
   "cell_type": "code",
   "execution_count": null,
   "id": "13c7b65a-30bc-491a-9c30-7be8b2589d26",
   "metadata": {},
   "outputs": [],
   "source": [
    "raws_dict[\"BRLW4\"][\"misc\"]"
   ]
  },
  {
   "cell_type": "code",
   "execution_count": null,
   "id": "381b6f1b-ca20-4b58-ba80-8de2a4c97ed9",
   "metadata": {},
   "outputs": [],
   "source": [
    "raws_dict[\"BRLW4\"][\"loc\"]"
   ]
  },
  {
   "cell_type": "code",
   "execution_count": null,
   "id": "4cc7d584-aeb5-413e-9f89-44acaeac4011",
   "metadata": {},
   "outputs": [],
   "source": [
    "raws_dict[\"BRLW4\"][\"units\"]"
   ]
  },
  {
   "cell_type": "code",
   "execution_count": null,
   "id": "bb577483-4fc2-49f3-99b3-6cd671e5de48",
   "metadata": {},
   "outputs": [],
   "source": []
  },
  {
   "cell_type": "code",
   "execution_count": null,
   "id": "f3227661-e5fe-43cf-9b2b-87f3240d4a46",
   "metadata": {},
   "outputs": [],
   "source": []
  },
  {
   "cell_type": "code",
   "execution_count": null,
   "id": "cc526012-ced7-4d0e-81b7-887df385d520",
   "metadata": {},
   "outputs": [],
   "source": []
  },
  {
   "cell_type": "code",
   "execution_count": null,
   "id": "458771a2-8e7f-4003-82a9-7ff7ff68d8a4",
   "metadata": {},
   "outputs": [],
   "source": [
    "sts"
   ]
  },
  {
   "cell_type": "code",
   "execution_count": null,
   "id": "fde64b06-6e7b-4b32-aa33-59f88e20bb87",
   "metadata": {},
   "outputs": [],
   "source": [
    "from herbie import HerbieLatest"
   ]
  },
  {
   "cell_type": "code",
   "execution_count": null,
   "id": "8d8ed02e-8aae-48dc-8053-f705eb88e8ad",
   "metadata": {},
   "outputs": [],
   "source": [
    "ds = HerbieLatest(model=\"hrrr\", product=\"prs\", fxx=0).terrain()"
   ]
  },
  {
   "cell_type": "code",
   "execution_count": null,
   "id": "c9ea930a-bd60-47d4-9893-9c27e66aaab9",
   "metadata": {},
   "outputs": [],
   "source": [
    "ds"
   ]
  },
  {
   "cell_type": "code",
   "execution_count": null,
   "id": "e40f8c2c-dea7-4d17-bce1-8a53a03d2985",
   "metadata": {},
   "outputs": [],
   "source": [
    "points = pd.DataFrame(sts[[\"longitude\", \"latitude\"]], columns=[\"longitude\", \"latitude\"])\n",
    "points"
   ]
  },
  {
   "cell_type": "code",
   "execution_count": null,
   "id": "ee040221-54c6-49dc-a7c5-52c209301084",
   "metadata": {},
   "outputs": [],
   "source": [
    "points.shape"
   ]
  },
  {
   "cell_type": "code",
   "execution_count": null,
   "id": "2825871f-a405-4ce7-9d75-d8d0c7b7105e",
   "metadata": {},
   "outputs": [],
   "source": [
    "ds_pts = ds.herbie.pick_points(points, method=\"nearest\")\n",
    "ds_pts"
   ]
  },
  {
   "cell_type": "code",
   "execution_count": null,
   "id": "57104cf5-3862-4054-a467-c7c83d679f38",
   "metadata": {},
   "outputs": [],
   "source": [
    "from herbie.toolbox import EasyMap, pc\n",
    "from herbie import paint"
   ]
  },
  {
   "cell_type": "code",
   "execution_count": null,
   "id": "024e97fd-f01d-4fbd-9bf2-dc30e79e4ea0",
   "metadata": {},
   "outputs": [],
   "source": [
    "ax = EasyMap(\"50m\", crs=ds.herbie.crs, figsize=[10, 8]).BORDERS().STATES().ax\n",
    "\n",
    "p = ax.pcolormesh(\n",
    "    ds.longitude,\n",
    "    ds.latitude,\n",
    "    ds.orog,\n",
    "    transform=pc,\n",
    "    cmap = paint.LandGreen.cmap,\n",
    ")"
   ]
  },
  {
   "cell_type": "code",
   "execution_count": null,
   "id": "eb922601-4907-4f12-aee8-caff64837056",
   "metadata": {},
   "outputs": [],
   "source": [
    "# ds_pts = ds_pts.expand_dims({\"stid\": sts[\"stid\"].to_numpy()})\n",
    "ds_pts = ds_pts.assign_coords(point = sts[\"stid\"].to_numpy())"
   ]
  },
  {
   "cell_type": "code",
   "execution_count": null,
   "id": "20ba3bf6-2678-4f81-b40d-815112481347",
   "metadata": {},
   "outputs": [],
   "source": [
    "ds_pts"
   ]
  },
  {
   "cell_type": "code",
   "execution_count": null,
   "id": "a958c80f-1503-4dcd-b437-814f7e38c1c8",
   "metadata": {},
   "outputs": [],
   "source": [
    "ax = EasyMap(\"50m\", crs=ds.herbie.crs, figsize=[10, 8]).BORDERS().STATES().ax\n",
    "\n",
    "p = ax.pcolormesh(\n",
    "    ds.longitude,\n",
    "    ds.latitude,\n",
    "    ds.orog,\n",
    "    transform=pc,\n",
    "    cmap = paint.LandGreen.cmap,\n",
    ")\n",
    "\n",
    "for i in ds_pts.point:\n",
    "    z = ds_pts.sel(point=i)\n",
    "    ax.scatter(z.longitude, z.latitude, color=\"k\", transform=pc)\n",
    "    ax.scatter(\n",
    "        z.point_longitude, z.point_latitude, color=\"blue\", marker=\".\", transform=pc\n",
    "    )"
   ]
  },
  {
   "cell_type": "code",
   "execution_count": null,
   "id": "ffe9075b-deef-461e-9151-c81965927753",
   "metadata": {},
   "outputs": [],
   "source": [
    "ax = EasyMap(\"50m\", crs=ds.herbie.crs, figsize=[10, 8]).BORDERS().STATES().ax\n",
    "\n",
    "p = ax.pcolormesh(\n",
    "    ds.longitude,\n",
    "    ds.latitude,\n",
    "    ds.orog,\n",
    "    transform=pc,\n",
    "    cmap = paint.LandGreen.cmap,\n",
    ")\n",
    "\n",
    "for i in ds_pts.point:\n",
    "    z = ds_pts.sel(point=i)\n",
    "    ax.scatter(z.longitude, z.latitude, color=\"k\", transform=pc)\n",
    "    ax.scatter(\n",
    "        z.point_longitude, z.point_latitude, color=\"blue\", marker=\".\", transform=pc\n",
    "    )\n",
    "    ax.text(\n",
    "        z.point_longitude,\n",
    "        z.point_latitude,\n",
    "        f\" {z.point.item()}\",\n",
    "        transform=pc,\n",
    "    )\n",
    "\n",
    "buff = 1\n",
    "ax.set_extent([bbox[1]-buff, bbox[3]+buff, bbox[0]-buff, bbox[2]+buff])"
   ]
  },
  {
   "cell_type": "code",
   "execution_count": null,
   "id": "5d1e55fb-7c9d-464a-9708-c04e5edff4ce",
   "metadata": {},
   "outputs": [],
   "source": []
  },
  {
   "cell_type": "code",
   "execution_count": null,
   "id": "33b604cb-700b-42ff-8372-227d5e38642b",
   "metadata": {},
   "outputs": [],
   "source": []
  }
 ],
 "metadata": {
  "kernelspec": {
   "display_name": "Python 3 (ipykernel)",
   "language": "python",
   "name": "python3"
  },
  "language_info": {
   "codemirror_mode": {
    "name": "ipython",
    "version": 3
   },
   "file_extension": ".py",
   "mimetype": "text/x-python",
   "name": "python",
   "nbconvert_exporter": "python",
   "pygments_lexer": "ipython3",
   "version": "3.12.2"
  }
 },
 "nbformat": 4,
 "nbformat_minor": 5
}

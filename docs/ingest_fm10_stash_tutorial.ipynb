{
 "cells": [
  {
   "cell_type": "markdown",
   "id": "f1f4cc18-d23f-48ea-84dc-b0328a65e8e5",
   "metadata": {},
   "source": [
    "# Data Ingest of 10-h Fuel Moisture Content\n",
    "\n",
    "This notebook demonstrates retrieval and filtering of 10-h dead FMC data from a RAWS stash maintained by Angel Farguell."
   ]
  },
  {
   "cell_type": "markdown",
   "id": "079a0743-ad31-4d16-8307-34cf84b5c28b",
   "metadata": {},
   "source": [
    "## References\n",
    "\n",
    "For more info on python library API, see Brian Blaylock's `SynopticPy` [python package](https://github.com/blaylockbk/SynopticPy)\n",
    "\n",
    "For more info on available Synoptic RAWS variables, see [Synoptic Data](https://demos.synopticdata.com/variables/index.html) documentation"
   ]
  },
  {
   "cell_type": "markdown",
   "id": "84ed774d-7bef-48e7-b9a6-8f4ba4e17d81",
   "metadata": {},
   "source": [
    "## Setup"
   ]
  },
  {
   "cell_type": "code",
   "execution_count": null,
   "id": "509b32fd-9d6b-4582-b724-4d2a094a6832",
   "metadata": {},
   "outputs": [],
   "source": [
    "import os.path as osp\n",
    "from datetime import datetime, timezone\n",
    "from dateutil.relativedelta import relativedelta\n",
    "import synoptic\n",
    "import json\n",
    "import sys\n",
    "import numpy as np\n",
    "import polars as pl\n",
    "import pandas as pd\n",
    "sys.path.append('../src')\n",
    "from utils import Dict, read_yml, read_pkl, str2time, print_dict_summary\n",
    "from data_funcs import rename_dict\n",
    "import ingest.retrieve_raws_api as rr\n",
    "import ingest.retrieve_raws_stash as rrs"
   ]
  },
  {
   "cell_type": "code",
   "execution_count": null,
   "id": "dd65b844-5584-4011-b6db-a2a3f0c1fe97",
   "metadata": {},
   "outputs": [],
   "source": [
    "# raws_meta = read_yml(\"../etc/variable_metadata/raws_metadata.yaml\")\n",
    "\n",
    "with open(\"../etc/training_data_config.json\", \"r\") as json_file:\n",
    "    config = json.load(json_file)   \n",
    "    config = Dict(config)"
   ]
  },
  {
   "cell_type": "code",
   "execution_count": null,
   "id": "7b91e911-b0dd-4937-b566-c361a2004f62",
   "metadata": {},
   "outputs": [],
   "source": [
    "config"
   ]
  },
  {
   "cell_type": "code",
   "execution_count": null,
   "id": "331376db-ab47-46cb-bd9b-04830e574a1a",
   "metadata": {},
   "outputs": [],
   "source": [
    "raws_stash_path = rrs.raws_meta[\"raws_stash_path\"]\n",
    "print(raws_stash_path)\n",
    "osp.exists(raws_stash_path)"
   ]
  },
  {
   "cell_type": "code",
   "execution_count": null,
   "id": "bb577483-4fc2-49f3-99b3-6cd671e5de48",
   "metadata": {},
   "outputs": [],
   "source": [
    "raws_dict = rrs.build_raws_dict(config)"
   ]
  },
  {
   "cell_type": "code",
   "execution_count": null,
   "id": "c9ab1140-7fa3-4102-93d7-b94451b68d1b",
   "metadata": {
    "scrolled": true
   },
   "outputs": [],
   "source": [
    "print_dict_summary(raws_dict)"
   ]
  },
  {
   "cell_type": "code",
   "execution_count": null,
   "id": "cc526012-ced7-4d0e-81b7-887df385d520",
   "metadata": {},
   "outputs": [],
   "source": [
    "def lonlat_to_xy(pts):\n",
    "    \"\"\"\n",
    "    Return a polars dataframe of RAWS sensor data and associated units.\n",
    "    \n",
    "    Parameters:\n",
    "    -----------\n",
    "    pts : pandas DataFrame \n",
    "\n",
    "    Returns:\n",
    "    --------\n",
    "    test : str\n",
    "        test\n",
    "    \"\"\" \n",
    "\n",
    "    \n",
    "    return ds_pts"
   ]
  },
  {
   "cell_type": "code",
   "execution_count": null,
   "id": "fde64b06-6e7b-4b32-aa33-59f88e20bb87",
   "metadata": {},
   "outputs": [],
   "source": [
    "from herbie import HerbieLatest"
   ]
  },
  {
   "cell_type": "code",
   "execution_count": null,
   "id": "8d8ed02e-8aae-48dc-8053-f705eb88e8ad",
   "metadata": {},
   "outputs": [],
   "source": [
    "ds = HerbieLatest(model=\"hrrr\", product=\"prs\", fxx=0).terrain()"
   ]
  },
  {
   "cell_type": "code",
   "execution_count": null,
   "id": "e40f8c2c-dea7-4d17-bce1-8a53a03d2985",
   "metadata": {},
   "outputs": [],
   "source": [
    "bbox = config.bbox\n",
    "start = str2time(config.start_time)\n",
    "end = str2time(config.end_time)\n",
    "bbox_reordered = [bbox[1], bbox[0], bbox[3], bbox[2]]\n",
    "sts = rr.get_stations(bbox_reordered, start, end)\n",
    "points = pd.DataFrame(sts[[\"longitude\", \"latitude\"]], columns=[\"longitude\", \"latitude\"])\n",
    "points"
   ]
  },
  {
   "cell_type": "code",
   "execution_count": null,
   "id": "ee040221-54c6-49dc-a7c5-52c209301084",
   "metadata": {},
   "outputs": [],
   "source": [
    "points.shape"
   ]
  },
  {
   "cell_type": "code",
   "execution_count": null,
   "id": "2825871f-a405-4ce7-9d75-d8d0c7b7105e",
   "metadata": {},
   "outputs": [],
   "source": [
    "ds_pts = ds.herbie.pick_points(points, method=\"nearest\")\n",
    "ds_pts"
   ]
  },
  {
   "cell_type": "code",
   "execution_count": null,
   "id": "57104cf5-3862-4054-a467-c7c83d679f38",
   "metadata": {},
   "outputs": [],
   "source": [
    "from herbie.toolbox import EasyMap, pc\n",
    "from herbie import paint"
   ]
  },
  {
   "cell_type": "code",
   "execution_count": null,
   "id": "024e97fd-f01d-4fbd-9bf2-dc30e79e4ea0",
   "metadata": {},
   "outputs": [],
   "source": [
    "ax = EasyMap(\"50m\", crs=ds.herbie.crs, figsize=[10, 8]).BORDERS().STATES().ax\n",
    "\n",
    "p = ax.pcolormesh(\n",
    "    ds.longitude,\n",
    "    ds.latitude,\n",
    "    ds.orog,\n",
    "    transform=pc,\n",
    "    cmap = paint.LandGreen.cmap,\n",
    ")"
   ]
  },
  {
   "cell_type": "code",
   "execution_count": null,
   "id": "eb922601-4907-4f12-aee8-caff64837056",
   "metadata": {},
   "outputs": [],
   "source": [
    "# ds_pts = ds_pts.expand_dims({\"stid\": sts[\"stid\"].to_numpy()})\n",
    "ds_pts = ds_pts.assign_coords(point = sts[\"stid\"].to_numpy())"
   ]
  },
  {
   "cell_type": "code",
   "execution_count": null,
   "id": "20ba3bf6-2678-4f81-b40d-815112481347",
   "metadata": {},
   "outputs": [],
   "source": [
    "ds_pts"
   ]
  },
  {
   "cell_type": "code",
   "execution_count": null,
   "id": "a958c80f-1503-4dcd-b437-814f7e38c1c8",
   "metadata": {},
   "outputs": [],
   "source": [
    "ax = EasyMap(\"50m\", crs=ds.herbie.crs, figsize=[10, 8]).BORDERS().STATES().ax\n",
    "\n",
    "p = ax.pcolormesh(\n",
    "    ds.longitude,\n",
    "    ds.latitude,\n",
    "    ds.orog,\n",
    "    transform=pc,\n",
    "    cmap = paint.LandGreen.cmap,\n",
    ")\n",
    "\n",
    "for i in ds_pts.point:\n",
    "    z = ds_pts.sel(point=i)\n",
    "    ax.scatter(z.longitude, z.latitude, color=\"k\", transform=pc)\n",
    "    ax.scatter(\n",
    "        z.point_longitude, z.point_latitude, color=\"blue\", marker=\".\", transform=pc\n",
    "    )"
   ]
  },
  {
   "cell_type": "code",
   "execution_count": null,
   "id": "ffe9075b-deef-461e-9151-c81965927753",
   "metadata": {},
   "outputs": [],
   "source": [
    "ax = EasyMap(\"50m\", crs=ds.herbie.crs, figsize=[10, 8]).BORDERS().STATES().ax\n",
    "\n",
    "p = ax.pcolormesh(\n",
    "    ds.longitude,\n",
    "    ds.latitude,\n",
    "    ds.orog,\n",
    "    transform=pc,\n",
    "    cmap = paint.LandGreen.cmap,\n",
    ")\n",
    "\n",
    "for i in ds_pts.point:\n",
    "    z = ds_pts.sel(point=i)\n",
    "    ax.scatter(z.longitude, z.latitude, color=\"k\", transform=pc)\n",
    "    ax.scatter(\n",
    "        z.point_longitude, z.point_latitude, color=\"blue\", marker=\".\", transform=pc\n",
    "    )\n",
    "    ax.text(\n",
    "        z.point_longitude,\n",
    "        z.point_latitude,\n",
    "        f\" {z.point.item()}\",\n",
    "        transform=pc,\n",
    "    )\n",
    "\n",
    "buff = 1\n",
    "ax.set_extent([bbox[1]-buff, bbox[3]+buff, bbox[0]-buff, bbox[2]+buff])"
   ]
  },
  {
   "cell_type": "code",
   "execution_count": null,
   "id": "5d1e55fb-7c9d-464a-9708-c04e5edff4ce",
   "metadata": {},
   "outputs": [],
   "source": [
    "ds.x"
   ]
  },
  {
   "cell_type": "code",
   "execution_count": null,
   "id": "d33f043f-01de-4fbf-9f75-b0e6e90f008f",
   "metadata": {},
   "outputs": [],
   "source": []
  },
  {
   "cell_type": "code",
   "execution_count": null,
   "id": "12d030d6-3bcc-4ee4-bd43-bb4179e25309",
   "metadata": {},
   "outputs": [],
   "source": []
  },
  {
   "cell_type": "code",
   "execution_count": null,
   "id": "66d327ff-1070-4af1-8de5-ecfee4d1b3af",
   "metadata": {},
   "outputs": [],
   "source": []
  },
  {
   "cell_type": "code",
   "execution_count": null,
   "id": "c10cffac-818f-4a74-a690-e0f433f21268",
   "metadata": {},
   "outputs": [],
   "source": []
  },
  {
   "cell_type": "code",
   "execution_count": null,
   "id": "d080edc9-a775-4258-b55e-236b544d2ec4",
   "metadata": {},
   "outputs": [],
   "source": []
  }
 ],
 "metadata": {
  "kernelspec": {
   "display_name": "Python 3 (ipykernel)",
   "language": "python",
   "name": "python3"
  },
  "language_info": {
   "codemirror_mode": {
    "name": "ipython",
    "version": 3
   },
   "file_extension": ".py",
   "mimetype": "text/x-python",
   "name": "python",
   "nbconvert_exporter": "python",
   "pygments_lexer": "ipython3",
   "version": "3.12.2"
  }
 },
 "nbformat": 4,
 "nbformat_minor": 5
}

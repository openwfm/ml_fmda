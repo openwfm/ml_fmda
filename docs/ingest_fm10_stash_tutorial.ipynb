{
 "cells": [
  {
   "cell_type": "markdown",
   "id": "f1f4cc18-d23f-48ea-84dc-b0328a65e8e5",
   "metadata": {},
   "source": [
    "# Data Ingest of 10-h Fuel Moisture Content\n",
    "\n",
    "This notebook demonstrates retrieval and filtering of 10-h dead FMC data from a RAWS stash maintained by Angel Farguell."
   ]
  },
  {
   "cell_type": "markdown",
   "id": "079a0743-ad31-4d16-8307-34cf84b5c28b",
   "metadata": {},
   "source": [
    "## References\n",
    "\n",
    "For more info on python library API, see Brian Blaylock's `SynopticPy` [python package](https://github.com/blaylockbk/SynopticPy)\n",
    "\n",
    "For more info on available Synoptic RAWS variables, see [Synoptic Data](https://demos.synopticdata.com/variables/index.html) documentation"
   ]
  },
  {
   "cell_type": "markdown",
   "id": "84ed774d-7bef-48e7-b9a6-8f4ba4e17d81",
   "metadata": {},
   "source": [
    "## Setup"
   ]
  },
  {
   "cell_type": "code",
   "execution_count": null,
   "id": "509b32fd-9d6b-4582-b724-4d2a094a6832",
   "metadata": {},
   "outputs": [],
   "source": [
    "import os.path as osp\n",
    "from datetime import datetime, timezone\n",
    "from dateutil.relativedelta import relativedelta\n",
    "import synoptic\n",
    "import json\n",
    "import sys\n",
    "import numpy as np\n",
    "import polars as pl\n",
    "import pandas as pd\n",
    "sys.path.append('../src')\n",
    "from utils import Dict, read_yml, read_pkl, str2time, print_dict_summary, time_range\n",
    "from data_funcs import rename_dict\n",
    "import ingest.retrieve_raws_api as rr\n",
    "import ingest.retrieve_raws_stash as rrs"
   ]
  },
  {
   "cell_type": "code",
   "execution_count": null,
   "id": "dd65b844-5584-4011-b6db-a2a3f0c1fe97",
   "metadata": {},
   "outputs": [],
   "source": [
    "# raws_meta = read_yml(\"../etc/variable_metadata/raws_metadata.yaml\")\n",
    "\n",
    "with open(\"../etc/training_data_config.json\", \"r\") as json_file:\n",
    "    config = json.load(json_file)   \n",
    "    config = Dict(config)\n",
    "print_dict_summary(config)"
   ]
  },
  {
   "cell_type": "code",
   "execution_count": null,
   "id": "331376db-ab47-46cb-bd9b-04830e574a1a",
   "metadata": {},
   "outputs": [],
   "source": [
    "raws_stash_path = rrs.raws_meta[\"raws_stash_path\"]\n",
    "print(raws_stash_path)\n",
    "osp.exists(raws_stash_path)"
   ]
  },
  {
   "cell_type": "code",
   "execution_count": null,
   "id": "e3ce7185-2253-463d-ad42-8086310d3297",
   "metadata": {},
   "outputs": [],
   "source": [
    "times = time_range(config.start_time, config.end_time, start_offset=True)"
   ]
  },
  {
   "cell_type": "code",
   "execution_count": null,
   "id": "1ac949c8-afe7-4776-b675-98b58dbbc9a7",
   "metadata": {},
   "outputs": [],
   "source": [
    "import importlib\n",
    "import ingest.retrieve_raws_stash\n",
    "importlib.reload(ingest.retrieve_raws_stash)\n",
    "import ingest.retrieve_raws_stash as rrs"
   ]
  },
  {
   "cell_type": "code",
   "execution_count": null,
   "id": "bb577483-4fc2-49f3-99b3-6cd671e5de48",
   "metadata": {},
   "outputs": [],
   "source": [
    "raws_dict = rrs.build_raws_dict(config)"
   ]
  },
  {
   "cell_type": "code",
   "execution_count": null,
   "id": "c9ab1140-7fa3-4102-93d7-b94451b68d1b",
   "metadata": {
    "scrolled": true
   },
   "outputs": [],
   "source": [
    "print_dict_summary(raws_dict)"
   ]
  },
  {
   "cell_type": "code",
   "execution_count": null,
   "id": "796bbd14-a9d5-4d56-8de9-801be4780944",
   "metadata": {},
   "outputs": [],
   "source": []
  },
  {
   "cell_type": "code",
   "execution_count": null,
   "id": "c10cffac-818f-4a74-a690-e0f433f21268",
   "metadata": {},
   "outputs": [],
   "source": []
  },
  {
   "cell_type": "code",
   "execution_count": null,
   "id": "d080edc9-a775-4258-b55e-236b544d2ec4",
   "metadata": {},
   "outputs": [],
   "source": []
  }
 ],
 "metadata": {
  "kernelspec": {
   "display_name": "Python 3 (ipykernel)",
   "language": "python",
   "name": "python3"
  },
  "language_info": {
   "codemirror_mode": {
    "name": "ipython",
    "version": 3
   },
   "file_extension": ".py",
   "mimetype": "text/x-python",
   "name": "python",
   "nbconvert_exporter": "python",
   "pygments_lexer": "ipython3",
   "version": "3.12.2"
  }
 },
 "nbformat": 4,
 "nbformat_minor": 5
}

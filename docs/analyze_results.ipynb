{
 "cells": [
  {
   "cell_type": "markdown",
   "id": "f1f4cc18-d23f-48ea-84dc-b0328a65e8e5",
   "metadata": {},
   "source": [
    "# Analyze Project Results\n"
   ]
  },
  {
   "cell_type": "markdown",
   "id": "c79db2ac-aa72-4e5f-85e0-e21def49917d",
   "metadata": {},
   "source": [
    "This notebook is indended to analyze and visualize the the accuracy of the FMC models in an interactive setting.\n",
    "\n",
    "Note: some outputs automatically generated in `report_materials.py`, this notebook is meant to compliment that script and provide more granular control"
   ]
  },
  {
   "cell_type": "markdown",
   "id": "84ed774d-7bef-48e7-b9a6-8f4ba4e17d81",
   "metadata": {},
   "source": [
    "## Setup"
   ]
  },
  {
   "cell_type": "code",
   "execution_count": null,
   "id": "509b32fd-9d6b-4582-b724-4d2a094a6832",
   "metadata": {},
   "outputs": [],
   "source": [
    "import os\n",
    "import os.path as osp\n",
    "from datetime import datetime\n",
    "import matplotlib.pyplot as plt\n",
    "import numpy as np\n",
    "import pandas as pd\n",
    "from sklearn.metrics import mean_squared_error\n",
    "import sys\n",
    "import h5py\n",
    "import re\n",
    "from dateutil.relativedelta import relativedelta\n",
    "sys.path.append('../src')\n",
    "from utils import time_range, Dict, read_yml, read_pkl, print_dict_summary, str2time\n",
    "from viz import plot_one, make_st_map_interactive"
   ]
  },
  {
   "cell_type": "code",
   "execution_count": null,
   "id": "0008f32b-0f6a-4def-95e2-e974b1b47b76",
   "metadata": {},
   "outputs": [],
   "source": [
    "ml_forecast_dir = \"../outputs/forecast_outputs\""
   ]
  },
  {
   "cell_type": "markdown",
   "id": "cf05eb21-3b84-4de1-96a9-40ee2826b851",
   "metadata": {},
   "source": [
    "### Read Results\n"
   ]
  },
  {
   "cell_type": "code",
   "execution_count": null,
   "id": "6ccbfb69-cc1d-4b52-b35d-1b36ec1222b3",
   "metadata": {},
   "outputs": [],
   "source": [
    "overall = pd.read_csv(osp.join(ml_forecast_dir, \"overall.csv\"))\n",
    "by_dt = pd.read_csv(osp.join(ml_forecast_dir, \"by_dt.csv\"))\n",
    "by_hod = pd.read_csv(osp.join(ml_forecast_dir, \"by_hod.csv\"))\n",
    "by_st = pd.read_csv(osp.join(ml_forecast_dir, \"by_stid.csv\"))\n",
    "sts = pd.read_csv(osp.join(ml_forecast_dir, \"stid_locs.csv\"))\n",
    "rnn = pd.read_csv(osp.join(ml_forecast_dir, \"rnn_preds.csv\"))\n",
    "var = pd.read_csv(osp.join(ml_forecast_dir, \"all_variables_summary.csv\"))\n",
    "\n",
    "by_st = by_st.merge(sts, on=\"stid\", how=\"left\")"
   ]
  },
  {
   "cell_type": "code",
   "execution_count": null,
   "id": "37bb9ce6-217c-450e-b147-c9937f51eef9",
   "metadata": {},
   "outputs": [],
   "source": [
    "ml_data = read_pkl(osp.join(ml_forecast_dir, \"ml_data.pkl\"))"
   ]
  },
  {
   "cell_type": "markdown",
   "id": "c14891d3-778d-46c3-a382-4cda3c99b269",
   "metadata": {
    "jp-MarkdownHeadingCollapsed": true
   },
   "source": [
    "## Error by Location"
   ]
  },
  {
   "cell_type": "code",
   "execution_count": null,
   "id": "1bde3c6e-71bd-498f-9722-2509177ac8cf",
   "metadata": {},
   "outputs": [],
   "source": [
    "sts.shape"
   ]
  },
  {
   "cell_type": "code",
   "execution_count": null,
   "id": "a08f680a-f7ff-4584-a7ff-95c31d1e23cd",
   "metadata": {},
   "outputs": [],
   "source": [
    "# All locations\n",
    "# make_st_map_interactive(sts)"
   ]
  },
  {
   "cell_type": "code",
   "execution_count": null,
   "id": "e6ff99db-01dd-46f6-befc-9a418bc7e60c",
   "metadata": {},
   "outputs": [],
   "source": [
    "np.random.seed(20250509) # date of first run\n",
    "sts[\"train\"] = np.random.choice([1, 0], size=len(sts), p=[0.8, 0.2])\n",
    "\n",
    "make_st_map_interactive(sts, color=\"train\", binary=True)"
   ]
  },
  {
   "cell_type": "code",
   "execution_count": null,
   "id": "2a9683bd-87a1-4b31-9fb0-4c452fe2c2fb",
   "metadata": {},
   "outputs": [],
   "source": [
    "df = by_st[by_st.Model == \"rnn\"].copy()\n",
    "df[\"MSE\"] = df.loc[:,\"mse_mean\"]\n",
    "# make_st_map_interactive(df, color=\"MSE\")"
   ]
  },
  {
   "cell_type": "code",
   "execution_count": null,
   "id": "f45ea35d-579d-4bea-a034-254754333816",
   "metadata": {},
   "outputs": [],
   "source": [
    "from sklearn.metrics import r2_score\n",
    "\n",
    "df = by_st[by_st.Model==\"rnn\"]\n",
    "x = df['elev'].values\n",
    "y = df['mse_mean'].values\n",
    "plt.figure(figsize=(8, 6))\n",
    "plt.scatter(x, y, marker='o')\n",
    "\n",
    "# # Fit linear trend line\n",
    "# coeffs = np.polyfit(x, y, deg=1)\n",
    "# trendline = np.poly1d(coeffs)\n",
    "# y_pred = trendline(x)\n",
    "# r2 = r2_score(y, y_pred)\n",
    "# plt.plot(np.sort(x), trendline(np.sort(x)), color='red', label='Trend line')\n",
    "# x_mid = np.median(x)\n",
    "# y_mid = trendline(x_mid)\n",
    "# plt.text(x_mid, y_mid, f'$R^2$ = {r2:.3f}', color='red', fontsize=12, verticalalignment='bottom')\n",
    "\n",
    "\n",
    "plt.xlabel('Elevation')\n",
    "plt.ylabel('Mean Squared Error (MSE)')\n",
    "plt.title('MSE vs Elevation (RNN)')\n",
    "plt.grid(True)\n",
    "plt.tight_layout()\n",
    "plt.show()"
   ]
  },
  {
   "cell_type": "markdown",
   "id": "f617f85c-504c-40d1-9548-8b6d3775de02",
   "metadata": {},
   "source": [
    "## RNN Errors"
   ]
  },
  {
   "cell_type": "code",
   "execution_count": null,
   "id": "ba5c27b7-1495-4089-9c56-62aa920de3f3",
   "metadata": {},
   "outputs": [],
   "source": [
    "# df2 = rnn[rnn.rep == 1]\n",
    "\n",
    "fig, axs = plt.subplots(1, 2, figsize=(12, 6))\n",
    "# Residual Plot\n",
    "axs[0].scatter(rnn.preds, rnn.residual, marker=\"o\", alpha=.7)\n",
    "axs[0].set_xlabel(\"Predicted FMC (%)\")\n",
    "axs[0].set_ylabel(\"Residual (Observed - Predicted)\")\n",
    "axs[0].grid(True)\n",
    "axs[0].axhline(y=0, linestyle=\"dashed\", color=\"k\")\n",
    "\n",
    "# Residual Histogram\n",
    "axs[1].hist(rnn.residual, bins=20, edgecolor=\"k\")\n",
    "axs[1].set_xlabel(\"Residual (Observed - Predicted)\")\n",
    "axs[1].set_ylabel(\"Frequency\")\n",
    "axs[1].grid(True)\n",
    "\n",
    "plt.tight_layout()\n",
    "plt.savefig(osp.join(ml_forecast_dir, \"residuals.png\"))"
   ]
  },
  {
   "cell_type": "code",
   "execution_count": null,
   "id": "5d009586-f698-45d9-9148-152bf57896b8",
   "metadata": {},
   "outputs": [],
   "source": [
    "fig, axs = plt.subplots(1, 2, figsize=(12, 4))\n",
    "# Observed Histogram\n",
    "axs[0].hist(rnn.fm, bins=42, color=\"#468a29\", edgecolor=\"k\")\n",
    "axs[0].set_xlabel(\"Observed FMC (%)\")\n",
    "axs[0].set_ylabel(\"Frequency\")\n",
    "axs[0].grid(True)\n",
    "axs[0].set_xlim(0,40)\n",
    "\n",
    "# Predicted Histogram\n",
    "axs[1].hist(rnn.preds, bins=42, edgecolor=\"k\")\n",
    "axs[1].set_xlabel(\"Predicted FMC (%)\")\n",
    "axs[1].set_ylabel(\"Frequency\")\n",
    "axs[1].grid(True)\n",
    "axs[1].set_xlim(0,40)\n",
    "plt.tight_layout()\n",
    "plt.savefig(osp.join(ml_forecast_dir, \"fm_hist.png\"))"
   ]
  },
  {
   "cell_type": "code",
   "execution_count": null,
   "id": "a4a64bee-5480-46f7-afb6-82a627c3ffd2",
   "metadata": {},
   "outputs": [],
   "source": [
    "# Stratefying by \n",
    "# Low (0-10) Medium (10-20) High (20-30) Very High (30+)\n",
    "bins = [0, 10, 20, float('inf')]\n",
    "labels = ['Low (0-10)', 'Medium (10-20)', 'High (20+)']\n",
    "rnn[\"fm_level\"] = pd.cut(rnn[\"fm\"], bins=bins, labels=labels, right=False)\n",
    "bias = rnn.groupby([\"rep\", \"fm_level\"], observed=True)[\"residual\"].agg(\"mean\")\n",
    "summary = pd.merge(\n",
    "    bias.groupby(\"fm_level\", observed=True).mean(),\n",
    "    bias.groupby(\"fm_level\", observed=True).std(),\n",
    "    on=\"fm_level\"\n",
    ").reset_index()\n",
    "summary.columns = [\"FMC Level\", \"Bias\", \"Std\"]\n",
    "summary"
   ]
  },
  {
   "cell_type": "markdown",
   "id": "b3444dc7-c623-44ec-a0c0-f2528f1ad359",
   "metadata": {},
   "source": [
    "Plotting some good and bad examples based on by station error."
   ]
  },
  {
   "cell_type": "code",
   "execution_count": null,
   "id": "085aedd9-6b02-424d-9206-ff0aff48a2cb",
   "metadata": {},
   "outputs": [],
   "source": [
    "st = \"CPPC2\"\n",
    "start = pd.to_datetime('2024-09-19 00:00:00+00:00')\n",
    "end = start + relativedelta(hours=48-1)\n",
    "\n",
    "df2 = rnn[rnn.stid == st]\n",
    "df2.loc[:,\"date_time\"] = pd.to_datetime(df2.date_time)\n",
    "df2 = df2[(df2.date_time >= start) & (df2.date_time <= end)]\n",
    "\n",
    "mse = df2.groupby(\"rep\")[\"squared_error\"].mean()\n",
    "print(f\"MSE for {st}:\")\n",
    "print(f\"    {mse.mean()}, ({mse.min()} to {mse.max()})\")"
   ]
  },
  {
   "cell_type": "code",
   "execution_count": null,
   "id": "e597e4a5-1234-46ea-8e3f-b133ce687bc7",
   "metadata": {},
   "outputs": [],
   "source": [
    "mean_pred = df2.groupby([\"date_time\"]).preds.mean()\n",
    "std = df2.groupby([\"date_time\"]).preds.std()\n",
    "high = mean_pred + std\n",
    "low = mean_pred - std\n",
    "x = df2.date_time.unique()\n",
    "plot_one(ml_data, st=st, m=mean_pred, start_time = start, end_time=end, title2=f\"MSE: {mse.mean().round(2)}\")\n",
    "plt.fill_between(x, low, high, color=\"k\", alpha=0.2)"
   ]
  },
  {
   "cell_type": "code",
   "execution_count": null,
   "id": "7560518d-55a3-450b-9329-2900d0f9ed62",
   "metadata": {},
   "outputs": [],
   "source": [
    "st = \"TT562\"\n",
    "start = pd.to_datetime('2024-01-01 00:00:00+00:00')\n",
    "end = start + relativedelta(hours=48-1)\n",
    "\n",
    "df2 = rnn[rnn.stid == st]\n",
    "df2.loc[:,\"date_time\"] = pd.to_datetime(df2.date_time)\n",
    "df2 = df2[(df2.date_time >= start) & (df2.date_time <= end)]\n",
    "\n",
    "mse = df2.groupby(\"rep\")[\"squared_error\"].mean()\n",
    "print(f\"MSE for {st}:\")\n",
    "print(f\"    {mse.mean()}, ({mse.min()} to {mse.max()})\")"
   ]
  },
  {
   "cell_type": "code",
   "execution_count": null,
   "id": "8c8ee848-9ca8-4374-bb6c-26901d996c4e",
   "metadata": {},
   "outputs": [],
   "source": [
    "mean_pred = df2.groupby([\"date_time\"]).preds.mean()\n",
    "std = df2.groupby([\"date_time\"]).preds.std()\n",
    "high = mean_pred + std\n",
    "low = mean_pred - std\n",
    "x = df2.date_time.unique()\n",
    "plot_one(ml_data, st=st, m=mean_pred, start_time = start, end_time=end, title2=f\"MSE: {mse.mean().round(2)}\")\n",
    "plt.fill_between(x, low, high, color=\"k\", alpha=0.2, label=rf\"$\\pm$ 1 std. ({df2.rep.unique().shape[0]} reps)\")\n",
    "plt.legend(loc='upper left', bbox_to_anchor=(1, 0.5))"
   ]
  },
  {
   "cell_type": "markdown",
   "id": "a2c82cae-ccae-4acc-9032-3857a9fdfdd8",
   "metadata": {},
   "source": [
    "---"
   ]
  },
  {
   "cell_type": "code",
   "execution_count": null,
   "id": "bf1cbef8-6da5-4eb7-bf6e-03812973d26f",
   "metadata": {},
   "outputs": [],
   "source": [
    "st = \"RLAS2\"\n",
    "start = pd.to_datetime('2024-02-08 00:00:00+00:00')\n",
    "end = start + relativedelta(hours=48-1)\n",
    "\n",
    "df2 = rnn[rnn.stid == st]\n",
    "df2.loc[:,\"date_time\"] = pd.to_datetime(df2.date_time)\n",
    "df2 = df2[(df2.date_time >= start) & (df2.date_time <= end)]\n",
    "\n",
    "mse = df2.groupby(\"rep\")[\"squared_error\"].mean()\n",
    "print(f\"MSE for {st}:\")\n",
    "print(f\"    {mse.mean()}, ({mse.min()} to {mse.max()})\")"
   ]
  },
  {
   "cell_type": "code",
   "execution_count": null,
   "id": "c652f935-79bb-4017-895a-3aec67d1d476",
   "metadata": {},
   "outputs": [],
   "source": [
    "mean_pred = df2.groupby([\"date_time\"]).preds.mean()\n",
    "std = df2.groupby([\"date_time\"]).preds.std()\n",
    "high = mean_pred + std\n",
    "low = mean_pred - std\n",
    "x = df2.date_time.unique()\n",
    "plot_one(ml_data, st=st, m=mean_pred, start_time = start, end_time=end, title2=f\"MSE: {mse.mean().round(2)}\")\n",
    "plt.fill_between(x, low, high, color=\"k\", alpha=0.2, label=rf\"$\\pm$ 1 std. ({df2.rep.unique().shape[0]} reps)\")\n",
    "plt.legend(loc='upper left', bbox_to_anchor=(1, 0.5))\n",
    "plt.tight_layout()\n",
    "plt.savefig(osp.join(ml_forecast_dir, \"RLAS2_Feb824.png\"))"
   ]
  },
  {
   "cell_type": "code",
   "execution_count": null,
   "id": "01476d12-c444-4a0a-843c-7a75373839bc",
   "metadata": {},
   "outputs": [],
   "source": [
    "fm = df2[df2.rep == 23].fm\n",
    "delta0 = fm.iloc[0] - mean_pred.iloc[0]\n",
    "print(f\"MSE for mean prediction: {mean_squared_error(mean_pred, fm)}\")\n",
    "print(f\"Error at t=0: {delta0}\")\n",
    "print(f\"MSE for translated mean prediction: {mean_squared_error(mean_pred+delta0, fm)}\")"
   ]
  },
  {
   "cell_type": "markdown",
   "id": "507b0233-162e-4f6f-a50f-30019fbd1f76",
   "metadata": {},
   "source": [
    "---"
   ]
  },
  {
   "cell_type": "code",
   "execution_count": null,
   "id": "4380cf9a-1988-445b-9a82-762e84c64da8",
   "metadata": {},
   "outputs": [],
   "source": [
    "st = \"C3SKI\"\n",
    "start = pd.to_datetime('2024-10-19 00:00:00+00:00')\n",
    "end = start + relativedelta(hours=48-1)\n",
    "\n",
    "df2 = rnn[rnn.stid == st]\n",
    "df2.loc[:,\"date_time\"] = pd.to_datetime(df2.date_time)\n",
    "df2 = df2[(df2.date_time >= start) & (df2.date_time <= end)]\n",
    "\n",
    "mse = df2.groupby(\"rep\")[\"squared_error\"].mean()\n",
    "print(f\"MSE for {st}:\")\n",
    "print(f\"    {mse.mean()}, ({mse.min()} to {mse.max()})\")"
   ]
  },
  {
   "cell_type": "code",
   "execution_count": null,
   "id": "773e620f-3e32-4c82-8c9c-9bbe6ae2564e",
   "metadata": {},
   "outputs": [],
   "source": [
    "mean_pred = df2.groupby([\"date_time\"]).preds.mean()\n",
    "std = df2.groupby([\"date_time\"]).preds.std()\n",
    "high = mean_pred + std\n",
    "low = mean_pred - std\n",
    "\n",
    "plot_one(ml_data, st=st, m=mean_pred, start_time = start, end_time=end, title2=f\"MSE: {mse.mean().round(2)}\")\n",
    "x = df2.date_time.unique()\n",
    "plt.fill_between(x, low, high, color=\"k\", alpha=0.2, label=rf\"$\\pm$ 1 std. ({df2.rep.unique().shape[0]} reps)\")\n",
    "plt.legend(loc='upper left', bbox_to_anchor=(1, 0.5))"
   ]
  },
  {
   "cell_type": "markdown",
   "id": "fadfd92a-f6c6-4238-8bbb-370595fb9aae",
   "metadata": {},
   "source": [
    "## TS Plots for CV Graphic"
   ]
  },
  {
   "cell_type": "code",
   "execution_count": null,
   "id": "40ec17ff-84b9-4b62-9d5e-1ad7f75ba055",
   "metadata": {},
   "outputs": [],
   "source": [
    "start = pd.to_datetime('2023-01-01 00:00:00+00:00')\n",
    "end = pd.to_datetime('2024-12-31 23:00:00+00:00')\n",
    "x = time_range(start, end)\n",
    "h2 = pd.to_datetime('2024-01-01 00:00:00+00:00')"
   ]
  },
  {
   "cell_type": "code",
   "execution_count": null,
   "id": "10370de6-75fb-434d-9293-d4c33f1bed44",
   "metadata": {},
   "outputs": [],
   "source": [
    "st_list = [\"CHRC2\", \"TT689\"]"
   ]
  },
  {
   "cell_type": "code",
   "execution_count": null,
   "id": "c2a8fd8c-d250-4b78-be9f-03f5e90388bc",
   "metadata": {},
   "outputs": [],
   "source": [
    "def p(st):\n",
    "    df2 = ml_data[st][\"data\"]\n",
    "    df2.loc[:,\"date_time\"] = pd.to_datetime(df2.date_time); df2 = df2.sort_values(\"date_time\")\n",
    "    plt.figure(figsize=(12,4))\n",
    "    plt.grid()\n",
    "    plt.xticks(fontsize=16, rotation=90)\n",
    "    plt.yticks(fontsize=16) \n",
    "    plt.ylim(0,32)\n",
    "    plt.ylabel(\"FMC (%)\", fontsize=16)\n",
    "    plt.plot(df2.date_time, df2.fm, color=\"#468a29\")\n",
    "    plt.tight_layout()\n",
    "    plt.savefig(osp.join(ml_forecast_dir, f\"{st}.png\"))\n",
    "\n",
    "for st in st_list:\n",
    "    p(st)"
   ]
  },
  {
   "cell_type": "code",
   "execution_count": null,
   "id": "4a6369c5-4933-419e-a0ad-b105f7539edd",
   "metadata": {},
   "outputs": [],
   "source": [
    "# st = \"CHRC2\"\n",
    "# plot_one(ml_data, st=st, start_time = start, end_time=end, features=False)"
   ]
  },
  {
   "cell_type": "code",
   "execution_count": null,
   "id": "791c3ac8-c6df-4aae-8fa8-b67a4a9b8f65",
   "metadata": {},
   "outputs": [],
   "source": [
    "# st = \"TT689\"\n",
    "# plot_one(ml_data, st=st, start_time = start, end_time=end, features=False)"
   ]
  },
  {
   "cell_type": "code",
   "execution_count": null,
   "id": "75270b2f-2697-436a-b9d3-0f05f6e6a632",
   "metadata": {},
   "outputs": [],
   "source": [
    "# st = \"LKGC2\"\n",
    "# plot_one(ml_data, st=st, start_time = start, end_time=end, features=False)"
   ]
  },
  {
   "cell_type": "code",
   "execution_count": null,
   "id": "74e59cec-16c6-43f4-8977-de0991be488e",
   "metadata": {},
   "outputs": [],
   "source": [
    "# st = \"KRNK1\"\n",
    "# plot_one(ml_data, st=st, start_time = start, end_time=end, features=False)"
   ]
  },
  {
   "cell_type": "markdown",
   "id": "af5f6818-7df6-4a72-95be-c31a97b8771e",
   "metadata": {},
   "source": [
    "## Errors over Year\n",
    "\n",
    "Aggregate by month"
   ]
  },
  {
   "cell_type": "code",
   "execution_count": null,
   "id": "c32c2bce-7609-4cf3-834a-a618dbeaf396",
   "metadata": {},
   "outputs": [],
   "source": [
    "df = by_dt\n",
    "df[\"date_time\"] = pd.to_datetime(df.date_time)\n",
    "df[\"month\"] = df.date_time.dt.month\n",
    "df = df.groupby([\"Model\", \"month\"]).mean().reset_index()"
   ]
  },
  {
   "cell_type": "code",
   "execution_count": null,
   "id": "a30efa45-c328-4d73-a1d7-4e6dad8570ae",
   "metadata": {},
   "outputs": [],
   "source": [
    "# Plot each model\n",
    "plt.figure()\n",
    "for model in df[\"Model\"].unique():\n",
    "    subset = df[df[\"Model\"] == model]\n",
    "    plt.plot(subset[\"month\"], subset[\"mse_mean\"], label=model)\n",
    "\n",
    "plt.xlabel(\"Month\")\n",
    "plt.ylabel(\"MSE Mean\")\n",
    "plt.title(\"MSE Mean by Month and Model\")\n",
    "plt.legend()\n",
    "plt.grid(True)\n",
    "plt.show()"
   ]
  },
  {
   "cell_type": "markdown",
   "id": "7b7cbbbd-07ad-4d04-9b35-024f6df0ae07",
   "metadata": {},
   "source": [
    "## Reps"
   ]
  },
  {
   "cell_type": "code",
   "execution_count": null,
   "id": "2686b57d-019b-4a37-bdd5-0f4b0797d82d",
   "metadata": {},
   "outputs": [],
   "source": [
    "rnn.groupby(\"stid\")[\"rep\"].nunique().mean()"
   ]
  },
  {
   "cell_type": "code",
   "execution_count": null,
   "id": "8cbf7f2c-cd0a-4471-a4be-f8322840b89b",
   "metadata": {},
   "outputs": [],
   "source": [
    "rnn.stid.unique().shape"
   ]
  },
  {
   "cell_type": "code",
   "execution_count": null,
   "id": "4adc96de-d00d-4056-b4bc-6a5df8462c68",
   "metadata": {},
   "outputs": [],
   "source": [
    "# total individuals\n",
    "N = 151\n",
    "\n",
    "# sample size (10% of N, rounded down)\n",
    "sample_size = int(np.ceil((0.10 * N)))  # or use math.floor if you want explicit rounding\n",
    "\n",
    "# number of draws\n",
    "draws = 500\n",
    "\n",
    "# probability of selecting a given individual in one sample\n",
    "p = sample_size / N\n",
    "\n",
    "# expected number of times one individual is selected\n",
    "expected_times = draws * p\n",
    "\n",
    "print(f\"Expected number of times one individual is selected: {expected_times:.2f}\")"
   ]
  },
  {
   "cell_type": "code",
   "execution_count": null,
   "id": "b2b60125-2a54-4c10-9f66-eaeb3f484634",
   "metadata": {},
   "outputs": [],
   "source": [
    "rnn.groupby(\"rep\")[\"stid\"].nunique()"
   ]
  },
  {
   "cell_type": "code",
   "execution_count": null,
   "id": "a29b8819-8226-4e8e-bc0d-68ff3dfcfdf3",
   "metadata": {},
   "outputs": [],
   "source": []
  },
  {
   "cell_type": "code",
   "execution_count": null,
   "id": "96390e1a-d565-448a-8a83-d2ecf66dcfd0",
   "metadata": {},
   "outputs": [],
   "source": [
    "df = by_dt[by_dt.Model == \"rnn\"]\n",
    "df.loc[:,\"date_time\"] = pd.to_datetime(df.date_time)\n",
    "df = df.sort_values(\"date_time\")"
   ]
  },
  {
   "cell_type": "code",
   "execution_count": null,
   "id": "062781a3-e932-4dfb-a9a0-8069c6010b67",
   "metadata": {},
   "outputs": [],
   "source": [
    "from utils import time_range\n",
    "tt = pd.to_datetime(time_range(start = \"2024-01-01T00:00:00Z\", end = \"2024-12-31T23:00:00Z\"))"
   ]
  },
  {
   "cell_type": "code",
   "execution_count": null,
   "id": "8bd326ff-a1b4-4996-82d6-b7a15f8fc3a6",
   "metadata": {},
   "outputs": [],
   "source": [
    "plt.scatter(df.date_time, df.mse_mean)"
   ]
  },
  {
   "cell_type": "code",
   "execution_count": null,
   "id": "4192d1ab-d8d7-4ed6-a71d-556c3666b009",
   "metadata": {},
   "outputs": [],
   "source": []
  }
 ],
 "metadata": {
  "kernelspec": {
   "display_name": "Python 3 (ipykernel)",
   "language": "python",
   "name": "python3"
  },
  "language_info": {
   "codemirror_mode": {
    "name": "ipython",
    "version": 3
   },
   "file_extension": ".py",
   "mimetype": "text/x-python",
   "name": "python",
   "nbconvert_exporter": "python",
   "pygments_lexer": "ipython3",
   "version": "3.12.9"
  }
 },
 "nbformat": 4,
 "nbformat_minor": 5
}

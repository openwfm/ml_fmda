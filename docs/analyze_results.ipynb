{
 "cells": [
  {
   "cell_type": "markdown",
   "id": "f1f4cc18-d23f-48ea-84dc-b0328a65e8e5",
   "metadata": {},
   "source": [
    "# Analyze Project Results\n"
   ]
  },
  {
   "cell_type": "markdown",
   "id": "c79db2ac-aa72-4e5f-85e0-e21def49917d",
   "metadata": {},
   "source": [
    "This notebook is indended to analyze and visualize the the accuracy of the FMC models."
   ]
  },
  {
   "cell_type": "markdown",
   "id": "84ed774d-7bef-48e7-b9a6-8f4ba4e17d81",
   "metadata": {},
   "source": [
    "## Setup"
   ]
  },
  {
   "cell_type": "code",
   "execution_count": null,
   "id": "509b32fd-9d6b-4582-b724-4d2a094a6832",
   "metadata": {},
   "outputs": [],
   "source": [
    "import os.path as osp\n",
    "from datetime import datetime\n",
    "import matplotlib.pyplot as plt\n",
    "import numpy as np\n",
    "import pandas as pd\n",
    "from sklearn.metrics import mean_squared_error\n",
    "sys.path.append('../src')\n",
    "from utils import Dict, read_yml, read_pkl, print_dict_summary\n",
    "from data_funcs import flag_lag_stretches"
   ]
  },
  {
   "cell_type": "markdown",
   "id": "cf05eb21-3b84-4de1-96a9-40ee2826b851",
   "metadata": {},
   "source": [
    "## Read Results\n"
   ]
  },
  {
   "cell_type": "code",
   "execution_count": null,
   "id": "ac46784f-9dce-4890-9634-78d13ddbc422",
   "metadata": {
    "scrolled": true
   },
   "outputs": [],
   "source": [
    "raws24 = read_pkl(\"../data/raws_rocky_2024.pkl\")\n",
    "clim = read_pkl(\"../data/rocky_2024_climatology_forecasts.pkl\")"
   ]
  },
  {
   "cell_type": "markdown",
   "id": "4be06a47-c314-4dc1-8b27-91aa5fcadbaf",
   "metadata": {},
   "source": [
    "## Clean RAWS\n",
    "\n",
    "Filter long lag stretches."
   ]
  },
  {
   "cell_type": "code",
   "execution_count": null,
   "id": "c0b92364-7ad3-4181-b262-bef5843388ef",
   "metadata": {
    "scrolled": true
   },
   "outputs": [],
   "source": [
    "hours = 72 # number of hours to group by for filter\n",
    "max_linear_time = 10\n",
    "\n",
    "for st in raws24:\n",
    "    print(\"~\"*50)\n",
    "    print(f\"Processing station {st}\")\n",
    "    df = raws24[st][\"RAWS\"]\n",
    "    df['st_period'] = np.arange(len(df)) // hours\n",
    "    flagged = df.groupby('st_period')['fm'].apply(\n",
    "    lambda period: flag_lag_stretches(\n",
    "        period, max_linear_time, lag=2)).pipe(lambda flags: flags[flags].index)    \n",
    "    if flagged.size > 0:\n",
    "        print(f\"Setting period to NA: {flagged} due to linear period of data longer than {max_linear_time}\")    \n",
    "    df.loc[df.st_period.isin(flagged), \"fm\"] = np.nan"
   ]
  },
  {
   "cell_type": "markdown",
   "id": "ece22b93-1b45-45ca-b809-d717fd6e495c",
   "metadata": {},
   "source": [
    "## Compare"
   ]
  },
  {
   "cell_type": "markdown",
   "id": "3cf58ffc-a173-4016-b43b-ae637e4905ec",
   "metadata": {},
   "source": [
    "### RMSE by Location\n",
    "\n",
    "Calculate RMSE per location, average after"
   ]
  },
  {
   "cell_type": "code",
   "execution_count": null,
   "id": "b53f86c2-4baf-4e6b-b7f7-485ca8b2d4ec",
   "metadata": {
    "scrolled": true
   },
   "outputs": [],
   "source": [
    "rmses = []\n",
    "\n",
    "for st in clim.index:\n",
    "    print(\"~\"*50)\n",
    "    print(f\"RAWS: {st}\")\n",
    "    if st in raws24.keys():\n",
    "        # double check the dates match\n",
    "        assert np.mean(raws24[st][\"RAWS\"].date_time == clim.columns) == 1, \"Dates don't match\"\n",
    "        \n",
    "        obs = raws24[st][\"RAWS\"].fm.reset_index(drop=True)\n",
    "        pred = clim[clim.index == st].transpose().squeeze().reset_index(drop=True)\n",
    "    \n",
    "        # Ignore NA\n",
    "        na_inds = obs.isna() | pred.isna()\n",
    "        obs = obs[~na_inds]\n",
    "        pred = pred[~na_inds]\n",
    "        if obs.shape[0] > 0:\n",
    "            print(f\"Comparing {obs.shape[0]} forecast hours\")\n",
    "            rmse = np.sqrt(mean_squared_error(obs, pred))\n",
    "            rmses.append(rmse)\n",
    "            print(f\"Climatology RMSE: {rmse}\")\n",
    "        else:\n",
    "            print(f\"No observed data for forecasted hours for {st}, skipping\")\n",
    "    else:\n",
    "        print(f\"No 2024 data for RAWS {st}, skipping\")"
   ]
  },
  {
   "cell_type": "code",
   "execution_count": null,
   "id": "73fe7f1b-135c-4a58-94c3-431fc2784ddc",
   "metadata": {},
   "outputs": [],
   "source": [
    "np.mean(rmses)"
   ]
  },
  {
   "cell_type": "markdown",
   "id": "cf85a430-6733-4439-8d9c-1df52d38dccb",
   "metadata": {},
   "source": [
    "### Overall RMSE\n",
    "\n",
    "Calculate MSE per location, RMSE after everything"
   ]
  },
  {
   "cell_type": "code",
   "execution_count": null,
   "id": "064dd7b9-fe87-401f-9016-ed186d9420b3",
   "metadata": {
    "scrolled": true
   },
   "outputs": [],
   "source": [
    "all_obs = []\n",
    "all_pred = []\n",
    "\n",
    "for st in clim.index:\n",
    "    print(\"~\"*50)\n",
    "    print(f\"RAWS: {st}\")\n",
    "    if st in raws24.keys():\n",
    "        # double check the dates match\n",
    "        assert np.mean(raws24[st][\"RAWS\"].date_time == clim.columns) == 1, \"Dates don't match\"\n",
    "        \n",
    "        obs = raws24[st][\"RAWS\"].fm.reset_index(drop=True)\n",
    "        pred = clim[clim.index == st].transpose().squeeze().reset_index(drop=True)\n",
    "    \n",
    "        # Ignore NA\n",
    "        na_inds = obs.isna() | pred.isna()\n",
    "        obs = obs[~na_inds]\n",
    "        pred = pred[~na_inds]\n",
    "\n",
    "        all_obs.extend(obs)\n",
    "        all_pred.extend(pred)\n",
    "        \n",
    "    else:\n",
    "        print(f\"No 2024 data for RAWS {st}, skipping\")"
   ]
  },
  {
   "cell_type": "code",
   "execution_count": null,
   "id": "1d8f8ab6-6416-47e8-8a18-1f01d54227c9",
   "metadata": {},
   "outputs": [],
   "source": [
    "np.sqrt(mean_squared_error(np.array(all_pred), np.array(all_obs)))"
   ]
  },
  {
   "cell_type": "code",
   "execution_count": null,
   "id": "bd0a650b-5d7b-455a-8f37-af58b1c9d9ce",
   "metadata": {},
   "outputs": [],
   "source": []
  },
  {
   "cell_type": "code",
   "execution_count": null,
   "id": "eae295bf-d339-4fde-bf0b-4378d0104c95",
   "metadata": {},
   "outputs": [],
   "source": []
  },
  {
   "cell_type": "code",
   "execution_count": null,
   "id": "4192d1ab-d8d7-4ed6-a71d-556c3666b009",
   "metadata": {},
   "outputs": [],
   "source": []
  }
 ],
 "metadata": {
  "kernelspec": {
   "display_name": "Python 3 (ipykernel)",
   "language": "python",
   "name": "python3"
  },
  "language_info": {
   "codemirror_mode": {
    "name": "ipython",
    "version": 3
   },
   "file_extension": ".py",
   "mimetype": "text/x-python",
   "name": "python",
   "nbconvert_exporter": "python",
   "pygments_lexer": "ipython3",
   "version": "3.12.9"
  }
 },
 "nbformat": 4,
 "nbformat_minor": 5
}
